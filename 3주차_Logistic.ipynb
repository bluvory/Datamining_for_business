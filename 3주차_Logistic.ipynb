{
 "cells": [
  {
   "cell_type": "markdown",
   "metadata": {},
   "source": [
    "## Logistic Regression 개념 "
   ]
  },
  {
   "cell_type": "code",
   "execution_count": 1,
   "metadata": {},
   "outputs": [],
   "source": [
    "import pandas as pd\n",
    "import numpy as np\n",
    "from sklearn.linear_model import LogisticRegression\n",
    "import matplotlib.pyplot as plt"
   ]
  },
  {
   "cell_type": "code",
   "execution_count": 2,
   "metadata": {},
   "outputs": [],
   "source": [
    "customer = pd.read_csv(\"data/customerChurn.csv\")"
   ]
  },
  {
   "cell_type": "code",
   "execution_count": 3,
   "metadata": {},
   "outputs": [
    {
     "data": {
      "text/html": [
       "<div>\n",
       "<style scoped>\n",
       "    .dataframe tbody tr th:only-of-type {\n",
       "        vertical-align: middle;\n",
       "    }\n",
       "\n",
       "    .dataframe tbody tr th {\n",
       "        vertical-align: top;\n",
       "    }\n",
       "\n",
       "    .dataframe thead th {\n",
       "        text-align: right;\n",
       "    }\n",
       "</style>\n",
       "<table border=\"1\" class=\"dataframe\">\n",
       "  <thead>\n",
       "    <tr style=\"text-align: right;\">\n",
       "      <th></th>\n",
       "      <th>sex</th>\n",
       "      <th>age</th>\n",
       "      <th>Recency</th>\n",
       "      <th>Frequency</th>\n",
       "      <th>Monetary</th>\n",
       "      <th>Churn</th>\n",
       "    </tr>\n",
       "  </thead>\n",
       "  <tbody>\n",
       "    <tr>\n",
       "      <th>0</th>\n",
       "      <td>M</td>\n",
       "      <td>11</td>\n",
       "      <td>4</td>\n",
       "      <td>41</td>\n",
       "      <td>1268981</td>\n",
       "      <td>No</td>\n",
       "    </tr>\n",
       "    <tr>\n",
       "      <th>1</th>\n",
       "      <td>M</td>\n",
       "      <td>10</td>\n",
       "      <td>18</td>\n",
       "      <td>15</td>\n",
       "      <td>843996</td>\n",
       "      <td>No</td>\n",
       "    </tr>\n",
       "    <tr>\n",
       "      <th>2</th>\n",
       "      <td>F</td>\n",
       "      <td>38</td>\n",
       "      <td>16</td>\n",
       "      <td>41</td>\n",
       "      <td>1755623</td>\n",
       "      <td>No</td>\n",
       "    </tr>\n",
       "    <tr>\n",
       "      <th>3</th>\n",
       "      <td>M</td>\n",
       "      <td>13</td>\n",
       "      <td>8</td>\n",
       "      <td>14</td>\n",
       "      <td>862172</td>\n",
       "      <td>No</td>\n",
       "    </tr>\n",
       "    <tr>\n",
       "      <th>4</th>\n",
       "      <td>F</td>\n",
       "      <td>20</td>\n",
       "      <td>22</td>\n",
       "      <td>42</td>\n",
       "      <td>748430</td>\n",
       "      <td>No</td>\n",
       "    </tr>\n",
       "  </tbody>\n",
       "</table>\n",
       "</div>"
      ],
      "text/plain": [
       "  sex  age  Recency  Frequency  Monetary Churn\n",
       "0   M   11        4         41   1268981    No\n",
       "1   M   10       18         15    843996    No\n",
       "2   F   38       16         41   1755623    No\n",
       "3   M   13        8         14    862172    No\n",
       "4   F   20       22         42    748430    No"
      ]
     },
     "execution_count": 3,
     "metadata": {},
     "output_type": "execute_result"
    }
   ],
   "source": [
    "customer.head()"
   ]
  },
  {
   "cell_type": "code",
   "execution_count": 4,
   "metadata": {},
   "outputs": [],
   "source": [
    "X = customer[['Frequency']]\n",
    "y = (customer[\"Churn\"] == 'Yes').astype(np.int) # Yes면 1 No 면 0"
   ]
  },
  {
   "cell_type": "code",
   "execution_count": 5,
   "metadata": {},
   "outputs": [
    {
     "data": {
      "text/plain": [
       "LogisticRegression()"
      ]
     },
     "execution_count": 5,
     "metadata": {},
     "output_type": "execute_result"
    }
   ],
   "source": [
    "log_reg = LogisticRegression()\n",
    "log_reg.fit(X,y)"
   ]
  },
  {
   "cell_type": "code",
   "execution_count": 6,
   "metadata": {},
   "outputs": [
    {
     "data": {
      "text/html": [
       "<div>\n",
       "<style scoped>\n",
       "    .dataframe tbody tr th:only-of-type {\n",
       "        vertical-align: middle;\n",
       "    }\n",
       "\n",
       "    .dataframe tbody tr th {\n",
       "        vertical-align: top;\n",
       "    }\n",
       "\n",
       "    .dataframe thead th {\n",
       "        text-align: right;\n",
       "    }\n",
       "</style>\n",
       "<table border=\"1\" class=\"dataframe\">\n",
       "  <thead>\n",
       "    <tr style=\"text-align: right;\">\n",
       "      <th></th>\n",
       "      <th>Frequency</th>\n",
       "    </tr>\n",
       "  </thead>\n",
       "  <tbody>\n",
       "    <tr>\n",
       "      <th>count</th>\n",
       "      <td>5000.000000</td>\n",
       "    </tr>\n",
       "    <tr>\n",
       "      <th>mean</th>\n",
       "      <td>19.375200</td>\n",
       "    </tr>\n",
       "    <tr>\n",
       "      <th>std</th>\n",
       "      <td>13.256922</td>\n",
       "    </tr>\n",
       "    <tr>\n",
       "      <th>min</th>\n",
       "      <td>2.000000</td>\n",
       "    </tr>\n",
       "    <tr>\n",
       "      <th>25%</th>\n",
       "      <td>9.000000</td>\n",
       "    </tr>\n",
       "    <tr>\n",
       "      <th>50%</th>\n",
       "      <td>16.000000</td>\n",
       "    </tr>\n",
       "    <tr>\n",
       "      <th>75%</th>\n",
       "      <td>28.000000</td>\n",
       "    </tr>\n",
       "    <tr>\n",
       "      <th>max</th>\n",
       "      <td>50.000000</td>\n",
       "    </tr>\n",
       "  </tbody>\n",
       "</table>\n",
       "</div>"
      ],
      "text/plain": [
       "         Frequency\n",
       "count  5000.000000\n",
       "mean     19.375200\n",
       "std      13.256922\n",
       "min       2.000000\n",
       "25%       9.000000\n",
       "50%      16.000000\n",
       "75%      28.000000\n",
       "max      50.000000"
      ]
     },
     "execution_count": 6,
     "metadata": {},
     "output_type": "execute_result"
    }
   ],
   "source": [
    "X.describe()"
   ]
  },
  {
   "cell_type": "code",
   "execution_count": 7,
   "metadata": {},
   "outputs": [
    {
     "data": {
      "text/plain": [
       "[<matplotlib.lines.Line2D at 0x1ee8e4c2c08>]"
      ]
     },
     "execution_count": 7,
     "metadata": {},
     "output_type": "execute_result"
    },
    {
     "data": {
      "image/png": "[encoded data removed]",
      "text/plain": [
       "<Figure size 432x288 with 1 Axes>"
      ]
     },
     "metadata": {
      "needs_background": "light"
     },
     "output_type": "display_data"
    }
   ],
   "source": [
    "X_new = np.linspace(6,32,1000).reshape(-1,1)   # 균등분포 데이터\n",
    "y_proba = log_reg.predict_proba(X_new)\n",
    "plt.plot(X_new, y_proba[:,1], \"g-\", label=\"Yes\")\n",
    "plt.plot(X_new, y_proba[:,0], \"b--\", label=\"No\")"
   ]
  },
  {
   "cell_type": "code",
   "execution_count": 8,
   "metadata": {},
   "outputs": [],
   "source": [
    "X = customer[['Frequency','Recency']]\n",
    "y = (customer[\"Churn\"] == 'Yes').astype(np.int) # Yes면 1 No 면 0"
   ]
  },
  {
   "cell_type": "code",
   "execution_count": 9,
   "metadata": {},
   "outputs": [
    {
     "data": {
      "text/plain": [
       "LogisticRegression()"
      ]
     },
     "execution_count": 9,
     "metadata": {},
     "output_type": "execute_result"
    }
   ],
   "source": [
    "log_reg = LogisticRegression()\n",
    "log_reg.fit(X,y)"
   ]
  },
  {
   "cell_type": "code",
   "execution_count": 10,
   "metadata": {},
   "outputs": [
    {
     "name": "stderr",
     "output_type": "stream",
     "text": [
      "C:\\Users\\eunbi\\Anaconda3\\lib\\site-packages\\ipykernel_launcher.py:2: SettingWithCopyWarning: \n",
      "A value is trying to be set on a copy of a slice from a DataFrame.\n",
      "Try using .loc[row_indexer,col_indexer] = value instead\n",
      "\n",
      "See the caveats in the documentation: https://pandas.pydata.org/pandas-docs/stable/user_guide/indexing.html#returning-a-view-versus-a-copy\n",
      "  \n"
     ]
    },
    {
     "data": {
      "text/plain": [
       "Text(0, 0.5, 'Purchase Recency')"
      ]
     },
     "execution_count": 10,
     "metadata": {},
     "output_type": "execute_result"
    },
    {
     "data": {
      "image/png": "[encoded data removed]",
      "text/plain": [
       "<Figure size 432x288 with 1 Axes>"
      ]
     },
     "metadata": {
      "needs_background": "light"
     },
     "output_type": "display_data"
    }
   ],
   "source": [
    "y_predict = log_reg.predict(X)\n",
    "X['predict'] = y_predict\n",
    "X_1 = X[X['predict']==1].copy()\n",
    "X_0 = X[X['predict']==0].copy()\n",
    "plt.plot(X_1['Frequency'], X_1['Recency'], 'bo')\n",
    "plt.plot(X_0['Frequency'], X_0['Recency'], 'ro')\n",
    "plt.xlabel('Purchase Frequency')\n",
    "plt.ylabel('Purchase Recency')"
   ]
  },
  {
   "cell_type": "markdown",
   "metadata": {},
   "source": [
    "## 계수값 확인 "
   ]
  },
  {
   "cell_type": "code",
   "execution_count": 11,
   "metadata": {},
   "outputs": [
    {
     "name": "stdout",
     "output_type": "stream",
     "text": [
      "Optimization terminated successfully.\n",
      "         Current function value: 0.146362\n",
      "         Iterations 9\n",
      "                         Results: Logit\n",
      "================================================================\n",
      "Model:              Logit            Pseudo R-squared: 0.789    \n",
      "Dependent Variable: Churn            AIC:              1469.6236\n",
      "Date:               2020-09-19 17:50 BIC:              1489.1752\n",
      "No. Observations:   5000             Log-Likelihood:   -731.81  \n",
      "Df Model:           2                LL-Null:          -3465.7  \n",
      "Df Residuals:       4997             LLR p-value:      0.0000   \n",
      "Converged:          1.0000           Scale:            1.0000   \n",
      "No. Iterations:     9.0000                                      \n",
      "-----------------------------------------------------------------\n",
      "             Coef.   Std.Err.     z      P>|z|    [0.025   0.975]\n",
      "-----------------------------------------------------------------\n",
      "Frequency   -0.1721    0.0086  -19.9131  0.0000  -0.1890  -0.1551\n",
      "Recency      0.3118    0.0112   27.9123  0.0000   0.2899   0.3337\n",
      "Monetary    -0.0000    0.0000  -19.5408  0.0000  -0.0000  -0.0000\n",
      "================================================================\n",
      "\n"
     ]
    }
   ],
   "source": [
    "import statsmodels.api as sm\n",
    "\n",
    "X = customer[['Frequency','Recency','Monetary']]\n",
    "y = (customer[\"Churn\"] == 'Yes').astype(np.int)\n",
    "\n",
    "logit_model=sm.Logit(y,X)   # 로지스틱 회귀분석 모형 선언\n",
    "result=logit_model.fit()    # 로지스틱 회귀분석 모형 학습\n",
    "print(result.summary2())"
   ]
  },
  {
   "cell_type": "markdown",
   "metadata": {},
   "source": [
    "## 로지스틱 회귀분석 성과 측정"
   ]
  },
  {
   "cell_type": "code",
   "execution_count": 12,
   "metadata": {
    "scrolled": false
   },
   "outputs": [
    {
     "name": "stdout",
     "output_type": "stream",
     "text": [
      "학습 집합 정확도: 0.879\n",
      "테스트 집합 정확도: 0.855\n"
     ]
    }
   ],
   "source": [
    "from sklearn.model_selection import train_test_split\n",
    "\n",
    "X = customer[['Frequency','Recency']]\n",
    "y = (customer[\"Churn\"] == 'Yes').astype(np.int) \n",
    "\n",
    "X_train, X_test, y_train, y_test = train_test_split(X, y, test_size=0.3) \n",
    "\n",
    "log_reg = LogisticRegression().fit(X_train, y_train)\n",
    "\n",
    "print(\"학습 집합 정확도: {:.3f}\".format(log_reg.score(X_train, y_train)))\n",
    "print(\"테스트 집합 정확도: {:.3f}\".format(log_reg.score(X_test, y_test)))"
   ]
  },
  {
   "cell_type": "markdown",
   "metadata": {},
   "source": [
    "### 다항 로지스틱스 회귀 (소프트맥스 회귀)\n",
    "- 여러개의 이진분류기를 훈련시켜 연결하지 않고 직접 다중 클래스 분류\n",
    "- 비용함수: 크로스 엔트로피\n",
    "- 모형이 정답 범주에 대해서는 높은 확률을 갖고 다른 범주에 대해서는 낮은 확률을 추정하도록 만드는 것이 목적"
   ]
  },
  {
   "cell_type": "code",
   "execution_count": 89,
   "metadata": {},
   "outputs": [],
   "source": [
    "import pandas as pd\n",
    "import numpy as np\n",
    "import matplotlib.pyplot as plt\n",
    "from sklearn.linear_model import LogisticRegression\n",
    "from sklearn.model_selection import train_test_split\n",
    "\n",
    "telecom = pd.read_csv(\"data/telecom.csv\")"
   ]
  },
  {
   "cell_type": "code",
   "execution_count": 90,
   "metadata": {},
   "outputs": [
    {
     "data": {
      "text/html": [
       "<div>\n",
       "<style scoped>\n",
       "    .dataframe tbody tr th:only-of-type {\n",
       "        vertical-align: middle;\n",
       "    }\n",
       "\n",
       "    .dataframe tbody tr th {\n",
       "        vertical-align: top;\n",
       "    }\n",
       "\n",
       "    .dataframe thead th {\n",
       "        text-align: right;\n",
       "    }\n",
       "</style>\n",
       "<table border=\"1\" class=\"dataframe\">\n",
       "  <thead>\n",
       "    <tr style=\"text-align: right;\">\n",
       "      <th></th>\n",
       "      <th>ID</th>\n",
       "      <th>LONGDIST</th>\n",
       "      <th>International</th>\n",
       "      <th>LOCAL</th>\n",
       "      <th>DROPPED</th>\n",
       "      <th>PAY_MTHD</th>\n",
       "      <th>LocalBillType</th>\n",
       "      <th>LongDistanceBillType</th>\n",
       "      <th>AGE</th>\n",
       "      <th>SEX</th>\n",
       "      <th>STATUS</th>\n",
       "      <th>CHILDREN</th>\n",
       "      <th>Est_Income</th>\n",
       "      <th>Car_Owner</th>\n",
       "      <th>CHURNED</th>\n",
       "    </tr>\n",
       "  </thead>\n",
       "  <tbody>\n",
       "    <tr>\n",
       "      <th>0</th>\n",
       "      <td>0</td>\n",
       "      <td>5.24640</td>\n",
       "      <td>7.51510</td>\n",
       "      <td>86.32780</td>\n",
       "      <td>0</td>\n",
       "      <td>CH</td>\n",
       "      <td>FreeLocal</td>\n",
       "      <td>Standard</td>\n",
       "      <td>57</td>\n",
       "      <td>F</td>\n",
       "      <td>M</td>\n",
       "      <td>2</td>\n",
       "      <td>27535.3</td>\n",
       "      <td>Y</td>\n",
       "      <td>Vol</td>\n",
       "    </tr>\n",
       "    <tr>\n",
       "      <th>1</th>\n",
       "      <td>3</td>\n",
       "      <td>0.00000</td>\n",
       "      <td>0.00000</td>\n",
       "      <td>3.94229</td>\n",
       "      <td>0</td>\n",
       "      <td>CC</td>\n",
       "      <td>Budget</td>\n",
       "      <td>Intnl_discount</td>\n",
       "      <td>50</td>\n",
       "      <td>F</td>\n",
       "      <td>S</td>\n",
       "      <td>2</td>\n",
       "      <td>64632.3</td>\n",
       "      <td>N</td>\n",
       "      <td>InVol</td>\n",
       "    </tr>\n",
       "    <tr>\n",
       "      <th>2</th>\n",
       "      <td>4</td>\n",
       "      <td>5.55564</td>\n",
       "      <td>0.00000</td>\n",
       "      <td>9.36347</td>\n",
       "      <td>1</td>\n",
       "      <td>CC</td>\n",
       "      <td>Budget</td>\n",
       "      <td>Intnl_discount</td>\n",
       "      <td>68</td>\n",
       "      <td>F</td>\n",
       "      <td>M</td>\n",
       "      <td>2</td>\n",
       "      <td>81000.9</td>\n",
       "      <td>N</td>\n",
       "      <td>Vol</td>\n",
       "    </tr>\n",
       "    <tr>\n",
       "      <th>3</th>\n",
       "      <td>8</td>\n",
       "      <td>14.01930</td>\n",
       "      <td>5.68043</td>\n",
       "      <td>29.80650</td>\n",
       "      <td>0</td>\n",
       "      <td>CC</td>\n",
       "      <td>Budget</td>\n",
       "      <td>Standard</td>\n",
       "      <td>34</td>\n",
       "      <td>M</td>\n",
       "      <td>S</td>\n",
       "      <td>0</td>\n",
       "      <td>87467.1</td>\n",
       "      <td>Y</td>\n",
       "      <td>Current</td>\n",
       "    </tr>\n",
       "    <tr>\n",
       "      <th>4</th>\n",
       "      <td>10</td>\n",
       "      <td>13.66400</td>\n",
       "      <td>2.95642</td>\n",
       "      <td>32.63810</td>\n",
       "      <td>0</td>\n",
       "      <td>CC</td>\n",
       "      <td>FreeLocal</td>\n",
       "      <td>Intnl_discount</td>\n",
       "      <td>60</td>\n",
       "      <td>M</td>\n",
       "      <td>M</td>\n",
       "      <td>2</td>\n",
       "      <td>83220.6</td>\n",
       "      <td>N</td>\n",
       "      <td>Vol</td>\n",
       "    </tr>\n",
       "  </tbody>\n",
       "</table>\n",
       "</div>"
      ],
      "text/plain": [
       "   ID  LONGDIST  International     LOCAL  DROPPED PAY_MTHD LocalBillType  \\\n",
       "0   0   5.24640        7.51510  86.32780        0       CH     FreeLocal   \n",
       "1   3   0.00000        0.00000   3.94229        0       CC        Budget   \n",
       "2   4   5.55564        0.00000   9.36347        1       CC        Budget   \n",
       "3   8  14.01930        5.68043  29.80650        0       CC        Budget   \n",
       "4  10  13.66400        2.95642  32.63810        0       CC     FreeLocal   \n",
       "\n",
       "  LongDistanceBillType  AGE SEX STATUS  CHILDREN  Est_Income Car_Owner  \\\n",
       "0             Standard   57   F      M         2     27535.3         Y   \n",
       "1       Intnl_discount   50   F      S         2     64632.3         N   \n",
       "2       Intnl_discount   68   F      M         2     81000.9         N   \n",
       "3             Standard   34   M      S         0     87467.1         Y   \n",
       "4       Intnl_discount   60   M      M         2     83220.6         N   \n",
       "\n",
       "   CHURNED  \n",
       "0      Vol  \n",
       "1    InVol  \n",
       "2      Vol  \n",
       "3  Current  \n",
       "4      Vol  "
      ]
     },
     "execution_count": 90,
     "metadata": {},
     "output_type": "execute_result"
    }
   ],
   "source": [
    "telecom.head()"
   ]
  },
  {
   "cell_type": "code",
   "execution_count": 91,
   "metadata": {},
   "outputs": [],
   "source": [
    "X = telecom.iloc[:,np.r_[1,2,3,4,8,11,12]]\n",
    "y = telecom[\"CHURNED\"]"
   ]
  },
  {
   "cell_type": "code",
   "execution_count": 92,
   "metadata": {},
   "outputs": [],
   "source": [
    "X_train, X_test, y_train, y_test = train_test_split(X, y)"
   ]
  },
  {
   "cell_type": "code",
   "execution_count": 93,
   "metadata": {},
   "outputs": [
    {
     "data": {
      "text/plain": [
       "LogisticRegression(max_iter=1000, multi_class='multinomial')"
      ]
     },
     "execution_count": 93,
     "metadata": {},
     "output_type": "execute_result"
    }
   ],
   "source": [
    "## sklearn.LogisticRegression: 이진분류에 사용\n",
    "## multi_class='multinomial': 다항 로지스틱 회귀에 활용\n",
    "\n",
    "softmax_reg = LogisticRegression(multi_class=\"multinomial\", solver=\"lbfgs\", max_iter=1000)\n",
    "softmax_reg.fit(X_train,y_train)"
   ]
  },
  {
   "cell_type": "code",
   "execution_count": 94,
   "metadata": {},
   "outputs": [],
   "source": [
    "y_prob = softmax_reg.predict_proba(X_test)"
   ]
  },
  {
   "cell_type": "code",
   "execution_count": 95,
   "metadata": {},
   "outputs": [
    {
     "data": {
      "text/plain": [
       "array([[3.11735790e-01, 7.14036781e-03, 6.81123842e-01],\n",
       "       [4.38743042e-01, 3.41179480e-01, 2.20077478e-01],\n",
       "       [1.82426554e-02, 9.66954439e-01, 1.48029055e-02],\n",
       "       ...,\n",
       "       [3.68506140e-01, 3.88560389e-01, 2.42933471e-01],\n",
       "       [6.11413120e-01, 1.44508356e-03, 3.87141796e-01],\n",
       "       [6.54543528e-01, 1.04742724e-25, 3.45456472e-01]])"
      ]
     },
     "execution_count": 95,
     "metadata": {},
     "output_type": "execute_result"
    }
   ],
   "source": [
    "y_prob"
   ]
  },
  {
   "cell_type": "code",
   "execution_count": 96,
   "metadata": {},
   "outputs": [],
   "source": [
    "from sklearn import preprocessing\n",
    "lb = preprocessing.LabelBinarizer()\n",
    "y_p = lb.fit_transform(y_test)"
   ]
  },
  {
   "cell_type": "code",
   "execution_count": 97,
   "metadata": {},
   "outputs": [
    {
     "data": {
      "text/plain": [
       "array([[0, 0, 1],\n",
       "       [0, 1, 0],\n",
       "       [0, 1, 0],\n",
       "       ...,\n",
       "       [0, 1, 0],\n",
       "       [1, 0, 0],\n",
       "       [1, 0, 0]])"
      ]
     },
     "execution_count": 97,
     "metadata": {},
     "output_type": "execute_result"
    }
   ],
   "source": [
    "y_p"
   ]
  },
  {
   "cell_type": "code",
   "execution_count": 98,
   "metadata": {},
   "outputs": [
    {
     "data": {
      "text/plain": [
       "0.6685503623004708"
      ]
     },
     "execution_count": 98,
     "metadata": {},
     "output_type": "execute_result"
    }
   ],
   "source": [
    "from sklearn.metrics import log_loss\n",
    "log_loss(y_p, y_prob)"
   ]
  },
  {
   "cell_type": "code",
   "execution_count": 99,
   "metadata": {},
   "outputs": [
    {
     "data": {
      "text/plain": [
       "0.7189189189189189"
      ]
     },
     "execution_count": 99,
     "metadata": {},
     "output_type": "execute_result"
    }
   ],
   "source": [
    "softmax_reg.score(X_test,y_test)"
   ]
  },
  {
   "cell_type": "markdown",
   "metadata": {},
   "source": [
    "### 분류 성과 측정"
   ]
  },
  {
   "cell_type": "code",
   "execution_count": 101,
   "metadata": {},
   "outputs": [
    {
     "data": {
      "text/plain": [
       "array([[701,  54],\n",
       "       [ 37, 708]], dtype=int64)"
      ]
     },
     "execution_count": 101,
     "metadata": {},
     "output_type": "execute_result"
    }
   ],
   "source": [
    "import pandas as pd\n",
    "import numpy as np\n",
    "from sklearn.linear_model import LogisticRegression\n",
    "from sklearn.model_selection import train_test_split\n",
    "import matplotlib.pyplot as plt\n",
    "\n",
    "customer = pd.read_csv(\"data/customerChurn.csv\")\n",
    "\n",
    "X = customer[['Frequency','Recency','Monetary']]\n",
    "y = (customer[\"Churn\"] == 'Yes').astype(np.int) \n",
    "\n",
    "X_train, X_test, y_train, y_test = train_test_split(X, y, test_size=0.3) \n",
    "\n",
    "log_reg = LogisticRegression().fit(X_train, y_train)\n",
    "\n",
    "y_pred = log_reg.predict(X_test)\n",
    "\n",
    "from sklearn.metrics import confusion_matrix\n",
    "confusion_matrix(y_test, y_pred)"
   ]
  },
  {
   "cell_type": "code",
   "execution_count": 102,
   "metadata": {},
   "outputs": [
    {
     "name": "stdout",
     "output_type": "stream",
     "text": [
      "테스트 집합 정확도: 0.939\n",
      "테스트 집합 accuracy: 0.939\n"
     ]
    }
   ],
   "source": [
    "print(\"테스트 집합 정확도: {:.3f}\".format(log_reg.score(X_test, y_test)))\n",
    "\n",
    "from sklearn.metrics import accuracy_score\n",
    "\n",
    "print(\"테스트 집합 accuracy: {:.3f}\".format(accuracy_score(y_test, y_pred)))"
   ]
  },
  {
   "cell_type": "code",
   "execution_count": 103,
   "metadata": {},
   "outputs": [
    {
     "name": "stdout",
     "output_type": "stream",
     "text": [
      "테스트 집합 정밀도: 0.929\n"
     ]
    }
   ],
   "source": [
    "# 정밀도 : 양성 예측의 정확도\n",
    "\n",
    "from sklearn.metrics import precision_score\n",
    "\n",
    "print(\"테스트 집합 정밀도: {:.3f}\".format(precision_score(y_test, y_pred)))"
   ]
  },
  {
   "cell_type": "code",
   "execution_count": 104,
   "metadata": {},
   "outputs": [
    {
     "name": "stdout",
     "output_type": "stream",
     "text": [
      "테스트 집합 재현율: 0.950\n"
     ]
    }
   ],
   "source": [
    "# 재현율 : 정확하게 분류한 양성 데이터의 비율\n",
    "# 실제 양성인 데이터를 얼마나 찾아내었는지를 뜻함\n",
    "# 민감도 / 진짜 양성 비율(TPR) 이라고도 함\n",
    "\n",
    "from sklearn.metrics import recall_score\n",
    "\n",
    "print(\"테스트 집합 재현율: {:.3f}\".format(recall_score(y_test, y_pred)))"
   ]
  },
  {
   "cell_type": "code",
   "execution_count": 105,
   "metadata": {},
   "outputs": [],
   "source": [
    "# 정밀도와 재현율의 상충관계 (trade off)\n",
    "# 아래와 같이 대출승인에 대해 확률값에 따라 데이터를 정렬해 놓음\n",
    "# 여러가지 임계값 기준에 따라 양성, 음성을 분류하는 경우에 정밀도와 재현율 값이 변화하며, 서로 상충관계에 있음"
   ]
  },
  {
   "cell_type": "code",
   "execution_count": 106,
   "metadata": {},
   "outputs": [
    {
     "name": "stdout",
     "output_type": "stream",
     "text": [
      "테스트 집합 f1 점수: 0.940\n"
     ]
    }
   ],
   "source": [
    "# 정밀도와 재현율의 상충관계\n",
    "# 정밀도와 재현율의 조화평균을 통해 하나의 지표인 F1점수 고안\n",
    "\n",
    "from sklearn.metrics import f1_score\n",
    "\n",
    "print(\"테스트 집합 f1 점수: {:.3f}\".format(f1_score(y_test, y_pred)))"
   ]
  },
  {
   "cell_type": "code",
   "execution_count": 107,
   "metadata": {},
   "outputs": [
    {
     "data": {
      "text/plain": [
       "array([0.99745983, 0.70530135, 0.87912835, ..., 0.20649292, 0.94107664,\n",
       "       0.84001802])"
      ]
     },
     "execution_count": 107,
     "metadata": {},
     "output_type": "execute_result"
    }
   ],
   "source": [
    "y_score = log_reg.predict_proba(X_test)\n",
    "y_score[:,1]"
   ]
  },
  {
   "cell_type": "code",
   "execution_count": 108,
   "metadata": {},
   "outputs": [],
   "source": [
    "from sklearn.metrics import precision_recall_curve\n",
    "\n",
    "precisions, recalls, thresholds = precision_recall_curve(y_test, y_score[:,1])\n",
    "\n",
    "# 1일 확률만 입력"
   ]
  },
  {
   "cell_type": "code",
   "execution_count": 109,
   "metadata": {},
   "outputs": [
    {
     "data": {
      "image/png": "[encoded data removed]",
      "text/plain": [
       "<Figure size 432x288 with 1 Axes>"
      ]
     },
     "metadata": {
      "needs_background": "light"
     },
     "output_type": "display_data"
    }
   ],
   "source": [
    "def plot_precision_recall_vs_threshold(precisions, recalls, threholds):\n",
    "    plt.plot(thresholds, precisions[:-1], \"b--\", label=\"Precision\")\n",
    "    plt.plot(thresholds, recalls[:-1], \"g--\", label=\"Recall\")\n",
    "    plt.vlines(x=0.5,ymin=0,ymax=1)\n",
    "    plt.legend(loc='best')\n",
    "    \n",
    "plot_precision_recall_vs_threshold(precisions, recalls, thresholds)\n",
    "plt.show()"
   ]
  },
  {
   "cell_type": "markdown",
   "metadata": {},
   "source": [
    "### ROC 곡선\n",
    "\n",
    "- x축은 거짓 양성 비율이고 y축은 진짜 양성 비율인 곡선\n",
    "- 진짜 양성 비율 = 재현율\n",
    "- 양성으로 잘못 분류된 음성 데이터의 비율 = FPR = 1 - 진짜음성비율(TNR, 특이도)\n",
    "- ROC곡선은 민감도(재현율)에 대한 1 - 특이도 그래프"
   ]
  },
  {
   "cell_type": "code",
   "execution_count": 110,
   "metadata": {},
   "outputs": [
    {
     "data": {
      "image/png": "[encoded data removed]",
      "text/plain": [
       "<Figure size 432x288 with 1 Axes>"
      ]
     },
     "metadata": {
      "needs_background": "light"
     },
     "output_type": "display_data"
    }
   ],
   "source": [
    "from sklearn.metrics import roc_curve\n",
    "\n",
    "fpr, tpr, thresholds = roc_curve(y_test, y_score[:,1])\n",
    "\n",
    "def plot_roc_curve(fpr, tpr, label=None):\n",
    "    plt.plot(fpr, tpr, linewidth=2, label=label)\n",
    "    plt.plot([[0],[1]], 'k--')\n",
    "    plt.xlabel(\"False Positive Rate\")\n",
    "    plt.ylabel(\"True Positive Rate\")\n",
    "    plt.grid(which='major', axis='both', alpha=0.5)\n",
    "    \n",
    "plot_roc_curve(fpr, tpr)\n",
    "plt.show()"
   ]
  },
  {
   "cell_type": "code",
   "execution_count": 111,
   "metadata": {},
   "outputs": [
    {
     "name": "stdout",
     "output_type": "stream",
     "text": [
      "테스트 집합 AUC 점수: 0.939\n"
     ]
    }
   ],
   "source": [
    "# AUC : 곡선 아래의 면적\n",
    "# 완벽하게 분류 -> AUC=1 / 완전 랜덤 분류 -> AUC=0.5\n",
    "\n",
    "from sklearn.metrics import roc_auc_score\n",
    "\n",
    "print(\"테스트 집합 AUC 점수: {:.3f}\".format(roc_auc_score(y_test, y_pred)))"
   ]
  },
  {
   "cell_type": "markdown",
   "metadata": {},
   "source": [
    "### 연습문제"
   ]
  },
  {
   "cell_type": "code",
   "execution_count": 1,
   "metadata": {},
   "outputs": [],
   "source": [
    "import pandas as pd\n",
    "import numpy as np\n",
    "import matplotlib.pyplot as plt\n",
    "from sklearn.linear_model import LogisticRegression\n",
    "from sklearn.model_selection import train_test_split\n",
    "from sklearn.model_selection import cross_val_score"
   ]
  },
  {
   "cell_type": "code",
   "execution_count": 2,
   "metadata": {},
   "outputs": [
    {
     "data": {
      "text/html": [
       "<div>\n",
       "<style scoped>\n",
       "    .dataframe tbody tr th:only-of-type {\n",
       "        vertical-align: middle;\n",
       "    }\n",
       "\n",
       "    .dataframe tbody tr th {\n",
       "        vertical-align: top;\n",
       "    }\n",
       "\n",
       "    .dataframe thead th {\n",
       "        text-align: right;\n",
       "    }\n",
       "</style>\n",
       "<table border=\"1\" class=\"dataframe\">\n",
       "  <thead>\n",
       "    <tr style=\"text-align: right;\">\n",
       "      <th></th>\n",
       "      <th>OBS#</th>\n",
       "      <th>CHK_ACCT</th>\n",
       "      <th>DURATION</th>\n",
       "      <th>HISTORY</th>\n",
       "      <th>NEW_CAR</th>\n",
       "      <th>USED_CAR</th>\n",
       "      <th>FURNITURE</th>\n",
       "      <th>RADIO/TV</th>\n",
       "      <th>EDUCATION</th>\n",
       "      <th>RETIRING</th>\n",
       "      <th>...</th>\n",
       "      <th>AGE</th>\n",
       "      <th>OTHER_INSTALL</th>\n",
       "      <th>RENT</th>\n",
       "      <th>OWN_RES</th>\n",
       "      <th>NUM_CREDITS</th>\n",
       "      <th>JOB</th>\n",
       "      <th>NUM_DEPENDENTS</th>\n",
       "      <th>TELEPHONE</th>\n",
       "      <th>FOREIGN</th>\n",
       "      <th>RESPONSE</th>\n",
       "    </tr>\n",
       "  </thead>\n",
       "  <tbody>\n",
       "    <tr>\n",
       "      <th>0</th>\n",
       "      <td>1</td>\n",
       "      <td>0</td>\n",
       "      <td>6</td>\n",
       "      <td>4</td>\n",
       "      <td>0</td>\n",
       "      <td>0</td>\n",
       "      <td>0</td>\n",
       "      <td>1</td>\n",
       "      <td>0</td>\n",
       "      <td>0</td>\n",
       "      <td>...</td>\n",
       "      <td>67</td>\n",
       "      <td>0</td>\n",
       "      <td>0</td>\n",
       "      <td>1</td>\n",
       "      <td>2</td>\n",
       "      <td>2</td>\n",
       "      <td>1</td>\n",
       "      <td>1</td>\n",
       "      <td>0</td>\n",
       "      <td>True</td>\n",
       "    </tr>\n",
       "    <tr>\n",
       "      <th>1</th>\n",
       "      <td>2</td>\n",
       "      <td>1</td>\n",
       "      <td>48</td>\n",
       "      <td>2</td>\n",
       "      <td>0</td>\n",
       "      <td>0</td>\n",
       "      <td>0</td>\n",
       "      <td>1</td>\n",
       "      <td>0</td>\n",
       "      <td>0</td>\n",
       "      <td>...</td>\n",
       "      <td>22</td>\n",
       "      <td>0</td>\n",
       "      <td>0</td>\n",
       "      <td>1</td>\n",
       "      <td>1</td>\n",
       "      <td>2</td>\n",
       "      <td>1</td>\n",
       "      <td>0</td>\n",
       "      <td>0</td>\n",
       "      <td>False</td>\n",
       "    </tr>\n",
       "    <tr>\n",
       "      <th>2</th>\n",
       "      <td>3</td>\n",
       "      <td>3</td>\n",
       "      <td>12</td>\n",
       "      <td>4</td>\n",
       "      <td>0</td>\n",
       "      <td>0</td>\n",
       "      <td>0</td>\n",
       "      <td>0</td>\n",
       "      <td>1</td>\n",
       "      <td>0</td>\n",
       "      <td>...</td>\n",
       "      <td>49</td>\n",
       "      <td>0</td>\n",
       "      <td>0</td>\n",
       "      <td>1</td>\n",
       "      <td>1</td>\n",
       "      <td>1</td>\n",
       "      <td>2</td>\n",
       "      <td>0</td>\n",
       "      <td>0</td>\n",
       "      <td>True</td>\n",
       "    </tr>\n",
       "    <tr>\n",
       "      <th>3</th>\n",
       "      <td>4</td>\n",
       "      <td>0</td>\n",
       "      <td>42</td>\n",
       "      <td>2</td>\n",
       "      <td>0</td>\n",
       "      <td>0</td>\n",
       "      <td>1</td>\n",
       "      <td>0</td>\n",
       "      <td>0</td>\n",
       "      <td>0</td>\n",
       "      <td>...</td>\n",
       "      <td>45</td>\n",
       "      <td>0</td>\n",
       "      <td>0</td>\n",
       "      <td>0</td>\n",
       "      <td>1</td>\n",
       "      <td>2</td>\n",
       "      <td>2</td>\n",
       "      <td>0</td>\n",
       "      <td>0</td>\n",
       "      <td>True</td>\n",
       "    </tr>\n",
       "    <tr>\n",
       "      <th>4</th>\n",
       "      <td>5</td>\n",
       "      <td>0</td>\n",
       "      <td>24</td>\n",
       "      <td>3</td>\n",
       "      <td>1</td>\n",
       "      <td>0</td>\n",
       "      <td>0</td>\n",
       "      <td>0</td>\n",
       "      <td>0</td>\n",
       "      <td>0</td>\n",
       "      <td>...</td>\n",
       "      <td>53</td>\n",
       "      <td>0</td>\n",
       "      <td>0</td>\n",
       "      <td>0</td>\n",
       "      <td>2</td>\n",
       "      <td>2</td>\n",
       "      <td>2</td>\n",
       "      <td>0</td>\n",
       "      <td>0</td>\n",
       "      <td>False</td>\n",
       "    </tr>\n",
       "  </tbody>\n",
       "</table>\n",
       "<p>5 rows × 32 columns</p>\n",
       "</div>"
      ],
      "text/plain": [
       "   OBS#  CHK_ACCT  DURATION  HISTORY  NEW_CAR  USED_CAR  FURNITURE  RADIO/TV  \\\n",
       "0     1         0         6        4        0         0          0         1   \n",
       "1     2         1        48        2        0         0          0         1   \n",
       "2     3         3        12        4        0         0          0         0   \n",
       "3     4         0        42        2        0         0          1         0   \n",
       "4     5         0        24        3        1         0          0         0   \n",
       "\n",
       "   EDUCATION  RETIRING  ...  AGE  OTHER_INSTALL  RENT  OWN_RES  NUM_CREDITS  \\\n",
       "0          0         0  ...   67              0     0        1            2   \n",
       "1          0         0  ...   22              0     0        1            1   \n",
       "2          1         0  ...   49              0     0        1            1   \n",
       "3          0         0  ...   45              0     0        0            1   \n",
       "4          0         0  ...   53              0     0        0            2   \n",
       "\n",
       "   JOB  NUM_DEPENDENTS  TELEPHONE  FOREIGN  RESPONSE  \n",
       "0    2               1          1        0      True  \n",
       "1    2               1          0        0     False  \n",
       "2    1               2          0        0      True  \n",
       "3    2               2          0        0      True  \n",
       "4    2               2          0        0     False  \n",
       "\n",
       "[5 rows x 32 columns]"
      ]
     },
     "execution_count": 2,
     "metadata": {},
     "output_type": "execute_result"
    }
   ],
   "source": [
    "gc = pd.read_csv('data/GermanCredit.csv')\n",
    "\n",
    "gc.head()"
   ]
  },
  {
   "cell_type": "markdown",
   "metadata": {},
   "source": [
    "- OBS : 관찰번호 \n",
    "- CHK_ACCT : (범주형) 체크 계좌 상태 (0: < 0 DM, 1: 0 < ... < 200 DM, 2: => 200 DM, 3: No checking account) # DM은 eur로 통합되기 전의 독일의 화폐단위 Deutsche Mark를 뜻함\n",
    "- DURATION : (수치형) 신용 대출 기간(개월)\n",
    "- HISTORY : (범주형) 신용 거래 내역 (0: 신용 거래 내역 없음, 1: 우리 은행의 신용 대출 모두 갚음, 2: 모든 은행의 신용 대출 모두 갚음, 3: 연체 이력 있음, 4: 유의 계좌)\n",
    "- NEW_CAR: (범주형) 신용 대출의 목적이 신차 구입인 경우 (0: No, 1: Yes)\n",
    "- USED_CAR: (범주형) 신용 대출의 목적이 중고차 구입인 경우 (0: No, 1: Yes)\n",
    "- FURNITURE: (범주형) 신용 대출의 목적이 가구 구입인 경우 (0: No, 1: Yes)\n",
    "- RADIO/TV: (범주형) 신용 대출의 목적이 RADIO 또는 TV 구입인 경우 (0: No, 1: Yes)\n",
    "- EDUCATION: (범주형) 신용 대출의 목적이 학자금 관련인 경우 (0: No, 1: Yes)\n",
    "- RETRAINING: (범주형) 신용 대출의 목적이 재취업 목적인 경우 (0: No, 1: Yes)\n",
    "- AMOUNT: (수치형) 신용 대출 금액 \n",
    "- SAV_ACCT: (범주형) 저축 계좌 상태 (0: < 100DM, 1: 100<= ... <500DM, 2: 500<= ... <1000DM, 3: => 1000DM, 4: Unknown/No savings account)\n",
    "- EMPLOYMENT: (범주형) 현재 취업 상태 (0: 무직, 1: < 1년, 2: 1<= ... < 4년, 3: 4<= ... < 7년, 4: >= 7년)\n",
    "- INSTALL_RATE: (수치형) 가처분 소득대비 상환금액 비율\n",
    "- MALE_DIV: (범주형) 남성이며 이혼상태인 경우 (0: No, 1: Yes)\n",
    "- MALE_SINGLE: (범주형) 남성이며 싱글인 경우 (0: No, 1: Yes)\n",
    "- MALE_MAR_WID: (범주형) 남성이며 혼인한 경우 또는 홀아비 (0: No, 1: Yes)\n",
    "- CO-APPLICANT: (범주형) 공동신청자가 있는 경우 (0: No, 1: Yes)\n",
    "- GUARANTOR: (범주형) 보증인이 있는 경우  (0: No, 1: Yes)\n",
    "- PRESENT_RESIDENT: (범주형) 현재 주소지 주거 경력 (0: <= 1년, 1: 1<= ... <= 2년, 2: 2<= ... <= 3년, 3: > 4년)\n",
    "- REAL_ESTATE: (범주형) 부동산 보유 여부 (0: No, 1: Yes)\n",
    "- PROP_UNKN_NONE: (범주형) 재산을 보유하지 않은 경우 (0: No, 1: Yes)\n",
    "- AGE: (수치형) 나이\n",
    "- OTHER_INSTALL: (범주형) 다른 신용대출 보유 여부 (0: No, 1: Yes)\n",
    "- RENT: (범주형) 주택 임대 여부 (0: No, 1: Yes)\n",
    "- OWN_RES: (범주형) 자가 주택 보유 여부 (0: No, 1: Yes)\n",
    "- NUM_CREDITS: (수치형) 기존 신용대출 수\n",
    "- JOB: (범주형) (0: 비숙련공 계약직, 1: 비숙련공 정규직, 2: 숙련공/사무직, 3: 관리직/자영업/기술직)\n",
    "- NUM_DEPENDENTS: (수치형) 가족의 수 \n",
    "- TELEPHONE: (범주형) 전화보유 여부 (0: No, 1: Yes)\n",
    "- FOREIGN: (범주형) 외국인 노동자 여부 (0: No, 1: Yes)\n",
    "- RESPONSE: (범주형) 신용도가 좋음 (0: No, 1: Yes)"
   ]
  },
  {
   "cell_type": "markdown",
   "metadata": {},
   "source": [
    "### RESPONSE가 종속변수이며, 독립변수는 수치형과 이분형 범주형 변수 중에서 선발. 여러 범주를 갖는 범주형 변수의 사용방안은 나중에 OneHotEncoding을 학습한 이후에 활용예정"
   ]
  },
  {
   "cell_type": "code",
   "execution_count": 37,
   "metadata": {},
   "outputs": [],
   "source": [
    "X = gc.iloc[:,np.r_[2,4:11,13:19,20:27,28:31]]  # np.r_ 은 비연속적으로 컬럼을 선택할 때 활용 \n",
    "y = gc['RESPONSE']"
   ]
  },
  {
   "cell_type": "code",
   "execution_count": 38,
   "metadata": {},
   "outputs": [
    {
     "name": "stdout",
     "output_type": "stream",
     "text": [
      "<class 'pandas.core.frame.DataFrame'>\n",
      "RangeIndex: 1000 entries, 0 to 999\n",
      "Data columns (total 24 columns):\n",
      " #   Column           Non-Null Count  Dtype\n",
      "---  ------           --------------  -----\n",
      " 0   DURATION         1000 non-null   int64\n",
      " 1   NEW_CAR          1000 non-null   int64\n",
      " 2   USED_CAR         1000 non-null   int64\n",
      " 3   FURNITURE        1000 non-null   int64\n",
      " 4   RADIO/TV         1000 non-null   int64\n",
      " 5   EDUCATION        1000 non-null   int64\n",
      " 6   RETIRING         1000 non-null   int64\n",
      " 7   AMOUNT           1000 non-null   int64\n",
      " 8   INSTALL_RATE     1000 non-null   int64\n",
      " 9   MALE_DIV         1000 non-null   int64\n",
      " 10  MALE_SINGLE      1000 non-null   int64\n",
      " 11  MALE_MAR_or_WID  1000 non-null   int64\n",
      " 12  CO-APPLICANT     1000 non-null   int64\n",
      " 13  GUARANTOR        1000 non-null   int64\n",
      " 14  REAL_ESTATE      1000 non-null   int64\n",
      " 15  PROP_UNKN_NONE   1000 non-null   int64\n",
      " 16  AGE              1000 non-null   int64\n",
      " 17  OTHER_INSTALL    1000 non-null   int64\n",
      " 18  RENT             1000 non-null   int64\n",
      " 19  OWN_RES          1000 non-null   int64\n",
      " 20  NUM_CREDITS      1000 non-null   int64\n",
      " 21  NUM_DEPENDENTS   1000 non-null   int64\n",
      " 22  TELEPHONE        1000 non-null   int64\n",
      " 23  FOREIGN          1000 non-null   int64\n",
      "dtypes: int64(24)\n",
      "memory usage: 187.6 KB\n"
     ]
    }
   ],
   "source": [
    "X.info()"
   ]
  },
  {
   "cell_type": "markdown",
   "metadata": {},
   "source": [
    "### 독립변수 후보들과 종속변수간의 관계 탐색, 종속변수가 범주형이므로 범주에 따른 독립변수 후보들의 값의 분포에 차이가 있는 지 검토"
   ]
  },
  {
   "cell_type": "markdown",
   "metadata": {},
   "source": [
    "- DURATION(수치형/신용 대출 기간(개월))과 RESPONSE"
   ]
  },
  {
   "cell_type": "code",
   "execution_count": 39,
   "metadata": {},
   "outputs": [
    {
     "data": {
      "text/plain": [
       "<matplotlib.axes._subplots.AxesSubplot at 0x1ee8fdd4508>"
      ]
     },
     "execution_count": 39,
     "metadata": {},
     "output_type": "execute_result"
    },
    {
     "data": {
      "image/png": "[encoded data removed]",
      "text/plain": [
       "<Figure size 432x288 with 1 Axes>"
      ]
     },
     "metadata": {
      "needs_background": "light"
     },
     "output_type": "display_data"
    }
   ],
   "source": [
    "gc.boxplot(column=['DURATION'], by=\"RESPONSE\") # RESPONSE 값에 따른 DURATION 분포 차이가 보임 "
   ]
  },
  {
   "cell_type": "markdown",
   "metadata": {},
   "source": [
    "- AMOUNT(수치형/신용 대출 금액)와 RESPONSE"
   ]
  },
  {
   "cell_type": "code",
   "execution_count": 40,
   "metadata": {},
   "outputs": [
    {
     "data": {
      "text/plain": [
       "<matplotlib.axes._subplots.AxesSubplot at 0x1ee90e11408>"
      ]
     },
     "execution_count": 40,
     "metadata": {},
     "output_type": "execute_result"
    },
    {
     "data": {
      "image/png": "[encoded data removed]",
      "text/plain": [
       "<Figure size 432x288 with 1 Axes>"
      ]
     },
     "metadata": {
      "needs_background": "light"
     },
     "output_type": "display_data"
    }
   ],
   "source": [
    "gc.boxplot(column=['AMOUNT'], by=\"RESPONSE\") \n",
    "# RESPONSE 값에 따른 AMOUNT 분포는 중앙값은 비슷하지만 신용도가 좋지 않은 그룹이 더 많은 금액을 신청하였음"
   ]
  },
  {
   "cell_type": "markdown",
   "metadata": {},
   "source": [
    "- INSTALL_RATE(수치형/가처분 소득대비 상환금액 비율)과 RESPONSE"
   ]
  },
  {
   "cell_type": "code",
   "execution_count": 41,
   "metadata": {},
   "outputs": [
    {
     "data": {
      "text/plain": [
       "<matplotlib.axes._subplots.AxesSubplot at 0x1ee90ea9448>"
      ]
     },
     "execution_count": 41,
     "metadata": {},
     "output_type": "execute_result"
    },
    {
     "data": {
      "image/png": "[encoded data removed]",
      "text/plain": [
       "<Figure size 432x288 with 1 Axes>"
      ]
     },
     "metadata": {
      "needs_background": "light"
     },
     "output_type": "display_data"
    }
   ],
   "source": [
    "gc.boxplot(column=['INSTALL_RATE'], by=\"RESPONSE\") \n",
    "\n",
    "# INSTALL_RATE 값의 범위가 RESPONSE에 따라 상이해 보이지 않음. 중앙값은 차이가 보임."
   ]
  },
  {
   "cell_type": "code",
   "execution_count": 42,
   "metadata": {},
   "outputs": [
    {
     "data": {
      "text/plain": [
       "<matplotlib.axes._subplots.AxesSubplot at 0x1ee90f21a88>"
      ]
     },
     "execution_count": 42,
     "metadata": {},
     "output_type": "execute_result"
    },
    {
     "data": {
      "image/png": "[encoded data removed]",
      "text/plain": [
       "<Figure size 432x288 with 1 Axes>"
      ]
     },
     "metadata": {
      "needs_background": "light"
     },
     "output_type": "display_data"
    }
   ],
   "source": [
    "gcYES = gc[gc.RESPONSE == True]\n",
    "gcNO = gc[gc.RESPONSE == False]\n",
    "\n",
    "gcYES['INSTALL_RATE'].plot(kind='kde', style='r--') \n",
    "gcNO['INSTALL_RATE'].plot(kind='kde', style='b--') \n",
    "\n",
    "## 신용도가 좋지 않은 신청자들의 INSTALL_RATE 값이 좀 더 높은 경향\n",
    "# kde : 밀도함수"
   ]
  },
  {
   "cell_type": "markdown",
   "metadata": {},
   "source": [
    "- NEW_CAR(범주형/신용 대출의 목적이 신차 구입인 경우 (0: No, 1: Yes))와 RESPONSE"
   ]
  },
  {
   "cell_type": "code",
   "execution_count": 43,
   "metadata": {},
   "outputs": [
    {
     "data": {
      "text/html": [
       "<div>\n",
       "<style scoped>\n",
       "    .dataframe tbody tr th:only-of-type {\n",
       "        vertical-align: middle;\n",
       "    }\n",
       "\n",
       "    .dataframe tbody tr th {\n",
       "        vertical-align: top;\n",
       "    }\n",
       "\n",
       "    .dataframe thead th {\n",
       "        text-align: right;\n",
       "    }\n",
       "</style>\n",
       "<table border=\"1\" class=\"dataframe\">\n",
       "  <thead>\n",
       "    <tr style=\"text-align: right;\">\n",
       "      <th>NEW_CAR</th>\n",
       "      <th>0</th>\n",
       "      <th>1</th>\n",
       "    </tr>\n",
       "    <tr>\n",
       "      <th>RESPONSE</th>\n",
       "      <th></th>\n",
       "      <th></th>\n",
       "    </tr>\n",
       "  </thead>\n",
       "  <tbody>\n",
       "    <tr>\n",
       "      <th>False</th>\n",
       "      <td>211</td>\n",
       "      <td>89</td>\n",
       "    </tr>\n",
       "    <tr>\n",
       "      <th>True</th>\n",
       "      <td>555</td>\n",
       "      <td>145</td>\n",
       "    </tr>\n",
       "  </tbody>\n",
       "</table>\n",
       "</div>"
      ],
      "text/plain": [
       "NEW_CAR     0    1\n",
       "RESPONSE          \n",
       "False     211   89\n",
       "True      555  145"
      ]
     },
     "execution_count": 43,
     "metadata": {},
     "output_type": "execute_result"
    }
   ],
   "source": [
    "counts = pd.crosstab(gc.RESPONSE, gc.NEW_CAR)\n",
    "counts"
   ]
  },
  {
   "cell_type": "code",
   "execution_count": 44,
   "metadata": {},
   "outputs": [
    {
     "data": {
      "text/plain": [
       "<matplotlib.axes._subplots.AxesSubplot at 0x1ee9302b648>"
      ]
     },
     "execution_count": 44,
     "metadata": {},
     "output_type": "execute_result"
    },
    {
     "data": {
      "image/png": "[encoded data removed]",
      "text/plain": [
       "<Figure size 432x288 with 1 Axes>"
      ]
     },
     "metadata": {
      "needs_background": "light"
     },
     "output_type": "display_data"
    }
   ],
   "source": [
    "counts.plot(kind='bar', stacked=True)"
   ]
  },
  {
   "cell_type": "code",
   "execution_count": 45,
   "metadata": {},
   "outputs": [
    {
     "data": {
      "text/plain": [
       "0.2966666666666667"
      ]
     },
     "execution_count": 45,
     "metadata": {},
     "output_type": "execute_result"
    }
   ],
   "source": [
    "counts[1][0] / (counts[0][0] + counts[1][0]) # FALSE 일때 신차 구매 비율"
   ]
  },
  {
   "cell_type": "code",
   "execution_count": 46,
   "metadata": {},
   "outputs": [
    {
     "data": {
      "text/plain": [
       "0.20714285714285716"
      ]
     },
     "execution_count": 46,
     "metadata": {},
     "output_type": "execute_result"
    }
   ],
   "source": [
    "counts[1][1] / (counts[0][1] + counts[1][1]) # TRUE 일때 신차 구매 비율 "
   ]
  },
  {
   "cell_type": "markdown",
   "metadata": {},
   "source": [
    "- USED_CAR (범주형/신용 대출의 목적이 중고차 구입인 경우 (0: No, 1: Yes))와 RESPONSE"
   ]
  },
  {
   "cell_type": "code",
   "execution_count": 47,
   "metadata": {},
   "outputs": [
    {
     "data": {
      "text/html": [
       "<div>\n",
       "<style scoped>\n",
       "    .dataframe tbody tr th:only-of-type {\n",
       "        vertical-align: middle;\n",
       "    }\n",
       "\n",
       "    .dataframe tbody tr th {\n",
       "        vertical-align: top;\n",
       "    }\n",
       "\n",
       "    .dataframe thead th {\n",
       "        text-align: right;\n",
       "    }\n",
       "</style>\n",
       "<table border=\"1\" class=\"dataframe\">\n",
       "  <thead>\n",
       "    <tr style=\"text-align: right;\">\n",
       "      <th>USED_CAR</th>\n",
       "      <th>0</th>\n",
       "      <th>1</th>\n",
       "    </tr>\n",
       "    <tr>\n",
       "      <th>RESPONSE</th>\n",
       "      <th></th>\n",
       "      <th></th>\n",
       "    </tr>\n",
       "  </thead>\n",
       "  <tbody>\n",
       "    <tr>\n",
       "      <th>False</th>\n",
       "      <td>283</td>\n",
       "      <td>17</td>\n",
       "    </tr>\n",
       "    <tr>\n",
       "      <th>True</th>\n",
       "      <td>614</td>\n",
       "      <td>86</td>\n",
       "    </tr>\n",
       "  </tbody>\n",
       "</table>\n",
       "</div>"
      ],
      "text/plain": [
       "USED_CAR    0   1\n",
       "RESPONSE         \n",
       "False     283  17\n",
       "True      614  86"
      ]
     },
     "execution_count": 47,
     "metadata": {},
     "output_type": "execute_result"
    }
   ],
   "source": [
    "counts = pd.crosstab(gc.RESPONSE, gc.USED_CAR)\n",
    "counts"
   ]
  },
  {
   "cell_type": "code",
   "execution_count": 48,
   "metadata": {},
   "outputs": [
    {
     "data": {
      "text/plain": [
       "<matplotlib.axes._subplots.AxesSubplot at 0x1ee930bb348>"
      ]
     },
     "execution_count": 48,
     "metadata": {},
     "output_type": "execute_result"
    },
    {
     "data": {
      "image/png": "[encoded data removed]",
      "text/plain": [
       "<Figure size 432x288 with 1 Axes>"
      ]
     },
     "metadata": {
      "needs_background": "light"
     },
     "output_type": "display_data"
    }
   ],
   "source": [
    "counts.plot(kind='bar', stacked=True)"
   ]
  },
  {
   "cell_type": "code",
   "execution_count": 49,
   "metadata": {},
   "outputs": [
    {
     "data": {
      "text/plain": [
       "0.056666666666666664"
      ]
     },
     "execution_count": 49,
     "metadata": {},
     "output_type": "execute_result"
    }
   ],
   "source": [
    "counts[1][0] / (counts[0][0] + counts[1][0]) # FALSE 일때 중고차 구매 비율"
   ]
  },
  {
   "cell_type": "code",
   "execution_count": 50,
   "metadata": {},
   "outputs": [
    {
     "data": {
      "text/plain": [
       "0.12285714285714286"
      ]
     },
     "execution_count": 50,
     "metadata": {},
     "output_type": "execute_result"
    }
   ],
   "source": [
    "counts[1][1] / (counts[0][1] + counts[1][1]) # TRUE 일때 중고차 구매 비율 "
   ]
  },
  {
   "cell_type": "markdown",
   "metadata": {},
   "source": [
    "- FOREIGN (범주형/외국인 노동자 여부 (0: No, 1: Yes))과 RESPONSE"
   ]
  },
  {
   "cell_type": "code",
   "execution_count": 51,
   "metadata": {},
   "outputs": [
    {
     "data": {
      "text/html": [
       "<div>\n",
       "<style scoped>\n",
       "    .dataframe tbody tr th:only-of-type {\n",
       "        vertical-align: middle;\n",
       "    }\n",
       "\n",
       "    .dataframe tbody tr th {\n",
       "        vertical-align: top;\n",
       "    }\n",
       "\n",
       "    .dataframe thead th {\n",
       "        text-align: right;\n",
       "    }\n",
       "</style>\n",
       "<table border=\"1\" class=\"dataframe\">\n",
       "  <thead>\n",
       "    <tr style=\"text-align: right;\">\n",
       "      <th>FOREIGN</th>\n",
       "      <th>0</th>\n",
       "      <th>1</th>\n",
       "    </tr>\n",
       "    <tr>\n",
       "      <th>RESPONSE</th>\n",
       "      <th></th>\n",
       "      <th></th>\n",
       "    </tr>\n",
       "  </thead>\n",
       "  <tbody>\n",
       "    <tr>\n",
       "      <th>False</th>\n",
       "      <td>296</td>\n",
       "      <td>4</td>\n",
       "    </tr>\n",
       "    <tr>\n",
       "      <th>True</th>\n",
       "      <td>667</td>\n",
       "      <td>33</td>\n",
       "    </tr>\n",
       "  </tbody>\n",
       "</table>\n",
       "</div>"
      ],
      "text/plain": [
       "FOREIGN     0   1\n",
       "RESPONSE         \n",
       "False     296   4\n",
       "True      667  33"
      ]
     },
     "execution_count": 51,
     "metadata": {},
     "output_type": "execute_result"
    }
   ],
   "source": [
    "counts = pd.crosstab(gc.RESPONSE, gc.FOREIGN)\n",
    "counts"
   ]
  },
  {
   "cell_type": "code",
   "execution_count": 52,
   "metadata": {},
   "outputs": [
    {
     "data": {
      "text/plain": [
       "<matplotlib.axes._subplots.AxesSubplot at 0x1ee9313a748>"
      ]
     },
     "execution_count": 52,
     "metadata": {},
     "output_type": "execute_result"
    },
    {
     "data": {
      "image/png": "[encoded data removed]",
      "text/plain": [
       "<Figure size 432x288 with 1 Axes>"
      ]
     },
     "metadata": {
      "needs_background": "light"
     },
     "output_type": "display_data"
    }
   ],
   "source": [
    "counts.plot(kind='bar', stacked=True)"
   ]
  },
  {
   "cell_type": "code",
   "execution_count": 53,
   "metadata": {},
   "outputs": [
    {
     "data": {
      "text/plain": [
       "0.013333333333333334"
      ]
     },
     "execution_count": 53,
     "metadata": {},
     "output_type": "execute_result"
    }
   ],
   "source": [
    "counts[1][0] / (counts[0][0] + counts[1][0]) # FALSE 일때 FOREIGN 비율"
   ]
  },
  {
   "cell_type": "code",
   "execution_count": 54,
   "metadata": {},
   "outputs": [
    {
     "data": {
      "text/plain": [
       "0.047142857142857146"
      ]
     },
     "execution_count": 54,
     "metadata": {},
     "output_type": "execute_result"
    }
   ],
   "source": [
    "counts[1][1] / (counts[0][1] + counts[1][1]) # TRUE 일때 FOREIGN 비율 "
   ]
  },
  {
   "cell_type": "markdown",
   "metadata": {},
   "source": [
    "### 모형 학습 "
   ]
  },
  {
   "cell_type": "code",
   "execution_count": 55,
   "metadata": {},
   "outputs": [],
   "source": [
    "X_train, X_test, y_train, y_test = train_test_split(X, y)"
   ]
  },
  {
   "cell_type": "code",
   "execution_count": 56,
   "metadata": {},
   "outputs": [
    {
     "name": "stderr",
     "output_type": "stream",
     "text": [
      "C:\\Users\\eunbi\\Anaconda3\\lib\\site-packages\\sklearn\\linear_model\\_logistic.py:764: ConvergenceWarning: lbfgs failed to converge (status=1):\n",
      "STOP: TOTAL NO. of ITERATIONS REACHED LIMIT.\n",
      "\n",
      "Increase the number of iterations (max_iter) or scale the data as shown in:\n",
      "    https://scikit-learn.org/stable/modules/preprocessing.html\n",
      "Please also refer to the documentation for alternative solver options:\n",
      "    https://scikit-learn.org/stable/modules/linear_model.html#logistic-regression\n",
      "  extra_warning_msg=_LOGISTIC_SOLVER_CONVERGENCE_MSG)\n"
     ]
    },
    {
     "data": {
      "text/plain": [
       "LogisticRegression()"
      ]
     },
     "execution_count": 56,
     "metadata": {},
     "output_type": "execute_result"
    }
   ],
   "source": [
    "clf = LogisticRegression()\n",
    "clf.fit(X_train, y_train)"
   ]
  },
  {
   "cell_type": "code",
   "execution_count": 57,
   "metadata": {},
   "outputs": [
    {
     "name": "stdout",
     "output_type": "stream",
     "text": [
      "Predictions: [ True  True False False  True  True  True  True  True False False  True\n",
      "  True  True  True  True  True  True  True  True False False False  True\n",
      "  True  True  True  True False  True False  True  True  True  True  True\n",
      " False  True  True  True  True False  True  True  True  True  True  True\n",
      " False  True  True  True False  True False  True  True False  True  True\n",
      "  True  True  True  True  True  True  True  True False  True  True  True\n",
      "  True  True  True  True False  True False  True False  True  True  True\n",
      "  True  True  True False  True  True  True  True  True False  True  True\n",
      "  True  True  True  True False  True  True False  True  True  True  True\n",
      "  True False  True  True  True  True False  True  True  True  True False\n",
      "  True  True  True False  True  True  True False  True  True False  True\n",
      "  True  True False  True False False  True  True  True  True  True  True\n",
      "  True  True  True False  True  True False  True False False False  True\n",
      " False  True  True  True  True  True  True  True  True  True  True False\n",
      " False False  True  True  True  True  True  True  True  True  True  True\n",
      "  True  True  True  True False  True  True  True  True  True  True  True\n",
      "  True  True  True  True  True False  True  True  True  True  True  True\n",
      "  True  True  True  True False  True  True False False  True  True  True\n",
      "  True  True  True  True  True  True  True  True False  True  True  True\n",
      "  True  True False False False  True  True  True  True False  True  True\n",
      "  True  True  True  True  True  True  True False False  True]\n"
     ]
    }
   ],
   "source": [
    "print(\"Predictions: {}\".format(clf.predict(X_test)))"
   ]
  },
  {
   "cell_type": "code",
   "execution_count": 58,
   "metadata": {},
   "outputs": [
    {
     "name": "stdout",
     "output_type": "stream",
     "text": [
      "Predictions: [[0.3114672  0.6885328 ]\n",
      " [0.19994062 0.80005938]\n",
      " [0.80628636 0.19371364]\n",
      " [0.76850872 0.23149128]\n",
      " [0.33797678 0.66202322]\n",
      " [0.18428233 0.81571767]\n",
      " [0.21022012 0.78977988]\n",
      " [0.29734476 0.70265524]\n",
      " [0.11652075 0.88347925]\n",
      " [0.50530427 0.49469573]\n",
      " [0.59803768 0.40196232]\n",
      " [0.24282288 0.75717712]\n",
      " [0.05770109 0.94229891]\n",
      " [0.35862406 0.64137594]\n",
      " [0.15384416 0.84615584]\n",
      " [0.25289991 0.74710009]\n",
      " [0.31297237 0.68702763]\n",
      " [0.11554222 0.88445778]\n",
      " [0.12947478 0.87052522]\n",
      " [0.48879622 0.51120378]\n",
      " [0.73561919 0.26438081]\n",
      " [0.62423707 0.37576293]\n",
      " [0.85524659 0.14475341]\n",
      " [0.16751563 0.83248437]\n",
      " [0.1856299  0.8143701 ]\n",
      " [0.39858755 0.60141245]\n",
      " [0.03279546 0.96720454]\n",
      " [0.39424295 0.60575705]\n",
      " [0.56289272 0.43710728]\n",
      " [0.07948547 0.92051453]\n",
      " [0.5780539  0.4219461 ]\n",
      " [0.20911368 0.79088632]\n",
      " [0.22264694 0.77735306]\n",
      " [0.31243518 0.68756482]\n",
      " [0.45341558 0.54658442]\n",
      " [0.31878327 0.68121673]\n",
      " [0.52431012 0.47568988]\n",
      " [0.20643793 0.79356207]\n",
      " [0.29272996 0.70727004]\n",
      " [0.14529718 0.85470282]\n",
      " [0.28559945 0.71440055]\n",
      " [0.83848514 0.16151486]\n",
      " [0.21143841 0.78856159]\n",
      " [0.03651972 0.96348028]\n",
      " [0.32535475 0.67464525]\n",
      " [0.2625174  0.7374826 ]\n",
      " [0.46204616 0.53795384]\n",
      " [0.33901121 0.66098879]\n",
      " [0.50897355 0.49102645]\n",
      " [0.18948433 0.81051567]\n",
      " [0.21472377 0.78527623]\n",
      " [0.10701511 0.89298489]\n",
      " [0.61311951 0.38688049]\n",
      " [0.18385613 0.81614387]\n",
      " [0.64156171 0.35843829]\n",
      " [0.37680184 0.62319816]\n",
      " [0.1028717  0.8971283 ]\n",
      " [0.61248383 0.38751617]\n",
      " [0.02944016 0.97055984]\n",
      " [0.13047438 0.86952562]\n",
      " [0.13323794 0.86676206]\n",
      " [0.06730362 0.93269638]\n",
      " [0.10258841 0.89741159]\n",
      " [0.18920017 0.81079983]\n",
      " [0.15090539 0.84909461]\n",
      " [0.08717763 0.91282237]\n",
      " [0.16251706 0.83748294]\n",
      " [0.10863659 0.89136341]\n",
      " [0.59638494 0.40361506]\n",
      " [0.32214216 0.67785784]\n",
      " [0.43422771 0.56577229]\n",
      " [0.43124371 0.56875629]\n",
      " [0.22730972 0.77269028]\n",
      " [0.26854527 0.73145473]\n",
      " [0.17978529 0.82021471]\n",
      " [0.13517696 0.86482304]\n",
      " [0.70965557 0.29034443]\n",
      " [0.18712517 0.81287483]\n",
      " [0.87541955 0.12458045]\n",
      " [0.03603917 0.96396083]\n",
      " [0.75826897 0.24173103]\n",
      " [0.23984233 0.76015767]\n",
      " [0.27015792 0.72984208]\n",
      " [0.24887302 0.75112698]\n",
      " [0.49432486 0.50567514]\n",
      " [0.26431381 0.73568619]\n",
      " [0.2132099  0.7867901 ]\n",
      " [0.6918487  0.3081513 ]\n",
      " [0.21989232 0.78010768]\n",
      " [0.35537788 0.64462212]\n",
      " [0.24810073 0.75189927]\n",
      " [0.36158008 0.63841992]\n",
      " [0.12354009 0.87645991]\n",
      " [0.59066635 0.40933365]\n",
      " [0.16788843 0.83211157]\n",
      " [0.16168318 0.83831682]\n",
      " [0.26031504 0.73968496]\n",
      " [0.1380195  0.8619805 ]\n",
      " [0.39964381 0.60035619]\n",
      " [0.46033914 0.53966086]\n",
      " [0.50893255 0.49106745]\n",
      " [0.20688261 0.79311739]\n",
      " [0.48999179 0.51000821]\n",
      " [0.76681163 0.23318837]\n",
      " [0.15886947 0.84113053]\n",
      " [0.44307614 0.55692386]\n",
      " [0.12820866 0.87179134]\n",
      " [0.17285054 0.82714946]\n",
      " [0.07725101 0.92274899]\n",
      " [0.9203092  0.0796908 ]\n",
      " [0.43241513 0.56758487]\n",
      " [0.12189761 0.87810239]\n",
      " [0.09170096 0.90829904]\n",
      " [0.4081655  0.5918345 ]\n",
      " [0.65930397 0.34069603]\n",
      " [0.21248005 0.78751995]\n",
      " [0.24690816 0.75309184]\n",
      " [0.3651824  0.6348176 ]\n",
      " [0.11866676 0.88133324]\n",
      " [0.53391652 0.46608348]\n",
      " [0.18823008 0.81176992]\n",
      " [0.02902632 0.97097368]\n",
      " [0.15230429 0.84769571]\n",
      " [0.80314407 0.19685593]\n",
      " [0.19548849 0.80451151]\n",
      " [0.42799963 0.57200037]\n",
      " [0.06563366 0.93436634]\n",
      " [0.54094685 0.45905315]\n",
      " [0.20368711 0.79631289]\n",
      " [0.36369953 0.63630047]\n",
      " [0.597732   0.402268  ]\n",
      " [0.21504012 0.78495988]\n",
      " [0.3424358  0.6575642 ]\n",
      " [0.06439185 0.93560815]\n",
      " [0.62142213 0.37857787]\n",
      " [0.1332741  0.8667259 ]\n",
      " [0.70625893 0.29374107]\n",
      " [0.51427344 0.48572656]\n",
      " [0.14861326 0.85138674]\n",
      " [0.23099789 0.76900211]\n",
      " [0.37127277 0.62872723]\n",
      " [0.47321392 0.52678608]\n",
      " [0.05602239 0.94397761]\n",
      " [0.33016278 0.66983722]\n",
      " [0.18180722 0.81819278]\n",
      " [0.39988787 0.60011213]\n",
      " [0.06758083 0.93241917]\n",
      " [0.7642278  0.2357722 ]\n",
      " [0.45974949 0.54025051]\n",
      " [0.08585151 0.91414849]\n",
      " [0.65351646 0.34648354]\n",
      " [0.1455098  0.8544902 ]\n",
      " [0.51604796 0.48395204]\n",
      " [0.76931613 0.23068387]\n",
      " [0.56558334 0.43441666]\n",
      " [0.40255674 0.59744326]\n",
      " [0.55164746 0.44835254]\n",
      " [0.11345877 0.88654123]\n",
      " [0.16446709 0.83553291]\n",
      " [0.23913318 0.76086682]\n",
      " [0.28893129 0.71106871]\n",
      " [0.16599738 0.83400262]\n",
      " [0.33528126 0.66471874]\n",
      " [0.18696432 0.81303568]\n",
      " [0.05449281 0.94550719]\n",
      " [0.27063347 0.72936653]\n",
      " [0.26321826 0.73678174]\n",
      " [0.50501768 0.49498232]\n",
      " [0.63498255 0.36501745]\n",
      " [0.72908555 0.27091445]\n",
      " [0.18417529 0.81582471]\n",
      " [0.15092957 0.84907043]\n",
      " [0.30330443 0.69669557]\n",
      " [0.4212537  0.5787463 ]\n",
      " [0.11343369 0.88656631]\n",
      " [0.36397109 0.63602891]\n",
      " [0.25181485 0.74818515]\n",
      " [0.06907864 0.93092136]\n",
      " [0.14707244 0.85292756]\n",
      " [0.42183818 0.57816182]\n",
      " [0.27112787 0.72887213]\n",
      " [0.07120794 0.92879206]\n",
      " [0.2262887  0.7737113 ]\n",
      " [0.12493423 0.87506577]\n",
      " [0.55291232 0.44708768]\n",
      " [0.28760705 0.71239295]\n",
      " [0.05114619 0.94885381]\n",
      " [0.48845211 0.51154789]\n",
      " [0.10108653 0.89891347]\n",
      " [0.2927496  0.7072504 ]\n",
      " [0.3871541  0.6128459 ]\n",
      " [0.35514975 0.64485025]\n",
      " [0.26189539 0.73810461]\n",
      " [0.30398147 0.69601853]\n",
      " [0.1151579  0.8848421 ]\n",
      " [0.27273184 0.72726816]\n",
      " [0.47190759 0.52809241]\n",
      " [0.64272479 0.35727521]\n",
      " [0.34197254 0.65802746]\n",
      " [0.15068468 0.84931532]\n",
      " [0.27749517 0.72250483]\n",
      " [0.30487847 0.69512153]\n",
      " [0.35937893 0.64062107]\n",
      " [0.38260846 0.61739154]\n",
      " [0.12182622 0.87817378]\n",
      " [0.33183991 0.66816009]\n",
      " [0.09119139 0.90880861]\n",
      " [0.28473621 0.71526379]\n",
      " [0.50777959 0.49222041]\n",
      " [0.15460226 0.84539774]\n",
      " [0.26244359 0.73755641]\n",
      " [0.50676559 0.49323441]\n",
      " [0.88285828 0.11714172]\n",
      " [0.31275697 0.68724303]\n",
      " [0.34262966 0.65737034]\n",
      " [0.40263472 0.59736528]\n",
      " [0.26932672 0.73067328]\n",
      " [0.34588346 0.65411654]\n",
      " [0.18414425 0.81585575]\n",
      " [0.39037186 0.60962814]\n",
      " [0.03949866 0.96050134]\n",
      " [0.10956742 0.89043258]\n",
      " [0.37859687 0.62140313]\n",
      " [0.29076792 0.70923208]\n",
      " [0.66807686 0.33192314]\n",
      " [0.11287823 0.88712177]\n",
      " [0.32703927 0.67296073]\n",
      " [0.03815459 0.96184541]\n",
      " [0.20157195 0.79842805]\n",
      " [0.12230981 0.87769019]\n",
      " [0.5118714  0.4881286 ]\n",
      " [0.58977084 0.41022916]\n",
      " [0.58234358 0.41765642]\n",
      " [0.17191265 0.82808735]\n",
      " [0.06872426 0.93127574]\n",
      " [0.06026891 0.93973109]\n",
      " [0.11482583 0.88517417]\n",
      " [0.52603464 0.47396536]\n",
      " [0.21115629 0.78884371]\n",
      " [0.44974464 0.55025536]\n",
      " [0.22538639 0.77461361]\n",
      " [0.09585621 0.90414379]\n",
      " [0.47154262 0.52845738]\n",
      " [0.05956882 0.94043118]\n",
      " [0.30339304 0.69660696]\n",
      " [0.21608853 0.78391147]\n",
      " [0.24409984 0.75590016]\n",
      " [0.80455491 0.19544509]\n",
      " [0.73263021 0.26736979]\n",
      " [0.23916799 0.76083201]]\n"
     ]
    }
   ],
   "source": [
    "print(\"Predictions: {}\".format(clf.predict_proba(X_test)))"
   ]
  },
  {
   "cell_type": "markdown",
   "metadata": {},
   "source": [
    "### 분류 성과 측정"
   ]
  },
  {
   "cell_type": "code",
   "execution_count": 59,
   "metadata": {},
   "outputs": [
    {
     "data": {
      "text/plain": [
       "array([[ 25,  49],\n",
       "       [ 28, 148]], dtype=int64)"
      ]
     },
     "execution_count": 59,
     "metadata": {},
     "output_type": "execute_result"
    }
   ],
   "source": [
    "y_pred = clf.predict(X_test)\n",
    "\n",
    "from sklearn.metrics import confusion_matrix\n",
    "confusion_matrix(y_test, y_pred)"
   ]
  },
  {
   "cell_type": "code",
   "execution_count": 60,
   "metadata": {},
   "outputs": [
    {
     "name": "stdout",
     "output_type": "stream",
     "text": [
      "Accuracy: 0.692\n"
     ]
    }
   ],
   "source": [
    "print(\"Accuracy: {}\".format(clf.score(X_test, y_test)))"
   ]
  },
  {
   "cell_type": "code",
   "execution_count": 61,
   "metadata": {},
   "outputs": [
    {
     "data": {
      "text/plain": [
       "0.751269035532995"
      ]
     },
     "execution_count": 61,
     "metadata": {},
     "output_type": "execute_result"
    }
   ],
   "source": [
    "from sklearn.metrics import precision_score, recall_score, f1_score, roc_auc_score\n",
    "\n",
    "precision_score(y_test, y_pred)"
   ]
  },
  {
   "cell_type": "code",
   "execution_count": 62,
   "metadata": {},
   "outputs": [
    {
     "data": {
      "text/plain": [
       "0.8409090909090909"
      ]
     },
     "execution_count": 62,
     "metadata": {},
     "output_type": "execute_result"
    }
   ],
   "source": [
    "recall_score(y_test,y_pred)"
   ]
  },
  {
   "cell_type": "code",
   "execution_count": 63,
   "metadata": {},
   "outputs": [
    {
     "data": {
      "text/plain": [
       "0.7935656836461126"
      ]
     },
     "execution_count": 63,
     "metadata": {},
     "output_type": "execute_result"
    }
   ],
   "source": [
    "f1_score(y_test,y_pred)"
   ]
  },
  {
   "cell_type": "code",
   "execution_count": 64,
   "metadata": {},
   "outputs": [
    {
     "data": {
      "text/plain": [
       "0.5893734643734644"
      ]
     },
     "execution_count": 64,
     "metadata": {},
     "output_type": "execute_result"
    }
   ],
   "source": [
    "roc_auc_score(y_test,y_pred)"
   ]
  },
  {
   "cell_type": "code",
   "execution_count": 65,
   "metadata": {},
   "outputs": [
    {
     "data": {
      "text/plain": [
       "array([0.6722619 , 0.72654762, 0.70809524, 0.7372619 , 0.69880952])"
      ]
     },
     "execution_count": 65,
     "metadata": {},
     "output_type": "execute_result"
    }
   ],
   "source": [
    "clf_cv = LogisticRegression(max_iter=500)\n",
    "\n",
    "scores = cross_val_score(clf_cv, X, y, scoring='roc_auc', cv=5)\n",
    "scores"
   ]
  },
  {
   "cell_type": "code",
   "execution_count": 66,
   "metadata": {},
   "outputs": [
    {
     "data": {
      "text/plain": [
       "0.7085952380952382"
      ]
     },
     "execution_count": 66,
     "metadata": {},
     "output_type": "execute_result"
    }
   ],
   "source": [
    "scores.mean()"
   ]
  }
 ],
 "metadata": {
  "kernelspec": {
   "display_name": "Python 3",
   "language": "python",
   "name": "python3"
  },
  "language_info": {
   "codemirror_mode": {
    "name": "ipython",
    "version": 3
   },
   "file_extension": ".py",
   "mimetype": "text/x-python",
   "name": "python",
   "nbconvert_exporter": "python",
   "pygments_lexer": "ipython3",
   "version": "3.7.7"
  }
 },
 "nbformat": 4,
 "nbformat_minor": 2
}
