{
 "cells": [
  {
   "cell_type": "markdown",
   "metadata": {},
   "source": [
    "Daum 영화에서 수집한 ‘어벤져스: 엔드게임’에 대한 리뷰를 활용하여 직접 속성과 속성에 속한 단어를 선정하여 속성별 감성점수 분석을 수행하라.\n",
    "\n",
    "(속성과 속성에 속한 단어는 본인의 판단에 따라 만들면 됩니다.\n",
    "\n",
    "자신이 직접 어벤져스:엔드게임 리뷰를 수집하기 어려운 경우는 강의자료 > 데이터 에 있는 endgame.csv 를 활용하세요.)"
   ]
  },
  {
   "cell_type": "code",
   "execution_count": 1,
   "metadata": {},
   "outputs": [],
   "source": [
    "import numpy as np\n",
    "import pandas as pd\n",
    "import json\n",
    "from tqdm import *"
   ]
  },
  {
   "cell_type": "code",
   "execution_count": 2,
   "metadata": {},
   "outputs": [
    {
     "data": {
      "text/html": [
       "<div>\n",
       "<style scoped>\n",
       "    .dataframe tbody tr th:only-of-type {\n",
       "        vertical-align: middle;\n",
       "    }\n",
       "\n",
       "    .dataframe tbody tr th {\n",
       "        vertical-align: top;\n",
       "    }\n",
       "\n",
       "    .dataframe thead th {\n",
       "        text-align: right;\n",
       "    }\n",
       "</style>\n",
       "<table border=\"1\" class=\"dataframe\">\n",
       "  <thead>\n",
       "    <tr style=\"text-align: right;\">\n",
       "      <th></th>\n",
       "      <th>Rating</th>\n",
       "      <th>Text</th>\n",
       "    </tr>\n",
       "  </thead>\n",
       "  <tbody>\n",
       "    <tr>\n",
       "      <th>0</th>\n",
       "      <td>10</td>\n",
       "      <td>\\n                                           ...</td>\n",
       "    </tr>\n",
       "    <tr>\n",
       "      <th>1</th>\n",
       "      <td>10</td>\n",
       "      <td>\\n                                           ...</td>\n",
       "    </tr>\n",
       "    <tr>\n",
       "      <th>2</th>\n",
       "      <td>7</td>\n",
       "      <td>\\n</td>\n",
       "    </tr>\n",
       "    <tr>\n",
       "      <th>3</th>\n",
       "      <td>0</td>\n",
       "      <td>\\n</td>\n",
       "    </tr>\n",
       "    <tr>\n",
       "      <th>4</th>\n",
       "      <td>10</td>\n",
       "      <td>\\n                                           ...</td>\n",
       "    </tr>\n",
       "  </tbody>\n",
       "</table>\n",
       "</div>"
      ],
      "text/plain": [
       "   Rating                                               Text\n",
       "0      10   \\n                                           ...\n",
       "1      10   \\n                                           ...\n",
       "2       7                                                 \\n\n",
       "3       0                                                 \\n\n",
       "4      10   \\n                                           ..."
      ]
     },
     "execution_count": 2,
     "metadata": {},
     "output_type": "execute_result"
    }
   ],
   "source": [
    "df = pd.read_csv('data/endgame.csv')\n",
    "df.head()"
   ]
  },
  {
   "cell_type": "code",
   "execution_count": 3,
   "metadata": {},
   "outputs": [],
   "source": [
    "from konlpy.tag import *\n",
    "\n",
    "okt = Okt()\n",
    "\n",
    "good = ['재미', '행복', '즐거', '짱', '굿', '완벽', '명작', '훌륭', '걸작', '사랑', \n",
    "        '좋다', '대작', '감사', '최고', '시원', '순삭', '깔끔', '위대', '갓', '감격', '유머',\n",
    "       '즐겁다', '여운', '만족', '꿀잼', '아름답다', '대박']\n",
    "\n",
    "\n",
    "bad = ['망작', '노잼', '잠', '아쉽', '지루', '유치', '미쳤', '별로', '졸려', '어이', \n",
    "       '으휴', '어설프다', '막장', '지겹다', '쯧', '김빠진다', '실망', '허술하다',\n",
    "       '극혐', '어설프다', '화나다', '식상', '억지', '쓰레기', '최악', '장황']\n",
    "\n",
    "def sent_list(wordname):\n",
    "    with open('data/SentiWord_info.json', encoding='utf-8-sig', mode='r') as f:\n",
    "        data = json.load(f)\n",
    "        result = ['None','None']\n",
    "        for i in range(0, len(data)):\n",
    "            if data[i]['word'] == wordname:\n",
    "                result.pop()\n",
    "                result.pop()\n",
    "                result.append(data[i]['word_root'])\n",
    "                result.append(data[i]['polarity'])\n",
    "\n",
    "        s_word = result[1]\n",
    "\n",
    "        return s_word"
   ]
  },
  {
   "cell_type": "code",
   "execution_count": 4,
   "metadata": {},
   "outputs": [
    {
     "data": {
      "text/plain": [
       "[' \\n                                            마무리까지 완벽했다 그 전 인피니티워의 감동과 대적할만한 내 인생 히어로물 희대의 명작 중 하나!',\n",
       " '!']"
      ]
     },
     "execution_count": 4,
     "metadata": {},
     "output_type": "execute_result"
    }
   ],
   "source": [
    "# 문장 구분 \n",
    "from nltk.tokenize.punkt import PunktSentenceTokenizer\n",
    "\n",
    "sentence_splitter = PunktSentenceTokenizer()\n",
    "sentences = sentence_splitter.tokenize(df.iloc[0,1])\n",
    "sentences"
   ]
  },
  {
   "cell_type": "code",
   "execution_count": 5,
   "metadata": {},
   "outputs": [
    {
     "name": "stderr",
     "output_type": "stream",
     "text": [
      "\r",
      "  0%|                                                                                         | 0/4525 [00:00<?, ?it/s]"
     ]
    },
    {
     "name": "stdout",
     "output_type": "stream",
     "text": [
      "['마무리', '까지', '완벽했다', '그', '전', '인피니티', '워', '의', '감동', '과', '대적', '할만', '한', '내', '인생', '히어로', '물', '희', '대의', '명작', '중', '하나', '!']\n",
      "['!']\n"
     ]
    },
    {
     "name": "stderr",
     "output_type": "stream",
     "text": [
      "100%|██████████████████████████████████████████████████████████████████████████████| 4525/4525 [35:39<00:00,  2.12it/s]"
     ]
    },
    {
     "name": "stdout",
     "output_type": "stream",
     "text": [
      "1.6160714285714286\n",
      "-1.0196078431372548\n"
     ]
    },
    {
     "name": "stderr",
     "output_type": "stream",
     "text": [
      "\n"
     ]
    }
   ],
   "source": [
    "# 형태소 분석\n",
    "for sentence in sentences :\n",
    "    print(okt.morphs(sentence))\n",
    "\n",
    "## 속성 감성 스코어 계산\n",
    "\n",
    "good_list = []\n",
    "bad_list = []\n",
    "var_names = ['g', 'b']\n",
    "\n",
    "for i in tqdm(range(len(df))):\n",
    "    sentences = sentence_splitter.tokenize(df.iloc[i,1])\n",
    "\n",
    "    for sentence in sentences:\n",
    "        g = 0\n",
    "        b = 0\n",
    "        \n",
    "        words = okt.morphs(sentence)\n",
    "    \n",
    "        for word in words:\n",
    "            if(word in good):\n",
    "                g += 1\n",
    "        \n",
    "            if(word in bad):\n",
    "                b += 1\n",
    "            \n",
    "        words = okt.pos(sentence)\n",
    "        x = len(words)\n",
    "        sent_sum = 0\n",
    "\n",
    "        for i in range(0,x):\n",
    "            sent = sent_list(words[i][0])\n",
    "            if( sent != 'None'):\n",
    "                sent_sum += int(sent)\n",
    "\n",
    "        max_var = max(zip(var_names, (map(eval, var_names))), key=lambda tuple: tuple[1])[0]\n",
    "\n",
    "        if (max_var == 'g'):\n",
    "            if( g > 0):\n",
    "                good_list.append(sent_sum)\n",
    "        elif (max_var == 'b'):\n",
    "            if( b > 0):\n",
    "                bad_list.append(sent_sum)\n",
    "\n",
    "print(np.mean(good_list))\n",
    "print(np.mean(bad_list))"
   ]
  },
  {
   "cell_type": "code",
   "execution_count": null,
   "metadata": {},
   "outputs": [],
   "source": []
  },
  {
   "cell_type": "code",
   "execution_count": null,
   "metadata": {},
   "outputs": [],
   "source": []
  }
 ],
 "metadata": {
  "kernelspec": {
   "display_name": "Python 3",
   "language": "python",
   "name": "python3"
  },
  "language_info": {
   "codemirror_mode": {
    "name": "ipython",
    "version": 3
   },
   "file_extension": ".py",
   "mimetype": "text/x-python",
   "name": "python",
   "nbconvert_exporter": "python",
   "pygments_lexer": "ipython3",
   "version": "3.7.7"
  }
 },
 "nbformat": 4,
 "nbformat_minor": 4
}
