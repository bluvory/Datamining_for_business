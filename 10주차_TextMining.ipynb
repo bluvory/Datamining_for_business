{
 "cells": [
  {
   "cell_type": "markdown",
   "metadata": {},
   "source": [
    "## 텍스트 마이닝 TextMining\n",
    "- 특정한 목적에 대해 의미 있는 정보를 추출하고 일련의 텍스트 분석 및 처리과정을 통해 이루어짐\n",
    "- nltk(Natural Language Toolkit): 영어를 처리하는 다양한 기능 구현"
   ]
  },
  {
   "cell_type": "code",
   "execution_count": 1,
   "metadata": {
    "scrolled": false
   },
   "outputs": [
    {
     "data": {
      "text/html": [
       "<div>\n",
       "<style scoped>\n",
       "    .dataframe tbody tr th:only-of-type {\n",
       "        vertical-align: middle;\n",
       "    }\n",
       "\n",
       "    .dataframe tbody tr th {\n",
       "        vertical-align: top;\n",
       "    }\n",
       "\n",
       "    .dataframe thead th {\n",
       "        text-align: right;\n",
       "    }\n",
       "</style>\n",
       "<table border=\"1\" class=\"dataframe\">\n",
       "  <thead>\n",
       "    <tr style=\"text-align: right;\">\n",
       "      <th></th>\n",
       "      <th>ID</th>\n",
       "      <th>Title</th>\n",
       "      <th>Author</th>\n",
       "      <th>ReviewID</th>\n",
       "      <th>Texts</th>\n",
       "      <th>YMD</th>\n",
       "      <th>Sentiment</th>\n",
       "    </tr>\n",
       "  </thead>\n",
       "  <tbody>\n",
       "    <tr>\n",
       "      <th>0</th>\n",
       "      <td>127335</td>\n",
       "      <td>Ripoff don't buy it. Would like to know how to...</td>\n",
       "      <td>Alex Cropper</td>\n",
       "      <td>R112X6CB1GTVF7</td>\n",
       "      <td>Phone does not work. Does not allow outgoing t...</td>\n",
       "      <td>2014-01-14</td>\n",
       "      <td>0</td>\n",
       "    </tr>\n",
       "    <tr>\n",
       "      <th>1</th>\n",
       "      <td>161579</td>\n",
       "      <td>I am not satisfied with the product</td>\n",
       "      <td>Monica Heredia</td>\n",
       "      <td>R3MQ3FY4PWPQFM</td>\n",
       "      <td>I am not satisfied with the iPhone 5s, because...</td>\n",
       "      <td>2014-01-07</td>\n",
       "      <td>0</td>\n",
       "    </tr>\n",
       "    <tr>\n",
       "      <th>2</th>\n",
       "      <td>152064</td>\n",
       "      <td>Stay away buy something else</td>\n",
       "      <td>Mark Ducette monte carlo</td>\n",
       "      <td>R1QVAAZ9DWLN5Q</td>\n",
       "      <td>EATS BATTERIES, BRAND NEW BATTERIES IT EATS FA...</td>\n",
       "      <td>2014-01-28</td>\n",
       "      <td>0</td>\n",
       "    </tr>\n",
       "    <tr>\n",
       "      <th>3</th>\n",
       "      <td>180094</td>\n",
       "      <td>wondering</td>\n",
       "      <td>eaamber</td>\n",
       "      <td>R3AR8LYIC3BOI9</td>\n",
       "      <td>I'm wondering if this phone is good or bad I j...</td>\n",
       "      <td>2014-01-15</td>\n",
       "      <td>0</td>\n",
       "    </tr>\n",
       "    <tr>\n",
       "      <th>4</th>\n",
       "      <td>180037</td>\n",
       "      <td>virus</td>\n",
       "      <td>pamela</td>\n",
       "      <td>RCYC822DI3R6K</td>\n",
       "      <td>When i got the phone it had a virus on it with...</td>\n",
       "      <td>2014-01-10</td>\n",
       "      <td>0</td>\n",
       "    </tr>\n",
       "  </tbody>\n",
       "</table>\n",
       "</div>"
      ],
      "text/plain": [
       "       ID                                              Title  \\\n",
       "0  127335  Ripoff don't buy it. Would like to know how to...   \n",
       "1  161579                I am not satisfied with the product   \n",
       "2  152064                       Stay away buy something else   \n",
       "3  180094                                          wondering   \n",
       "4  180037                                              virus   \n",
       "\n",
       "                     Author        ReviewID  \\\n",
       "0              Alex Cropper  R112X6CB1GTVF7   \n",
       "1            Monica Heredia  R3MQ3FY4PWPQFM   \n",
       "2  Mark Ducette monte carlo  R1QVAAZ9DWLN5Q   \n",
       "3                   eaamber  R3AR8LYIC3BOI9   \n",
       "4                    pamela   RCYC822DI3R6K   \n",
       "\n",
       "                                               Texts         YMD  Sentiment  \n",
       "0  Phone does not work. Does not allow outgoing t...  2014-01-14          0  \n",
       "1  I am not satisfied with the iPhone 5s, because...  2014-01-07          0  \n",
       "2  EATS BATTERIES, BRAND NEW BATTERIES IT EATS FA...  2014-01-28          0  \n",
       "3  I'm wondering if this phone is good or bad I j...  2014-01-15          0  \n",
       "4  When i got the phone it had a virus on it with...  2014-01-10          0  "
      ]
     },
     "execution_count": 1,
     "metadata": {},
     "output_type": "execute_result"
    }
   ],
   "source": [
    "import nltk\n",
    "import pandas as pd\n",
    "\n",
    "mobile = pd.read_csv('data/mobile2014.csv')\n",
    "mobile.head()"
   ]
  },
  {
   "cell_type": "code",
   "execution_count": 2,
   "metadata": {},
   "outputs": [
    {
     "name": "stdout",
     "output_type": "stream",
     "text": [
      "['Phone does not work.', 'Does not allow outgoing text .', 'Incoming calls.', 'Would not disable South African settings.', 'Waste of money']\n"
     ]
    }
   ],
   "source": [
    "# 문장 분리\n",
    "from nltk import sent_tokenize\n",
    "\n",
    "print(sent_tokenize(mobile.Texts[0]))"
   ]
  },
  {
   "cell_type": "code",
   "execution_count": 3,
   "metadata": {},
   "outputs": [
    {
     "data": {
      "text/plain": [
       "['Phone',\n",
       " 'does',\n",
       " 'not',\n",
       " 'work',\n",
       " '.',\n",
       " 'Does',\n",
       " 'not',\n",
       " 'allow',\n",
       " 'outgoing',\n",
       " 'text',\n",
       " '.',\n",
       " 'Incoming',\n",
       " 'calls',\n",
       " '.',\n",
       " 'Would',\n",
       " 'not',\n",
       " 'disable',\n",
       " 'South',\n",
       " 'African',\n",
       " 'settings',\n",
       " '.',\n",
       " 'Waste',\n",
       " 'of',\n",
       " 'money']"
      ]
     },
     "execution_count": 3,
     "metadata": {},
     "output_type": "execute_result"
    }
   ],
   "source": [
    "# 단어 분리\n",
    "from nltk.tokenize import word_tokenize\n",
    " \n",
    "word_tokenize(mobile.Texts[0])"
   ]
  },
  {
   "cell_type": "markdown",
   "metadata": {},
   "source": [
    "- Regexp: 정규표현식, 특정한 규칙을 가진 문자열의 집합을 표현\n",
    "- 아래에선 문장기호만 담겨있던 단어는 제거"
   ]
  },
  {
   "cell_type": "code",
   "execution_count": 4,
   "metadata": {},
   "outputs": [
    {
     "data": {
      "text/plain": [
       "['Phone',\n",
       " 'does',\n",
       " 'not',\n",
       " 'work',\n",
       " 'Does',\n",
       " 'not',\n",
       " 'allow',\n",
       " 'outgoing',\n",
       " 'text',\n",
       " 'Incoming',\n",
       " 'calls',\n",
       " 'Would',\n",
       " 'not',\n",
       " 'disable',\n",
       " 'South',\n",
       " 'African',\n",
       " 'settings',\n",
       " 'Waste',\n",
       " 'of',\n",
       " 'money']"
      ]
     },
     "execution_count": 4,
     "metadata": {},
     "output_type": "execute_result"
    }
   ],
   "source": [
    "from nltk.tokenize import RegexpTokenizer\n",
    "\n",
    "retokenize = RegexpTokenizer(\"[\\w]+\")\n",
    "retokenize.tokenize(mobile.Texts[0])"
   ]
  },
  {
   "cell_type": "code",
   "execution_count": 5,
   "metadata": {},
   "outputs": [
    {
     "data": {
      "text/html": [
       "<div>\n",
       "<style scoped>\n",
       "    .dataframe tbody tr th:only-of-type {\n",
       "        vertical-align: middle;\n",
       "    }\n",
       "\n",
       "    .dataframe tbody tr th {\n",
       "        vertical-align: top;\n",
       "    }\n",
       "\n",
       "    .dataframe thead th {\n",
       "        text-align: right;\n",
       "    }\n",
       "</style>\n",
       "<table border=\"1\" class=\"dataframe\">\n",
       "  <thead>\n",
       "    <tr style=\"text-align: right;\">\n",
       "      <th></th>\n",
       "      <th>ID</th>\n",
       "      <th>Title</th>\n",
       "      <th>Author</th>\n",
       "      <th>ReviewID</th>\n",
       "      <th>Texts</th>\n",
       "      <th>YMD</th>\n",
       "      <th>Sentiment</th>\n",
       "      <th>tokenized_sents</th>\n",
       "      <th>sents_length</th>\n",
       "    </tr>\n",
       "  </thead>\n",
       "  <tbody>\n",
       "    <tr>\n",
       "      <th>0</th>\n",
       "      <td>127335</td>\n",
       "      <td>Ripoff don't buy it. Would like to know how to...</td>\n",
       "      <td>Alex Cropper</td>\n",
       "      <td>R112X6CB1GTVF7</td>\n",
       "      <td>Phone does not work. Does not allow outgoing t...</td>\n",
       "      <td>2014-01-14</td>\n",
       "      <td>0</td>\n",
       "      <td>[Phone, does, not, work, ., Does, not, allow, ...</td>\n",
       "      <td>24</td>\n",
       "    </tr>\n",
       "    <tr>\n",
       "      <th>1</th>\n",
       "      <td>161579</td>\n",
       "      <td>I am not satisfied with the product</td>\n",
       "      <td>Monica Heredia</td>\n",
       "      <td>R3MQ3FY4PWPQFM</td>\n",
       "      <td>I am not satisfied with the iPhone 5s, because...</td>\n",
       "      <td>2014-01-07</td>\n",
       "      <td>0</td>\n",
       "      <td>[I, am, not, satisfied, with, the, iPhone, 5s,...</td>\n",
       "      <td>63</td>\n",
       "    </tr>\n",
       "    <tr>\n",
       "      <th>2</th>\n",
       "      <td>152064</td>\n",
       "      <td>Stay away buy something else</td>\n",
       "      <td>Mark Ducette monte carlo</td>\n",
       "      <td>R1QVAAZ9DWLN5Q</td>\n",
       "      <td>EATS BATTERIES, BRAND NEW BATTERIES IT EATS FA...</td>\n",
       "      <td>2014-01-28</td>\n",
       "      <td>0</td>\n",
       "      <td>[EATS, BATTERIES, ,, BRAND, NEW, BATTERIES, IT...</td>\n",
       "      <td>27</td>\n",
       "    </tr>\n",
       "    <tr>\n",
       "      <th>3</th>\n",
       "      <td>180094</td>\n",
       "      <td>wondering</td>\n",
       "      <td>eaamber</td>\n",
       "      <td>R3AR8LYIC3BOI9</td>\n",
       "      <td>I'm wondering if this phone is good or bad I j...</td>\n",
       "      <td>2014-01-15</td>\n",
       "      <td>0</td>\n",
       "      <td>[I, 'm, wondering, if, this, phone, is, good, ...</td>\n",
       "      <td>38</td>\n",
       "    </tr>\n",
       "    <tr>\n",
       "      <th>4</th>\n",
       "      <td>180037</td>\n",
       "      <td>virus</td>\n",
       "      <td>pamela</td>\n",
       "      <td>RCYC822DI3R6K</td>\n",
       "      <td>When i got the phone it had a virus on it with...</td>\n",
       "      <td>2014-01-10</td>\n",
       "      <td>0</td>\n",
       "      <td>[When, i, got, the, phone, it, had, a, virus, ...</td>\n",
       "      <td>21</td>\n",
       "    </tr>\n",
       "  </tbody>\n",
       "</table>\n",
       "</div>"
      ],
      "text/plain": [
       "       ID                                              Title  \\\n",
       "0  127335  Ripoff don't buy it. Would like to know how to...   \n",
       "1  161579                I am not satisfied with the product   \n",
       "2  152064                       Stay away buy something else   \n",
       "3  180094                                          wondering   \n",
       "4  180037                                              virus   \n",
       "\n",
       "                     Author        ReviewID  \\\n",
       "0              Alex Cropper  R112X6CB1GTVF7   \n",
       "1            Monica Heredia  R3MQ3FY4PWPQFM   \n",
       "2  Mark Ducette monte carlo  R1QVAAZ9DWLN5Q   \n",
       "3                   eaamber  R3AR8LYIC3BOI9   \n",
       "4                    pamela   RCYC822DI3R6K   \n",
       "\n",
       "                                               Texts         YMD  Sentiment  \\\n",
       "0  Phone does not work. Does not allow outgoing t...  2014-01-14          0   \n",
       "1  I am not satisfied with the iPhone 5s, because...  2014-01-07          0   \n",
       "2  EATS BATTERIES, BRAND NEW BATTERIES IT EATS FA...  2014-01-28          0   \n",
       "3  I'm wondering if this phone is good or bad I j...  2014-01-15          0   \n",
       "4  When i got the phone it had a virus on it with...  2014-01-10          0   \n",
       "\n",
       "                                     tokenized_sents  sents_length  \n",
       "0  [Phone, does, not, work, ., Does, not, allow, ...            24  \n",
       "1  [I, am, not, satisfied, with, the, iPhone, 5s,...            63  \n",
       "2  [EATS, BATTERIES, ,, BRAND, NEW, BATTERIES, IT...            27  \n",
       "3  [I, 'm, wondering, if, this, phone, is, good, ...            38  \n",
       "4  [When, i, got, the, phone, it, had, a, virus, ...            21  "
      ]
     },
     "execution_count": 5,
     "metadata": {},
     "output_type": "execute_result"
    }
   ],
   "source": [
    "mobile[\"tokenized_sents\"] = mobile.apply(\n",
    "    lambda row: nltk.word_tokenize(str(row[\"Texts\"])), axis=1)\n",
    "mobile['sents_length'] = mobile.apply(\n",
    "    lambda row: len(row['tokenized_sents']), axis=1)\n",
    "mobile.head()"
   ]
  },
  {
   "cell_type": "markdown",
   "metadata": {},
   "source": [
    "### 어간 추출 Stemming\n",
    "- 가능하다면 단어들의 어간을 추출하여 대치하면 어간이 같은 표현들은 통일된 형태로 변경"
   ]
  },
  {
   "cell_type": "code",
   "execution_count": 6,
   "metadata": {},
   "outputs": [
    {
     "name": "stdout",
     "output_type": "stream",
     "text": [
      "Porter Stemmer   : ['fli', 'fli', 'fli', 'flew', 'flown']\n",
      "Lancaster Stemmer: ['fly', 'fli', 'fly', 'flew', 'flown']\n"
     ]
    }
   ],
   "source": [
    "from nltk.stem import PorterStemmer, LancasterStemmer\n",
    "\n",
    "st1 = PorterStemmer()\n",
    "st2 =  LancasterStemmer()\n",
    "\n",
    "words = [\"fly\", \"flies\", \"flying\", \"flew\", \"flown\"]\n",
    "\n",
    "print(\"Porter Stemmer   :\", [st1.stem(w) for w in words])\n",
    "print(\"Lancaster Stemmer:\", [st2.stem(w) for w in words])"
   ]
  },
  {
   "cell_type": "markdown",
   "metadata": {},
   "source": [
    "### 표제어 추출 Lemmatizing\n",
    "- 단어로부터 표제어(기본 사전형 단어)를 찾아주는 것\n",
    "- 사전에 표현되어 있는 기본형으로 찾아지지만 어간 추출은 사전에 표현된 형태로 추출되지 않는 경우가 많음"
   ]
  },
  {
   "cell_type": "code",
   "execution_count": 7,
   "metadata": {},
   "outputs": [
    {
     "data": {
      "text/plain": [
       "['fly', 'fly', 'fly', 'fly', 'fly']"
      ]
     },
     "execution_count": 7,
     "metadata": {},
     "output_type": "execute_result"
    }
   ],
   "source": [
    "from nltk.stem import WordNetLemmatizer\n",
    "\n",
    "lm = WordNetLemmatizer()\n",
    "\n",
    "[lm.lemmatize(w, pos=\"v\") for w in words]"
   ]
  },
  {
   "cell_type": "markdown",
   "metadata": {},
   "source": [
    "- 품사 추출 Part-of-speech, pos\n",
    "- 단어와 단어의 문장위치를 고려한 품사 추출을 할 수 있으며, 단어와 함께 품사가 표현\n",
    "- 리뷰에서 추출된 단어마다 pos 태깅이 가능 -> nltk.tag.pos_tag\n",
    "- 추출된 품사 정보를 이용해 특정 품사에 해당하는 단어만 추출가능"
   ]
  },
  {
   "cell_type": "code",
   "execution_count": 8,
   "metadata": {},
   "outputs": [
    {
     "name": "stdout",
     "output_type": "stream",
     "text": [
      "VB: verb, base form\n",
      "    ask assemble assess assign assume atone attention avoid bake balkanize\n",
      "    bank begin behold believe bend benefit bevel beware bless boil bomb\n",
      "    boost brace break bring broil brush build ...\n"
     ]
    }
   ],
   "source": [
    "# NNP: 단수 고유명사\n",
    "# VB: 동사\n",
    "# VBP: 동사 현재형\n",
    "# TO: to 전치사\n",
    "# NN: 명사(단수형 혹은 집합형)\n",
    "# DT: 관형사\n",
    "\n",
    "nltk.help.upenn_tagset(\"VB\")"
   ]
  },
  {
   "cell_type": "code",
   "execution_count": 9,
   "metadata": {},
   "outputs": [
    {
     "data": {
      "text/plain": [
       "[('Phone', 'NN'),\n",
       " ('does', 'VBZ'),\n",
       " ('not', 'RB'),\n",
       " ('work', 'VB'),\n",
       " ('.', '.'),\n",
       " ('Does', 'NNP'),\n",
       " ('not', 'RB'),\n",
       " ('allow', 'VB'),\n",
       " ('outgoing', 'VBG'),\n",
       " ('text', 'NN'),\n",
       " ('.', '.'),\n",
       " ('Incoming', 'VBG'),\n",
       " ('calls', 'NNS'),\n",
       " ('.', '.'),\n",
       " ('Would', 'MD'),\n",
       " ('not', 'RB'),\n",
       " ('disable', 'VB'),\n",
       " ('South', 'JJ'),\n",
       " ('African', 'JJ'),\n",
       " ('settings', 'NNS'),\n",
       " ('.', '.'),\n",
       " ('Waste', 'NN'),\n",
       " ('of', 'IN'),\n",
       " ('money', 'NN')]"
      ]
     },
     "execution_count": 9,
     "metadata": {},
     "output_type": "execute_result"
    }
   ],
   "source": [
    "from nltk.tag import pos_tag\n",
    "tagged_list = pos_tag(word_tokenize(mobile.Texts[0]))\n",
    "tagged_list"
   ]
  },
  {
   "cell_type": "code",
   "execution_count": 10,
   "metadata": {},
   "outputs": [
    {
     "data": {
      "text/plain": [
       "['Phone', 'text', 'Waste', 'money']"
      ]
     },
     "execution_count": 10,
     "metadata": {},
     "output_type": "execute_result"
    }
   ],
   "source": [
    "nouns_list = [t[0] for t in tagged_list if t[1] == \"NN\"]\n",
    "nouns_list"
   ]
  },
  {
   "cell_type": "markdown",
   "metadata": {},
   "source": [
    "### 빈도 추출\n",
    "- 단어가 사용되는 맥락을 파악하거나 단어의 빈도를 추출하는 방안\n",
    "- 단어를 분리한 후에 단어의 등장빈도에 따라 정렬하여 그래프 그리기\n",
    "- 빈번하게 등장하는 단어를 불용어(stopwords)라고 정의하고 분석에서 제외"
   ]
  },
  {
   "cell_type": "code",
   "execution_count": 11,
   "metadata": {},
   "outputs": [
    {
     "data": {
      "image/png": "[encoded data removed]",
      "text/plain": [
       "<Figure size 432x288 with 1 Axes>"
      ]
     },
     "metadata": {
      "needs_background": "light"
     },
     "output_type": "display_data"
    }
   ],
   "source": [
    "from nltk import Text\n",
    "\n",
    "text = Text(retokenize.tokenize(str(mobile.Texts)))\n",
    "\n",
    "import matplotlib.pyplot as plt \n",
    "\n",
    "text.plot(20)   # frequency plot\n",
    "plt.show()"
   ]
  },
  {
   "cell_type": "code",
   "execution_count": 12,
   "metadata": {},
   "outputs": [
    {
     "data": {
      "image/png": "[encoded data removed]",
      "text/plain": [
       "<Figure size 432x288 with 1 Axes>"
      ]
     },
     "metadata": {
      "needs_background": "light"
     },
     "output_type": "display_data"
    },
    {
     "name": "stdout",
     "output_type": "stream",
     "text": [
      "Displaying 6 of 6 matches:\n",
      "0 Phone does not work Does not allow outgoin\n",
      "S IT EATS FA 3 I m wondering if this phone is good or bad I j 4 When i got the \n",
      " is good or bad I j 4 When i got the phone it had a virus on it with 1995 She t\n",
      " it with 1995 She tells me that this phone was the best birt 1996 For someone w\n",
      "ived on time and found all 1998 This phone does everything my nexus 7 tablet d \n",
      "ything my nexus 7 tablet d 1999 This phone gives me everything I need for conn \n"
     ]
    }
   ],
   "source": [
    "text.dispersion_plot([\"phone\", \"call\", \"price\"])\n",
    "\n",
    "text.concordance(\"phone\")"
   ]
  },
  {
   "cell_type": "code",
   "execution_count": 13,
   "metadata": {},
   "outputs": [
    {
     "data": {
      "text/plain": [
       "(19, 5, 0.2631578947368421)"
      ]
     },
     "execution_count": 13,
     "metadata": {},
     "output_type": "execute_result"
    }
   ],
   "source": [
    "from nltk import FreqDist\n",
    "\n",
    "# 불용어 제외\n",
    "stopwords = ['I', 'i', 'this', 'the', 'a']\n",
    "mobile_tokens = pos_tag(retokenize.tokenize(str(mobile.Texts)))\n",
    "\n",
    "names_list = [t[0] for t in mobile_tokens if t[1] \n",
    "              == \"NN\" and t[0] not in stopwords]\n",
    "\n",
    "fd_names = FreqDist(names_list)\n",
    "\n",
    "fd_names.N(), fd_names[\"phone\"], fd_names.freq(\"phone\")"
   ]
  },
  {
   "cell_type": "code",
   "execution_count": 14,
   "metadata": {},
   "outputs": [
    {
     "data": {
      "text/plain": [
       "[('phone', 5), ('everything', 2), ('Phone', 1), ('iPhone', 1), ('virus', 1)]"
      ]
     },
     "execution_count": 14,
     "metadata": {},
     "output_type": "execute_result"
    }
   ],
   "source": [
    "fd_names.most_common(5)"
   ]
  },
  {
   "cell_type": "markdown",
   "metadata": {},
   "source": [
    "### 워드 클라우드"
   ]
  },
  {
   "cell_type": "code",
   "execution_count": 15,
   "metadata": {},
   "outputs": [
    {
     "data": {
      "image/png": "[encoded data removed]",
      "text/plain": [
       "<Figure size 432x288 with 1 Axes>"
      ]
     },
     "metadata": {
      "needs_background": "light"
     },
     "output_type": "display_data"
    }
   ],
   "source": [
    "from wordcloud import WordCloud\n",
    "\n",
    "wc = WordCloud(width=1000, height=600, background_color=\"white\", random_state=0)\n",
    "plt.imshow(wc.generate_from_frequencies(fd_names))\n",
    "plt.axis(\"off\")\n",
    "plt.show()"
   ]
  },
  {
   "cell_type": "markdown",
   "metadata": {},
   "source": [
    "### 한글 텍스트 마이닝\n",
    "- konlpy: 한글처리"
   ]
  },
  {
   "cell_type": "code",
   "execution_count": 16,
   "metadata": {},
   "outputs": [
    {
     "name": "stdout",
     "output_type": "stream",
     "text": [
      "대한민국헌법\n",
      "\n",
      "유구한 역사와 전통에 빛나는 우리 대한국민은 3·1운동으로\n"
     ]
    }
   ],
   "source": [
    "import konlpy\n",
    " \n",
    "from konlpy.corpus import kolaw\n",
    "kolaw.fileids()\n",
    "\n",
    "c = kolaw.open('constitution.txt').read()\n",
    "print(c[:40])"
   ]
  },
  {
   "cell_type": "markdown",
   "metadata": {},
   "source": [
    "- 형태소 분석기"
   ]
  },
  {
   "cell_type": "code",
   "execution_count": 17,
   "metadata": {},
   "outputs": [
    {
     "name": "stdout",
     "output_type": "stream",
     "text": [
      "한나눔 :  ['대한민국헌법', '유구', '역사', '전통', '빛', '우리', '대한국민', '3·1운동']\n",
      "오픈 소스 한국어 분석기 :  ['대한민국', '헌법', '유구', '역사', '전통', '우리', '국민', '운동']\n"
     ]
    }
   ],
   "source": [
    "from konlpy.tag import *\n",
    "\n",
    "hannanum = Hannanum()\n",
    "okt = Okt()\n",
    "\n",
    "print(\"한나눔 : \", hannanum.nouns(c[:40]))\n",
    "print(\"오픈 소스 한국어 분석기 : \", okt.nouns(c[:40]))"
   ]
  },
  {
   "cell_type": "markdown",
   "metadata": {},
   "source": [
    "- 품사 파악"
   ]
  },
  {
   "cell_type": "code",
   "execution_count": 18,
   "metadata": {},
   "outputs": [
    {
     "name": "stdout",
     "output_type": "stream",
     "text": [
      "한나눔 :  [('대한민국헌법', 'N'), ('유구', 'N'), ('하', 'X'), ('ㄴ', 'E'), ('역사', 'N'), ('와', 'J'), ('전통', 'N'), ('에', 'J'), ('빛', 'N'), ('나는', 'J'), ('우리', 'N'), ('대한국민', 'N'), ('은', 'J'), ('3·1운동', 'N'), ('으로', 'J')]\n",
      "오픈 소스 한국어 분석기 :  [('대한민국', 'Noun'), ('헌법', 'Noun'), ('\\n\\n', 'Foreign'), ('유구', 'Noun'), ('한', 'Josa'), ('역사', 'Noun'), ('와', 'Josa'), ('전통', 'Noun'), ('에', 'Josa'), ('빛나는', 'Verb'), ('우리', 'Noun'), ('대', 'Modifier'), ('한', 'Modifier'), ('국민', 'Noun'), ('은', 'Josa'), ('3', 'Number'), ('·', 'Punctuation'), ('1', 'Number'), ('운동', 'Noun'), ('으로', 'Josa')]\n",
      "{'Adjective': '형용사', 'Adverb': '부사', 'Alpha': '알파벳', 'Conjunction': '접속사', 'Determiner': '관형사', 'Eomi': '어미', 'Exclamation': '감탄사', 'Foreign': '외국어, 한자 및 기타기호', 'Hashtag': '트위터 해쉬태그', 'Josa': '조사', 'KoreanParticle': '(ex: ㅋㅋ)', 'Noun': '명사', 'Number': '숫자', 'PreEomi': '선어말어미', 'Punctuation': '구두점', 'ScreenName': '트위터 아이디', 'Suffix': '접미사', 'Unknown': '미등록어', 'Verb': '동사'}\n"
     ]
    }
   ],
   "source": [
    "print(\"한나눔 : \", hannanum.pos(c[:40]))\n",
    "print(\"오픈 소스 한국어 분석기 : \", okt.pos(c[:40]))\n",
    "print(okt.tagset)"
   ]
  },
  {
   "cell_type": "markdown",
   "metadata": {},
   "source": [
    "- 단어 빈도 "
   ]
  },
  {
   "cell_type": "code",
   "execution_count": 19,
   "metadata": {},
   "outputs": [],
   "source": [
    "## 윈도우즈 - 한글 폰트 설정 - 맑은 \n",
    "from matplotlib import font_manager, rc\n",
    "\n",
    "font_name = font_manager.FontProperties(fname=\"c:/Windows/Fonts/malgun.ttf\").get_name()\n",
    "rc('font', family=font_name)"
   ]
  },
  {
   "cell_type": "code",
   "execution_count": 20,
   "metadata": {},
   "outputs": [
    {
     "data": {
      "image/png": "[encoded data removed]",
      "text/plain": [
       "<Figure size 432x288 with 1 Axes>"
      ]
     },
     "metadata": {
      "needs_background": "light"
     },
     "output_type": "display_data"
    }
   ],
   "source": [
    "import matplotlib.pyplot as plt\n",
    "from nltk import Text\n",
    "\n",
    "kolaw = Text(okt.nouns(c), name=\"kolaw\")\n",
    "kolaw.plot(30)\n",
    "plt.show()"
   ]
  },
  {
   "cell_type": "markdown",
   "metadata": {},
   "source": [
    "- 워드 클라우드"
   ]
  },
  {
   "cell_type": "code",
   "execution_count": 21,
   "metadata": {},
   "outputs": [],
   "source": [
    "# 윈도우즈 폰트 path \n",
    "path = 'c:/Windows/Fonts/malgun.ttf'"
   ]
  },
  {
   "cell_type": "code",
   "execution_count": 22,
   "metadata": {},
   "outputs": [
    {
     "data": {
      "image/png": "[encoded data removed]",
      "text/plain": [
       "<Figure size 432x288 with 1 Axes>"
      ]
     },
     "metadata": {
      "needs_background": "light"
     },
     "output_type": "display_data"
    }
   ],
   "source": [
    "from wordcloud import WordCloud\n",
    "\n",
    "wc = WordCloud(width = 1000, height = 600,\n",
    "               background_color=\"white\", font_path = path) \n",
    "plt.imshow(wc.generate_from_frequencies(kolaw.vocab()))\n",
    "plt.axis(\"off\")\n",
    "plt.show()"
   ]
  },
  {
   "cell_type": "markdown",
   "metadata": {},
   "source": [
    "### 단어 문서 매트릭스\n",
    "- 텍스트 문서에서 문서를 구성하고 있는 단어들만 추출되었다면 추출된 단어가 문서에 등장하는 빈도 구할 수 있음\n",
    "- Bag of words 방식\n",
    "- 단어 x 문서 매트릭스가 텍스트 분석의 기본 매트릭스가 됨 -> 수치 문제로 변경\n",
    "\n",
    "#### 단어 가중치\n",
    "- CountVectorizer 활용\n",
    "- 단어 빈도(TF, Term Frequency): 문서에 해당 단어가 나타나는 빈도 수\n",
    "- 문서에 해당 단어가 등장하면 1, 아니면 0\n",
    "- TF * IDF : 단어빈도 * 역문서 빈도(단어의 희귀성)"
   ]
  },
  {
   "cell_type": "code",
   "execution_count": 23,
   "metadata": {},
   "outputs": [],
   "source": [
    "import pandas as pd\n",
    "import numpy as np\n",
    "from sklearn.feature_extraction.text import CountVectorizer\n",
    "from nltk.tokenize import RegexpTokenizer\n",
    "\n",
    "mobile = pd.read_csv('data/mobile2014.csv')\n",
    "\n",
    "# NA 값이 들어 있는 문장에 ' ' (비어 있는) 문장을 입력 \n",
    "mobile.Texts[mobile.Texts.isna()]\n",
    "mobile.Texts = mobile.Texts.fillna('')\n",
    "\n",
    "#tokenizer to remove unwanted elements from out data like symbols and numbers\n",
    "token = RegexpTokenizer(r'[a-zA-Z0-9]+')\n",
    "\n",
    "cv = CountVectorizer(\n",
    "    lowercase=True,\n",
    "    stop_words='english',\n",
    "    ngram_range = (1,1),\n",
    "    tokenizer = token.tokenize\n",
    ")\n",
    "\n",
    "text_counts= cv.fit_transform(mobile['Texts'])"
   ]
  },
  {
   "cell_type": "code",
   "execution_count": 24,
   "metadata": {},
   "outputs": [
    {
     "data": {
      "text/plain": [
       "<2000x7623 sparse matrix of type '<class 'numpy.int64'>'\n",
       "\twith 56462 stored elements in Compressed Sparse Row format>"
      ]
     },
     "execution_count": 24,
     "metadata": {},
     "output_type": "execute_result"
    }
   ],
   "source": [
    "text_counts"
   ]
  },
  {
   "cell_type": "code",
   "execution_count": 25,
   "metadata": {},
   "outputs": [
    {
     "data": {
      "text/plain": [
       "['0', '00', '000', '0000000', '00pm', '01', '01usd', '02', '03', '06']"
      ]
     },
     "execution_count": 25,
     "metadata": {},
     "output_type": "execute_result"
    }
   ],
   "source": [
    "vocab = cv.get_feature_names()\n",
    "vocab[:10]"
   ]
  },
  {
   "cell_type": "markdown",
   "metadata": {},
   "source": [
    "### 단어의 문서 전체 등장 횟수"
   ]
  },
  {
   "cell_type": "code",
   "execution_count": 26,
   "metadata": {},
   "outputs": [
    {
     "name": "stdout",
     "output_type": "stream",
     "text": [
      "[[95 38  4 ...  3  4  1]] 0\n"
     ]
    },
    {
     "data": {
      "text/html": [
       "<div>\n",
       "<style scoped>\n",
       "    .dataframe tbody tr th:only-of-type {\n",
       "        vertical-align: middle;\n",
       "    }\n",
       "\n",
       "    .dataframe tbody tr th {\n",
       "        vertical-align: top;\n",
       "    }\n",
       "\n",
       "    .dataframe thead th {\n",
       "        text-align: right;\n",
       "    }\n",
       "</style>\n",
       "<table border=\"1\" class=\"dataframe\">\n",
       "  <thead>\n",
       "    <tr style=\"text-align: right;\">\n",
       "      <th></th>\n",
       "      <th>0</th>\n",
       "      <th>00</th>\n",
       "      <th>000</th>\n",
       "      <th>0000000</th>\n",
       "      <th>00pm</th>\n",
       "      <th>01</th>\n",
       "      <th>01usd</th>\n",
       "      <th>02</th>\n",
       "      <th>03</th>\n",
       "      <th>06</th>\n",
       "      <th>...</th>\n",
       "      <th>zillion</th>\n",
       "      <th>zip</th>\n",
       "      <th>zippy</th>\n",
       "      <th>zoes</th>\n",
       "      <th>zoey</th>\n",
       "      <th>zone</th>\n",
       "      <th>zoom</th>\n",
       "      <th>zooming</th>\n",
       "      <th>zte</th>\n",
       "      <th>zvc</th>\n",
       "    </tr>\n",
       "  </thead>\n",
       "  <tbody>\n",
       "    <tr>\n",
       "      <th>0</th>\n",
       "      <td>95</td>\n",
       "      <td>38</td>\n",
       "      <td>4</td>\n",
       "      <td>6</td>\n",
       "      <td>4</td>\n",
       "      <td>6</td>\n",
       "      <td>1</td>\n",
       "      <td>2</td>\n",
       "      <td>1</td>\n",
       "      <td>1</td>\n",
       "      <td>...</td>\n",
       "      <td>1</td>\n",
       "      <td>2</td>\n",
       "      <td>3</td>\n",
       "      <td>1</td>\n",
       "      <td>1</td>\n",
       "      <td>6</td>\n",
       "      <td>4</td>\n",
       "      <td>3</td>\n",
       "      <td>4</td>\n",
       "      <td>1</td>\n",
       "    </tr>\n",
       "  </tbody>\n",
       "</table>\n",
       "<p>1 rows × 7623 columns</p>\n",
       "</div>"
      ],
      "text/plain": [
       "    0  00  000  0000000  00pm  01  01usd  02  03  06  ...  zillion  zip  \\\n",
       "0  95  38    4        6     4   6      1   2   1   1  ...        1    2   \n",
       "\n",
       "   zippy  zoes  zoey  zone  zoom  zooming  zte  zvc  \n",
       "0      3     1     1     6     4        3    4    1  \n",
       "\n",
       "[1 rows x 7623 columns]"
      ]
     },
     "execution_count": 26,
     "metadata": {},
     "output_type": "execute_result"
    }
   ],
   "source": [
    "import numpy as np\n",
    "dist = np.sum(text_counts, axis=0)\n",
    "\n",
    "for tag, count in zip(vocab, dist):\n",
    "    print(count, tag)\n",
    "\n",
    "pd.DataFrame(dist, columns=vocab)"
   ]
  },
  {
   "cell_type": "markdown",
   "metadata": {},
   "source": [
    "### 단어 문서 매트릭스"
   ]
  },
  {
   "cell_type": "code",
   "execution_count": 27,
   "metadata": {},
   "outputs": [
    {
     "data": {
      "text/html": [
       "<div>\n",
       "<style scoped>\n",
       "    .dataframe tbody tr th:only-of-type {\n",
       "        vertical-align: middle;\n",
       "    }\n",
       "\n",
       "    .dataframe tbody tr th {\n",
       "        vertical-align: top;\n",
       "    }\n",
       "\n",
       "    .dataframe thead th {\n",
       "        text-align: right;\n",
       "    }\n",
       "</style>\n",
       "<table border=\"1\" class=\"dataframe\">\n",
       "  <thead>\n",
       "    <tr style=\"text-align: right;\">\n",
       "      <th></th>\n",
       "      <th>0</th>\n",
       "      <th>00</th>\n",
       "      <th>000</th>\n",
       "      <th>0000000</th>\n",
       "      <th>00pm</th>\n",
       "      <th>01</th>\n",
       "      <th>01usd</th>\n",
       "      <th>02</th>\n",
       "      <th>03</th>\n",
       "      <th>06</th>\n",
       "      <th>...</th>\n",
       "      <th>zillion</th>\n",
       "      <th>zip</th>\n",
       "      <th>zippy</th>\n",
       "      <th>zoes</th>\n",
       "      <th>zoey</th>\n",
       "      <th>zone</th>\n",
       "      <th>zoom</th>\n",
       "      <th>zooming</th>\n",
       "      <th>zte</th>\n",
       "      <th>zvc</th>\n",
       "    </tr>\n",
       "  </thead>\n",
       "  <tbody>\n",
       "    <tr>\n",
       "      <th>0</th>\n",
       "      <td>0</td>\n",
       "      <td>0</td>\n",
       "      <td>0</td>\n",
       "      <td>0</td>\n",
       "      <td>0</td>\n",
       "      <td>0</td>\n",
       "      <td>0</td>\n",
       "      <td>0</td>\n",
       "      <td>0</td>\n",
       "      <td>0</td>\n",
       "      <td>...</td>\n",
       "      <td>0</td>\n",
       "      <td>0</td>\n",
       "      <td>0</td>\n",
       "      <td>0</td>\n",
       "      <td>0</td>\n",
       "      <td>0</td>\n",
       "      <td>0</td>\n",
       "      <td>0</td>\n",
       "      <td>0</td>\n",
       "      <td>0</td>\n",
       "    </tr>\n",
       "    <tr>\n",
       "      <th>1</th>\n",
       "      <td>0</td>\n",
       "      <td>0</td>\n",
       "      <td>0</td>\n",
       "      <td>0</td>\n",
       "      <td>0</td>\n",
       "      <td>0</td>\n",
       "      <td>0</td>\n",
       "      <td>0</td>\n",
       "      <td>0</td>\n",
       "      <td>0</td>\n",
       "      <td>...</td>\n",
       "      <td>0</td>\n",
       "      <td>0</td>\n",
       "      <td>0</td>\n",
       "      <td>0</td>\n",
       "      <td>0</td>\n",
       "      <td>0</td>\n",
       "      <td>0</td>\n",
       "      <td>0</td>\n",
       "      <td>0</td>\n",
       "      <td>0</td>\n",
       "    </tr>\n",
       "    <tr>\n",
       "      <th>2</th>\n",
       "      <td>0</td>\n",
       "      <td>0</td>\n",
       "      <td>0</td>\n",
       "      <td>0</td>\n",
       "      <td>0</td>\n",
       "      <td>0</td>\n",
       "      <td>0</td>\n",
       "      <td>0</td>\n",
       "      <td>0</td>\n",
       "      <td>0</td>\n",
       "      <td>...</td>\n",
       "      <td>0</td>\n",
       "      <td>0</td>\n",
       "      <td>0</td>\n",
       "      <td>0</td>\n",
       "      <td>0</td>\n",
       "      <td>0</td>\n",
       "      <td>0</td>\n",
       "      <td>0</td>\n",
       "      <td>0</td>\n",
       "      <td>0</td>\n",
       "    </tr>\n",
       "    <tr>\n",
       "      <th>3</th>\n",
       "      <td>0</td>\n",
       "      <td>0</td>\n",
       "      <td>0</td>\n",
       "      <td>0</td>\n",
       "      <td>0</td>\n",
       "      <td>0</td>\n",
       "      <td>0</td>\n",
       "      <td>0</td>\n",
       "      <td>0</td>\n",
       "      <td>0</td>\n",
       "      <td>...</td>\n",
       "      <td>0</td>\n",
       "      <td>0</td>\n",
       "      <td>0</td>\n",
       "      <td>0</td>\n",
       "      <td>0</td>\n",
       "      <td>0</td>\n",
       "      <td>0</td>\n",
       "      <td>0</td>\n",
       "      <td>0</td>\n",
       "      <td>0</td>\n",
       "    </tr>\n",
       "    <tr>\n",
       "      <th>4</th>\n",
       "      <td>0</td>\n",
       "      <td>0</td>\n",
       "      <td>0</td>\n",
       "      <td>0</td>\n",
       "      <td>0</td>\n",
       "      <td>0</td>\n",
       "      <td>0</td>\n",
       "      <td>0</td>\n",
       "      <td>0</td>\n",
       "      <td>0</td>\n",
       "      <td>...</td>\n",
       "      <td>0</td>\n",
       "      <td>0</td>\n",
       "      <td>0</td>\n",
       "      <td>0</td>\n",
       "      <td>0</td>\n",
       "      <td>0</td>\n",
       "      <td>0</td>\n",
       "      <td>0</td>\n",
       "      <td>0</td>\n",
       "      <td>0</td>\n",
       "    </tr>\n",
       "  </tbody>\n",
       "</table>\n",
       "<p>5 rows × 7623 columns</p>\n",
       "</div>"
      ],
      "text/plain": [
       "   0  00  000  0000000  00pm  01  01usd  02  03  06  ...  zillion  zip  zippy  \\\n",
       "0  0   0    0        0     0   0      0   0   0   0  ...        0    0      0   \n",
       "1  0   0    0        0     0   0      0   0   0   0  ...        0    0      0   \n",
       "2  0   0    0        0     0   0      0   0   0   0  ...        0    0      0   \n",
       "3  0   0    0        0     0   0      0   0   0   0  ...        0    0      0   \n",
       "4  0   0    0        0     0   0      0   0   0   0  ...        0    0      0   \n",
       "\n",
       "   zoes  zoey  zone  zoom  zooming  zte  zvc  \n",
       "0     0     0     0     0        0    0    0  \n",
       "1     0     0     0     0        0    0    0  \n",
       "2     0     0     0     0        0    0    0  \n",
       "3     0     0     0     0        0    0    0  \n",
       "4     0     0     0     0        0    0    0  \n",
       "\n",
       "[5 rows x 7623 columns]"
      ]
     },
     "execution_count": 27,
     "metadata": {},
     "output_type": "execute_result"
    }
   ],
   "source": [
    "pd.DataFrame(text_counts[:100].toarray(), columns=vocab).head()"
   ]
  },
  {
   "cell_type": "markdown",
   "metadata": {},
   "source": [
    "### binary 단어 문서 매트릭스 => binary = True"
   ]
  },
  {
   "cell_type": "code",
   "execution_count": 28,
   "metadata": {},
   "outputs": [],
   "source": [
    "cv_binary = CountVectorizer(\n",
    "    lowercase=True,\n",
    "    stop_words='english',\n",
    "    ngram_range = (1,1),\n",
    "    binary = True,\n",
    "    tokenizer = token.tokenize\n",
    ")\n",
    "\n",
    "text_counts= cv_binary.fit_transform(mobile['Texts'])"
   ]
  },
  {
   "cell_type": "code",
   "execution_count": 29,
   "metadata": {},
   "outputs": [
    {
     "data": {
      "text/html": [
       "<div>\n",
       "<style scoped>\n",
       "    .dataframe tbody tr th:only-of-type {\n",
       "        vertical-align: middle;\n",
       "    }\n",
       "\n",
       "    .dataframe tbody tr th {\n",
       "        vertical-align: top;\n",
       "    }\n",
       "\n",
       "    .dataframe thead th {\n",
       "        text-align: right;\n",
       "    }\n",
       "</style>\n",
       "<table border=\"1\" class=\"dataframe\">\n",
       "  <thead>\n",
       "    <tr style=\"text-align: right;\">\n",
       "      <th></th>\n",
       "      <th>0</th>\n",
       "      <th>00</th>\n",
       "      <th>000</th>\n",
       "      <th>0000000</th>\n",
       "      <th>00pm</th>\n",
       "      <th>01</th>\n",
       "      <th>01usd</th>\n",
       "      <th>02</th>\n",
       "      <th>03</th>\n",
       "      <th>06</th>\n",
       "      <th>...</th>\n",
       "      <th>zillion</th>\n",
       "      <th>zip</th>\n",
       "      <th>zippy</th>\n",
       "      <th>zoes</th>\n",
       "      <th>zoey</th>\n",
       "      <th>zone</th>\n",
       "      <th>zoom</th>\n",
       "      <th>zooming</th>\n",
       "      <th>zte</th>\n",
       "      <th>zvc</th>\n",
       "    </tr>\n",
       "  </thead>\n",
       "  <tbody>\n",
       "    <tr>\n",
       "      <th>0</th>\n",
       "      <td>0</td>\n",
       "      <td>0</td>\n",
       "      <td>0</td>\n",
       "      <td>0</td>\n",
       "      <td>0</td>\n",
       "      <td>0</td>\n",
       "      <td>0</td>\n",
       "      <td>0</td>\n",
       "      <td>0</td>\n",
       "      <td>0</td>\n",
       "      <td>...</td>\n",
       "      <td>0</td>\n",
       "      <td>0</td>\n",
       "      <td>0</td>\n",
       "      <td>0</td>\n",
       "      <td>0</td>\n",
       "      <td>0</td>\n",
       "      <td>0</td>\n",
       "      <td>0</td>\n",
       "      <td>0</td>\n",
       "      <td>0</td>\n",
       "    </tr>\n",
       "    <tr>\n",
       "      <th>1</th>\n",
       "      <td>0</td>\n",
       "      <td>0</td>\n",
       "      <td>0</td>\n",
       "      <td>0</td>\n",
       "      <td>0</td>\n",
       "      <td>0</td>\n",
       "      <td>0</td>\n",
       "      <td>0</td>\n",
       "      <td>0</td>\n",
       "      <td>0</td>\n",
       "      <td>...</td>\n",
       "      <td>0</td>\n",
       "      <td>0</td>\n",
       "      <td>0</td>\n",
       "      <td>0</td>\n",
       "      <td>0</td>\n",
       "      <td>0</td>\n",
       "      <td>0</td>\n",
       "      <td>0</td>\n",
       "      <td>0</td>\n",
       "      <td>0</td>\n",
       "    </tr>\n",
       "    <tr>\n",
       "      <th>2</th>\n",
       "      <td>0</td>\n",
       "      <td>0</td>\n",
       "      <td>0</td>\n",
       "      <td>0</td>\n",
       "      <td>0</td>\n",
       "      <td>0</td>\n",
       "      <td>0</td>\n",
       "      <td>0</td>\n",
       "      <td>0</td>\n",
       "      <td>0</td>\n",
       "      <td>...</td>\n",
       "      <td>0</td>\n",
       "      <td>0</td>\n",
       "      <td>0</td>\n",
       "      <td>0</td>\n",
       "      <td>0</td>\n",
       "      <td>0</td>\n",
       "      <td>0</td>\n",
       "      <td>0</td>\n",
       "      <td>0</td>\n",
       "      <td>0</td>\n",
       "    </tr>\n",
       "    <tr>\n",
       "      <th>3</th>\n",
       "      <td>0</td>\n",
       "      <td>0</td>\n",
       "      <td>0</td>\n",
       "      <td>0</td>\n",
       "      <td>0</td>\n",
       "      <td>0</td>\n",
       "      <td>0</td>\n",
       "      <td>0</td>\n",
       "      <td>0</td>\n",
       "      <td>0</td>\n",
       "      <td>...</td>\n",
       "      <td>0</td>\n",
       "      <td>0</td>\n",
       "      <td>0</td>\n",
       "      <td>0</td>\n",
       "      <td>0</td>\n",
       "      <td>0</td>\n",
       "      <td>0</td>\n",
       "      <td>0</td>\n",
       "      <td>0</td>\n",
       "      <td>0</td>\n",
       "    </tr>\n",
       "    <tr>\n",
       "      <th>4</th>\n",
       "      <td>1</td>\n",
       "      <td>0</td>\n",
       "      <td>0</td>\n",
       "      <td>0</td>\n",
       "      <td>0</td>\n",
       "      <td>0</td>\n",
       "      <td>0</td>\n",
       "      <td>0</td>\n",
       "      <td>0</td>\n",
       "      <td>0</td>\n",
       "      <td>...</td>\n",
       "      <td>0</td>\n",
       "      <td>0</td>\n",
       "      <td>0</td>\n",
       "      <td>0</td>\n",
       "      <td>0</td>\n",
       "      <td>0</td>\n",
       "      <td>0</td>\n",
       "      <td>0</td>\n",
       "      <td>0</td>\n",
       "      <td>0</td>\n",
       "    </tr>\n",
       "    <tr>\n",
       "      <th>5</th>\n",
       "      <td>1</td>\n",
       "      <td>0</td>\n",
       "      <td>0</td>\n",
       "      <td>0</td>\n",
       "      <td>0</td>\n",
       "      <td>0</td>\n",
       "      <td>0</td>\n",
       "      <td>0</td>\n",
       "      <td>0</td>\n",
       "      <td>0</td>\n",
       "      <td>...</td>\n",
       "      <td>0</td>\n",
       "      <td>0</td>\n",
       "      <td>0</td>\n",
       "      <td>0</td>\n",
       "      <td>0</td>\n",
       "      <td>0</td>\n",
       "      <td>0</td>\n",
       "      <td>0</td>\n",
       "      <td>0</td>\n",
       "      <td>0</td>\n",
       "    </tr>\n",
       "    <tr>\n",
       "      <th>6</th>\n",
       "      <td>0</td>\n",
       "      <td>0</td>\n",
       "      <td>0</td>\n",
       "      <td>0</td>\n",
       "      <td>0</td>\n",
       "      <td>0</td>\n",
       "      <td>0</td>\n",
       "      <td>0</td>\n",
       "      <td>0</td>\n",
       "      <td>0</td>\n",
       "      <td>...</td>\n",
       "      <td>0</td>\n",
       "      <td>0</td>\n",
       "      <td>0</td>\n",
       "      <td>0</td>\n",
       "      <td>0</td>\n",
       "      <td>0</td>\n",
       "      <td>0</td>\n",
       "      <td>0</td>\n",
       "      <td>0</td>\n",
       "      <td>0</td>\n",
       "    </tr>\n",
       "    <tr>\n",
       "      <th>7</th>\n",
       "      <td>0</td>\n",
       "      <td>0</td>\n",
       "      <td>0</td>\n",
       "      <td>0</td>\n",
       "      <td>0</td>\n",
       "      <td>0</td>\n",
       "      <td>0</td>\n",
       "      <td>0</td>\n",
       "      <td>0</td>\n",
       "      <td>0</td>\n",
       "      <td>...</td>\n",
       "      <td>0</td>\n",
       "      <td>0</td>\n",
       "      <td>0</td>\n",
       "      <td>0</td>\n",
       "      <td>0</td>\n",
       "      <td>0</td>\n",
       "      <td>0</td>\n",
       "      <td>0</td>\n",
       "      <td>0</td>\n",
       "      <td>0</td>\n",
       "    </tr>\n",
       "    <tr>\n",
       "      <th>8</th>\n",
       "      <td>0</td>\n",
       "      <td>0</td>\n",
       "      <td>0</td>\n",
       "      <td>0</td>\n",
       "      <td>0</td>\n",
       "      <td>0</td>\n",
       "      <td>0</td>\n",
       "      <td>0</td>\n",
       "      <td>0</td>\n",
       "      <td>0</td>\n",
       "      <td>...</td>\n",
       "      <td>0</td>\n",
       "      <td>0</td>\n",
       "      <td>0</td>\n",
       "      <td>0</td>\n",
       "      <td>0</td>\n",
       "      <td>0</td>\n",
       "      <td>0</td>\n",
       "      <td>0</td>\n",
       "      <td>0</td>\n",
       "      <td>0</td>\n",
       "    </tr>\n",
       "    <tr>\n",
       "      <th>9</th>\n",
       "      <td>0</td>\n",
       "      <td>0</td>\n",
       "      <td>0</td>\n",
       "      <td>0</td>\n",
       "      <td>0</td>\n",
       "      <td>0</td>\n",
       "      <td>0</td>\n",
       "      <td>0</td>\n",
       "      <td>0</td>\n",
       "      <td>0</td>\n",
       "      <td>...</td>\n",
       "      <td>0</td>\n",
       "      <td>0</td>\n",
       "      <td>0</td>\n",
       "      <td>0</td>\n",
       "      <td>0</td>\n",
       "      <td>0</td>\n",
       "      <td>0</td>\n",
       "      <td>0</td>\n",
       "      <td>0</td>\n",
       "      <td>0</td>\n",
       "    </tr>\n",
       "  </tbody>\n",
       "</table>\n",
       "<p>10 rows × 7623 columns</p>\n",
       "</div>"
      ],
      "text/plain": [
       "   0  00  000  0000000  00pm  01  01usd  02  03  06  ...  zillion  zip  zippy  \\\n",
       "0  0   0    0        0     0   0      0   0   0   0  ...        0    0      0   \n",
       "1  0   0    0        0     0   0      0   0   0   0  ...        0    0      0   \n",
       "2  0   0    0        0     0   0      0   0   0   0  ...        0    0      0   \n",
       "3  0   0    0        0     0   0      0   0   0   0  ...        0    0      0   \n",
       "4  1   0    0        0     0   0      0   0   0   0  ...        0    0      0   \n",
       "5  1   0    0        0     0   0      0   0   0   0  ...        0    0      0   \n",
       "6  0   0    0        0     0   0      0   0   0   0  ...        0    0      0   \n",
       "7  0   0    0        0     0   0      0   0   0   0  ...        0    0      0   \n",
       "8  0   0    0        0     0   0      0   0   0   0  ...        0    0      0   \n",
       "9  0   0    0        0     0   0      0   0   0   0  ...        0    0      0   \n",
       "\n",
       "   zoes  zoey  zone  zoom  zooming  zte  zvc  \n",
       "0     0     0     0     0        0    0    0  \n",
       "1     0     0     0     0        0    0    0  \n",
       "2     0     0     0     0        0    0    0  \n",
       "3     0     0     0     0        0    0    0  \n",
       "4     0     0     0     0        0    0    0  \n",
       "5     0     0     0     0        0    0    0  \n",
       "6     0     0     0     0        0    0    0  \n",
       "7     0     0     0     0        0    0    0  \n",
       "8     0     0     0     0        0    0    0  \n",
       "9     0     0     0     0        0    0    0  \n",
       "\n",
       "[10 rows x 7623 columns]"
      ]
     },
     "execution_count": 29,
     "metadata": {},
     "output_type": "execute_result"
    }
   ],
   "source": [
    "vocab = cv_binary.get_feature_names()\n",
    "\n",
    "pd.DataFrame(text_counts[910:920].toarray(), columns=vocab)"
   ]
  },
  {
   "cell_type": "markdown",
   "metadata": {},
   "source": [
    "### TF*IDF "
   ]
  },
  {
   "cell_type": "code",
   "execution_count": 30,
   "metadata": {},
   "outputs": [],
   "source": [
    "from sklearn.feature_extraction.text import TfidfVectorizer\n",
    "\n",
    "tfidf=TfidfVectorizer(\n",
    "    lowercase=True,\n",
    "    stop_words='english',\n",
    "    ngram_range = (1,1),\n",
    "    tokenizer = token.tokenize\n",
    ")\n",
    "\n",
    "text_tfidf= tfidf.fit_transform(mobile['Texts'])"
   ]
  },
  {
   "cell_type": "code",
   "execution_count": 31,
   "metadata": {},
   "outputs": [
    {
     "data": {
      "text/plain": [
       "['0', '00', '000', '0000000', '00pm', '01', '01usd', '02', '03', '06']"
      ]
     },
     "execution_count": 31,
     "metadata": {},
     "output_type": "execute_result"
    }
   ],
   "source": [
    "vocab = tfidf.get_feature_names()\n",
    "vocab[:10]"
   ]
  },
  {
   "cell_type": "code",
   "execution_count": 32,
   "metadata": {},
   "outputs": [
    {
     "data": {
      "text/html": [
       "<div>\n",
       "<style scoped>\n",
       "    .dataframe tbody tr th:only-of-type {\n",
       "        vertical-align: middle;\n",
       "    }\n",
       "\n",
       "    .dataframe tbody tr th {\n",
       "        vertical-align: top;\n",
       "    }\n",
       "\n",
       "    .dataframe thead th {\n",
       "        text-align: right;\n",
       "    }\n",
       "</style>\n",
       "<table border=\"1\" class=\"dataframe\">\n",
       "  <thead>\n",
       "    <tr style=\"text-align: right;\">\n",
       "      <th></th>\n",
       "      <th>0</th>\n",
       "      <th>00</th>\n",
       "      <th>000</th>\n",
       "      <th>0000000</th>\n",
       "      <th>00pm</th>\n",
       "      <th>01</th>\n",
       "      <th>01usd</th>\n",
       "      <th>02</th>\n",
       "      <th>03</th>\n",
       "      <th>06</th>\n",
       "      <th>...</th>\n",
       "      <th>zillion</th>\n",
       "      <th>zip</th>\n",
       "      <th>zippy</th>\n",
       "      <th>zoes</th>\n",
       "      <th>zoey</th>\n",
       "      <th>zone</th>\n",
       "      <th>zoom</th>\n",
       "      <th>zooming</th>\n",
       "      <th>zte</th>\n",
       "      <th>zvc</th>\n",
       "    </tr>\n",
       "  </thead>\n",
       "  <tbody>\n",
       "    <tr>\n",
       "      <th>0</th>\n",
       "      <td>0.000000</td>\n",
       "      <td>0.0</td>\n",
       "      <td>0.0</td>\n",
       "      <td>0.0</td>\n",
       "      <td>0.0</td>\n",
       "      <td>0.0</td>\n",
       "      <td>0.0</td>\n",
       "      <td>0.0</td>\n",
       "      <td>0.0</td>\n",
       "      <td>0.0</td>\n",
       "      <td>...</td>\n",
       "      <td>0.0</td>\n",
       "      <td>0.0</td>\n",
       "      <td>0.0</td>\n",
       "      <td>0.0</td>\n",
       "      <td>0.0</td>\n",
       "      <td>0.0</td>\n",
       "      <td>0.0</td>\n",
       "      <td>0.0</td>\n",
       "      <td>0.0</td>\n",
       "      <td>0.0</td>\n",
       "    </tr>\n",
       "    <tr>\n",
       "      <th>1</th>\n",
       "      <td>0.000000</td>\n",
       "      <td>0.0</td>\n",
       "      <td>0.0</td>\n",
       "      <td>0.0</td>\n",
       "      <td>0.0</td>\n",
       "      <td>0.0</td>\n",
       "      <td>0.0</td>\n",
       "      <td>0.0</td>\n",
       "      <td>0.0</td>\n",
       "      <td>0.0</td>\n",
       "      <td>...</td>\n",
       "      <td>0.0</td>\n",
       "      <td>0.0</td>\n",
       "      <td>0.0</td>\n",
       "      <td>0.0</td>\n",
       "      <td>0.0</td>\n",
       "      <td>0.0</td>\n",
       "      <td>0.0</td>\n",
       "      <td>0.0</td>\n",
       "      <td>0.0</td>\n",
       "      <td>0.0</td>\n",
       "    </tr>\n",
       "    <tr>\n",
       "      <th>2</th>\n",
       "      <td>0.000000</td>\n",
       "      <td>0.0</td>\n",
       "      <td>0.0</td>\n",
       "      <td>0.0</td>\n",
       "      <td>0.0</td>\n",
       "      <td>0.0</td>\n",
       "      <td>0.0</td>\n",
       "      <td>0.0</td>\n",
       "      <td>0.0</td>\n",
       "      <td>0.0</td>\n",
       "      <td>...</td>\n",
       "      <td>0.0</td>\n",
       "      <td>0.0</td>\n",
       "      <td>0.0</td>\n",
       "      <td>0.0</td>\n",
       "      <td>0.0</td>\n",
       "      <td>0.0</td>\n",
       "      <td>0.0</td>\n",
       "      <td>0.0</td>\n",
       "      <td>0.0</td>\n",
       "      <td>0.0</td>\n",
       "    </tr>\n",
       "    <tr>\n",
       "      <th>3</th>\n",
       "      <td>0.000000</td>\n",
       "      <td>0.0</td>\n",
       "      <td>0.0</td>\n",
       "      <td>0.0</td>\n",
       "      <td>0.0</td>\n",
       "      <td>0.0</td>\n",
       "      <td>0.0</td>\n",
       "      <td>0.0</td>\n",
       "      <td>0.0</td>\n",
       "      <td>0.0</td>\n",
       "      <td>...</td>\n",
       "      <td>0.0</td>\n",
       "      <td>0.0</td>\n",
       "      <td>0.0</td>\n",
       "      <td>0.0</td>\n",
       "      <td>0.0</td>\n",
       "      <td>0.0</td>\n",
       "      <td>0.0</td>\n",
       "      <td>0.0</td>\n",
       "      <td>0.0</td>\n",
       "      <td>0.0</td>\n",
       "    </tr>\n",
       "    <tr>\n",
       "      <th>4</th>\n",
       "      <td>0.133697</td>\n",
       "      <td>0.0</td>\n",
       "      <td>0.0</td>\n",
       "      <td>0.0</td>\n",
       "      <td>0.0</td>\n",
       "      <td>0.0</td>\n",
       "      <td>0.0</td>\n",
       "      <td>0.0</td>\n",
       "      <td>0.0</td>\n",
       "      <td>0.0</td>\n",
       "      <td>...</td>\n",
       "      <td>0.0</td>\n",
       "      <td>0.0</td>\n",
       "      <td>0.0</td>\n",
       "      <td>0.0</td>\n",
       "      <td>0.0</td>\n",
       "      <td>0.0</td>\n",
       "      <td>0.0</td>\n",
       "      <td>0.0</td>\n",
       "      <td>0.0</td>\n",
       "      <td>0.0</td>\n",
       "    </tr>\n",
       "    <tr>\n",
       "      <th>5</th>\n",
       "      <td>0.133697</td>\n",
       "      <td>0.0</td>\n",
       "      <td>0.0</td>\n",
       "      <td>0.0</td>\n",
       "      <td>0.0</td>\n",
       "      <td>0.0</td>\n",
       "      <td>0.0</td>\n",
       "      <td>0.0</td>\n",
       "      <td>0.0</td>\n",
       "      <td>0.0</td>\n",
       "      <td>...</td>\n",
       "      <td>0.0</td>\n",
       "      <td>0.0</td>\n",
       "      <td>0.0</td>\n",
       "      <td>0.0</td>\n",
       "      <td>0.0</td>\n",
       "      <td>0.0</td>\n",
       "      <td>0.0</td>\n",
       "      <td>0.0</td>\n",
       "      <td>0.0</td>\n",
       "      <td>0.0</td>\n",
       "    </tr>\n",
       "    <tr>\n",
       "      <th>6</th>\n",
       "      <td>0.000000</td>\n",
       "      <td>0.0</td>\n",
       "      <td>0.0</td>\n",
       "      <td>0.0</td>\n",
       "      <td>0.0</td>\n",
       "      <td>0.0</td>\n",
       "      <td>0.0</td>\n",
       "      <td>0.0</td>\n",
       "      <td>0.0</td>\n",
       "      <td>0.0</td>\n",
       "      <td>...</td>\n",
       "      <td>0.0</td>\n",
       "      <td>0.0</td>\n",
       "      <td>0.0</td>\n",
       "      <td>0.0</td>\n",
       "      <td>0.0</td>\n",
       "      <td>0.0</td>\n",
       "      <td>0.0</td>\n",
       "      <td>0.0</td>\n",
       "      <td>0.0</td>\n",
       "      <td>0.0</td>\n",
       "    </tr>\n",
       "    <tr>\n",
       "      <th>7</th>\n",
       "      <td>0.000000</td>\n",
       "      <td>0.0</td>\n",
       "      <td>0.0</td>\n",
       "      <td>0.0</td>\n",
       "      <td>0.0</td>\n",
       "      <td>0.0</td>\n",
       "      <td>0.0</td>\n",
       "      <td>0.0</td>\n",
       "      <td>0.0</td>\n",
       "      <td>0.0</td>\n",
       "      <td>...</td>\n",
       "      <td>0.0</td>\n",
       "      <td>0.0</td>\n",
       "      <td>0.0</td>\n",
       "      <td>0.0</td>\n",
       "      <td>0.0</td>\n",
       "      <td>0.0</td>\n",
       "      <td>0.0</td>\n",
       "      <td>0.0</td>\n",
       "      <td>0.0</td>\n",
       "      <td>0.0</td>\n",
       "    </tr>\n",
       "    <tr>\n",
       "      <th>8</th>\n",
       "      <td>0.000000</td>\n",
       "      <td>0.0</td>\n",
       "      <td>0.0</td>\n",
       "      <td>0.0</td>\n",
       "      <td>0.0</td>\n",
       "      <td>0.0</td>\n",
       "      <td>0.0</td>\n",
       "      <td>0.0</td>\n",
       "      <td>0.0</td>\n",
       "      <td>0.0</td>\n",
       "      <td>...</td>\n",
       "      <td>0.0</td>\n",
       "      <td>0.0</td>\n",
       "      <td>0.0</td>\n",
       "      <td>0.0</td>\n",
       "      <td>0.0</td>\n",
       "      <td>0.0</td>\n",
       "      <td>0.0</td>\n",
       "      <td>0.0</td>\n",
       "      <td>0.0</td>\n",
       "      <td>0.0</td>\n",
       "    </tr>\n",
       "    <tr>\n",
       "      <th>9</th>\n",
       "      <td>0.000000</td>\n",
       "      <td>0.0</td>\n",
       "      <td>0.0</td>\n",
       "      <td>0.0</td>\n",
       "      <td>0.0</td>\n",
       "      <td>0.0</td>\n",
       "      <td>0.0</td>\n",
       "      <td>0.0</td>\n",
       "      <td>0.0</td>\n",
       "      <td>0.0</td>\n",
       "      <td>...</td>\n",
       "      <td>0.0</td>\n",
       "      <td>0.0</td>\n",
       "      <td>0.0</td>\n",
       "      <td>0.0</td>\n",
       "      <td>0.0</td>\n",
       "      <td>0.0</td>\n",
       "      <td>0.0</td>\n",
       "      <td>0.0</td>\n",
       "      <td>0.0</td>\n",
       "      <td>0.0</td>\n",
       "    </tr>\n",
       "  </tbody>\n",
       "</table>\n",
       "<p>10 rows × 7623 columns</p>\n",
       "</div>"
      ],
      "text/plain": [
       "          0   00  000  0000000  00pm   01  01usd   02   03   06  ...  zillion  \\\n",
       "0  0.000000  0.0  0.0      0.0   0.0  0.0    0.0  0.0  0.0  0.0  ...      0.0   \n",
       "1  0.000000  0.0  0.0      0.0   0.0  0.0    0.0  0.0  0.0  0.0  ...      0.0   \n",
       "2  0.000000  0.0  0.0      0.0   0.0  0.0    0.0  0.0  0.0  0.0  ...      0.0   \n",
       "3  0.000000  0.0  0.0      0.0   0.0  0.0    0.0  0.0  0.0  0.0  ...      0.0   \n",
       "4  0.133697  0.0  0.0      0.0   0.0  0.0    0.0  0.0  0.0  0.0  ...      0.0   \n",
       "5  0.133697  0.0  0.0      0.0   0.0  0.0    0.0  0.0  0.0  0.0  ...      0.0   \n",
       "6  0.000000  0.0  0.0      0.0   0.0  0.0    0.0  0.0  0.0  0.0  ...      0.0   \n",
       "7  0.000000  0.0  0.0      0.0   0.0  0.0    0.0  0.0  0.0  0.0  ...      0.0   \n",
       "8  0.000000  0.0  0.0      0.0   0.0  0.0    0.0  0.0  0.0  0.0  ...      0.0   \n",
       "9  0.000000  0.0  0.0      0.0   0.0  0.0    0.0  0.0  0.0  0.0  ...      0.0   \n",
       "\n",
       "   zip  zippy  zoes  zoey  zone  zoom  zooming  zte  zvc  \n",
       "0  0.0    0.0   0.0   0.0   0.0   0.0      0.0  0.0  0.0  \n",
       "1  0.0    0.0   0.0   0.0   0.0   0.0      0.0  0.0  0.0  \n",
       "2  0.0    0.0   0.0   0.0   0.0   0.0      0.0  0.0  0.0  \n",
       "3  0.0    0.0   0.0   0.0   0.0   0.0      0.0  0.0  0.0  \n",
       "4  0.0    0.0   0.0   0.0   0.0   0.0      0.0  0.0  0.0  \n",
       "5  0.0    0.0   0.0   0.0   0.0   0.0      0.0  0.0  0.0  \n",
       "6  0.0    0.0   0.0   0.0   0.0   0.0      0.0  0.0  0.0  \n",
       "7  0.0    0.0   0.0   0.0   0.0   0.0      0.0  0.0  0.0  \n",
       "8  0.0    0.0   0.0   0.0   0.0   0.0      0.0  0.0  0.0  \n",
       "9  0.0    0.0   0.0   0.0   0.0   0.0      0.0  0.0  0.0  \n",
       "\n",
       "[10 rows x 7623 columns]"
      ]
     },
     "execution_count": 32,
     "metadata": {},
     "output_type": "execute_result"
    }
   ],
   "source": [
    "pd.DataFrame(text_tfidf[910:920].toarray(), columns=vocab)"
   ]
  },
  {
   "cell_type": "markdown",
   "metadata": {},
   "source": [
    "### N gram\n",
    "- uni-gram: 한 단어씩만 활용하는 경우\n",
    "- bi-gram: 인접한 두 단어를 고려하는 경우\n",
    "- N-gram: 인접한 N개의 단어를 분석 대상으로 삼음"
   ]
  },
  {
   "cell_type": "code",
   "execution_count": 33,
   "metadata": {},
   "outputs": [],
   "source": [
    "from sklearn.feature_extraction.text import TfidfVectorizer\n",
    "\n",
    "tfidf=TfidfVectorizer(\n",
    "    lowercase=True,\n",
    "    stop_words='english',\n",
    "    ngram_range = (1,2),\n",
    "    tokenizer = token.tokenize\n",
    ")\n",
    "\n",
    "text_tfidf= tfidf.fit_transform(mobile['Texts'])"
   ]
  },
  {
   "cell_type": "code",
   "execution_count": 34,
   "metadata": {},
   "outputs": [
    {
     "data": {
      "text/plain": [
       "['0',\n",
       " '0 0',\n",
       " '0 01',\n",
       " '0 100',\n",
       " '0 1080p',\n",
       " '0 115',\n",
       " '0 1in',\n",
       " '0 24',\n",
       " '0 30',\n",
       " '0 31']"
      ]
     },
     "execution_count": 34,
     "metadata": {},
     "output_type": "execute_result"
    }
   ],
   "source": [
    "vocab = tfidf.get_feature_names()\n",
    "vocab[:10]"
   ]
  },
  {
   "cell_type": "code",
   "execution_count": 35,
   "metadata": {},
   "outputs": [
    {
     "data": {
      "text/html": [
       "<div>\n",
       "<style scoped>\n",
       "    .dataframe tbody tr th:only-of-type {\n",
       "        vertical-align: middle;\n",
       "    }\n",
       "\n",
       "    .dataframe tbody tr th {\n",
       "        vertical-align: top;\n",
       "    }\n",
       "\n",
       "    .dataframe thead th {\n",
       "        text-align: right;\n",
       "    }\n",
       "</style>\n",
       "<table border=\"1\" class=\"dataframe\">\n",
       "  <thead>\n",
       "    <tr style=\"text-align: right;\">\n",
       "      <th></th>\n",
       "      <th>0</th>\n",
       "      <th>0 0</th>\n",
       "      <th>0 01</th>\n",
       "      <th>0 100</th>\n",
       "      <th>0 1080p</th>\n",
       "      <th>0 115</th>\n",
       "      <th>0 1in</th>\n",
       "      <th>0 24</th>\n",
       "      <th>0 30</th>\n",
       "      <th>0 31</th>\n",
       "      <th>...</th>\n",
       "      <th>zooming</th>\n",
       "      <th>zooming photo</th>\n",
       "      <th>zooming photos</th>\n",
       "      <th>zte</th>\n",
       "      <th>zte illustra</th>\n",
       "      <th>zte os</th>\n",
       "      <th>zte phone</th>\n",
       "      <th>zte valet</th>\n",
       "      <th>zvc</th>\n",
       "      <th>zvc update</th>\n",
       "    </tr>\n",
       "  </thead>\n",
       "  <tbody>\n",
       "    <tr>\n",
       "      <th>0</th>\n",
       "      <td>0.000000</td>\n",
       "      <td>0.0</td>\n",
       "      <td>0.0</td>\n",
       "      <td>0.0</td>\n",
       "      <td>0.0</td>\n",
       "      <td>0.0</td>\n",
       "      <td>0.0</td>\n",
       "      <td>0.0</td>\n",
       "      <td>0.0</td>\n",
       "      <td>0.0</td>\n",
       "      <td>...</td>\n",
       "      <td>0.0</td>\n",
       "      <td>0.0</td>\n",
       "      <td>0.0</td>\n",
       "      <td>0.0</td>\n",
       "      <td>0.0</td>\n",
       "      <td>0.0</td>\n",
       "      <td>0.0</td>\n",
       "      <td>0.0</td>\n",
       "      <td>0.0</td>\n",
       "      <td>0.0</td>\n",
       "    </tr>\n",
       "    <tr>\n",
       "      <th>1</th>\n",
       "      <td>0.000000</td>\n",
       "      <td>0.0</td>\n",
       "      <td>0.0</td>\n",
       "      <td>0.0</td>\n",
       "      <td>0.0</td>\n",
       "      <td>0.0</td>\n",
       "      <td>0.0</td>\n",
       "      <td>0.0</td>\n",
       "      <td>0.0</td>\n",
       "      <td>0.0</td>\n",
       "      <td>...</td>\n",
       "      <td>0.0</td>\n",
       "      <td>0.0</td>\n",
       "      <td>0.0</td>\n",
       "      <td>0.0</td>\n",
       "      <td>0.0</td>\n",
       "      <td>0.0</td>\n",
       "      <td>0.0</td>\n",
       "      <td>0.0</td>\n",
       "      <td>0.0</td>\n",
       "      <td>0.0</td>\n",
       "    </tr>\n",
       "    <tr>\n",
       "      <th>2</th>\n",
       "      <td>0.000000</td>\n",
       "      <td>0.0</td>\n",
       "      <td>0.0</td>\n",
       "      <td>0.0</td>\n",
       "      <td>0.0</td>\n",
       "      <td>0.0</td>\n",
       "      <td>0.0</td>\n",
       "      <td>0.0</td>\n",
       "      <td>0.0</td>\n",
       "      <td>0.0</td>\n",
       "      <td>...</td>\n",
       "      <td>0.0</td>\n",
       "      <td>0.0</td>\n",
       "      <td>0.0</td>\n",
       "      <td>0.0</td>\n",
       "      <td>0.0</td>\n",
       "      <td>0.0</td>\n",
       "      <td>0.0</td>\n",
       "      <td>0.0</td>\n",
       "      <td>0.0</td>\n",
       "      <td>0.0</td>\n",
       "    </tr>\n",
       "    <tr>\n",
       "      <th>3</th>\n",
       "      <td>0.000000</td>\n",
       "      <td>0.0</td>\n",
       "      <td>0.0</td>\n",
       "      <td>0.0</td>\n",
       "      <td>0.0</td>\n",
       "      <td>0.0</td>\n",
       "      <td>0.0</td>\n",
       "      <td>0.0</td>\n",
       "      <td>0.0</td>\n",
       "      <td>0.0</td>\n",
       "      <td>...</td>\n",
       "      <td>0.0</td>\n",
       "      <td>0.0</td>\n",
       "      <td>0.0</td>\n",
       "      <td>0.0</td>\n",
       "      <td>0.0</td>\n",
       "      <td>0.0</td>\n",
       "      <td>0.0</td>\n",
       "      <td>0.0</td>\n",
       "      <td>0.0</td>\n",
       "      <td>0.0</td>\n",
       "    </tr>\n",
       "    <tr>\n",
       "      <th>4</th>\n",
       "      <td>0.078505</td>\n",
       "      <td>0.0</td>\n",
       "      <td>0.0</td>\n",
       "      <td>0.0</td>\n",
       "      <td>0.0</td>\n",
       "      <td>0.0</td>\n",
       "      <td>0.0</td>\n",
       "      <td>0.0</td>\n",
       "      <td>0.0</td>\n",
       "      <td>0.0</td>\n",
       "      <td>...</td>\n",
       "      <td>0.0</td>\n",
       "      <td>0.0</td>\n",
       "      <td>0.0</td>\n",
       "      <td>0.0</td>\n",
       "      <td>0.0</td>\n",
       "      <td>0.0</td>\n",
       "      <td>0.0</td>\n",
       "      <td>0.0</td>\n",
       "      <td>0.0</td>\n",
       "      <td>0.0</td>\n",
       "    </tr>\n",
       "    <tr>\n",
       "      <th>5</th>\n",
       "      <td>0.078505</td>\n",
       "      <td>0.0</td>\n",
       "      <td>0.0</td>\n",
       "      <td>0.0</td>\n",
       "      <td>0.0</td>\n",
       "      <td>0.0</td>\n",
       "      <td>0.0</td>\n",
       "      <td>0.0</td>\n",
       "      <td>0.0</td>\n",
       "      <td>0.0</td>\n",
       "      <td>...</td>\n",
       "      <td>0.0</td>\n",
       "      <td>0.0</td>\n",
       "      <td>0.0</td>\n",
       "      <td>0.0</td>\n",
       "      <td>0.0</td>\n",
       "      <td>0.0</td>\n",
       "      <td>0.0</td>\n",
       "      <td>0.0</td>\n",
       "      <td>0.0</td>\n",
       "      <td>0.0</td>\n",
       "    </tr>\n",
       "    <tr>\n",
       "      <th>6</th>\n",
       "      <td>0.000000</td>\n",
       "      <td>0.0</td>\n",
       "      <td>0.0</td>\n",
       "      <td>0.0</td>\n",
       "      <td>0.0</td>\n",
       "      <td>0.0</td>\n",
       "      <td>0.0</td>\n",
       "      <td>0.0</td>\n",
       "      <td>0.0</td>\n",
       "      <td>0.0</td>\n",
       "      <td>...</td>\n",
       "      <td>0.0</td>\n",
       "      <td>0.0</td>\n",
       "      <td>0.0</td>\n",
       "      <td>0.0</td>\n",
       "      <td>0.0</td>\n",
       "      <td>0.0</td>\n",
       "      <td>0.0</td>\n",
       "      <td>0.0</td>\n",
       "      <td>0.0</td>\n",
       "      <td>0.0</td>\n",
       "    </tr>\n",
       "    <tr>\n",
       "      <th>7</th>\n",
       "      <td>0.000000</td>\n",
       "      <td>0.0</td>\n",
       "      <td>0.0</td>\n",
       "      <td>0.0</td>\n",
       "      <td>0.0</td>\n",
       "      <td>0.0</td>\n",
       "      <td>0.0</td>\n",
       "      <td>0.0</td>\n",
       "      <td>0.0</td>\n",
       "      <td>0.0</td>\n",
       "      <td>...</td>\n",
       "      <td>0.0</td>\n",
       "      <td>0.0</td>\n",
       "      <td>0.0</td>\n",
       "      <td>0.0</td>\n",
       "      <td>0.0</td>\n",
       "      <td>0.0</td>\n",
       "      <td>0.0</td>\n",
       "      <td>0.0</td>\n",
       "      <td>0.0</td>\n",
       "      <td>0.0</td>\n",
       "    </tr>\n",
       "    <tr>\n",
       "      <th>8</th>\n",
       "      <td>0.000000</td>\n",
       "      <td>0.0</td>\n",
       "      <td>0.0</td>\n",
       "      <td>0.0</td>\n",
       "      <td>0.0</td>\n",
       "      <td>0.0</td>\n",
       "      <td>0.0</td>\n",
       "      <td>0.0</td>\n",
       "      <td>0.0</td>\n",
       "      <td>0.0</td>\n",
       "      <td>...</td>\n",
       "      <td>0.0</td>\n",
       "      <td>0.0</td>\n",
       "      <td>0.0</td>\n",
       "      <td>0.0</td>\n",
       "      <td>0.0</td>\n",
       "      <td>0.0</td>\n",
       "      <td>0.0</td>\n",
       "      <td>0.0</td>\n",
       "      <td>0.0</td>\n",
       "      <td>0.0</td>\n",
       "    </tr>\n",
       "    <tr>\n",
       "      <th>9</th>\n",
       "      <td>0.000000</td>\n",
       "      <td>0.0</td>\n",
       "      <td>0.0</td>\n",
       "      <td>0.0</td>\n",
       "      <td>0.0</td>\n",
       "      <td>0.0</td>\n",
       "      <td>0.0</td>\n",
       "      <td>0.0</td>\n",
       "      <td>0.0</td>\n",
       "      <td>0.0</td>\n",
       "      <td>...</td>\n",
       "      <td>0.0</td>\n",
       "      <td>0.0</td>\n",
       "      <td>0.0</td>\n",
       "      <td>0.0</td>\n",
       "      <td>0.0</td>\n",
       "      <td>0.0</td>\n",
       "      <td>0.0</td>\n",
       "      <td>0.0</td>\n",
       "      <td>0.0</td>\n",
       "      <td>0.0</td>\n",
       "    </tr>\n",
       "  </tbody>\n",
       "</table>\n",
       "<p>10 rows × 55592 columns</p>\n",
       "</div>"
      ],
      "text/plain": [
       "          0  0 0  0 01  0 100  0 1080p  0 115  0 1in  0 24  0 30  0 31  ...  \\\n",
       "0  0.000000  0.0   0.0    0.0      0.0    0.0    0.0   0.0   0.0   0.0  ...   \n",
       "1  0.000000  0.0   0.0    0.0      0.0    0.0    0.0   0.0   0.0   0.0  ...   \n",
       "2  0.000000  0.0   0.0    0.0      0.0    0.0    0.0   0.0   0.0   0.0  ...   \n",
       "3  0.000000  0.0   0.0    0.0      0.0    0.0    0.0   0.0   0.0   0.0  ...   \n",
       "4  0.078505  0.0   0.0    0.0      0.0    0.0    0.0   0.0   0.0   0.0  ...   \n",
       "5  0.078505  0.0   0.0    0.0      0.0    0.0    0.0   0.0   0.0   0.0  ...   \n",
       "6  0.000000  0.0   0.0    0.0      0.0    0.0    0.0   0.0   0.0   0.0  ...   \n",
       "7  0.000000  0.0   0.0    0.0      0.0    0.0    0.0   0.0   0.0   0.0  ...   \n",
       "8  0.000000  0.0   0.0    0.0      0.0    0.0    0.0   0.0   0.0   0.0  ...   \n",
       "9  0.000000  0.0   0.0    0.0      0.0    0.0    0.0   0.0   0.0   0.0  ...   \n",
       "\n",
       "   zooming  zooming photo  zooming photos  zte  zte illustra  zte os  \\\n",
       "0      0.0            0.0             0.0  0.0           0.0     0.0   \n",
       "1      0.0            0.0             0.0  0.0           0.0     0.0   \n",
       "2      0.0            0.0             0.0  0.0           0.0     0.0   \n",
       "3      0.0            0.0             0.0  0.0           0.0     0.0   \n",
       "4      0.0            0.0             0.0  0.0           0.0     0.0   \n",
       "5      0.0            0.0             0.0  0.0           0.0     0.0   \n",
       "6      0.0            0.0             0.0  0.0           0.0     0.0   \n",
       "7      0.0            0.0             0.0  0.0           0.0     0.0   \n",
       "8      0.0            0.0             0.0  0.0           0.0     0.0   \n",
       "9      0.0            0.0             0.0  0.0           0.0     0.0   \n",
       "\n",
       "   zte phone  zte valet  zvc  zvc update  \n",
       "0        0.0        0.0  0.0         0.0  \n",
       "1        0.0        0.0  0.0         0.0  \n",
       "2        0.0        0.0  0.0         0.0  \n",
       "3        0.0        0.0  0.0         0.0  \n",
       "4        0.0        0.0  0.0         0.0  \n",
       "5        0.0        0.0  0.0         0.0  \n",
       "6        0.0        0.0  0.0         0.0  \n",
       "7        0.0        0.0  0.0         0.0  \n",
       "8        0.0        0.0  0.0         0.0  \n",
       "9        0.0        0.0  0.0         0.0  \n",
       "\n",
       "[10 rows x 55592 columns]"
      ]
     },
     "execution_count": 35,
     "metadata": {},
     "output_type": "execute_result"
    }
   ],
   "source": [
    "pd.DataFrame(text_tfidf[910:920].toarray(), columns=vocab)"
   ]
  },
  {
   "cell_type": "markdown",
   "metadata": {},
   "source": [
    "## 연습문제 "
   ]
  },
  {
   "cell_type": "markdown",
   "metadata": {},
   "source": [
    "### 감성 분석 - Multinomial NB"
   ]
  },
  {
   "cell_type": "code",
   "execution_count": 36,
   "metadata": {},
   "outputs": [
    {
     "data": {
      "text/html": [
       "<div>\n",
       "<style scoped>\n",
       "    .dataframe tbody tr th:only-of-type {\n",
       "        vertical-align: middle;\n",
       "    }\n",
       "\n",
       "    .dataframe tbody tr th {\n",
       "        vertical-align: top;\n",
       "    }\n",
       "\n",
       "    .dataframe thead th {\n",
       "        text-align: right;\n",
       "    }\n",
       "</style>\n",
       "<table border=\"1\" class=\"dataframe\">\n",
       "  <thead>\n",
       "    <tr style=\"text-align: right;\">\n",
       "      <th></th>\n",
       "      <th>ID</th>\n",
       "      <th>Title</th>\n",
       "      <th>Author</th>\n",
       "      <th>ReviewID</th>\n",
       "      <th>Texts</th>\n",
       "      <th>YMD</th>\n",
       "      <th>Sentiment</th>\n",
       "    </tr>\n",
       "  </thead>\n",
       "  <tbody>\n",
       "    <tr>\n",
       "      <th>0</th>\n",
       "      <td>127335</td>\n",
       "      <td>Ripoff don't buy it. Would like to know how to...</td>\n",
       "      <td>Alex Cropper</td>\n",
       "      <td>R112X6CB1GTVF7</td>\n",
       "      <td>Phone does not work. Does not allow outgoing t...</td>\n",
       "      <td>2014-01-14</td>\n",
       "      <td>0</td>\n",
       "    </tr>\n",
       "    <tr>\n",
       "      <th>1</th>\n",
       "      <td>161579</td>\n",
       "      <td>I am not satisfied with the product</td>\n",
       "      <td>Monica Heredia</td>\n",
       "      <td>R3MQ3FY4PWPQFM</td>\n",
       "      <td>I am not satisfied with the iPhone 5s, because...</td>\n",
       "      <td>2014-01-07</td>\n",
       "      <td>0</td>\n",
       "    </tr>\n",
       "    <tr>\n",
       "      <th>2</th>\n",
       "      <td>152064</td>\n",
       "      <td>Stay away buy something else</td>\n",
       "      <td>Mark Ducette monte carlo</td>\n",
       "      <td>R1QVAAZ9DWLN5Q</td>\n",
       "      <td>EATS BATTERIES, BRAND NEW BATTERIES IT EATS FA...</td>\n",
       "      <td>2014-01-28</td>\n",
       "      <td>0</td>\n",
       "    </tr>\n",
       "    <tr>\n",
       "      <th>3</th>\n",
       "      <td>180094</td>\n",
       "      <td>wondering</td>\n",
       "      <td>eaamber</td>\n",
       "      <td>R3AR8LYIC3BOI9</td>\n",
       "      <td>I'm wondering if this phone is good or bad I j...</td>\n",
       "      <td>2014-01-15</td>\n",
       "      <td>0</td>\n",
       "    </tr>\n",
       "    <tr>\n",
       "      <th>4</th>\n",
       "      <td>180037</td>\n",
       "      <td>virus</td>\n",
       "      <td>pamela</td>\n",
       "      <td>RCYC822DI3R6K</td>\n",
       "      <td>When i got the phone it had a virus on it with...</td>\n",
       "      <td>2014-01-10</td>\n",
       "      <td>0</td>\n",
       "    </tr>\n",
       "  </tbody>\n",
       "</table>\n",
       "</div>"
      ],
      "text/plain": [
       "       ID                                              Title  \\\n",
       "0  127335  Ripoff don't buy it. Would like to know how to...   \n",
       "1  161579                I am not satisfied with the product   \n",
       "2  152064                       Stay away buy something else   \n",
       "3  180094                                          wondering   \n",
       "4  180037                                              virus   \n",
       "\n",
       "                     Author        ReviewID  \\\n",
       "0              Alex Cropper  R112X6CB1GTVF7   \n",
       "1            Monica Heredia  R3MQ3FY4PWPQFM   \n",
       "2  Mark Ducette monte carlo  R1QVAAZ9DWLN5Q   \n",
       "3                   eaamber  R3AR8LYIC3BOI9   \n",
       "4                    pamela   RCYC822DI3R6K   \n",
       "\n",
       "                                               Texts         YMD  Sentiment  \n",
       "0  Phone does not work. Does not allow outgoing t...  2014-01-14          0  \n",
       "1  I am not satisfied with the iPhone 5s, because...  2014-01-07          0  \n",
       "2  EATS BATTERIES, BRAND NEW BATTERIES IT EATS FA...  2014-01-28          0  \n",
       "3  I'm wondering if this phone is good or bad I j...  2014-01-15          0  \n",
       "4  When i got the phone it had a virus on it with...  2014-01-10          0  "
      ]
     },
     "execution_count": 36,
     "metadata": {},
     "output_type": "execute_result"
    }
   ],
   "source": [
    "import nltk\n",
    "import pandas as pd\n",
    "\n",
    "mobile = pd.read_csv('data/mobile2014.csv')\n",
    "mobile.head()"
   ]
  },
  {
   "cell_type": "code",
   "execution_count": 37,
   "metadata": {},
   "outputs": [
    {
     "name": "stdout",
     "output_type": "stream",
     "text": [
      "<class 'pandas.core.frame.DataFrame'>\n",
      "RangeIndex: 2000 entries, 0 to 1999\n",
      "Data columns (total 7 columns):\n",
      " #   Column     Non-Null Count  Dtype \n",
      "---  ------     --------------  ----- \n",
      " 0   ID         2000 non-null   int64 \n",
      " 1   Title      2000 non-null   object\n",
      " 2   Author     2000 non-null   object\n",
      " 3   ReviewID   2000 non-null   object\n",
      " 4   Texts      1999 non-null   object\n",
      " 5   YMD        2000 non-null   object\n",
      " 6   Sentiment  2000 non-null   int64 \n",
      "dtypes: int64(2), object(5)\n",
      "memory usage: 109.5+ KB\n"
     ]
    }
   ],
   "source": [
    "mobile.info()"
   ]
  },
  {
   "cell_type": "code",
   "execution_count": 38,
   "metadata": {},
   "outputs": [
    {
     "data": {
      "text/plain": [
       "1    1000\n",
       "0    1000\n",
       "Name: Sentiment, dtype: int64"
      ]
     },
     "execution_count": 38,
     "metadata": {},
     "output_type": "execute_result"
    }
   ],
   "source": [
    "mobile.Sentiment.value_counts()"
   ]
  },
  {
   "cell_type": "code",
   "execution_count": 39,
   "metadata": {},
   "outputs": [],
   "source": [
    "# NA 값이 들어 있는 문장에 ' ' (비어 있는) 문장을 입력 \n",
    "mobile.Texts[mobile.Texts.isna()]\n",
    "mobile.Texts = mobile.Texts.fillna('')"
   ]
  },
  {
   "cell_type": "code",
   "execution_count": 40,
   "metadata": {},
   "outputs": [
    {
     "data": {
      "text/html": [
       "<div>\n",
       "<style scoped>\n",
       "    .dataframe tbody tr th:only-of-type {\n",
       "        vertical-align: middle;\n",
       "    }\n",
       "\n",
       "    .dataframe tbody tr th {\n",
       "        vertical-align: top;\n",
       "    }\n",
       "\n",
       "    .dataframe thead th {\n",
       "        text-align: right;\n",
       "    }\n",
       "</style>\n",
       "<table border=\"1\" class=\"dataframe\">\n",
       "  <thead>\n",
       "    <tr style=\"text-align: right;\">\n",
       "      <th></th>\n",
       "      <th>ID</th>\n",
       "      <th>Title</th>\n",
       "      <th>Author</th>\n",
       "      <th>ReviewID</th>\n",
       "      <th>Texts</th>\n",
       "      <th>YMD</th>\n",
       "    </tr>\n",
       "    <tr>\n",
       "      <th>Sentiment</th>\n",
       "      <th></th>\n",
       "      <th></th>\n",
       "      <th></th>\n",
       "      <th></th>\n",
       "      <th></th>\n",
       "      <th></th>\n",
       "    </tr>\n",
       "  </thead>\n",
       "  <tbody>\n",
       "    <tr>\n",
       "      <th>0</th>\n",
       "      <td>1000</td>\n",
       "      <td>1000</td>\n",
       "      <td>1000</td>\n",
       "      <td>1000</td>\n",
       "      <td>1000</td>\n",
       "      <td>1000</td>\n",
       "    </tr>\n",
       "    <tr>\n",
       "      <th>1</th>\n",
       "      <td>1000</td>\n",
       "      <td>1000</td>\n",
       "      <td>1000</td>\n",
       "      <td>1000</td>\n",
       "      <td>1000</td>\n",
       "      <td>1000</td>\n",
       "    </tr>\n",
       "  </tbody>\n",
       "</table>\n",
       "</div>"
      ],
      "text/plain": [
       "             ID  Title  Author  ReviewID  Texts   YMD\n",
       "Sentiment                                            \n",
       "0          1000   1000    1000      1000   1000  1000\n",
       "1          1000   1000    1000      1000   1000  1000"
      ]
     },
     "execution_count": 40,
     "metadata": {},
     "output_type": "execute_result"
    }
   ],
   "source": [
    "mobile.Sentiment = pd.Categorical(mobile.Sentiment)\n",
    "Sentiment_count = mobile.groupby('Sentiment').count()\n",
    "Sentiment_count"
   ]
  },
  {
   "cell_type": "code",
   "execution_count": 41,
   "metadata": {},
   "outputs": [
    {
     "name": "stderr",
     "output_type": "stream",
     "text": [
      "C:\\Users\\eunbi\\Anaconda3\\lib\\site-packages\\matplotlib\\backends\\backend_agg.py:214: RuntimeWarning: Glyph 8722 missing from current font.\n",
      "  font.set_text(s, 0.0, flags=flags)\n",
      "C:\\Users\\eunbi\\Anaconda3\\lib\\site-packages\\matplotlib\\backends\\backend_agg.py:183: RuntimeWarning: Glyph 8722 missing from current font.\n",
      "  font.set_text(s, 0, flags=flags)\n"
     ]
    },
    {
     "data": {
      "image/png": "[encoded data removed]",
      "text/plain": [
       "<Figure size 432x288 with 1 Axes>"
      ]
     },
     "metadata": {
      "needs_background": "light"
     },
     "output_type": "display_data"
    }
   ],
   "source": [
    "import matplotlib.pyplot as plt\n",
    "\n",
    "plt.bar(Sentiment_count.index.values, Sentiment_count['ID'])\n",
    "plt.xlabel('Review Sentiments')\n",
    "plt.ylabel('Number of Review')\n",
    "plt.show()"
   ]
  },
  {
   "cell_type": "markdown",
   "metadata": {},
   "source": [
    "- 빈도 기반 단어 문서 매트릭스 "
   ]
  },
  {
   "cell_type": "code",
   "execution_count": 42,
   "metadata": {},
   "outputs": [],
   "source": [
    "from sklearn.feature_extraction.text import CountVectorizer\n",
    "from nltk.tokenize import RegexpTokenizer\n",
    "\n",
    "token = RegexpTokenizer(r'[a-zA-Z0-9]+')\n",
    "cv = CountVectorizer(\n",
    "    lowercase=True,\n",
    "    stop_words='english',\n",
    "    ngram_range = (1,1),\n",
    "    tokenizer = token.tokenize\n",
    ")\n",
    "\n",
    "text_counts= cv.fit_transform(mobile['Texts'])"
   ]
  },
  {
   "cell_type": "code",
   "execution_count": 43,
   "metadata": {},
   "outputs": [],
   "source": [
    "from sklearn.model_selection import train_test_split\n",
    "\n",
    "X_train, X_test, y_train, y_test = train_test_split(\n",
    "    text_counts, mobile['Sentiment'], test_size=0.3)"
   ]
  },
  {
   "cell_type": "markdown",
   "metadata": {},
   "source": [
    "- Multinomial NB "
   ]
  },
  {
   "cell_type": "code",
   "execution_count": 44,
   "metadata": {},
   "outputs": [
    {
     "name": "stdout",
     "output_type": "stream",
     "text": [
      "MultinomialNB Accuracy: 0.9166666666666666\n"
     ]
    }
   ],
   "source": [
    "from sklearn.naive_bayes import MultinomialNB\n",
    "from sklearn import metrics\n",
    "\n",
    "clf = MultinomialNB().fit(X_train, y_train)\n",
    "\n",
    "predicted= clf.predict(X_test)\n",
    "print(\"MultinomialNB Accuracy:\",metrics.accuracy_score(y_test, predicted))"
   ]
  },
  {
   "cell_type": "code",
   "execution_count": 45,
   "metadata": {},
   "outputs": [
    {
     "name": "stdout",
     "output_type": "stream",
     "text": [
      "MultinomialNB 5 CV Accuracy: 0.899\n"
     ]
    }
   ],
   "source": [
    "from sklearn.model_selection import cross_val_score \n",
    "\n",
    "score = cross_val_score(clf, text_counts, mobile['Sentiment'], scoring='accuracy', cv=5)\n",
    "print(\"MultinomialNB 5 CV Accuracy:\", score.mean())"
   ]
  },
  {
   "cell_type": "markdown",
   "metadata": {},
   "source": [
    "- tf idf 기반 단어 문서 매트릭스"
   ]
  },
  {
   "cell_type": "code",
   "execution_count": 46,
   "metadata": {},
   "outputs": [],
   "source": [
    "from sklearn.feature_extraction.text import TfidfVectorizer\n",
    "\n",
    "tf=TfidfVectorizer(\n",
    "    lowercase=True,\n",
    "    stop_words='english',\n",
    "    ngram_range = (1,1),\n",
    "    tokenizer = token.tokenize\n",
    ")\n",
    "\n",
    "text_tf= tf.fit_transform(mobile['Texts'])"
   ]
  },
  {
   "cell_type": "code",
   "execution_count": 47,
   "metadata": {},
   "outputs": [],
   "source": [
    "X_train, X_test, y_train, y_test = train_test_split(\n",
    "    text_tf, mobile['Sentiment'], test_size=0.3)"
   ]
  },
  {
   "cell_type": "code",
   "execution_count": 48,
   "metadata": {},
   "outputs": [
    {
     "name": "stdout",
     "output_type": "stream",
     "text": [
      "MultinomialNB Accuracy: 0.9333333333333333\n"
     ]
    }
   ],
   "source": [
    "clf = MultinomialNB().fit(X_train, y_train)\n",
    "\n",
    "predicted= clf.predict(X_test)\n",
    "print(\"MultinomialNB Accuracy:\",metrics.accuracy_score(y_test, predicted))"
   ]
  },
  {
   "cell_type": "code",
   "execution_count": 49,
   "metadata": {},
   "outputs": [
    {
     "name": "stdout",
     "output_type": "stream",
     "text": [
      "MultinomialNB 5 CV Accuracy: 0.9145\n"
     ]
    }
   ],
   "source": [
    "score = cross_val_score(clf, text_tf, mobile['Sentiment'], scoring='accuracy', cv=5)\n",
    "print(\"MultinomialNB 5 CV Accuracy:\", score.mean())"
   ]
  },
  {
   "cell_type": "markdown",
   "metadata": {},
   "source": [
    "- tf idf with bigram"
   ]
  },
  {
   "cell_type": "code",
   "execution_count": 50,
   "metadata": {},
   "outputs": [
    {
     "name": "stdout",
     "output_type": "stream",
     "text": [
      "MultinomialNB Accuracy: 0.9016666666666666\n"
     ]
    }
   ],
   "source": [
    "tf=TfidfVectorizer(\n",
    "    lowercase=True,\n",
    "    stop_words='english',\n",
    "    ngram_range = (1,2),\n",
    "    tokenizer = token.tokenize\n",
    ")\n",
    "\n",
    "text_tf= tf.fit_transform(mobile['Texts'])\n",
    "\n",
    "X_train, X_test, y_train, y_test = train_test_split(\n",
    "    text_tf, mobile['Sentiment'], test_size=0.3)\n",
    "\n",
    "clf = MultinomialNB().fit(X_train, y_train)\n",
    "\n",
    "predicted= clf.predict(X_test)\n",
    "print(\"MultinomialNB Accuracy:\",metrics.accuracy_score(y_test, predicted))"
   ]
  },
  {
   "cell_type": "code",
   "execution_count": 51,
   "metadata": {},
   "outputs": [
    {
     "name": "stdout",
     "output_type": "stream",
     "text": [
      "MultinomialNB 5 CV Accuracy: 0.9135\n"
     ]
    }
   ],
   "source": [
    "score = cross_val_score(clf, text_tf, mobile['Sentiment'], scoring='accuracy', cv=5)\n",
    "print(\"MultinomialNB 5 CV Accuracy:\", score.mean())"
   ]
  },
  {
   "cell_type": "markdown",
   "metadata": {},
   "source": [
    "- Logistic Regression"
   ]
  },
  {
   "cell_type": "code",
   "execution_count": 52,
   "metadata": {},
   "outputs": [
    {
     "name": "stdout",
     "output_type": "stream",
     "text": [
      "Logistic Regression Accuracy: 0.8916666666666667\n"
     ]
    }
   ],
   "source": [
    "from sklearn.linear_model import LogisticRegression\n",
    "\n",
    "logreg = LogisticRegression().fit(X_train, y_train)\n",
    "\n",
    "predicted= logreg.predict(X_test)\n",
    "print(\"Logistic Regression Accuracy:\",metrics.accuracy_score(y_test, predicted))"
   ]
  },
  {
   "cell_type": "code",
   "execution_count": 53,
   "metadata": {},
   "outputs": [
    {
     "name": "stdout",
     "output_type": "stream",
     "text": [
      "LogisticRegression 5 CV Accuracy: 0.898\n"
     ]
    }
   ],
   "source": [
    "score = cross_val_score(logreg, text_tf, mobile['Sentiment'], scoring='accuracy', cv=5)\n",
    "print(\"LogisticRegression 5 CV Accuracy:\", score.mean())"
   ]
  },
  {
   "cell_type": "markdown",
   "metadata": {},
   "source": [
    "- Bernoulli NB"
   ]
  },
  {
   "cell_type": "code",
   "execution_count": 54,
   "metadata": {},
   "outputs": [],
   "source": [
    "cv_binary = CountVectorizer(\n",
    "    lowercase=True,\n",
    "    stop_words='english',\n",
    "    ngram_range = (1,1),\n",
    "    binary = True,\n",
    "    tokenizer = token.tokenize\n",
    ")\n",
    "\n",
    "text_counts= cv_binary.fit_transform(mobile['Texts'])"
   ]
  },
  {
   "cell_type": "code",
   "execution_count": 55,
   "metadata": {},
   "outputs": [
    {
     "name": "stdout",
     "output_type": "stream",
     "text": [
      "BernoulliNB Accuracy: 0.8083333333333333\n"
     ]
    }
   ],
   "source": [
    "from sklearn.naive_bayes import BernoulliNB\n",
    "\n",
    "X_train, X_test, y_train, y_test = train_test_split(\n",
    "    text_tf, mobile['Sentiment'], test_size=0.3)\n",
    "\n",
    "clf = BernoulliNB().fit(X_train, y_train)\n",
    "\n",
    "predicted= clf.predict(X_test)\n",
    "print(\"BernoulliNB Accuracy:\",metrics.accuracy_score(y_test, predicted))"
   ]
  },
  {
   "cell_type": "code",
   "execution_count": 56,
   "metadata": {},
   "outputs": [
    {
     "name": "stdout",
     "output_type": "stream",
     "text": [
      "BernoulliNB 5 CV Accuracy: 0.8265\n"
     ]
    }
   ],
   "source": [
    "score = cross_val_score(clf, text_counts, mobile['Sentiment'], scoring='accuracy', cv=5)\n",
    "print(\"BernoulliNB 5 CV Accuracy:\", score.mean())"
   ]
  },
  {
   "cell_type": "code",
   "execution_count": null,
   "metadata": {},
   "outputs": [],
   "source": []
  },
  {
   "cell_type": "code",
   "execution_count": null,
   "metadata": {},
   "outputs": [],
   "source": []
  }
 ],
 "metadata": {
  "kernelspec": {
   "display_name": "Python 3",
   "language": "python",
   "name": "python3"
  },
  "language_info": {
   "codemirror_mode": {
    "name": "ipython",
    "version": 3
   },
   "file_extension": ".py",
   "mimetype": "text/x-python",
   "name": "python",
   "nbconvert_exporter": "python",
   "pygments_lexer": "ipython3",
   "version": "3.7.7"
  }
 },
 "nbformat": 4,
 "nbformat_minor": 2
}
