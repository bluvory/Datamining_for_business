{
 "cells": [
  {
   "cell_type": "code",
   "execution_count": 1,
   "metadata": {},
   "outputs": [],
   "source": [
    "import warnings\n",
    "warnings.filterwarnings(action='ignore')"
   ]
  },
  {
   "cell_type": "code",
   "execution_count": 2,
   "metadata": {},
   "outputs": [],
   "source": [
    "import math\n",
    "import pandas as pd\n",
    "import numpy as np\n",
    "import statsmodels.api as sm\n",
    "import matplotlib.pyplot as plt\n",
    "\n",
    "from sklearn.model_selection import train_test_split\n",
    "from sklearn.model_selection import cross_val_score \n",
    "\n",
    "from sklearn.linear_model import LogisticRegression\n",
    "\n",
    "# 하이퍼 파라미터 튜닝\n",
    "from sklearn.model_selection import GridSearchCV, RandomizedSearchCV\n",
    "\n",
    "# 의사결정나무\n",
    "from sklearn.tree import DecisionTreeClassifier\n",
    "from dtreeplt import dtreeplt\n",
    "from sklearn.tree import DecisionTreeRegressor\n",
    "from graphviz import Source\n",
    "from sklearn.tree import export_graphviz\n",
    "\n",
    "# 나이브 베이즈\n",
    "from sklearn.naive_bayes import GaussianNB\n",
    "\n",
    "# 서포트 벡터 머신\n",
    "from sklearn.svm import LinearSVC\n",
    "from sklearn.svm import LinearSVR\n",
    "from sklearn.svm import SVC\n",
    "from sklearn.svm import SVR\n",
    "\n",
    "# 앙상블\n",
    "from sklearn.ensemble import VotingClassifier\n",
    "from sklearn.ensemble import VotingRegressor\n",
    "from sklearn.ensemble import BaggingClassifier\n",
    "from sklearn.ensemble import BaggingRegressor\n",
    "\n",
    "# 랜덤 포레스트\n",
    "from sklearn.ensemble import RandomForestClassifier\n",
    "from sklearn.ensemble import RandomForestRegressor\n",
    "\n",
    "# 부스팅\n",
    "from sklearn.ensemble import GradientBoostingRegressor\n",
    "\n",
    "import scipy.stats as stats\n",
    "from sklearn.utils.fixes import loguniform\n",
    "\n",
    "# 성능체크\n",
    "from sklearn.metrics import accuracy_score\n",
    "from sklearn.metrics import mean_squared_error"
   ]
  },
  {
   "cell_type": "markdown",
   "metadata": {},
   "source": [
    "# 문제1"
   ]
  },
  {
   "cell_type": "code",
   "execution_count": 26,
   "metadata": {
    "scrolled": true
   },
   "outputs": [
    {
     "data": {
      "text/html": [
       "<div>\n",
       "<style scoped>\n",
       "    .dataframe tbody tr th:only-of-type {\n",
       "        vertical-align: middle;\n",
       "    }\n",
       "\n",
       "    .dataframe tbody tr th {\n",
       "        vertical-align: top;\n",
       "    }\n",
       "\n",
       "    .dataframe thead th {\n",
       "        text-align: right;\n",
       "    }\n",
       "</style>\n",
       "<table border=\"1\" class=\"dataframe\">\n",
       "  <thead>\n",
       "    <tr style=\"text-align: right;\">\n",
       "      <th></th>\n",
       "      <th>Time</th>\n",
       "      <th>V1</th>\n",
       "      <th>V2</th>\n",
       "      <th>V3</th>\n",
       "      <th>V4</th>\n",
       "      <th>V5</th>\n",
       "      <th>V6</th>\n",
       "      <th>V7</th>\n",
       "      <th>V8</th>\n",
       "      <th>V9</th>\n",
       "      <th>...</th>\n",
       "      <th>V21</th>\n",
       "      <th>V22</th>\n",
       "      <th>V23</th>\n",
       "      <th>V24</th>\n",
       "      <th>V25</th>\n",
       "      <th>V26</th>\n",
       "      <th>V27</th>\n",
       "      <th>V28</th>\n",
       "      <th>Amount</th>\n",
       "      <th>Class</th>\n",
       "    </tr>\n",
       "  </thead>\n",
       "  <tbody>\n",
       "    <tr>\n",
       "      <th>0</th>\n",
       "      <td>124265.0</td>\n",
       "      <td>1.522319</td>\n",
       "      <td>-2.620740</td>\n",
       "      <td>0.162082</td>\n",
       "      <td>-0.413442</td>\n",
       "      <td>-2.017811</td>\n",
       "      <td>1.461869</td>\n",
       "      <td>-1.975232</td>\n",
       "      <td>0.593168</td>\n",
       "      <td>1.590390</td>\n",
       "      <td>...</td>\n",
       "      <td>0.448753</td>\n",
       "      <td>1.026305</td>\n",
       "      <td>-0.144135</td>\n",
       "      <td>0.248102</td>\n",
       "      <td>-0.329750</td>\n",
       "      <td>-0.023030</td>\n",
       "      <td>0.024540</td>\n",
       "      <td>0.003180</td>\n",
       "      <td>284.00</td>\n",
       "      <td>0</td>\n",
       "    </tr>\n",
       "    <tr>\n",
       "      <th>1</th>\n",
       "      <td>59241.0</td>\n",
       "      <td>-0.224159</td>\n",
       "      <td>1.180560</td>\n",
       "      <td>1.620263</td>\n",
       "      <td>2.597663</td>\n",
       "      <td>0.268749</td>\n",
       "      <td>0.371741</td>\n",
       "      <td>0.747209</td>\n",
       "      <td>-0.039479</td>\n",
       "      <td>-1.383652</td>\n",
       "      <td>...</td>\n",
       "      <td>0.116251</td>\n",
       "      <td>0.546184</td>\n",
       "      <td>-0.157833</td>\n",
       "      <td>-0.014209</td>\n",
       "      <td>-0.354865</td>\n",
       "      <td>0.228212</td>\n",
       "      <td>0.222947</td>\n",
       "      <td>-0.014396</td>\n",
       "      <td>37.33</td>\n",
       "      <td>0</td>\n",
       "    </tr>\n",
       "    <tr>\n",
       "      <th>2</th>\n",
       "      <td>46775.0</td>\n",
       "      <td>1.249077</td>\n",
       "      <td>-1.180277</td>\n",
       "      <td>-0.383561</td>\n",
       "      <td>-0.921614</td>\n",
       "      <td>-0.350447</td>\n",
       "      <td>0.928311</td>\n",
       "      <td>-0.825273</td>\n",
       "      <td>0.352892</td>\n",
       "      <td>-0.198168</td>\n",
       "      <td>...</td>\n",
       "      <td>-0.030222</td>\n",
       "      <td>-0.324440</td>\n",
       "      <td>-0.279178</td>\n",
       "      <td>-1.751429</td>\n",
       "      <td>0.561524</td>\n",
       "      <td>-0.125653</td>\n",
       "      <td>-0.010366</td>\n",
       "      <td>-0.007555</td>\n",
       "      <td>102.00</td>\n",
       "      <td>0</td>\n",
       "    </tr>\n",
       "    <tr>\n",
       "      <th>3</th>\n",
       "      <td>166573.0</td>\n",
       "      <td>2.153038</td>\n",
       "      <td>0.046845</td>\n",
       "      <td>-2.212044</td>\n",
       "      <td>0.244870</td>\n",
       "      <td>0.730598</td>\n",
       "      <td>-1.017290</td>\n",
       "      <td>0.611115</td>\n",
       "      <td>-0.412808</td>\n",
       "      <td>0.258610</td>\n",
       "      <td>...</td>\n",
       "      <td>0.065511</td>\n",
       "      <td>0.338889</td>\n",
       "      <td>-0.025033</td>\n",
       "      <td>0.540896</td>\n",
       "      <td>0.418683</td>\n",
       "      <td>0.698257</td>\n",
       "      <td>-0.121885</td>\n",
       "      <td>-0.082522</td>\n",
       "      <td>0.76</td>\n",
       "      <td>0</td>\n",
       "    </tr>\n",
       "    <tr>\n",
       "      <th>4</th>\n",
       "      <td>49187.0</td>\n",
       "      <td>0.723978</td>\n",
       "      <td>-1.256455</td>\n",
       "      <td>0.381422</td>\n",
       "      <td>0.074468</td>\n",
       "      <td>-0.777243</td>\n",
       "      <td>0.722340</td>\n",
       "      <td>-0.370069</td>\n",
       "      <td>0.165191</td>\n",
       "      <td>0.886716</td>\n",
       "      <td>...</td>\n",
       "      <td>-0.085468</td>\n",
       "      <td>-0.601468</td>\n",
       "      <td>-0.325365</td>\n",
       "      <td>-0.717631</td>\n",
       "      <td>0.185812</td>\n",
       "      <td>0.965630</td>\n",
       "      <td>-0.086032</td>\n",
       "      <td>0.041443</td>\n",
       "      <td>281.48</td>\n",
       "      <td>0</td>\n",
       "    </tr>\n",
       "  </tbody>\n",
       "</table>\n",
       "<p>5 rows × 31 columns</p>\n",
       "</div>"
      ],
      "text/plain": [
       "       Time        V1        V2        V3        V4        V5        V6  \\\n",
       "0  124265.0  1.522319 -2.620740  0.162082 -0.413442 -2.017811  1.461869   \n",
       "1   59241.0 -0.224159  1.180560  1.620263  2.597663  0.268749  0.371741   \n",
       "2   46775.0  1.249077 -1.180277 -0.383561 -0.921614 -0.350447  0.928311   \n",
       "3  166573.0  2.153038  0.046845 -2.212044  0.244870  0.730598 -1.017290   \n",
       "4   49187.0  0.723978 -1.256455  0.381422  0.074468 -0.777243  0.722340   \n",
       "\n",
       "         V7        V8        V9  ...       V21       V22       V23       V24  \\\n",
       "0 -1.975232  0.593168  1.590390  ...  0.448753  1.026305 -0.144135  0.248102   \n",
       "1  0.747209 -0.039479 -1.383652  ...  0.116251  0.546184 -0.157833 -0.014209   \n",
       "2 -0.825273  0.352892 -0.198168  ... -0.030222 -0.324440 -0.279178 -1.751429   \n",
       "3  0.611115 -0.412808  0.258610  ...  0.065511  0.338889 -0.025033  0.540896   \n",
       "4 -0.370069  0.165191  0.886716  ... -0.085468 -0.601468 -0.325365 -0.717631   \n",
       "\n",
       "        V25       V26       V27       V28  Amount  Class  \n",
       "0 -0.329750 -0.023030  0.024540  0.003180  284.00      0  \n",
       "1 -0.354865  0.228212  0.222947 -0.014396   37.33      0  \n",
       "2  0.561524 -0.125653 -0.010366 -0.007555  102.00      0  \n",
       "3  0.418683  0.698257 -0.121885 -0.082522    0.76      0  \n",
       "4  0.185812  0.965630 -0.086032  0.041443  281.48      0  \n",
       "\n",
       "[5 rows x 31 columns]"
      ]
     },
     "execution_count": 26,
     "metadata": {},
     "output_type": "execute_result"
    }
   ],
   "source": [
    "df = pd.read_csv('creditcard_sampled.csv')\n",
    "df.head()"
   ]
  },
  {
   "cell_type": "code",
   "execution_count": 27,
   "metadata": {},
   "outputs": [],
   "source": [
    "x = df.drop('Class', axis=1)\n",
    "y = df['Class']"
   ]
  },
  {
   "cell_type": "code",
   "execution_count": 28,
   "metadata": {},
   "outputs": [
    {
     "name": "stdout",
     "output_type": "stream",
     "text": [
      "AUC score with max_depth 2: 0.914\n",
      "AUC score with max_depth 3: 0.922\n",
      "AUC score with max_depth 4: 0.932\n",
      "AUC score with max_depth 5: 0.939\n",
      "AUC score with max_depth 6: 0.946\n",
      "AUC score with max_depth 7: 0.958\n",
      "AUC score with max_depth 8: 0.958\n",
      "AUC score with max_depth 9: 0.962\n",
      "AUC score with max_depth 10: 0.962\n",
      "AUC score with max_depth 11: 0.960\n",
      "AUC score with max_depth 12: 0.961\n",
      "AUC score with max_depth 13: 0.959\n",
      "AUC score with max_depth 14: 0.961\n",
      "AUC score with max_depth 15: 0.961\n"
     ]
    }
   ],
   "source": [
    "score_list = []\n",
    "I = range(2,16)\n",
    "\n",
    "for i in I:\n",
    "    tree_cv = DecisionTreeClassifier(criterion='entropy', max_depth=i)\n",
    "    scores = cross_val_score(tree_cv, x, y, scoring='f1', cv=5)\n",
    "    score_list.append(scores.mean())\n",
    "    print(\"AUC score with max_depth {}: {:.3f}\".format(i,scores.mean()))"
   ]
  },
  {
   "cell_type": "code",
   "execution_count": 29,
   "metadata": {},
   "outputs": [
    {
     "data": {
      "text/plain": [
       "DecisionTreeClassifier(criterion='entropy', max_depth=10)"
      ]
     },
     "execution_count": 29,
     "metadata": {},
     "output_type": "execute_result"
    }
   ],
   "source": [
    "# 가장 성과가 좋은 max_depth : 10\n",
    "tree10 = DecisionTreeClassifier(criterion='entropy', max_depth=10)\n",
    "tree10.fit(x,y)"
   ]
  },
  {
   "cell_type": "code",
   "execution_count": 30,
   "metadata": {},
   "outputs": [
    {
     "data": {
      "image/png": "[encoded data removed]",
      "text/plain": [
       "<Figure size 432x288 with 1 Axes>"
      ]
     },
     "metadata": {
      "needs_background": "light"
     },
     "output_type": "display_data"
    }
   ],
   "source": [
    "def plot_feature_importances(model):\n",
    "    n_features = model.feature_importances_.shape[0]\n",
    "    plt.barh(range(n_features), model.feature_importances_, align='center')\n",
    "    plt.yticks(np.arange(n_features), x.columns)\n",
    "    plt.xlabel(\"Feature Importances\")\n",
    "    plt.ylabel(\"Features\")\n",
    "    plt.ylim(-1, n_features)\n",
    "    \n",
    "plot_feature_importances(tree10)"
   ]
  },
  {
   "cell_type": "code",
   "execution_count": 31,
   "metadata": {},
   "outputs": [
    {
     "data": {
      "text/plain": [
       "0.9927950000000001"
      ]
     },
     "execution_count": 31,
     "metadata": {},
     "output_type": "execute_result"
    }
   ],
   "source": [
    "# 랜덤 포레스트\n",
    "x6 = df[['V14', 'V4', 'Time', 'V3', 'V6', 'V7']]\n",
    "y = df['Class']\n",
    "\n",
    "rnd_clf = RandomForestClassifier(n_estimators = 200,\n",
    "                                 max_features = 3,\n",
    "                                 max_samples=0.4,\n",
    "                                 bootstrap = True,\n",
    "                                 n_jobs=-1)\n",
    "    \n",
    "scores = cross_val_score(rnd_clf, x6, y, scoring='roc_auc',cv=5)\n",
    "scores.mean()"
   ]
  },
  {
   "cell_type": "markdown",
   "metadata": {},
   "source": [
    "# 문제2"
   ]
  },
  {
   "cell_type": "code",
   "execution_count": 9,
   "metadata": {},
   "outputs": [
    {
     "data": {
      "text/html": [
       "<div>\n",
       "<style scoped>\n",
       "    .dataframe tbody tr th:only-of-type {\n",
       "        vertical-align: middle;\n",
       "    }\n",
       "\n",
       "    .dataframe tbody tr th {\n",
       "        vertical-align: top;\n",
       "    }\n",
       "\n",
       "    .dataframe thead th {\n",
       "        text-align: right;\n",
       "    }\n",
       "</style>\n",
       "<table border=\"1\" class=\"dataframe\">\n",
       "  <thead>\n",
       "    <tr style=\"text-align: right;\">\n",
       "      <th></th>\n",
       "      <th>Sales</th>\n",
       "      <th>CompPrice</th>\n",
       "      <th>Income</th>\n",
       "      <th>Advertising</th>\n",
       "      <th>Population</th>\n",
       "      <th>Price</th>\n",
       "      <th>ShelveLoc</th>\n",
       "      <th>Age</th>\n",
       "      <th>Education</th>\n",
       "      <th>Urban</th>\n",
       "      <th>US</th>\n",
       "    </tr>\n",
       "  </thead>\n",
       "  <tbody>\n",
       "    <tr>\n",
       "      <th>0</th>\n",
       "      <td>9.50</td>\n",
       "      <td>138</td>\n",
       "      <td>73</td>\n",
       "      <td>11</td>\n",
       "      <td>276</td>\n",
       "      <td>120</td>\n",
       "      <td>Bad</td>\n",
       "      <td>42</td>\n",
       "      <td>17</td>\n",
       "      <td>Yes</td>\n",
       "      <td>Yes</td>\n",
       "    </tr>\n",
       "    <tr>\n",
       "      <th>1</th>\n",
       "      <td>11.22</td>\n",
       "      <td>111</td>\n",
       "      <td>48</td>\n",
       "      <td>16</td>\n",
       "      <td>260</td>\n",
       "      <td>83</td>\n",
       "      <td>Good</td>\n",
       "      <td>65</td>\n",
       "      <td>10</td>\n",
       "      <td>Yes</td>\n",
       "      <td>Yes</td>\n",
       "    </tr>\n",
       "    <tr>\n",
       "      <th>2</th>\n",
       "      <td>10.06</td>\n",
       "      <td>113</td>\n",
       "      <td>35</td>\n",
       "      <td>10</td>\n",
       "      <td>269</td>\n",
       "      <td>80</td>\n",
       "      <td>Medium</td>\n",
       "      <td>59</td>\n",
       "      <td>12</td>\n",
       "      <td>Yes</td>\n",
       "      <td>Yes</td>\n",
       "    </tr>\n",
       "    <tr>\n",
       "      <th>3</th>\n",
       "      <td>7.40</td>\n",
       "      <td>117</td>\n",
       "      <td>100</td>\n",
       "      <td>4</td>\n",
       "      <td>466</td>\n",
       "      <td>97</td>\n",
       "      <td>Medium</td>\n",
       "      <td>55</td>\n",
       "      <td>14</td>\n",
       "      <td>Yes</td>\n",
       "      <td>Yes</td>\n",
       "    </tr>\n",
       "    <tr>\n",
       "      <th>4</th>\n",
       "      <td>4.15</td>\n",
       "      <td>141</td>\n",
       "      <td>64</td>\n",
       "      <td>3</td>\n",
       "      <td>340</td>\n",
       "      <td>128</td>\n",
       "      <td>Bad</td>\n",
       "      <td>38</td>\n",
       "      <td>13</td>\n",
       "      <td>Yes</td>\n",
       "      <td>No</td>\n",
       "    </tr>\n",
       "  </tbody>\n",
       "</table>\n",
       "</div>"
      ],
      "text/plain": [
       "   Sales  CompPrice  Income  Advertising  Population  Price ShelveLoc  Age  \\\n",
       "0   9.50        138      73           11         276    120       Bad   42   \n",
       "1  11.22        111      48           16         260     83      Good   65   \n",
       "2  10.06        113      35           10         269     80    Medium   59   \n",
       "3   7.40        117     100            4         466     97    Medium   55   \n",
       "4   4.15        141      64            3         340    128       Bad   38   \n",
       "\n",
       "   Education Urban   US  \n",
       "0         17   Yes  Yes  \n",
       "1         10   Yes  Yes  \n",
       "2         12   Yes  Yes  \n",
       "3         14   Yes  Yes  \n",
       "4         13   Yes   No  "
      ]
     },
     "execution_count": 9,
     "metadata": {},
     "output_type": "execute_result"
    }
   ],
   "source": [
    "car = pd.read_csv('Carseats.csv')\n",
    "car.head()"
   ]
  },
  {
   "cell_type": "code",
   "execution_count": 10,
   "metadata": {},
   "outputs": [],
   "source": [
    "# 전처리\n",
    "# ShelveLoc은 서열형 변수를 2,1,0 순서대로 변환\n",
    "# Urban, US는 이진형 변수를 1,0 으로 변환\n",
    "\n",
    "ord = {'Good':2, 'Medium':1, 'Bad':0}\n",
    "car['shLoc'] = car.ShelveLoc.map(ord)\n",
    "\n",
    "car['ub'] = (car['Urban'] == 'Yes').astype(np.int)\n",
    "car['inus'] = (car['US'] == 'Yes').astype(np.int)\n",
    "\n",
    "car = car.drop(['ShelveLoc', 'Urban', 'US'], axis=1)"
   ]
  },
  {
   "cell_type": "code",
   "execution_count": 11,
   "metadata": {},
   "outputs": [],
   "source": [
    "car = car.astype(int)"
   ]
  },
  {
   "cell_type": "code",
   "execution_count": 12,
   "metadata": {},
   "outputs": [],
   "source": [
    "x = car.drop('Sales', axis=1)\n",
    "y = car['Sales']"
   ]
  },
  {
   "cell_type": "code",
   "execution_count": 13,
   "metadata": {
    "scrolled": true
   },
   "outputs": [
    {
     "data": {
      "text/plain": [
       "LinearSVR(C=25)"
      ]
     },
     "execution_count": 13,
     "metadata": {},
     "output_type": "execute_result"
    }
   ],
   "source": [
    "# LinearSVR\n",
    "linsvr = LinearSVR() \n",
    "\n",
    "param_grid = {'C':[1,5,10,15,20,25,30,35,40,45,50]}\n",
    "linsvr_search = GridSearchCV(linsvr,\n",
    "                           param_grid,\n",
    "                           cv=5,\n",
    "                           scoring='neg_mean_squared_error',\n",
    "                           return_train_score=True)\n",
    "linsvr_search.fit(x,y)\n",
    "linsvr_search.best_estimator_ "
   ]
  },
  {
   "cell_type": "code",
   "execution_count": 14,
   "metadata": {},
   "outputs": [
    {
     "data": {
      "text/plain": [
       "SVR(C=0.001, gamma=1)"
      ]
     },
     "execution_count": 14,
     "metadata": {},
     "output_type": "execute_result"
    }
   ],
   "source": [
    "# SVR\n",
    "svr = SVR(kernel=\"rbf\") \n",
    "param_grid = {'gamma':[1,2,3,4,5,6,7,8,9,10], 'C':[1,0.5,0.1,0.01,0.05,0.001]}\n",
    "svr_search = GridSearchCV(svr,\n",
    "                           param_grid,\n",
    "                           cv=5,\n",
    "                           scoring='neg_mean_squared_error',\n",
    "                           return_train_score=True)\n",
    "svr_search.fit(x,y)\n",
    "svr_search.best_estimator_ "
   ]
  },
  {
   "cell_type": "code",
   "execution_count": 15,
   "metadata": {},
   "outputs": [
    {
     "name": "stdout",
     "output_type": "stream",
     "text": [
      "13\n"
     ]
    }
   ],
   "source": [
    "# GradientBoostingRegressor\n",
    "gbrt = GradientBoostingRegressor(max_depth=3, learning_rate=0.5)\n",
    "x_train, x_test, y_train, y_test = train_test_split(x,y)\n",
    "x_train, x_val, y_train, y_val = train_test_split(x_train, y_train)\n",
    "\n",
    "gbrt.fit(x_train,y_train)\n",
    "y_pred = gbrt.predict(x_test)\n",
    "\n",
    "errors = [math.sqrt(mean_squared_error(y_val, y_pred)) for y_pred in gbrt.staged_predict(x_val)]\n",
    "bst_n_estimators = np.argmin(errors) + 1\n",
    "print(bst_n_estimators)"
   ]
  },
  {
   "cell_type": "code",
   "execution_count": 32,
   "metadata": {},
   "outputs": [
    {
     "name": "stdout",
     "output_type": "stream",
     "text": [
      "1.4905421726431125\n",
      "0.07395004913114538\n",
      "0.022200552920592673\n"
     ]
    }
   ],
   "source": [
    "linsvr = LinearSVR(C = 25)\n",
    "svr = SVR(kernel='rbf', C = 1, gamma=0.001)\n",
    "gbrt = GradientBoostingRegressor(max_depth=3, learning_rate=0.5, n_estimators=bst_n_estimators)\n",
    "\n",
    "lin_scores = cross_val_score(linsvr, x, y, scoring='neg_mean_squared_error',cv=5)\n",
    "svr_scores = cross_val_score(svr, x, y, scoring='neg_mean_squared_error',cv=5)\n",
    "gbrt_scores = cross_val_score(gbrt, x, y, scoring='neg_mean_squared_error',cv=5)\n",
    "\n",
    "print((-lin_scores.mean())**1/2)\n",
    "print((-svr_scores.mean())**1/2)\n",
    "print((-gbrt_scores.mean()**1/2))"
   ]
  },
  {
   "cell_type": "markdown",
   "metadata": {},
   "source": [
    "# 문제3"
   ]
  },
  {
   "cell_type": "code",
   "execution_count": 17,
   "metadata": {},
   "outputs": [
    {
     "data": {
      "text/html": [
       "<div>\n",
       "<style scoped>\n",
       "    .dataframe tbody tr th:only-of-type {\n",
       "        vertical-align: middle;\n",
       "    }\n",
       "\n",
       "    .dataframe tbody tr th {\n",
       "        vertical-align: top;\n",
       "    }\n",
       "\n",
       "    .dataframe thead th {\n",
       "        text-align: right;\n",
       "    }\n",
       "</style>\n",
       "<table border=\"1\" class=\"dataframe\">\n",
       "  <thead>\n",
       "    <tr style=\"text-align: right;\">\n",
       "      <th></th>\n",
       "      <th>code</th>\n",
       "      <th>clump</th>\n",
       "      <th>cell_size</th>\n",
       "      <th>cell_shape</th>\n",
       "      <th>adhesion</th>\n",
       "      <th>single</th>\n",
       "      <th>nuclei</th>\n",
       "      <th>chromatin</th>\n",
       "      <th>nucleoli</th>\n",
       "      <th>mitoses</th>\n",
       "      <th>class</th>\n",
       "    </tr>\n",
       "  </thead>\n",
       "  <tbody>\n",
       "    <tr>\n",
       "      <th>0</th>\n",
       "      <td>1000025</td>\n",
       "      <td>5</td>\n",
       "      <td>1</td>\n",
       "      <td>1</td>\n",
       "      <td>1</td>\n",
       "      <td>2</td>\n",
       "      <td>1</td>\n",
       "      <td>3</td>\n",
       "      <td>1</td>\n",
       "      <td>1</td>\n",
       "      <td>2</td>\n",
       "    </tr>\n",
       "    <tr>\n",
       "      <th>1</th>\n",
       "      <td>1002945</td>\n",
       "      <td>5</td>\n",
       "      <td>4</td>\n",
       "      <td>4</td>\n",
       "      <td>5</td>\n",
       "      <td>7</td>\n",
       "      <td>10</td>\n",
       "      <td>3</td>\n",
       "      <td>2</td>\n",
       "      <td>1</td>\n",
       "      <td>2</td>\n",
       "    </tr>\n",
       "    <tr>\n",
       "      <th>2</th>\n",
       "      <td>1015425</td>\n",
       "      <td>3</td>\n",
       "      <td>1</td>\n",
       "      <td>1</td>\n",
       "      <td>1</td>\n",
       "      <td>2</td>\n",
       "      <td>2</td>\n",
       "      <td>3</td>\n",
       "      <td>1</td>\n",
       "      <td>1</td>\n",
       "      <td>2</td>\n",
       "    </tr>\n",
       "    <tr>\n",
       "      <th>3</th>\n",
       "      <td>1016277</td>\n",
       "      <td>6</td>\n",
       "      <td>8</td>\n",
       "      <td>8</td>\n",
       "      <td>1</td>\n",
       "      <td>3</td>\n",
       "      <td>4</td>\n",
       "      <td>3</td>\n",
       "      <td>7</td>\n",
       "      <td>1</td>\n",
       "      <td>2</td>\n",
       "    </tr>\n",
       "    <tr>\n",
       "      <th>4</th>\n",
       "      <td>1017023</td>\n",
       "      <td>4</td>\n",
       "      <td>1</td>\n",
       "      <td>1</td>\n",
       "      <td>3</td>\n",
       "      <td>2</td>\n",
       "      <td>1</td>\n",
       "      <td>3</td>\n",
       "      <td>1</td>\n",
       "      <td>1</td>\n",
       "      <td>2</td>\n",
       "    </tr>\n",
       "  </tbody>\n",
       "</table>\n",
       "</div>"
      ],
      "text/plain": [
       "      code  clump  cell_size  cell_shape  adhesion  single  nuclei  chromatin  \\\n",
       "0  1000025      5          1           1         1       2       1          3   \n",
       "1  1002945      5          4           4         5       7      10          3   \n",
       "2  1015425      3          1           1         1       2       2          3   \n",
       "3  1016277      6          8           8         1       3       4          3   \n",
       "4  1017023      4          1           1         3       2       1          3   \n",
       "\n",
       "   nucleoli  mitoses  class  \n",
       "0         1        1      2  \n",
       "1         2        1      2  \n",
       "2         1        1      2  \n",
       "3         7        1      2  \n",
       "4         1        1      2  "
      ]
     },
     "execution_count": 17,
     "metadata": {},
     "output_type": "execute_result"
    }
   ],
   "source": [
    "bc = pd.read_csv('breast-cancer.csv')\n",
    "bc.head()"
   ]
  },
  {
   "cell_type": "code",
   "execution_count": 18,
   "metadata": {},
   "outputs": [],
   "source": [
    "bc['class'] = bc['class'].replace({2:0, 4:1})"
   ]
  },
  {
   "cell_type": "code",
   "execution_count": 19,
   "metadata": {},
   "outputs": [],
   "source": [
    "x = bc.drop(['code', 'class'], axis=1)\n",
    "y = bc['class']"
   ]
  },
  {
   "cell_type": "code",
   "execution_count": 20,
   "metadata": {},
   "outputs": [],
   "source": [
    "# GaussianNB\n",
    "gnb_bag = BaggingClassifier(GaussianNB(),\n",
    "                            n_estimators=200,\n",
    "                            max_features=4,\n",
    "                            max_samples=100,\n",
    "                            bootstrap=False)\n",
    "\n",
    "# SVC\n",
    "svc_bag = BaggingClassifier(SVC(),\n",
    "                            n_estimators=200,\n",
    "                            max_features=4,\n",
    "                            max_samples=100,\n",
    "                            bootstrap=False)\n",
    "\n",
    "# LinearSVC\n",
    "linsvc_bag = BaggingClassifier(LinearSVC(),\n",
    "                               n_estimators=200,\n",
    "                               max_features=4,\n",
    "                               max_samples=100,\n",
    "                               bootstrap=False)\n",
    "\n",
    "# DecisionTreeClassifier\n",
    "tree_bag = BaggingClassifier(DecisionTreeClassifier(),\n",
    "                             n_estimators=200,\n",
    "                             max_features=4,\n",
    "                             max_samples=100,\n",
    "                             bootstrap=False)\n",
    "\n",
    "# LogisticRegression\n",
    "log_bag = BaggingClassifier(LogisticRegression(),\n",
    "                            n_estimators=200,\n",
    "                            max_features=4,\n",
    "                            max_samples=100,\n",
    "                            bootstrap=False)"
   ]
  },
  {
   "cell_type": "code",
   "execution_count": 21,
   "metadata": {
    "scrolled": true
   },
   "outputs": [
    {
     "data": {
      "text/plain": [
       "0.9922095253533808"
      ]
     },
     "execution_count": 21,
     "metadata": {},
     "output_type": "execute_result"
    }
   ],
   "source": [
    "voting_clf = VotingClassifier(estimators = [('gnb', gnb_bag), \n",
    "                                            ('svc', svc_bag),\n",
    "                                            ('linsvc', linsvc_bag),\n",
    "                                            ('tree', tree_bag),\n",
    "                                            ('log', log_bag)], voting='soft')\n",
    "\n",
    "\n",
    "scores = cross_val_score(voting_clf, x, y, scoring='roc_auc',cv=5)\n",
    "scores.mean()"
   ]
  },
  {
   "cell_type": "markdown",
   "metadata": {},
   "source": [
    "# 문제4\n",
    "- 코드를 조금만 더 자세히 설명해주셨으면 좋겠습니다! 항상 감사합니다 :)"
   ]
  },
  {
   "cell_type": "code",
   "execution_count": null,
   "metadata": {},
   "outputs": [],
   "source": []
  }
 ],
 "metadata": {
  "kernelspec": {
   "display_name": "Python 3",
   "language": "python",
   "name": "python3"
  },
  "language_info": {
   "codemirror_mode": {
    "name": "ipython",
    "version": 3
   },
   "file_extension": ".py",
   "mimetype": "text/x-python",
   "name": "python",
   "nbconvert_exporter": "python",
   "pygments_lexer": "ipython3",
   "version": "3.7.7"
  }
 },
 "nbformat": 4,
 "nbformat_minor": 4
}
