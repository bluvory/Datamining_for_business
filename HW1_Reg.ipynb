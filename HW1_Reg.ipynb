{
 "cells": [
  {
   "cell_type": "markdown",
   "metadata": {},
   "source": [
    "customerRegressionFull.csv 는 다음과 같은 데이터를 포함하고 있다.\n",
    "\n",
    " \n",
    "\n",
    "- age: 고객의 나이\n",
    "\n",
    "- Computer: 가입 후 3개월간 컴퓨터 관련 제품 구매 회수\n",
    "\n",
    "- TV: 가입 후 3개월간 TV 관련 제품 구매 회수\n",
    "\n",
    "- Cellphone: 가입 후 3개월간 스마트폰 관련 제품 구매 회수\n",
    "\n",
    "- Software: 가입 후 3개월간 소프트웨어 관련 제품 구매 회수\n",
    "\n",
    "- Monetary3: 가입 후 3개월동안 총 구매금액\n",
    "\n",
    "- Monetary60: 가입 후 60개월동안 총 구매금액\n",
    "\n",
    " \n",
    "\n",
    "Monetary60 을 예측하고자 한다. Monetary60이 종속변수이고, 나머지 변수들은 독립변수 후보들이다. 탐색 및 다양한 방안을 통해 변수간의 관계를 파악하고, 회귀분석 모형을 학습한 후 모형의 성과를 측정하라. (Jupyter Notebook 파일로 제출하세요.)\n",
    "\n"
   ]
  },
  {
   "cell_type": "markdown",
   "metadata": {},
   "source": [
    "## 데이터 불러오기"
   ]
  },
  {
   "cell_type": "code",
   "execution_count": 68,
   "metadata": {},
   "outputs": [
    {
     "name": "stdout",
     "output_type": "stream",
     "text": [
      "<class 'pandas.core.frame.DataFrame'>\n",
      "RangeIndex: 13000 entries, 0 to 12999\n",
      "Data columns (total 8 columns):\n",
      " #   Column      Non-Null Count  Dtype  \n",
      "---  ------      --------------  -----  \n",
      " 0   age         13000 non-null  int64  \n",
      " 1   Computer    13000 non-null  int64  \n",
      " 2   TV          13000 non-null  int64  \n",
      " 3   Cellphone   13000 non-null  int64  \n",
      " 4   Software    13000 non-null  int64  \n",
      " 5   Frequency3  13000 non-null  int64  \n",
      " 6   Monetary3   13000 non-null  float64\n",
      " 7   Monetary60  13000 non-null  float64\n",
      "dtypes: float64(2), int64(6)\n",
      "memory usage: 812.6 KB\n"
     ]
    }
   ],
   "source": [
    "import pandas as pd\n",
    "\n",
    "custom = pd.read_csv('data/customerRegressionFull.csv')\n",
    "custom.info()"
   ]
  },
  {
   "cell_type": "code",
   "execution_count": 69,
   "metadata": {},
   "outputs": [
    {
     "data": {
      "text/html": [
       "<div>\n",
       "<style scoped>\n",
       "    .dataframe tbody tr th:only-of-type {\n",
       "        vertical-align: middle;\n",
       "    }\n",
       "\n",
       "    .dataframe tbody tr th {\n",
       "        vertical-align: top;\n",
       "    }\n",
       "\n",
       "    .dataframe thead th {\n",
       "        text-align: right;\n",
       "    }\n",
       "</style>\n",
       "<table border=\"1\" class=\"dataframe\">\n",
       "  <thead>\n",
       "    <tr style=\"text-align: right;\">\n",
       "      <th></th>\n",
       "      <th>age</th>\n",
       "      <th>Computer</th>\n",
       "      <th>TV</th>\n",
       "      <th>Cellphone</th>\n",
       "      <th>Software</th>\n",
       "      <th>Frequency3</th>\n",
       "      <th>Monetary3</th>\n",
       "      <th>Monetary60</th>\n",
       "    </tr>\n",
       "  </thead>\n",
       "  <tbody>\n",
       "    <tr>\n",
       "      <th>0</th>\n",
       "      <td>37</td>\n",
       "      <td>4</td>\n",
       "      <td>1</td>\n",
       "      <td>0</td>\n",
       "      <td>2</td>\n",
       "      <td>7</td>\n",
       "      <td>1.607621e+06</td>\n",
       "      <td>3.220018e+06</td>\n",
       "    </tr>\n",
       "    <tr>\n",
       "      <th>1</th>\n",
       "      <td>21</td>\n",
       "      <td>4</td>\n",
       "      <td>1</td>\n",
       "      <td>1</td>\n",
       "      <td>1</td>\n",
       "      <td>7</td>\n",
       "      <td>1.654844e+06</td>\n",
       "      <td>4.792484e+06</td>\n",
       "    </tr>\n",
       "    <tr>\n",
       "      <th>2</th>\n",
       "      <td>20</td>\n",
       "      <td>1</td>\n",
       "      <td>2</td>\n",
       "      <td>2</td>\n",
       "      <td>1</td>\n",
       "      <td>6</td>\n",
       "      <td>1.884846e+06</td>\n",
       "      <td>4.681646e+06</td>\n",
       "    </tr>\n",
       "    <tr>\n",
       "      <th>3</th>\n",
       "      <td>11</td>\n",
       "      <td>0</td>\n",
       "      <td>3</td>\n",
       "      <td>0</td>\n",
       "      <td>2</td>\n",
       "      <td>5</td>\n",
       "      <td>1.415478e+06</td>\n",
       "      <td>5.861252e+06</td>\n",
       "    </tr>\n",
       "    <tr>\n",
       "      <th>4</th>\n",
       "      <td>17</td>\n",
       "      <td>0</td>\n",
       "      <td>2</td>\n",
       "      <td>1</td>\n",
       "      <td>0</td>\n",
       "      <td>3</td>\n",
       "      <td>1.669848e+06</td>\n",
       "      <td>3.914121e+06</td>\n",
       "    </tr>\n",
       "    <tr>\n",
       "      <th>...</th>\n",
       "      <td>...</td>\n",
       "      <td>...</td>\n",
       "      <td>...</td>\n",
       "      <td>...</td>\n",
       "      <td>...</td>\n",
       "      <td>...</td>\n",
       "      <td>...</td>\n",
       "      <td>...</td>\n",
       "    </tr>\n",
       "    <tr>\n",
       "      <th>12995</th>\n",
       "      <td>33</td>\n",
       "      <td>4</td>\n",
       "      <td>0</td>\n",
       "      <td>0</td>\n",
       "      <td>3</td>\n",
       "      <td>7</td>\n",
       "      <td>1.371567e+06</td>\n",
       "      <td>3.419460e+06</td>\n",
       "    </tr>\n",
       "    <tr>\n",
       "      <th>12996</th>\n",
       "      <td>21</td>\n",
       "      <td>3</td>\n",
       "      <td>3</td>\n",
       "      <td>1</td>\n",
       "      <td>7</td>\n",
       "      <td>14</td>\n",
       "      <td>2.168963e+06</td>\n",
       "      <td>1.560902e+06</td>\n",
       "    </tr>\n",
       "    <tr>\n",
       "      <th>12997</th>\n",
       "      <td>20</td>\n",
       "      <td>6</td>\n",
       "      <td>0</td>\n",
       "      <td>1</td>\n",
       "      <td>5</td>\n",
       "      <td>12</td>\n",
       "      <td>1.727812e+06</td>\n",
       "      <td>6.001207e+06</td>\n",
       "    </tr>\n",
       "    <tr>\n",
       "      <th>12998</th>\n",
       "      <td>27</td>\n",
       "      <td>5</td>\n",
       "      <td>2</td>\n",
       "      <td>1</td>\n",
       "      <td>6</td>\n",
       "      <td>14</td>\n",
       "      <td>2.795228e+06</td>\n",
       "      <td>8.306028e+06</td>\n",
       "    </tr>\n",
       "    <tr>\n",
       "      <th>12999</th>\n",
       "      <td>23</td>\n",
       "      <td>0</td>\n",
       "      <td>1</td>\n",
       "      <td>1</td>\n",
       "      <td>3</td>\n",
       "      <td>5</td>\n",
       "      <td>1.296284e+06</td>\n",
       "      <td>5.538311e+06</td>\n",
       "    </tr>\n",
       "  </tbody>\n",
       "</table>\n",
       "<p>13000 rows × 8 columns</p>\n",
       "</div>"
      ],
      "text/plain": [
       "       age  Computer  TV  Cellphone  Software  Frequency3     Monetary3  \\\n",
       "0       37         4   1          0         2           7  1.607621e+06   \n",
       "1       21         4   1          1         1           7  1.654844e+06   \n",
       "2       20         1   2          2         1           6  1.884846e+06   \n",
       "3       11         0   3          0         2           5  1.415478e+06   \n",
       "4       17         0   2          1         0           3  1.669848e+06   \n",
       "...    ...       ...  ..        ...       ...         ...           ...   \n",
       "12995   33         4   0          0         3           7  1.371567e+06   \n",
       "12996   21         3   3          1         7          14  2.168963e+06   \n",
       "12997   20         6   0          1         5          12  1.727812e+06   \n",
       "12998   27         5   2          1         6          14  2.795228e+06   \n",
       "12999   23         0   1          1         3           5  1.296284e+06   \n",
       "\n",
       "         Monetary60  \n",
       "0      3.220018e+06  \n",
       "1      4.792484e+06  \n",
       "2      4.681646e+06  \n",
       "3      5.861252e+06  \n",
       "4      3.914121e+06  \n",
       "...             ...  \n",
       "12995  3.419460e+06  \n",
       "12996  1.560902e+06  \n",
       "12997  6.001207e+06  \n",
       "12998  8.306028e+06  \n",
       "12999  5.538311e+06  \n",
       "\n",
       "[13000 rows x 8 columns]"
      ]
     },
     "execution_count": 69,
     "metadata": {},
     "output_type": "execute_result"
    }
   ],
   "source": [
    "custom"
   ]
  },
  {
   "cell_type": "code",
   "execution_count": 38,
   "metadata": {},
   "outputs": [],
   "source": [
    "# train : test = 7 : 3\n",
    "custom_train = custom.iloc[:9100]\n",
    "custom_test = custom.iloc[9100:]"
   ]
  },
  {
   "cell_type": "markdown",
   "metadata": {},
   "source": [
    "## 시각화 및 상관관계 계수 활용"
   ]
  },
  {
   "cell_type": "code",
   "execution_count": 4,
   "metadata": {
    "scrolled": true
   },
   "outputs": [
    {
     "data": {
      "text/plain": [
       "array([[<matplotlib.axes._subplots.AxesSubplot object at 0x000001C6522739C8>,\n",
       "        <matplotlib.axes._subplots.AxesSubplot object at 0x000001C651F23388>,\n",
       "        <matplotlib.axes._subplots.AxesSubplot object at 0x000001C652B05508>,\n",
       "        <matplotlib.axes._subplots.AxesSubplot object at 0x000001C652B3F3C8>,\n",
       "        <matplotlib.axes._subplots.AxesSubplot object at 0x000001C652B76248>,\n",
       "        <matplotlib.axes._subplots.AxesSubplot object at 0x000001C652BABF08>,\n",
       "        <matplotlib.axes._subplots.AxesSubplot object at 0x000001C652BE3F08>,\n",
       "        <matplotlib.axes._subplots.AxesSubplot object at 0x000001C652C1CC48>],\n",
       "       [<matplotlib.axes._subplots.AxesSubplot object at 0x000001C652C1CE48>,\n",
       "        <matplotlib.axes._subplots.AxesSubplot object at 0x000001C652C55DC8>,\n",
       "        <matplotlib.axes._subplots.AxesSubplot object at 0x000001C652CC6888>,\n",
       "        <matplotlib.axes._subplots.AxesSubplot object at 0x000001C652D01748>,\n",
       "        <matplotlib.axes._subplots.AxesSubplot object at 0x000001C652D3C5C8>,\n",
       "        <matplotlib.axes._subplots.AxesSubplot object at 0x000001C652D74488>,\n",
       "        <matplotlib.axes._subplots.AxesSubplot object at 0x000001C652DAE348>,\n",
       "        <matplotlib.axes._subplots.AxesSubplot object at 0x000001C652DE0FC8>],\n",
       "       [<matplotlib.axes._subplots.AxesSubplot object at 0x000001C652CFA048>,\n",
       "        <matplotlib.axes._subplots.AxesSubplot object at 0x000001C652E43608>,\n",
       "        <matplotlib.axes._subplots.AxesSubplot object at 0x000001C652E7C4C8>,\n",
       "        <matplotlib.axes._subplots.AxesSubplot object at 0x000001C652EB4348>,\n",
       "        <matplotlib.axes._subplots.AxesSubplot object at 0x000001C652EEF1C8>,\n",
       "        <matplotlib.axes._subplots.AxesSubplot object at 0x000001C652F22F08>,\n",
       "        <matplotlib.axes._subplots.AxesSubplot object at 0x000001C652F5BE88>,\n",
       "        <matplotlib.axes._subplots.AxesSubplot object at 0x000001C652F95D48>],\n",
       "       [<matplotlib.axes._subplots.AxesSubplot object at 0x000001C652FCDC08>,\n",
       "        <matplotlib.axes._subplots.AxesSubplot object at 0x000001C653007A88>,\n",
       "        <matplotlib.axes._subplots.AxesSubplot object at 0x000001C65303F8C8>,\n",
       "        <matplotlib.axes._subplots.AxesSubplot object at 0x000001C65307A748>,\n",
       "        <matplotlib.axes._subplots.AxesSubplot object at 0x000001C6530B25C8>,\n",
       "        <matplotlib.axes._subplots.AxesSubplot object at 0x000001C6530ED488>,\n",
       "        <matplotlib.axes._subplots.AxesSubplot object at 0x000001C653126308>,\n",
       "        <matplotlib.axes._subplots.AxesSubplot object at 0x000001C65315F188>],\n",
       "       [<matplotlib.axes._subplots.AxesSubplot object at 0x000001C653191FC8>,\n",
       "        <matplotlib.axes._subplots.AxesSubplot object at 0x000001C6531CAE48>,\n",
       "        <matplotlib.axes._subplots.AxesSubplot object at 0x000001C653205D08>,\n",
       "        <matplotlib.axes._subplots.AxesSubplot object at 0x000001C65323EB88>,\n",
       "        <matplotlib.axes._subplots.AxesSubplot object at 0x000001C653277A08>,\n",
       "        <matplotlib.axes._subplots.AxesSubplot object at 0x000001C6532B1888>,\n",
       "        <matplotlib.axes._subplots.AxesSubplot object at 0x000001C6532E7708>,\n",
       "        <matplotlib.axes._subplots.AxesSubplot object at 0x000001C6533225C8>],\n",
       "       [<matplotlib.axes._subplots.AxesSubplot object at 0x000001C65335A448>,\n",
       "        <matplotlib.axes._subplots.AxesSubplot object at 0x000001C6533962C8>,\n",
       "        <matplotlib.axes._subplots.AxesSubplot object at 0x000001C6533CF148>,\n",
       "        <matplotlib.axes._subplots.AxesSubplot object at 0x000001C653401F88>,\n",
       "        <matplotlib.axes._subplots.AxesSubplot object at 0x000001C65343BE48>,\n",
       "        <matplotlib.axes._subplots.AxesSubplot object at 0x000001C653474A88>,\n",
       "        <matplotlib.axes._subplots.AxesSubplot object at 0x000001C6534AC7C8>,\n",
       "        <matplotlib.axes._subplots.AxesSubplot object at 0x000001C6534E6588>],\n",
       "       [<matplotlib.axes._subplots.AxesSubplot object at 0x000001C65351F308>,\n",
       "        <matplotlib.axes._subplots.AxesSubplot object at 0x000001C653551F48>,\n",
       "        <matplotlib.axes._subplots.AxesSubplot object at 0x000001C65358AE08>,\n",
       "        <matplotlib.axes._subplots.AxesSubplot object at 0x000001C6535C2B08>,\n",
       "        <matplotlib.axes._subplots.AxesSubplot object at 0x000001C6535F9888>,\n",
       "        <matplotlib.axes._subplots.AxesSubplot object at 0x000001C653631608>,\n",
       "        <matplotlib.axes._subplots.AxesSubplot object at 0x000001C65366B3C8>,\n",
       "        <matplotlib.axes._subplots.AxesSubplot object at 0x000001C6536A5148>],\n",
       "       [<matplotlib.axes._subplots.AxesSubplot object at 0x000001C6536D4E48>,\n",
       "        <matplotlib.axes._subplots.AxesSubplot object at 0x000001C65370FC08>,\n",
       "        <matplotlib.axes._subplots.AxesSubplot object at 0x000001C653748988>,\n",
       "        <matplotlib.axes._subplots.AxesSubplot object at 0x000001C653780708>,\n",
       "        <matplotlib.axes._subplots.AxesSubplot object at 0x000001C6537B9488>,\n",
       "        <matplotlib.axes._subplots.AxesSubplot object at 0x000001C6537F1248>,\n",
       "        <matplotlib.axes._subplots.AxesSubplot object at 0x000001C653824F08>,\n",
       "        <matplotlib.axes._subplots.AxesSubplot object at 0x000001C65385DC88>]],\n",
       "      dtype=object)"
      ]
     },
     "execution_count": 4,
     "metadata": {},
     "output_type": "execute_result"
    },
    {
     "data": {
      "image/png": "[encoded data removed]",
      "text/plain": [
       "<Figure size 432x432 with 64 Axes>"
      ]
     },
     "metadata": {
      "needs_background": "light"
     },
     "output_type": "display_data"
    }
   ],
   "source": [
    "from pandas.plotting import scatter_matrix\n",
    "\n",
    "scatter_matrix(custom_train, figsize=(6,6))"
   ]
  },
  {
   "cell_type": "code",
   "execution_count": 39,
   "metadata": {},
   "outputs": [
    {
     "data": {
      "text/html": [
       "<div>\n",
       "<style scoped>\n",
       "    .dataframe tbody tr th:only-of-type {\n",
       "        vertical-align: middle;\n",
       "    }\n",
       "\n",
       "    .dataframe tbody tr th {\n",
       "        vertical-align: top;\n",
       "    }\n",
       "\n",
       "    .dataframe thead th {\n",
       "        text-align: right;\n",
       "    }\n",
       "</style>\n",
       "<table border=\"1\" class=\"dataframe\">\n",
       "  <thead>\n",
       "    <tr style=\"text-align: right;\">\n",
       "      <th></th>\n",
       "      <th>age</th>\n",
       "      <th>Computer</th>\n",
       "      <th>TV</th>\n",
       "      <th>Cellphone</th>\n",
       "      <th>Software</th>\n",
       "      <th>Frequency3</th>\n",
       "      <th>Monetary3</th>\n",
       "      <th>Monetary60</th>\n",
       "    </tr>\n",
       "  </thead>\n",
       "  <tbody>\n",
       "    <tr>\n",
       "      <th>age</th>\n",
       "      <td>1.000000</td>\n",
       "      <td>-0.001052</td>\n",
       "      <td>-0.003238</td>\n",
       "      <td>0.009303</td>\n",
       "      <td>0.001331</td>\n",
       "      <td>0.001482</td>\n",
       "      <td>0.006117</td>\n",
       "      <td>0.013316</td>\n",
       "    </tr>\n",
       "    <tr>\n",
       "      <th>Computer</th>\n",
       "      <td>-0.001052</td>\n",
       "      <td>1.000000</td>\n",
       "      <td>-0.013761</td>\n",
       "      <td>0.001833</td>\n",
       "      <td>-0.001256</td>\n",
       "      <td>0.591545</td>\n",
       "      <td>0.424226</td>\n",
       "      <td>0.294160</td>\n",
       "    </tr>\n",
       "    <tr>\n",
       "      <th>TV</th>\n",
       "      <td>-0.003238</td>\n",
       "      <td>-0.013761</td>\n",
       "      <td>1.000000</td>\n",
       "      <td>-0.000837</td>\n",
       "      <td>-0.006164</td>\n",
       "      <td>0.324129</td>\n",
       "      <td>0.232489</td>\n",
       "      <td>0.142575</td>\n",
       "    </tr>\n",
       "    <tr>\n",
       "      <th>Cellphone</th>\n",
       "      <td>0.009303</td>\n",
       "      <td>0.001833</td>\n",
       "      <td>-0.000837</td>\n",
       "      <td>1.000000</td>\n",
       "      <td>0.029428</td>\n",
       "      <td>0.266939</td>\n",
       "      <td>0.206413</td>\n",
       "      <td>0.124040</td>\n",
       "    </tr>\n",
       "    <tr>\n",
       "      <th>Software</th>\n",
       "      <td>0.001331</td>\n",
       "      <td>-0.001256</td>\n",
       "      <td>-0.006164</td>\n",
       "      <td>0.029428</td>\n",
       "      <td>1.000000</td>\n",
       "      <td>0.689433</td>\n",
       "      <td>0.499916</td>\n",
       "      <td>0.342308</td>\n",
       "    </tr>\n",
       "    <tr>\n",
       "      <th>Frequency3</th>\n",
       "      <td>0.001482</td>\n",
       "      <td>0.591545</td>\n",
       "      <td>0.324129</td>\n",
       "      <td>0.266939</td>\n",
       "      <td>0.689433</td>\n",
       "      <td>1.000000</td>\n",
       "      <td>0.724607</td>\n",
       "      <td>0.488505</td>\n",
       "    </tr>\n",
       "    <tr>\n",
       "      <th>Monetary3</th>\n",
       "      <td>0.006117</td>\n",
       "      <td>0.424226</td>\n",
       "      <td>0.232489</td>\n",
       "      <td>0.206413</td>\n",
       "      <td>0.499916</td>\n",
       "      <td>0.724607</td>\n",
       "      <td>1.000000</td>\n",
       "      <td>0.348489</td>\n",
       "    </tr>\n",
       "    <tr>\n",
       "      <th>Monetary60</th>\n",
       "      <td>0.013316</td>\n",
       "      <td>0.294160</td>\n",
       "      <td>0.142575</td>\n",
       "      <td>0.124040</td>\n",
       "      <td>0.342308</td>\n",
       "      <td>0.488505</td>\n",
       "      <td>0.348489</td>\n",
       "      <td>1.000000</td>\n",
       "    </tr>\n",
       "  </tbody>\n",
       "</table>\n",
       "</div>"
      ],
      "text/plain": [
       "                 age  Computer        TV  Cellphone  Software  Frequency3  \\\n",
       "age         1.000000 -0.001052 -0.003238   0.009303  0.001331    0.001482   \n",
       "Computer   -0.001052  1.000000 -0.013761   0.001833 -0.001256    0.591545   \n",
       "TV         -0.003238 -0.013761  1.000000  -0.000837 -0.006164    0.324129   \n",
       "Cellphone   0.009303  0.001833 -0.000837   1.000000  0.029428    0.266939   \n",
       "Software    0.001331 -0.001256 -0.006164   0.029428  1.000000    0.689433   \n",
       "Frequency3  0.001482  0.591545  0.324129   0.266939  0.689433    1.000000   \n",
       "Monetary3   0.006117  0.424226  0.232489   0.206413  0.499916    0.724607   \n",
       "Monetary60  0.013316  0.294160  0.142575   0.124040  0.342308    0.488505   \n",
       "\n",
       "            Monetary3  Monetary60  \n",
       "age          0.006117    0.013316  \n",
       "Computer     0.424226    0.294160  \n",
       "TV           0.232489    0.142575  \n",
       "Cellphone    0.206413    0.124040  \n",
       "Software     0.499916    0.342308  \n",
       "Frequency3   0.724607    0.488505  \n",
       "Monetary3    1.000000    0.348489  \n",
       "Monetary60   0.348489    1.000000  "
      ]
     },
     "execution_count": 39,
     "metadata": {},
     "output_type": "execute_result"
    }
   ],
   "source": [
    "custom_train.corr(method='pearson')"
   ]
  },
  {
   "cell_type": "code",
   "execution_count": 40,
   "metadata": {
    "scrolled": false
   },
   "outputs": [
    {
     "data": {
      "image/png": "[encoded data removed]",
      "text/plain": [
       "<Figure size 576x576 with 2 Axes>"
      ]
     },
     "metadata": {
      "needs_background": "light"
     },
     "output_type": "display_data"
    }
   ],
   "source": [
    "import seaborn as sns\n",
    "import matplotlib.pyplot as plt\n",
    "\n",
    "plt.figure(figsize=(8,8))\n",
    "cor = custom_train.corr()\n",
    "sns.heatmap(cor, annot=True, cmap=plt.cm.Reds)\n",
    "plt.show()"
   ]
  },
  {
   "cell_type": "markdown",
   "metadata": {},
   "source": [
    "## 다중 공선성 확인"
   ]
  },
  {
   "cell_type": "code",
   "execution_count": 41,
   "metadata": {},
   "outputs": [
    {
     "name": "stdout",
     "output_type": "stream",
     "text": [
      "    variables        VIF\n",
      "0         age   6.538816\n",
      "1    Computer        inf\n",
      "2          TV        inf\n",
      "3   Cellphone        inf\n",
      "4    Software        inf\n",
      "5  Frequency3        inf\n",
      "6   Monetary3  25.514550\n",
      "7  Monetary60  10.524712\n"
     ]
    },
    {
     "name": "stderr",
     "output_type": "stream",
     "text": [
      "C:\\Users\\eunbi\\Anaconda3\\lib\\site-packages\\statsmodels\\stats\\outliers_influence.py:193: RuntimeWarning: divide by zero encountered in double_scalars\n",
      "  vif = 1. / (1. - r_squared_i)\n"
     ]
    }
   ],
   "source": [
    "from statsmodels.stats.outliers_influence import variance_inflation_factor\n",
    "\n",
    "def calc_vif(inputs):\n",
    "\n",
    "    vif = pd.DataFrame()\n",
    "    vif[\"variables\"] = inputs.columns\n",
    "    vif[\"VIF\"] = [variance_inflation_factor(inputs.values, i) for i in range(inputs.shape[1])]\n",
    "\n",
    "    return vif\n",
    "\n",
    "print(calc_vif(custom))\n",
    "\n",
    "# Computer + TV + Cellphone + Software = Frequency3\n",
    "# 상관관계가 매우 크기 때문에 vif가 크게 나와서 inf(오버플로우)가 나온다"
   ]
  },
  {
   "cell_type": "code",
   "execution_count": 42,
   "metadata": {},
   "outputs": [
    {
     "name": "stderr",
     "output_type": "stream",
     "text": [
      "C:\\Users\\eunbi\\Anaconda3\\lib\\site-packages\\statsmodels\\stats\\outliers_influence.py:193: RuntimeWarning: divide by zero encountered in double_scalars\n",
      "  vif = 1. / (1. - r_squared_i)\n"
     ]
    },
    {
     "data": {
      "text/html": [
       "<div>\n",
       "<style scoped>\n",
       "    .dataframe tbody tr th:only-of-type {\n",
       "        vertical-align: middle;\n",
       "    }\n",
       "\n",
       "    .dataframe tbody tr th {\n",
       "        vertical-align: top;\n",
       "    }\n",
       "\n",
       "    .dataframe thead th {\n",
       "        text-align: right;\n",
       "    }\n",
       "</style>\n",
       "<table border=\"1\" class=\"dataframe\">\n",
       "  <thead>\n",
       "    <tr style=\"text-align: right;\">\n",
       "      <th></th>\n",
       "      <th>variables</th>\n",
       "      <th>VIF</th>\n",
       "    </tr>\n",
       "  </thead>\n",
       "  <tbody>\n",
       "    <tr>\n",
       "      <th>0</th>\n",
       "      <td>age</td>\n",
       "      <td>6.273384</td>\n",
       "    </tr>\n",
       "    <tr>\n",
       "      <th>1</th>\n",
       "      <td>Computer</td>\n",
       "      <td>inf</td>\n",
       "    </tr>\n",
       "    <tr>\n",
       "      <th>2</th>\n",
       "      <td>TV</td>\n",
       "      <td>inf</td>\n",
       "    </tr>\n",
       "    <tr>\n",
       "      <th>3</th>\n",
       "      <td>Cellphone</td>\n",
       "      <td>inf</td>\n",
       "    </tr>\n",
       "    <tr>\n",
       "      <th>4</th>\n",
       "      <td>Software</td>\n",
       "      <td>inf</td>\n",
       "    </tr>\n",
       "    <tr>\n",
       "      <th>5</th>\n",
       "      <td>Frequency3</td>\n",
       "      <td>inf</td>\n",
       "    </tr>\n",
       "    <tr>\n",
       "      <th>6</th>\n",
       "      <td>Monetary3</td>\n",
       "      <td>24.175428</td>\n",
       "    </tr>\n",
       "  </tbody>\n",
       "</table>\n",
       "</div>"
      ],
      "text/plain": [
       "    variables        VIF\n",
       "0         age   6.273384\n",
       "1    Computer        inf\n",
       "2          TV        inf\n",
       "3   Cellphone        inf\n",
       "4    Software        inf\n",
       "5  Frequency3        inf\n",
       "6   Monetary3  24.175428"
      ]
     },
     "execution_count": 42,
     "metadata": {},
     "output_type": "execute_result"
    }
   ],
   "source": [
    "calc_vif(custom.drop(['Monetary60'], axis=1))"
   ]
  },
  {
   "cell_type": "markdown",
   "metadata": {},
   "source": [
    "## 독립변수 제거 방안 - 후진 제거법"
   ]
  },
  {
   "cell_type": "code",
   "execution_count": 43,
   "metadata": {},
   "outputs": [
    {
     "data": {
      "text/html": [
       "<div>\n",
       "<style scoped>\n",
       "    .dataframe tbody tr th:only-of-type {\n",
       "        vertical-align: middle;\n",
       "    }\n",
       "\n",
       "    .dataframe tbody tr th {\n",
       "        vertical-align: top;\n",
       "    }\n",
       "\n",
       "    .dataframe thead th {\n",
       "        text-align: right;\n",
       "    }\n",
       "</style>\n",
       "<table border=\"1\" class=\"dataframe\">\n",
       "  <thead>\n",
       "    <tr style=\"text-align: right;\">\n",
       "      <th></th>\n",
       "      <th>age</th>\n",
       "      <th>Computer</th>\n",
       "      <th>TV</th>\n",
       "      <th>Cellphone</th>\n",
       "      <th>Software</th>\n",
       "      <th>Frequency3</th>\n",
       "      <th>Monetary3</th>\n",
       "      <th>Monetary60</th>\n",
       "    </tr>\n",
       "  </thead>\n",
       "  <tbody>\n",
       "    <tr>\n",
       "      <th>0</th>\n",
       "      <td>37</td>\n",
       "      <td>4</td>\n",
       "      <td>1</td>\n",
       "      <td>0</td>\n",
       "      <td>2</td>\n",
       "      <td>7</td>\n",
       "      <td>1.607621e+06</td>\n",
       "      <td>3.220018e+06</td>\n",
       "    </tr>\n",
       "    <tr>\n",
       "      <th>1</th>\n",
       "      <td>21</td>\n",
       "      <td>4</td>\n",
       "      <td>1</td>\n",
       "      <td>1</td>\n",
       "      <td>1</td>\n",
       "      <td>7</td>\n",
       "      <td>1.654844e+06</td>\n",
       "      <td>4.792484e+06</td>\n",
       "    </tr>\n",
       "    <tr>\n",
       "      <th>2</th>\n",
       "      <td>20</td>\n",
       "      <td>1</td>\n",
       "      <td>2</td>\n",
       "      <td>2</td>\n",
       "      <td>1</td>\n",
       "      <td>6</td>\n",
       "      <td>1.884846e+06</td>\n",
       "      <td>4.681646e+06</td>\n",
       "    </tr>\n",
       "    <tr>\n",
       "      <th>3</th>\n",
       "      <td>11</td>\n",
       "      <td>0</td>\n",
       "      <td>3</td>\n",
       "      <td>0</td>\n",
       "      <td>2</td>\n",
       "      <td>5</td>\n",
       "      <td>1.415478e+06</td>\n",
       "      <td>5.861252e+06</td>\n",
       "    </tr>\n",
       "    <tr>\n",
       "      <th>4</th>\n",
       "      <td>17</td>\n",
       "      <td>0</td>\n",
       "      <td>2</td>\n",
       "      <td>1</td>\n",
       "      <td>0</td>\n",
       "      <td>3</td>\n",
       "      <td>1.669848e+06</td>\n",
       "      <td>3.914121e+06</td>\n",
       "    </tr>\n",
       "  </tbody>\n",
       "</table>\n",
       "</div>"
      ],
      "text/plain": [
       "   age  Computer  TV  Cellphone  Software  Frequency3     Monetary3  \\\n",
       "0   37         4   1          0         2           7  1.607621e+06   \n",
       "1   21         4   1          1         1           7  1.654844e+06   \n",
       "2   20         1   2          2         1           6  1.884846e+06   \n",
       "3   11         0   3          0         2           5  1.415478e+06   \n",
       "4   17         0   2          1         0           3  1.669848e+06   \n",
       "\n",
       "     Monetary60  \n",
       "0  3.220018e+06  \n",
       "1  4.792484e+06  \n",
       "2  4.681646e+06  \n",
       "3  5.861252e+06  \n",
       "4  3.914121e+06  "
      ]
     },
     "execution_count": 43,
     "metadata": {},
     "output_type": "execute_result"
    }
   ],
   "source": [
    "custom_train.head()"
   ]
  },
  {
   "cell_type": "code",
   "execution_count": 44,
   "metadata": {},
   "outputs": [
    {
     "data": {
      "text/plain": [
       "const         1.029351e-304\n",
       "age            5.986434e-01\n",
       "Computer       5.591647e-21\n",
       "TV             1.349628e-02\n",
       "Cellphone      4.367822e-06\n",
       "Software       3.133203e-17\n",
       "Frequency3    9.422394e-283\n",
       "Monetary3      3.766259e-01\n",
       "dtype: float64"
      ]
     },
     "execution_count": 44,
     "metadata": {},
     "output_type": "execute_result"
    }
   ],
   "source": [
    "import statsmodels.api as sm\n",
    "\n",
    "x = custom[['age', 'Computer', 'TV', 'Cellphone', 'Software', 'Frequency3', 'Monetary3']]\n",
    "y = custom['Monetary60']\n",
    "X = sm.add_constant(x)\n",
    "\n",
    "model = sm.OLS(y,X).fit()\n",
    "model.pvalues"
   ]
  },
  {
   "cell_type": "code",
   "execution_count": 45,
   "metadata": {},
   "outputs": [
    {
     "data": {
      "text/plain": [
       "const          0.000000e+00\n",
       "Computer       5.522017e-21\n",
       "TV             1.367830e-02\n",
       "Cellphone      4.237460e-06\n",
       "Software       3.255625e-17\n",
       "Frequency3    8.939045e-283\n",
       "Monetary3      3.796395e-01\n",
       "dtype: float64"
      ]
     },
     "execution_count": 45,
     "metadata": {},
     "output_type": "execute_result"
    }
   ],
   "source": [
    "X = X.drop(['age'],axis=1)\n",
    "model = sm.OLS(y,X).fit()\n",
    "model.pvalues"
   ]
  },
  {
   "cell_type": "code",
   "execution_count": 46,
   "metadata": {},
   "outputs": [
    {
     "data": {
      "text/plain": [
       "const         0.000000e+00\n",
       "Computer      4.330879e-03\n",
       "Cellphone     7.049326e-02\n",
       "Software      2.974251e-02\n",
       "Frequency3    9.510918e-74\n",
       "Monetary3     3.796395e-01\n",
       "dtype: float64"
      ]
     },
     "execution_count": 46,
     "metadata": {},
     "output_type": "execute_result"
    }
   ],
   "source": [
    "X = X.drop(['TV'],axis=1)\n",
    "model = sm.OLS(y,X).fit()\n",
    "model.pvalues"
   ]
  },
  {
   "cell_type": "code",
   "execution_count": 47,
   "metadata": {},
   "outputs": [
    {
     "data": {
      "text/plain": [
       "const          0.000000e+00\n",
       "Computer       2.501199e-02\n",
       "Software       1.505804e-01\n",
       "Frequency3    3.021467e-116\n",
       "Monetary3      3.967290e-01\n",
       "dtype: float64"
      ]
     },
     "execution_count": 47,
     "metadata": {},
     "output_type": "execute_result"
    }
   ],
   "source": [
    "X = X.drop(['Cellphone'],axis=1)\n",
    "model = sm.OLS(y,X).fit()\n",
    "model.pvalues"
   ]
  },
  {
   "cell_type": "code",
   "execution_count": 79,
   "metadata": {},
   "outputs": [
    {
     "data": {
      "text/plain": [
       "const         1.213777e-295\n",
       "Software       4.048353e-01\n",
       "Frequency3    7.828554e-199\n",
       "Monetary3      3.840496e-01\n",
       "dtype: float64"
      ]
     },
     "execution_count": 79,
     "metadata": {},
     "output_type": "execute_result"
    }
   ],
   "source": [
    "X = X.drop(['Computer'],axis=1)\n",
    "model = sm.OLS(y,X).fit()\n",
    "model.pvalues"
   ]
  },
  {
   "cell_type": "markdown",
   "metadata": {},
   "source": [
    "## 학습"
   ]
  },
  {
   "cell_type": "code",
   "execution_count": 12,
   "metadata": {},
   "outputs": [
    {
     "name": "stdout",
     "output_type": "stream",
     "text": [
      "MAE :  1406814.2588784953\n",
      "RMSE :  1780148.7753031473\n",
      "MAPE :  38.710402943371506\n"
     ]
    }
   ],
   "source": [
    "import statsmodels.api as sm\n",
    "import math\n",
    "\n",
    "x = custom_train[['Software', 'Frequency3', 'Monetary3']]\n",
    "y = custom_train['Monetary60']\n",
    "X = sm.add_constant(x)\n",
    "\n",
    "model = sm.OLS(y,X).fit()\n",
    "predictions = model.predict(X)\n",
    "\n",
    "x_test = custom_train[['Software', 'Frequency3', 'Monetary3']]\n",
    "y_test = custom_train['Monetary60']\n",
    "X_test = sm.add_constant(x_test)\n",
    "\n",
    "test_prediction = model.predict(X_test)\n",
    "\n",
    "mae = sum( abs(test_prediction - y_test) / len(test_prediction) )\n",
    "rmse = math.sqrt( sum((test_prediction - y_test)**2) / len(test_prediction) )\n",
    "mape = ( (abs(test_prediction - y_test)/y_test)*100 ).mean()\n",
    "\n",
    "print('MAE : ', mae)\n",
    "print('RMSE : ', rmse)\n",
    "print('MAPE : ', mape)"
   ]
  },
  {
   "cell_type": "code",
   "execution_count": 13,
   "metadata": {},
   "outputs": [
    {
     "data": {
      "text/html": [
       "<table class=\"simpletable\">\n",
       "<caption>OLS Regression Results</caption>\n",
       "<tr>\n",
       "  <th>Dep. Variable:</th>       <td>Monetary60</td>    <th>  R-squared:         </th>  <td>   0.239</td>  \n",
       "</tr>\n",
       "<tr>\n",
       "  <th>Model:</th>                   <td>OLS</td>       <th>  Adj. R-squared:    </th>  <td>   0.239</td>  \n",
       "</tr>\n",
       "<tr>\n",
       "  <th>Method:</th>             <td>Least Squares</td>  <th>  F-statistic:       </th>  <td>   951.0</td>  \n",
       "</tr>\n",
       "<tr>\n",
       "  <th>Date:</th>             <td>Tue, 15 Sep 2020</td> <th>  Prob (F-statistic):</th>   <td>  0.00</td>   \n",
       "</tr>\n",
       "<tr>\n",
       "  <th>Time:</th>                 <td>23:03:11</td>     <th>  Log-Likelihood:    </th> <td>-1.4388e+05</td>\n",
       "</tr>\n",
       "<tr>\n",
       "  <th>No. Observations:</th>      <td>  9100</td>      <th>  AIC:               </th>  <td>2.878e+05</td> \n",
       "</tr>\n",
       "<tr>\n",
       "  <th>Df Residuals:</th>          <td>  9096</td>      <th>  BIC:               </th>  <td>2.878e+05</td> \n",
       "</tr>\n",
       "<tr>\n",
       "  <th>Df Model:</th>              <td>     3</td>      <th>                     </th>      <td> </td>     \n",
       "</tr>\n",
       "<tr>\n",
       "  <th>Covariance Type:</th>      <td>nonrobust</td>    <th>                     </th>      <td> </td>     \n",
       "</tr>\n",
       "</table>\n",
       "<table class=\"simpletable\">\n",
       "<tr>\n",
       "       <td></td>         <th>coef</th>     <th>std err</th>      <th>t</th>      <th>P>|t|</th>  <th>[0.025</th>    <th>0.975]</th>  \n",
       "</tr>\n",
       "<tr>\n",
       "  <th>const</th>      <td> 3.058e+06</td> <td> 8.02e+04</td> <td>   38.157</td> <td> 0.000</td> <td>  2.9e+06</td> <td> 3.22e+06</td>\n",
       "</tr>\n",
       "<tr>\n",
       "  <th>Software</th>   <td> 9410.1426</td> <td> 1.13e+04</td> <td>    0.833</td> <td> 0.405</td> <td>-1.27e+04</td> <td> 3.16e+04</td>\n",
       "</tr>\n",
       "<tr>\n",
       "  <th>Frequency3</th> <td>     3e+05</td> <td> 9724.311</td> <td>   30.849</td> <td> 0.000</td> <td> 2.81e+05</td> <td> 3.19e+05</td>\n",
       "</tr>\n",
       "<tr>\n",
       "  <th>Monetary3</th>  <td>   -0.0512</td> <td>    0.059</td> <td>   -0.871</td> <td> 0.384</td> <td>   -0.166</td> <td>    0.064</td>\n",
       "</tr>\n",
       "</table>\n",
       "<table class=\"simpletable\">\n",
       "<tr>\n",
       "  <th>Omnibus:</th>       <td> 9.988</td> <th>  Durbin-Watson:     </th> <td>   2.030</td>\n",
       "</tr>\n",
       "<tr>\n",
       "  <th>Prob(Omnibus):</th> <td> 0.007</td> <th>  Jarque-Bera (JB):  </th> <td>  11.445</td>\n",
       "</tr>\n",
       "<tr>\n",
       "  <th>Skew:</th>          <td>-0.006</td> <th>  Prob(JB):          </th> <td> 0.00327</td>\n",
       "</tr>\n",
       "<tr>\n",
       "  <th>Kurtosis:</th>      <td> 3.173</td> <th>  Cond. No.          </th> <td>8.41e+06</td>\n",
       "</tr>\n",
       "</table><br/><br/>Warnings:<br/>[1] Standard Errors assume that the covariance matrix of the errors is correctly specified.<br/>[2] The condition number is large, 8.41e+06. This might indicate that there are<br/>strong multicollinearity or other numerical problems."
      ],
      "text/plain": [
       "<class 'statsmodels.iolib.summary.Summary'>\n",
       "\"\"\"\n",
       "                            OLS Regression Results                            \n",
       "==============================================================================\n",
       "Dep. Variable:             Monetary60   R-squared:                       0.239\n",
       "Model:                            OLS   Adj. R-squared:                  0.239\n",
       "Method:                 Least Squares   F-statistic:                     951.0\n",
       "Date:                Tue, 15 Sep 2020   Prob (F-statistic):               0.00\n",
       "Time:                        23:03:11   Log-Likelihood:            -1.4388e+05\n",
       "No. Observations:                9100   AIC:                         2.878e+05\n",
       "Df Residuals:                    9096   BIC:                         2.878e+05\n",
       "Df Model:                           3                                         \n",
       "Covariance Type:            nonrobust                                         \n",
       "==============================================================================\n",
       "                 coef    std err          t      P>|t|      [0.025      0.975]\n",
       "------------------------------------------------------------------------------\n",
       "const       3.058e+06   8.02e+04     38.157      0.000     2.9e+06    3.22e+06\n",
       "Software    9410.1426   1.13e+04      0.833      0.405   -1.27e+04    3.16e+04\n",
       "Frequency3      3e+05   9724.311     30.849      0.000    2.81e+05    3.19e+05\n",
       "Monetary3     -0.0512      0.059     -0.871      0.384      -0.166       0.064\n",
       "==============================================================================\n",
       "Omnibus:                        9.988   Durbin-Watson:                   2.030\n",
       "Prob(Omnibus):                  0.007   Jarque-Bera (JB):               11.445\n",
       "Skew:                          -0.006   Prob(JB):                      0.00327\n",
       "Kurtosis:                       3.173   Cond. No.                     8.41e+06\n",
       "==============================================================================\n",
       "\n",
       "Warnings:\n",
       "[1] Standard Errors assume that the covariance matrix of the errors is correctly specified.\n",
       "[2] The condition number is large, 8.41e+06. This might indicate that there are\n",
       "strong multicollinearity or other numerical problems.\n",
       "\"\"\""
      ]
     },
     "execution_count": 13,
     "metadata": {},
     "output_type": "execute_result"
    }
   ],
   "source": [
    "model.summary()"
   ]
  },
  {
   "cell_type": "markdown",
   "metadata": {},
   "source": [
    "## 교차 검증"
   ]
  },
  {
   "cell_type": "code",
   "execution_count": 63,
   "metadata": {},
   "outputs": [
    {
     "data": {
      "text/plain": [
       "-1403400.047950149"
      ]
     },
     "execution_count": 63,
     "metadata": {},
     "output_type": "execute_result"
    }
   ],
   "source": [
    "from sklearn.linear_model import LinearRegression\n",
    "from sklearn.model_selection import cross_val_score\n",
    "\n",
    "x = custom[['Software', 'Frequency3', 'Monetary3']]\n",
    "y = custom['Monetary60']\n",
    "\n",
    "\n",
    "lin_reg = LinearRegression()\n",
    "scores = cross_val_score(lin_reg, x, y, cv=5, scoring='neg_mean_absolute_error')\n",
    "\n",
    "scores.mean()"
   ]
  },
  {
   "cell_type": "markdown",
   "metadata": {},
   "source": [
    "## 모두 넣고 수행 해보기"
   ]
  },
  {
   "cell_type": "code",
   "execution_count": 80,
   "metadata": {},
   "outputs": [
    {
     "data": {
      "text/plain": [
       "-1403723.3115801134"
      ]
     },
     "execution_count": 80,
     "metadata": {},
     "output_type": "execute_result"
    }
   ],
   "source": [
    "custom_ind = custom.drop(['Monetary60'],axis=1)\n",
    "\n",
    "scores_all = cross_val_score(lin_reg, custom_ind, custom['Monetary60'], cv=5, scoring='neg_mean_absolute_error')\n",
    "scores_all.mean()"
   ]
  },
  {
   "cell_type": "code",
   "execution_count": null,
   "metadata": {},
   "outputs": [],
   "source": []
  }
 ],
 "metadata": {
  "kernelspec": {
   "display_name": "Python 3",
   "language": "python",
   "name": "python3"
  },
  "language_info": {
   "codemirror_mode": {
    "name": "ipython",
    "version": 3
   },
   "file_extension": ".py",
   "mimetype": "text/x-python",
   "name": "python",
   "nbconvert_exporter": "python",
   "pygments_lexer": "ipython3",
   "version": "3.7.7"
  }
 },
 "nbformat": 4,
 "nbformat_minor": 4
}
