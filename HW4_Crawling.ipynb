{
 "cells": [
  {
   "cell_type": "markdown",
   "metadata": {},
   "source": [
    "# 과제4\n",
    "- 강의에서 예로 보여준 다음 영화 페이지의 '어벤져스: 엔드게임' 리뷰 수집 코드는 사이트 구조 변경으로 작동하지 않습니다.\n",
    "- Selenium을 사용해서 위 페이지의 리뷰를 모두 수집하는 코드를 작성해 보세요. (Jupyter Notebook 파일 제출) "
   ]
  },
  {
   "cell_type": "code",
   "execution_count": 1,
   "metadata": {},
   "outputs": [],
   "source": [
    "import csv\n",
    "import time\n",
    "import re\n",
    "from bs4 import BeautifulSoup\n",
    "from selenium import webdriver"
   ]
  },
  {
   "cell_type": "code",
   "execution_count": 2,
   "metadata": {},
   "outputs": [],
   "source": [
    "filename = \"data/avengers_movie.csv\"\n",
    "csv_file = open(filename, \"w+\", encoding=\"utf-8-sig\")\n",
    "writer = csv.writer(csv_file)"
   ]
  },
  {
   "cell_type": "code",
   "execution_count": 3,
   "metadata": {
    "scrolled": true
   },
   "outputs": [],
   "source": [
    "url = 'https://movie.daum.net/moviedb/grade?movieId=93252'\n",
    "\n",
    "res = webdriver.Chrome('C:/Users/eunbi/Desktop/chromedriver_win32/chromedriver.exe')\n",
    "res.get(url)\n",
    "\n",
    "time.sleep(3)\n",
    "\n",
    "script = res.find_element_by_xpath('//*[@id=\"mArticle\"]/div[2]/div[2]/div[1]/h4/span').text\n",
    "clicknum = int(script.split('(')[1].split('명)')[0])//5\n",
    "\n",
    "# for i in range(clicknum)\n",
    "for i in range(2):\n",
    "    res.find_element_by_xpath('//*[@id=\"alex-area\"]/div/div/div/div[3]/div[1]').click()\n",
    "    time.sleep(0.5)"
   ]
  },
  {
   "cell_type": "markdown",
   "metadata": {},
   "source": [
    "- clicknum으로 실행하면 너무 오래걸려서 2로 대체하고 돌려보았습니다"
   ]
  },
  {
   "cell_type": "code",
   "execution_count": 4,
   "metadata": {
    "scrolled": true
   },
   "outputs": [],
   "source": [
    "html = res.page_source\n",
    "soup = BeautifulSoup(html, 'html.parser')\n",
    "\n",
    "regex = re.compile(\"comment\\d\\d\\d\\d\\d\\d\\d\\d\\d\")\n",
    "mc = regex.findall(str(soup))\n",
    "\n",
    "items = soup.find_all('li', {\"id\":mc})\n",
    "\n",
    "for item in items:\n",
    "\n",
    "    rating_reg = re.compile(\"ratings rating_\\d+\")\n",
    "    rating_mc = rating_reg.findall(str(item))\n",
    "    rating = item.find('div', {'class':rating_mc}).text\n",
    "    \n",
    "    date = item.find('span', {'class':'txt_date'}).text\n",
    "    \n",
    "    if item.find('p', {'class':'desc_txt font_size_'}) is not None:\n",
    "        review = item.find('p', {'class':'desc_txt font_size_'}).text\n",
    "    else:\n",
    "        review = 'No_comment'\n",
    "    \n",
    "    product = (rating, date, review)\n",
    "    writer.writerow(product)\n",
    "\n",
    "csv_file.close()"
   ]
  },
  {
   "cell_type": "code",
   "execution_count": 5,
   "metadata": {},
   "outputs": [
    {
     "data": {
      "text/html": [
       "<div>\n",
       "<style scoped>\n",
       "    .dataframe tbody tr th:only-of-type {\n",
       "        vertical-align: middle;\n",
       "    }\n",
       "\n",
       "    .dataframe tbody tr th {\n",
       "        vertical-align: top;\n",
       "    }\n",
       "\n",
       "    .dataframe thead th {\n",
       "        text-align: right;\n",
       "    }\n",
       "</style>\n",
       "<table border=\"1\" class=\"dataframe\">\n",
       "  <thead>\n",
       "    <tr style=\"text-align: right;\">\n",
       "      <th></th>\n",
       "      <th>Rating</th>\n",
       "      <th>Date</th>\n",
       "      <th>Review</th>\n",
       "    </tr>\n",
       "  </thead>\n",
       "  <tbody>\n",
       "    <tr>\n",
       "      <th>0</th>\n",
       "      <td>8</td>\n",
       "      <td>2020.10.24.02:04</td>\n",
       "      <td>10년간의 여정의 끝은, 그저 장엄하고 위대했다. 긴 러닝타임동안 단한번도 지루하지...</td>\n",
       "    </tr>\n",
       "    <tr>\n",
       "      <th>1</th>\n",
       "      <td>10</td>\n",
       "      <td>2020.10.09.04:57</td>\n",
       "      <td>마무리까지 완벽했다 그 전 인피니티워의 감동과 대적할만한 내 인생 히어로물 희대의 ...</td>\n",
       "    </tr>\n",
       "    <tr>\n",
       "      <th>2</th>\n",
       "      <td>10</td>\n",
       "      <td>2020.10.08.06:49</td>\n",
       "      <td>엔드게임리얼후기https://miteri.tistory.com/m/77\\r\\n\\r\\...</td>\n",
       "    </tr>\n",
       "    <tr>\n",
       "      <th>3</th>\n",
       "      <td>10</td>\n",
       "      <td>2020.10.01.10:59</td>\n",
       "      <td>마블 영화의 마지막 종지부를 찍는 영화다. 가슴 웅장해지는거 ㄹㅇ 실화냐... 마블...</td>\n",
       "    </tr>\n",
       "    <tr>\n",
       "      <th>4</th>\n",
       "      <td>10</td>\n",
       "      <td>2020.09.27.19:34</td>\n",
       "      <td>걍 진짜 마블은 마블이다</td>\n",
       "    </tr>\n",
       "  </tbody>\n",
       "</table>\n",
       "</div>"
      ],
      "text/plain": [
       "   Rating              Date                                             Review\n",
       "0       8  2020.10.24.02:04  10년간의 여정의 끝은, 그저 장엄하고 위대했다. 긴 러닝타임동안 단한번도 지루하지...\n",
       "1      10  2020.10.09.04:57  마무리까지 완벽했다 그 전 인피니티워의 감동과 대적할만한 내 인생 히어로물 희대의 ...\n",
       "2      10  2020.10.08.06:49  엔드게임리얼후기https://miteri.tistory.com/m/77\\r\\n\\r\\...\n",
       "3      10  2020.10.01.10:59  마블 영화의 마지막 종지부를 찍는 영화다. 가슴 웅장해지는거 ㄹㅇ 실화냐... 마블...\n",
       "4      10  2020.09.27.19:34                                      걍 진짜 마블은 마블이다"
      ]
     },
     "execution_count": 5,
     "metadata": {},
     "output_type": "execute_result"
    }
   ],
   "source": [
    "import pandas as pd\n",
    "data = pd.read_csv('data/avengers_movie.csv', names=['Rating', 'Date', 'Review'])\n",
    "data.head()"
   ]
  },
  {
   "cell_type": "code",
   "execution_count": null,
   "metadata": {},
   "outputs": [],
   "source": []
  },
  {
   "cell_type": "code",
   "execution_count": 6,
   "metadata": {},
   "outputs": [
    {
     "name": "stdout",
     "output_type": "stream",
     "text": [
      "['comment123456789']\n",
      "['comment598589656', 'comment598223883', 'comment598223516', 'comment598217730', 'comment598215284', 'comment598210409', 'comment598205901', 'comment605871498', 'comment602292743', 'comment598230100', 'comment598220975', 'comment598211296', 'comment598210204', 'comment598202704', 'comment598200035', 'comment598199924', 'comment598199035', 'comment598195016', 'comment598194857', 'comment598194063']\n"
     ]
    }
   ],
   "source": [
    "# re 공부\n",
    "import re\n",
    "text = \"comment123456789\"\n",
    "regex = re.compile(\"comment\\d\\d\\d\\d\\d\\d\\d\\d\\d\")\n",
    "mc = regex.findall(text)\n",
    "print(mc)\n",
    "\n",
    "mc = regex.findall(str(soup))\n",
    "print(mc)"
   ]
  }
 ],
 "metadata": {
  "kernelspec": {
   "display_name": "Python 3",
   "language": "python",
   "name": "python3"
  },
  "language_info": {
   "codemirror_mode": {
    "name": "ipython",
    "version": 3
   },
   "file_extension": ".py",
   "mimetype": "text/x-python",
   "name": "python",
   "nbconvert_exporter": "python",
   "pygments_lexer": "ipython3",
   "version": "3.7.7"
  }
 },
 "nbformat": 4,
 "nbformat_minor": 4
}
