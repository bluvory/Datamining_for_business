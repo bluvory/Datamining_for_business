{
 "cells": [
  {
   "cell_type": "markdown",
   "metadata": {},
   "source": [
    "# 9주차 Cleansing\n",
    "데이터는 분석이나 학습에 사용하기에 적합한 형태로 존재하지 않을 수 있으므로, 그런 데이터를 분석에 적합하게 변환하거나 정리하는 과정\n",
    "1. 데이터 누락(NA) 파악 및 처리\n",
    "2. 이상치(Outliers) 파악 및 처리\n",
    "3. 불필요한 데이터 파악 및 제거\n",
    "4. 데이터를 일관성 있게 수정"
   ]
  },
  {
   "cell_type": "code",
   "execution_count": 1,
   "metadata": {},
   "outputs": [],
   "source": [
    "# 라이브러리\n",
    "import pandas as pd\n",
    "import numpy as np\n",
    "import seaborn as sns\n",
    "\n",
    "import matplotlib.pyplot as plt\n",
    "import matplotlib.mlab as mlab\n",
    "from matplotlib.pyplot import figure\n",
    "\n",
    "from sklearn.metrics import confusion_matrix\n",
    "from sklearn.metrics import accuracy_score\n",
    "from sklearn.metrics import precision_score, recall_score, f1_score, roc_auc_score\n",
    "from sklearn.model_selection import train_test_split\n",
    "from sklearn.ensemble import RandomForestClassifier\n",
    "from xgboost import XGBClassifier\n",
    "\n",
    "from imblearn.over_sampling import RandomOverSampler\n",
    "from imblearn.under_sampling import RandomUnderSampler\n",
    "from imblearn.under_sampling import TomekLinks\n",
    "from imblearn.under_sampling import ClusterCentroids\n",
    "from imblearn.over_sampling import SMOTE\n",
    "from imblearn.over_sampling import ADASYN\n",
    "from imblearn.combine import SMOTETomek"
   ]
  },
  {
   "cell_type": "code",
   "execution_count": null,
   "metadata": {},
   "outputs": [],
   "source": [
    "### 성과지표 왜곡 ###\n",
    "# 전체 데이터로 예측했을 때 vs 한가지로만 예측했을 때 -> 별로 차이 안남\n",
    "\n",
    "X_train, X_test, y_train, y_test = train_test_split(X, y, test_size=0.2)\n",
    "\n",
    "model = XGBClassifier()\n",
    "model.fit(X_train, y_train)\n",
    "y_pred = model.predict(X_test)\n",
    "accuracy = accuracy_score(y_test, y_pred)\n",
    "print(\"Accuracy: {:.2%}\".format(accuracy))\n",
    "\n",
    "\n",
    "### 혼동 행렬로 확인 ###\n",
    "conf_mat = confusion_matrix(y_true=y_test, y_pred=y_pred)\n",
    "print('Confusion matrix:\\n', conf_mat)\n",
    "print(\"Precision: {:.2%}\".format(precision_score(y_test, y_pred)))\n",
    "print(\"Recall: {:.2%}\".format(recall_score(y_test, y_pred)))\n",
    "print(\"F1: {:.2%}\".format(f1_score(y_test, y_pred)))\n",
    "print(\"ROC AUC: {:.2%}\".format(roc_auc_score(y_test, y_pred)))\n",
    "\n",
    "\n",
    "### 랜덤포레스트로 확인 ###\n",
    "rnd_clf = RandomForestClassifier(\n",
    "    n_estimators = 500,  \n",
    "    max_features = 'auto', \n",
    "    max_samples=0.5,    \n",
    "    bootstrap = True,\n",
    "    n_jobs=-1\n",
    ")\n",
    "scores = cross_val_score(rnd_clf, X_rus, y_rus, scoring='roc_auc', cv=5)\n",
    "print('ROC AUC: {:.3}'.format(scores.mean()))"
   ]
  },
  {
   "cell_type": "markdown",
   "metadata": {},
   "source": [
    "## 1. 데이터 누락(NA) 파악 및 처리\n",
    "- 데이터에 누락된 값(NA)이 포함됐을 때 에러 발생\n",
    "- NA 값이 포함된 행을 제외하거나 NA 값을 다른 값으로 변환해야함\n",
    "- NA 값을 포함한 행 찾기: isnull()"
   ]
  },
  {
   "cell_type": "code",
   "execution_count": null,
   "metadata": {},
   "outputs": [],
   "source": [
    "### 1. NA 값 존재 여부 찾기 ###\n",
    "\n",
    "# 1.1 Heatmap 사용\n",
    "cols = df.columns[:30] \n",
    "colours = ['blue', 'yellow'] # 노랑 - 누락. 파랑 - 정상.\n",
    "sns.heatmap(df[cols].isnull(), cmap=sns.color_palette(colours))\n",
    "\n",
    "\n",
    "# 1.2 누락 데이터 비율 리스트\n",
    "for col in df.columns:\n",
    "    pct_missing = np.mean(df[col].isnull())\n",
    "    print('{} - {}%'.format(col, round(pct_missing*100)))\n",
    "\n",
    "\n",
    "# 1.3 누락 데이터 히스토그램\n",
    "for col in df.columns:\n",
    "    missing = df[col].isnull()\n",
    "    num_missing = np.sum(missing)\n",
    "    \n",
    "    if num_missing > 0:  \n",
    "        #print('created missing indicator for: {}'.format(col))\n",
    "        df['{}_ismissing'.format(col)] = missing\n",
    "\n",
    "ismissing_cols = [col for col in df.columns if 'ismissing' in col]\n",
    "df['num_missing'] = df[ismissing_cols].sum(axis=1)\n",
    "df['num_missing'].value_counts().reset_index().sort_values(by='index').plot.bar(x='index', y='num_missing')"
   ]
  },
  {
   "cell_type": "code",
   "execution_count": null,
   "metadata": {},
   "outputs": [],
   "source": [
    "### 2. 누락 데이터 처리 ###\n",
    "\n",
    "# 누락 데이터를 포함한 행 제거 (한 행에서 누락데이터가 35개 이상인 행 제거)\n",
    "ind_missing = df[df['num_missing'] > 35].index\n",
    "df_less_missing_rows = df.drop(ind_missing, axis=0)\n",
    "\n",
    "\n",
    "# 누락 데이터가 많은 컬럼 제거\n",
    "cols_to_drop = ['hospital_beds_raion']\n",
    "df_less_hos_beds_raion = df.drop(cols_to_drop, axis=1)\n",
    "\n",
    "\n",
    "# 누락된 데이터를 다른 값으로 대체 (fillna() 사용)\n",
    "med = df['life_sq'].median()\n",
    "print(med)\n",
    "df['life_sq'] = df['life_sq'].fillna(med)\n",
    "\n",
    "\n",
    "# 수치형 변수에서 누락된 경우 중앙값으로 대체\n",
    "\n",
    "df_numeric = df.select_dtypes(include=[np.number])\n",
    "numeric_cols = df_numeric.columns.values\n",
    "\n",
    "for col in numeric_cols:\n",
    "    missing = df[col].isnull()\n",
    "    num_missing = np.sum(missing)\n",
    "    \n",
    "    if num_missing > 0:  \n",
    "        print('imputing missing values for: {}'.format(col))\n",
    "        df['{}_ismissing'.format(col)] = missing\n",
    "        med = df[col].median()\n",
    "        df[col] = df[col].fillna(med)\n",
    "        \n",
    "        \n",
    "# 범주형 변수의 경우 가장 빈번하게 나타나는 범주로 누락값 대체\n",
    "\n",
    "df_non_numeric = df.select_dtypes(exclude=[np.number])\n",
    "non_numeric_cols = df_non_numeric.columns.values\n",
    "\n",
    "for col in non_numeric_cols:\n",
    "    missing = df[col].isnull()\n",
    "    num_missing = np.sum(missing)\n",
    "    \n",
    "    if num_missing > 0:  \n",
    "        print('imputing missing values for: {}'.format(col))\n",
    "        df['{}_ismissing'.format(col)] = missing\n",
    "        \n",
    "        top = df[col].describe()['top'] \n",
    "        df[col] = df[col].fillna(top)\n",
    "        \n",
    "    \n",
    "    \n",
    "# NA로 입력되어 있으면 다루기가 번거롭기에 특정 수치나 범주로 대체\n",
    "# 예를 들어 수치 -999, 범주 _MISSING_ 으로 대체\n",
    "\n",
    "# categorical\n",
    "df['sub_area'] = df['sub_area'].fillna('_MISSING_')\n",
    "\n",
    "# numeric\n",
    "df['life_sq'] = df['life_sq'].fillna(-999)"
   ]
  },
  {
   "cell_type": "markdown",
   "metadata": {},
   "source": [
    "## 2. 이상치 (Outliers) 파악 및 처리\n",
    "- 이상치: 한 변수의 값이 가지는 패턴에서 벗어난 아주 크거나 작은 값\n",
    "- 이상치는 평균의 왜곡을 불러옴"
   ]
  },
  {
   "cell_type": "code",
   "execution_count": null,
   "metadata": {},
   "outputs": [],
   "source": [
    "### 히스토그램으로 찾기 ###\n",
    "df['colname'].hist(bins=100)\n",
    "\n",
    "### 박스 플롯으로 찾기 ###\n",
    "df.boxplot(column=['colname'])\n",
    "\n",
    "### 기술 통계치에서 발견하기 ###\n",
    "df['colname'].describe()"
   ]
  },
  {
   "cell_type": "markdown",
   "metadata": {},
   "source": [
    "## 3. 불필요한 데이터 파악 및 처리"
   ]
  },
  {
   "cell_type": "code",
   "execution_count": null,
   "metadata": {},
   "outputs": [],
   "source": [
    "### 반복되는 값이 많은 변수 ###\n",
    "# 변수 값 중 95%이상이 동일한 경우, 의미있는 변수로 보기 어려움\n",
    "\n",
    "num_rows = len(df.index)\n",
    "low_information_cols = [] \n",
    "\n",
    "for col in df.columns:\n",
    "    cnts = df[col].value_counts(dropna=False)\n",
    "    top_pct = (cnts/num_rows).iloc[0]\n",
    "    \n",
    "    if top_pct > 0.95:\n",
    "        low_information_cols.append(col)\n",
    "        print('{0}: {1:.5f}%'.format(col, top_pct*100))\n",
    "        print(cnts)\n",
    "        print()\n",
    "        \n",
    "\n",
    "### 중복 데이터 제거 ###\n",
    "# 10 행의 데이터가 중복\n",
    "# 'id' 컬럼을 제외하고 (id는 행 마다 다르므로)\n",
    "# drop_duplicates()로 중복되는 행 제거\n",
    "\n",
    "df_dedupped = df.drop('id', axis=1).drop_duplicates()\n",
    "\n",
    "print(df.shape)\n",
    "print(df_dedupped.shape)"
   ]
  },
  {
   "cell_type": "markdown",
   "metadata": {},
   "source": [
    "## 4. 데이터를 일관성 있게 수정"
   ]
  },
  {
   "cell_type": "code",
   "execution_count": null,
   "metadata": {},
   "outputs": [],
   "source": [
    "### 대소문자 사용 통일: 모두 소문자로 ###\n",
    "df['sub_area'].value_counts(dropna=False)\n",
    "df['sub_area_lower'] = df['sub_area'].str.lower()\n",
    "df['sub_area_lower'].value_counts(dropna=False)\n",
    "\n",
    "\n",
    "### 형식 변환 ###\n",
    "df['timestamp_dt'] = pd.to_datetime(df['timestamp'], format='%Y-%m-%d')\n",
    "df['year'] = df['timestamp_dt'].dt.year\n",
    "df['month'] = df['timestamp_dt'].dt.month\n",
    "df['weekday'] = df['timestamp_dt'].dt.weekday\n",
    "\n",
    "print(df['year'].value_counts(dropna=False))\n",
    "print()\n",
    "print(df['month'].value_counts(dropna=False))"
   ]
  },
  {
   "cell_type": "markdown",
   "metadata": {},
   "source": [
    "## 데이터 불균형"
   ]
  },
  {
   "cell_type": "code",
   "execution_count": null,
   "metadata": {},
   "outputs": [],
   "source": [
    "### 불균형 확인 ###\n",
    "target_count = df.TenYearCHD.value_counts()\n",
    "\n",
    "print('Class 0:', target_count[0])\n",
    "print('Class 1:', target_count[1])\n",
    "print('Proportion:', round(target_count[0] / target_count[1], 2), ': 1')\n",
    "\n",
    "target_count.plot(kind='bar', title='Count (target)', color=['blue','orange'])"
   ]
  },
  {
   "cell_type": "markdown",
   "metadata": {},
   "source": [
    "## 언더 샘플링, 오버 샘플링\n",
    "\n",
    "### 언더 샘플링\n",
    "- 상대적으로 데이터가 많은 범주에서 무작위로 데이터를 제외하여 두 범주 데이터 수의 균형을 맞춤\n",
    "- 데이터를 제거하기 때문에 정보 손실 발생\n",
    "\n",
    "### 오버 샘플링\n",
    "- 상대적으로 데이터가 적은 범주의 데이터를 무작위로 중복 추가하여 두 범주 데이터 수의 균형을 맞춤\n",
    "- 데이터를 중복해서 사용하기 때문에 과적합 발생이 쉬움"
   ]
  },
  {
   "cell_type": "code",
   "execution_count": null,
   "metadata": {},
   "outputs": [],
   "source": [
    "# Class count\n",
    "count_class_0, count_class_1 = heart.TenYearCHD.value_counts()\n",
    "print(\"count_class_0:\", count_class_0)\n",
    "print(\"count_class_1:\", count_class_1)\n",
    "\n",
    "# Divide by class\n",
    "df_class_0 = heart[heart.TenYearCHD == 0]\n",
    "df_class_1 = heart[heart.TenYearCHD == 1]\n",
    "\n",
    "\n",
    "### 언더샘플링 ###\n",
    "df_class_0_under = df_class_0.sample(count_class_1)\n",
    "df_under = pd.concat([df_class_0_under, df_class_1], axis=0)\n",
    "\n",
    "print('Random under-sampling:')\n",
    "print(df_under.TenYearCHD.value_counts())\n",
    "\n",
    "df_under.TenYearCHD.value_counts().plot(kind='bar', title='Count (target)', color=['blue','orange'])\n",
    "\n",
    "\n",
    "### 오버샘플링 ###\n",
    "df_class_1_over = df_class_1.sample(count_class_0, replace=True)\n",
    "df_over = pd.concat([df_class_0, df_class_1_over], axis=0)\n",
    "\n",
    "print('Random over-sampling:')\n",
    "print(df_over.TenYearCHD.value_counts())\n",
    "\n",
    "df_over.TenYearCHD.value_counts().plot(kind='bar', title='Count (target)', color=['blue','orange'])"
   ]
  },
  {
   "cell_type": "markdown",
   "metadata": {},
   "source": [
    "### imbalanced-learn"
   ]
  },
  {
   "cell_type": "code",
   "execution_count": null,
   "metadata": {},
   "outputs": [],
   "source": [
    "### 언더샘플링 ###\n",
    "rus = RandomUnderSampler()\n",
    "X_rus, y_rus = rus.fit_sample(X, y)\n",
    "y_rus.value_counts().plot(kind='bar', title='Count (target)', color=['blue','orange'])\n",
    "\n",
    "\n",
    "### 오버샘플링 ###\n",
    "ros = RandomOverSampler()\n",
    "X_ros, y_ros = ros.fit_sample(X, y)\n",
    "print(X_ros.shape[0] - X.shape[0], 'new random picked points')\n",
    "y_ros.value_counts().plot(kind='bar', title='Count (target)', color=['blue','orange'])"
   ]
  },
  {
   "cell_type": "markdown",
   "metadata": {},
   "source": [
    "### Tomek links (오버샘플링)\n",
    "- 분류하고자 하는 두 범주 데이터가 매우 근접하게 쌍으로 존재하는 경우\n",
    "- Tomek links에서 더 많이 분포하는 범주의 데이터 제거"
   ]
  },
  {
   "cell_type": "code",
   "execution_count": null,
   "metadata": {},
   "outputs": [],
   "source": [
    "tl = TomekLinks(sampling_strategy='majority')\n",
    "X_tl, y_tl = tl.fit_sample(X, y)\n",
    "\n",
    "y_tl.value_counts().plot(kind='bar', title='Count (target)', color=['blue','orange'])"
   ]
  },
  {
   "cell_type": "markdown",
   "metadata": {},
   "source": [
    "### Kmeans 군집화 중앙값 (언더샘플링)\n",
    "- 다수의 데이터가 포함된 범주의 데이터를 Kmeans 군집화를 이용해 N개의 클러스터 형성\n",
    "- N개의 클러스터의 중앙값이 샘플링된 새로운 데이터"
   ]
  },
  {
   "cell_type": "code",
   "execution_count": null,
   "metadata": {},
   "outputs": [],
   "source": [
    "cc = ClusterCentroids()\n",
    "X_cc, y_cc = cc.fit_sample(X, y)\n",
    "\n",
    "y_cc.value_counts().plot(kind='bar', title='Count (target)', color=['blue','orange'])"
   ]
  },
  {
   "cell_type": "markdown",
   "metadata": {},
   "source": [
    "### SMOTE (오버 샘플링)\n",
    "- 적은 수의 범주 데이터를 이용해서 합성 데이터를 생성, 적은 수의 범주 데이터 중에서 무작위로 선택하고 최근접 이웃 데이터를 고려하여 새로운 데이터를 합성하여 생성"
   ]
  },
  {
   "cell_type": "code",
   "execution_count": null,
   "metadata": {},
   "outputs": [],
   "source": [
    "smote = SMOTE()\n",
    "X_sm, y_sm = smote.fit_sample(X, y)\n",
    "\n",
    "y_sm.value_counts().plot(kind='bar', title='Count (target)', color=['blue','orange'])"
   ]
  },
  {
   "cell_type": "markdown",
   "metadata": {},
   "source": [
    "### ADASYN(Adaptive Synthetic Sampling)\n",
    "- 합성 데이터를 생성하는 방안, 적은 데이터분포에 반비례하여 합성데이터 생성\n",
    "- 적은 범주의 데이터가 적게 분포하는 곳에 더 많은 합성 데이터가 생기며, 적은 범주의 데이터가 많이 분포하는 곳에 합성 데이터가 적게 생김"
   ]
  },
  {
   "cell_type": "code",
   "execution_count": null,
   "metadata": {},
   "outputs": [],
   "source": [
    "ada = ADASYN()\n",
    "X_ada, y_ada = ada.fit_sample(X, y)\n",
    "\n",
    "y_ada.value_counts().plot(kind='bar', title='Count (target)', color=['blue','orange'])"
   ]
  },
  {
   "cell_type": "markdown",
   "metadata": {},
   "source": [
    "### SMOTETomek (언더샘플링 -> 오버샘플링)\n",
    "- 언더 샘플링 수행 후 오버 샘플링\n",
    "- Tomek links -> SMOTE\n",
    "- Tomek links를 통해 두 범주가 구분되는 간격 더 넓게 확보 -> 적게 분포하는 데이터를 SMOTE로 오버샘플링"
   ]
  },
  {
   "cell_type": "code",
   "execution_count": null,
   "metadata": {},
   "outputs": [],
   "source": [
    "smt = SMOTETomek()\n",
    "X_smt, y_smt = smt.fit_sample(X, y)\n",
    "\n",
    "y_smt.value_counts().plot(kind='bar', title='Count (target)', color=['blue','orange'])"
   ]
  },
  {
   "cell_type": "markdown",
   "metadata": {},
   "source": [
    "### scikit learn 리샘플링"
   ]
  },
  {
   "cell_type": "code",
   "execution_count": null,
   "metadata": {},
   "outputs": [],
   "source": [
    "from sklearn.utils import resample\n",
    "\n",
    "df_majority = card[card.Class==0]\n",
    "df_minority = card[card.Class==1]\n",
    "\n",
    "df_majority_downsampled = resample(df_majority, \n",
    "                                 replace=False,    # sample without replacement\n",
    "                                 n_samples=len(df_minority),     # to match minority class\n",
    "                                ) "
   ]
  },
  {
   "cell_type": "markdown",
   "metadata": {},
   "source": [
    "# 10주차 TextMining\n",
    "- 특정한 목적에 대해 의미 있는 정보만 추출하고 일련의 텍스트 분석 및 처리과정을 통해 이루어진다"
   ]
  },
  {
   "cell_type": "code",
   "execution_count": null,
   "metadata": {},
   "outputs": [],
   "source": [
    "# 라이브러리\n",
    "from nltk import sent_tokenize\n",
    "from nltk.tokenize import word_tokenize\n",
    "from nltk.tokenize import RegexpTokenizer\n",
    "from nltk.stem import PorterStemmer, LancasterStemmer\n",
    "from nltk.stem import WordNetLemmatizer\n",
    "from nltk.tag import pos_tag\n",
    "from nltk import Text\n",
    "from nltk import FreqDist\n",
    "\n",
    "from wordcloud import WordCloud\n",
    "\n",
    "import konlpy \n",
    "from konlpy.corpus import kolaw\n",
    "from konlpy.tag import *\n",
    "from matplotlib import font_manager, rc\n",
    "\n",
    "from sklearn.feature_extraction.text import CountVectorizer\n",
    "from sklearn.feature_extraction.text import TfidfVectorizer\n",
    "from sklearn.linear_model import LogisticRegression\n",
    "from sklearn.naive_bayes import MultinomialNB\n",
    "from sklearn.naive_bayes import BernoulliNB\n"
   ]
  },
  {
   "cell_type": "code",
   "execution_count": null,
   "metadata": {},
   "outputs": [],
   "source": [
    "sent_tokenize(data.Texts[0])   # 문장분리\n",
    "word_tokenize(data.Texts[0])   # 단어분리\n",
    "\n",
    "retokenize = RegexpTokenizer(\"[\\w]+\")   # 문장기호 제거\n",
    "retokenize.tokenize(data.Texts[0])\n",
    "\n",
    "data[\"tokenized_sents\"] = data.apply(\n",
    "    lambda row: nltk.word_tokenize(str(row[\"Texts\"])), axis=1)\n",
    "data['sents_length'] = data.apply(\n",
    "    lambda row: len(row['tokenized_sents']), axis=1)\n",
    "data.head()\n",
    "\n",
    "\n",
    "## 어간 추출 Stemming ##\n",
    "st1 = PorterStemmer()\n",
    "st2 =  LancasterStemmer()\n",
    "words = [\"fly\", \"flies\", \"flying\", \"flew\", \"flown\"]\n",
    "print(\"Porter Stemmer   :\", [st1.stem(w) for w in words])\n",
    "print(\"Lancaster Stemmer:\", [st2.stem(w) for w in words])\n",
    "\n",
    "\n",
    "## 표제어 추출 Lemmatizing ##\n",
    "lm = WordNetLemmatizer()\n",
    "[lm.lemmatize(w, pos=\"v\") for w in words]\n",
    "\n",
    "\n",
    "## 품사 추출 part of speech ##\n",
    "nltk.help.upenn_tagset(\"VB\")\n",
    "tagged_list = pos_tag(word_tokenize(mobile.Texts[0]))\n",
    "print(tagged_list)\n",
    "nouns_list = [t[0] for t in tagged_list if t[1] == \"NN\"]   # 명사만\n",
    "print(nouns_list)\n",
    "\n",
    "\n",
    "## 빈도 추출 ##\n",
    "text = Text(retokenize.tokenize(str(data.Texts)))\n",
    "text.plot(20)\n",
    "plt.show()\n",
    "\n",
    "\n",
    "\n",
    "## \n",
    "text.dispersion_plot([])  # 명사만 추출한거\n",
    "text.concordance(\"phone\")\n",
    "\n",
    "\n",
    "\n",
    "## 불용어 제외 ##\n",
    "stopwords = ['I', 'i', 'this', 'the', 'a']\n",
    "data_tokens = pos_tag(retokenize.tokenize(str(data.Texts)))\n",
    "\n",
    "names_list = [t[0] for t in data_tokens if t[1] \n",
    "              == \"NN\" and t[0] not in stopwords]\n",
    "\n",
    "fd_names = FreqDist(names_list)\n",
    "fd_names.N(), fd_names[\"phone\"], fd_names.freq(\"phone\")\n",
    "fd_names.most_common(5)"
   ]
  },
  {
   "cell_type": "markdown",
   "metadata": {},
   "source": [
    "## 워드 클라우드"
   ]
  },
  {
   "cell_type": "code",
   "execution_count": null,
   "metadata": {},
   "outputs": [],
   "source": [
    "wc = WordCloud(width=1000, height=600, background_color=\"white\", random_state=0)\n",
    "plt.imshow(wc.generate_from_frequencies(fd_names))\n",
    "plt.axis(\"off\")\n",
    "plt.show()"
   ]
  },
  {
   "cell_type": "markdown",
   "metadata": {},
   "source": [
    "## 한글 텍스트 마이닝 konlpy"
   ]
  },
  {
   "cell_type": "code",
   "execution_count": null,
   "metadata": {},
   "outputs": [],
   "source": [
    "kolaw.fileids()\n",
    "c = kolaw.open('constitution.txt').read()\n",
    "print(c[:40])\n",
    "\n",
    "\n",
    "## 형태소 분석기 ##\n",
    "hannanum = Hannanum()\n",
    "okt = Okt()\n",
    "print(\"한나눔 : \", hannanum.nouns(c[:40]))\n",
    "print(\"오픈 소스 한국어 분석기 : \", okt.nouns(c[:40]))\n",
    "\n",
    "\n",
    "## 품사 파악 ##\n",
    "print(\"한나눔 : \", hannanum.pos(c[:40]))\n",
    "print(\"오픈 소스 한국어 분석기 : \", okt.pos(c[:40]))\n",
    "print(okt.tagset)\n",
    "\n",
    "\n",
    "## 단어 빈도 ##\n",
    "font_name = font_manager.FontProperties(fname=\"c:/Windows/Fonts/malgun.ttf\").get_name()\n",
    "rc('font', family=font_name)\n",
    "\n",
    "kolaw = Text(okt.nouns(c), name=\"kolaw\")\n",
    "kolaw.plot(30)\n",
    "plt.show()\n",
    "\n",
    "\n",
    "## 워드 클라우드 ##\n",
    "path = 'c:/Windows/Fonts/malgun.ttf'\n",
    "wc = WordCloud(width = 1000, height = 600,\n",
    "               background_color=\"white\", font_path = path) \n",
    "plt.imshow(wc.generate_from_frequencies(kolaw.vocab()))\n",
    "plt.axis(\"off\")\n",
    "plt.show()"
   ]
  },
  {
   "cell_type": "markdown",
   "metadata": {},
   "source": [
    "## 단어 문서 매트릭스\n",
    "- 단어빈도 TF: 문서에 해당하는 단어가 나타나는 빈도 수\n",
    "- TF * IDF: 단어빈도 * 역문서빈도, 단어의 희귀성 측정"
   ]
  },
  {
   "cell_type": "code",
   "execution_count": null,
   "metadata": {},
   "outputs": [],
   "source": [
    "data = pd.read_csv('data/.csv')\n",
    "\n",
    "data.Texts[data.Texts.isna()]\n",
    "data.Texts = data.Texts.fillna('')\n",
    "\n",
    "token = RegexpTokenizer(r'[a-zA-Z0-9]+')\n",
    "\n",
    "cv = CountVectorizer(\n",
    "    lowercase=True,\n",
    "    stop_words='english',\n",
    "    ngram_range = (1,1),\n",
    "    tokenizer = token.tokenize\n",
    ")\n",
    "\n",
    "text_counts= cv.fit_transform(data['Texts'])\n",
    "text_counts\n",
    "\n",
    "vocab = cv.get_feature_names()\n",
    "vocab[:10]\n",
    "\n",
    "\n",
    "## 단어의 문서 전체 등장 횟수 ##\n",
    "dist = np.sum(text_counts, axis=0)\n",
    "\n",
    "for tag, count in zip(vocab, dist):\n",
    "    print(count, tag)\n",
    "\n",
    "pd.DataFrame(dist, columns=vocab)\n",
    "\n",
    "\n",
    "## 단어 문서 매트릭스 ##\n",
    "pd.DataFrame(text_counts[:100].toarray(), columns=vocab).head()\n",
    "\n",
    "\n",
    "## binary 단어 문서 매트릭스\n",
    "cv_binary = CountVectorizer(\n",
    "    lowercase=True,\n",
    "    stop_words='english',\n",
    "    ngram_range = (1,1),\n",
    "    binary = True,\n",
    "    tokenizer = token.tokenize\n",
    ")\n",
    "\n",
    "text_counts= cv_binary.fit_transform(mobile['Texts'])\n",
    "vocab = cv_binary.get_feature_names()\n",
    "\n",
    "pd.DataFrame(text_counts[910:920].toarray(), columns=vocab)\n",
    "\n",
    "\n",
    "\n",
    "## TF * IDF ##\n",
    "tfidf=TfidfVectorizer(\n",
    "    lowercase=True,\n",
    "    stop_words='english',\n",
    "    ngram_range = (1,1),\n",
    "    tokenizer = token.tokenize\n",
    ")\n",
    "\n",
    "text_tfidf= tfidf.fit_transform(mobile['Texts'])\n",
    "vocab = tfidf.get_feature_names()\n",
    "vocab[:10]\n",
    "pd.DataFrame(text_tfidf[910:920].toarray(), columns=vocab)\n",
    "\n",
    "\n",
    "\n",
    "## N gram ##\n",
    "tfidf=TfidfVectorizer(\n",
    "    lowercase=True,\n",
    "    stop_words='english',\n",
    "    ngram_range = (1,2),    # bigram\n",
    "    tokenizer = token.tokenize\n",
    ")\n",
    "\n",
    "text_tfidf= tfidf.fit_transform(mobile['Texts'])\n",
    "vocab = tfidf.get_feature_names()\n",
    "vocab[:10]\n",
    "pd.DataFrame(text_tfidf[910:920].toarray(), columns=vocab)"
   ]
  },
  {
   "cell_type": "markdown",
   "metadata": {},
   "source": [
    "## multinomial NB"
   ]
  },
  {
   "cell_type": "code",
   "execution_count": null,
   "metadata": {},
   "outputs": [],
   "source": [
    "df = pd.read_csv('data/mobile2014.csv')\n",
    "\n",
    "mobile.Texts[mobile.Texts.isna()]\n",
    "mobile.Texts = mobile.Texts.fillna('')\n",
    "\n",
    "mobile.Sentiment = pd.Categorical(mobile.Sentiment)\n",
    "Sentiment_count = mobile.groupby('Sentiment').count()\n",
    "Sentiment_count\n",
    "\n",
    "plt.bar(Sentiment_count.index.values, Sentiment_count['ID'])\n",
    "plt.xlabel('Review Sentiments')\n",
    "plt.ylabel('Number of Review')\n",
    "plt.show()\n",
    "\n",
    "\n",
    "## 반도기반단어문서매트릭스 ##\n",
    "token = RegexpTokenizer(r'[a-zA-Z0-9]+')\n",
    "cv = CountVectorizer(\n",
    "    lowercase=True,\n",
    "    stop_words='english',\n",
    "    ngram_range = (1,1),\n",
    "    tokenizer = token.tokenize\n",
    ")\n",
    "\n",
    "text_counts= cv.fit_transform(mobile['Texts'])\n",
    "X_train, X_test, y_train, y_test = train_test_split(\n",
    "    text_counts, mobile['Sentiment'], test_size=0.3)\n",
    "\n",
    "\n",
    "## multinomial NB\n",
    "clf = MultinomialNB().fit(X_train, y_train)\n",
    "predicted= clf.predict(X_test)\n",
    "print(\"MultinomialNB Accuracy:\",metrics.accuracy_score(y_test, predicted))\n",
    "score = cross_val_score(clf, text_counts, mobile['Sentiment'], scoring='accuracy', cv=5)\n",
    "print(\"MultinomialNB 5 CV Accuracy:\", score.mean())\n",
    "\n",
    "\n",
    "## tf idf 기반 단어 문서 매트릭스\n",
    "tf=TfidfVectorizer(\n",
    "    lowercase=True,\n",
    "    stop_words='english',\n",
    "    ngram_range = (1,1),\n",
    "    tokenizer = token.tokenize\n",
    ")\n",
    "\n",
    "text_tf= tf.fit_transform(mobile['Texts'])\n",
    "X_train, X_test, y_train, y_test = train_test_split(\n",
    "    text_tf, mobile['Sentiment'], test_size=0.3)\n",
    "clf = MultinomialNB().fit(X_train, y_train)\n",
    "\n",
    "predicted= clf.predict(X_test)\n",
    "print(\"MultinomialNB Accuracy:\",metrics.accuracy_score(y_test, predicted))\n",
    "score = cross_val_score(clf, text_tf, mobile['Sentiment'], scoring='accuracy', cv=5)\n",
    "print(\"MultinomialNB 5 CV Accuracy:\", score.mean())\n",
    "\n",
    "\n",
    "## tf idf with bigram\n",
    "tf=TfidfVectorizer(\n",
    "    lowercase=True,\n",
    "    stop_words='english',\n",
    "    ngram_range = (1,2),\n",
    "    tokenizer = token.tokenize\n",
    ")\n",
    "\n",
    "text_tf= tf.fit_transform(mobile['Texts'])\n",
    "\n",
    "X_train, X_test, y_train, y_test = train_test_split(\n",
    "    text_tf, mobile['Sentiment'], test_size=0.3)\n",
    "\n",
    "clf = MultinomialNB().fit(X_train, y_train)\n",
    "\n",
    "predicted= clf.predict(X_test)\n",
    "print(\"MultinomialNB Accuracy:\",metrics.accuracy_score(y_test, predicted))\n",
    "score = cross_val_score(clf, text_tf, mobile['Sentiment'], scoring='accuracy', cv=5)\n",
    "print(\"MultinomialNB 5 CV Accuracy:\", score.mean())\n",
    "\n",
    "\n",
    "## Logistic Regression\n",
    "logreg = LogisticRegression().fit(X_train, y_train)\n",
    "predicted= logreg.predict(X_test)\n",
    "print(\"Logistic Regression Accuracy:\",metrics.accuracy_score(y_test, predicted))\n",
    "score = cross_val_score(logreg, text_tf, mobile['Sentiment'], scoring='accuracy', cv=5)\n",
    "print(\"LogisticRegression 5 CV Accuracy:\", score.mean())\n",
    "\n",
    "\n",
    "## Bernoulli NB\n",
    "cv_binary = CountVectorizer(\n",
    "    lowercase=True,\n",
    "    stop_words='english',\n",
    "    ngram_range = (1,1),\n",
    "    binary = True,\n",
    "    tokenizer = token.tokenize\n",
    ")\n",
    "\n",
    "text_counts= cv_binary.fit_transform(mobile['Texts'])\n",
    "\n",
    "X_train, X_test, y_train, y_test = train_test_split(\n",
    "    text_tf, mobile['Sentiment'], test_size=0.3)\n",
    "\n",
    "clf = BernoulliNB().fit(X_train, y_train)\n",
    "predicted= clf.predict(X_test)\n",
    "print(\"BernoulliNB Accuracy:\",metrics.accuracy_score(y_test, predicted))\n",
    "score = cross_val_score(clf, text_counts, mobile['Sentiment'], scoring='accuracy', cv=5)\n",
    "print(\"BernoulliNB 5 CV Accuracy:\", score.mean())"
   ]
  },
  {
   "cell_type": "markdown",
   "metadata": {},
   "source": [
    "# 11주차 TextCrawling with Selenium"
   ]
  },
  {
   "cell_type": "code",
   "execution_count": null,
   "metadata": {},
   "outputs": [],
   "source": [
    "# 라이브러리\n",
    "import csv\n",
    "import time\n",
    "import pandas as pd\n",
    "from bs4 import BeautifulSoup\n",
    "from selenium import webdriver"
   ]
  },
  {
   "cell_type": "code",
   "execution_count": null,
   "metadata": {},
   "outputs": [],
   "source": [
    "filename = \"data/dataname.csv\"\n",
    "csv_file = open(filename, \"w+\", encoding=\"utf-8-sig\")\n",
    "writer = csv.writer(csv_file)"
   ]
  },
  {
   "cell_type": "code",
   "execution_count": null,
   "metadata": {},
   "outputs": [],
   "source": [
    "url = \"https://www.starbucks.co.kr\"\n",
    "res = webdriver.Chrome('C:/Users/eunbi/Desktop/chromedriver_win32/chromedriver.exe')\n",
    "\n",
    "res.get(url)\n",
    "\n",
    "time.sleep(3)\n",
    "res.find_element_by_xpath(\"  \").click()\n",
    "time.sleep(1)\n",
    "res.find_element_by_xpath(\"  \").click()\n",
    "\n",
    "## 리뷰 더보기 ##\n",
    "script = res.find_element_by_xpath(\"  \").text\n",
    "click_num = int(script.split('명')[0])//10\n",
    "\n",
    "for i in range(click_num):\n",
    "    res.find_element_by_xpath(\"  \").click()\n",
    "    time.sleep(1)"
   ]
  },
  {
   "cell_type": "code",
   "execution_count": null,
   "metadata": {},
   "outputs": [],
   "source": [
    "html = res.page_source\n",
    "soup = BeautifulSoup(html, 'html.parser')\n",
    "\n",
    "items = soup.find_all('li', {\"class\":\"menuDataSet\"})\n",
    "\n",
    "for item in items:\n",
    "    rating = item.find('span', {'class' : 'sr_only'}).text\n",
    "    review_rating = rating.split('중 ')[1].split('개')[0]\n",
    "    review_date = item.find('span', {'class' : 'date'}).text\n",
    "    review_text = item.find('div', {'class' : 'comment'}).text\n",
    "    \n",
    "    product = (review_rating, review_date, review_text)\n",
    "    writer.writerow(product)\n",
    "\n",
    "csv_file.close()"
   ]
  },
  {
   "cell_type": "code",
   "execution_count": null,
   "metadata": {},
   "outputs": [],
   "source": [
    "# names = [필요한 columns name]\n",
    "star = pd.read_csv(\"data/dataname.csv\", names=['Menu','Image'])\n",
    "star.head()"
   ]
  },
  {
   "cell_type": "markdown",
   "metadata": {},
   "source": [
    "# 12주차 Sentiment Analysis"
   ]
  },
  {
   "cell_type": "code",
   "execution_count": null,
   "metadata": {},
   "outputs": [],
   "source": [
    "# 라이브러리\n",
    "from vaderSentiment.vaderSentiment import SentimentIntensityAnalyzer\n",
    "import nltk\n",
    "from nltk.corpus import opinion_lexicon\n",
    "from nltk.tokenize import treebank\n",
    "from tqdm import *\n",
    "from sklearn.linear_model import RidgeClassifier\n",
    "from sklearn.feature_extraction.text import CountVectorizer\n",
    "from nltk.tokenize import RegexpTokenizer\n",
    "from sklearn.metrics import precision_score, recall_score, f1_score\n",
    "import sklearn.feature_extraction\n",
    "\n",
    "\n",
    "import numpy as np\n",
    "import pandas as pd\n",
    "import re, nltk, spacy, gensim\n",
    "\n",
    "from sklearn.decomposition import LatentDirichletAllocation, TruncatedSVD\n",
    "from sklearn.feature_extraction.text import CountVectorizer, TfidfVectorizer\n",
    "from sklearn.model_selection import GridSearchCV\n",
    "from pprint import pprint\n",
    "\n",
    "import pyLDAvis\n",
    "import pyLDAvis.sklearn\n",
    "import matplotlib.pyplot as plt"
   ]
  },
  {
   "cell_type": "markdown",
   "metadata": {},
   "source": [
    "## Vader 감성 분석 라이브러리 활용"
   ]
  },
  {
   "cell_type": "code",
   "execution_count": null,
   "metadata": {},
   "outputs": [],
   "source": [
    "analyser = SentimentIntensityAnalyzer()\n",
    "def sentiment_analyzer_scores(sentence):\n",
    "    score = analyser.polarity_scores(sentence)\n",
    "    return score\n",
    "\n",
    "\n",
    "## 감성 스코어 컬럼 생성 ##\n",
    "sent = []\n",
    "for i in range(len(mobile)):\n",
    "    if(pd.isna(mobile.iloc[i,4]) == True):\n",
    "        sent.append(0)\n",
    "    else:\n",
    "        sent.append(sentiment_analyzer_scores(data.iloc[i,4])['compound'])\n",
    "    \n",
    "data['sentiment_score'] = sent\n",
    "data.head()"
   ]
  },
  {
   "cell_type": "markdown",
   "metadata": {},
   "source": [
    "## 감성 사전 활용"
   ]
  },
  {
   "cell_type": "code",
   "execution_count": null,
   "metadata": {},
   "outputs": [],
   "source": [
    "data = pd.read_csv('data/mobile2014.csv')\n",
    "\n",
    "nltk.download('opinion_lexicon')\n",
    "pos_list=set(opinion_lexicon.positive())  # 긍정 단어\n",
    "neg_list=set(opinion_lexicon.negative())  # 부정 단어\n",
    "\n",
    "tokenizer = treebank.TreebankWordTokenizer()\n",
    "\n",
    "def sentiment(sentence):\n",
    "    senti=0\n",
    "    words = [word.lower() for word in tokenizer.tokenize(sentence)]\n",
    "    \n",
    "    for word in words:\n",
    "        if word in pos_list:\n",
    "            senti += 1\n",
    "        elif word in neg_list:\n",
    "            senti -= 1\n",
    "    return senti\n",
    "\n",
    "\n",
    "data['sentiment_dict'] = 0\n",
    "x = len(data)\n",
    "\n",
    "for i in tqdm(range(0,x)):\n",
    "    if(pd.isnull(data.iloc[i,4])) :\n",
    "        data.iloc[i,7] = 0\n",
    "    else :\n",
    "        data.iloc[i,7] =  sentiment(data.iloc[i,4])\n",
    "\n",
    "data.head()"
   ]
  },
  {
   "cell_type": "markdown",
   "metadata": {},
   "source": [
    "## 감성사전 만들기"
   ]
  },
  {
   "cell_type": "code",
   "execution_count": null,
   "metadata": {},
   "outputs": [],
   "source": [
    "data = pd.read_csv('data/mobile2014.csv')\n",
    "data = data.dropna()\n",
    "\n",
    "token = RegexpTokenizer(r'[a-zA-Z0-9]+')\n",
    "cv = CountVectorizer(lowercase=True,stop_words='english'\n",
    "                     ,ngram_range = (1,1),tokenizer = token.tokenize)\n",
    "\n",
    "text_counts= cv.fit_transform(mobile['Texts'])\n",
    "    \n",
    "X = text_counts\n",
    "y = mobile.iloc[:,6]\n",
    "\n",
    "ridge_reg = RidgeClassifier(alpha = 1, solver=\"sag\")\n",
    "ridge_reg.fit(X,y)\n",
    "ridge_reg.coef_\n",
    "\n",
    "pred = ridge_reg.predict(X)\n",
    "precision_score(y,pred)\n",
    "recall_score(y,pred)\n",
    "f1_score(y,pred)\n",
    "\n",
    "vect.get_feature_names()[np.argmax(ridge_reg.coef_)] \n",
    "vect.get_feature_names()[np.argmin(ridge_reg.coef_)] "
   ]
  },
  {
   "cell_type": "markdown",
   "metadata": {},
   "source": [
    "## 잠재 디리클레 할당 LDA"
   ]
  },
  {
   "cell_type": "code",
   "execution_count": null,
   "metadata": {},
   "outputs": [],
   "source": [
    "df = pd.read_csv('data/mobile2014.csv')\n",
    "df.head()\n",
    "\n",
    "data = df.Texts.values.tolist()  # 리스트로 변환\n",
    "pprint(data[:1])\n",
    "\n",
    "\n",
    "## 영어 리뷰에서 단어로 분할해 주는 함수\n",
    "def sent_to_words(sentences):\n",
    "    for sentence in sentences:\n",
    "        yield(gensim.utils.simple_preprocess(str(sentence), deacc=True))\n",
    "        \n",
    "data_words = list(sent_to_words(data)) \n",
    "print(data_words[:1])\n",
    "\n",
    "\n",
    "## 표제어 추출 함수 (명사, 형용사, 동사, 부사)\n",
    "def lemmatization(texts, allowed_postags=['NOUN', 'ADJ', 'VERB', 'ADV']):\n",
    "    \"\"\"https://spacy.io/api/annotation\"\"\"\n",
    "    texts_out = []\n",
    "    for sent in texts:\n",
    "        doc = nlp(\" \".join(sent)) \n",
    "        texts_out.append(\" \".join([token.lemma_ if token.lemma_ not in ['-PRON-'] else '' for token in doc if token.pos_ in allowed_postags]))\n",
    "    return texts_out\n",
    "\n",
    "nlp = spacy.load('en_core_web_sm', disable=['parser', 'ner'])\n",
    "\n",
    "\n",
    "data_lemmatized = lemmatization(data_words, allowed_postags=['NOUN', 'ADJ', 'VERB', 'ADV'])\n",
    "print(data_lemmatized[:2])\n",
    "\n",
    "\n",
    "## 빈도 기반 단어 문서 매트릭스 생성\n",
    "vectorizer = CountVectorizer(\n",
    "    analyzer='word',\n",
    "    min_df=10, #  최소 등장 회수 10회 이상 단어\n",
    "    stop_words='english', # 영어 불용어 제거\n",
    "    lowercase=True, # 소문자로 변경                                                \n",
    "    token_pattern='[a-zA-Z0-9]{2,}'\n",
    ")\n",
    "\n",
    "data_vectorized = vectorizer.fit_transform(data_lemmatized)\n",
    "\n",
    "\n",
    "## 토픽 10개 LDA 실행\n",
    "NUM_TOPICS = 10\n",
    "lda_model = LatentDirichletAllocation(\n",
    "    n_components=NUM_TOPICS,\n",
    "    max_iter=10,\n",
    "    learning_method='online',\n",
    "    random_state=100,\n",
    "    batch_size=128,\n",
    "    evaluate_every = -1,\n",
    "    n_jobs = -1,               \n",
    ")\n",
    "\n",
    "lda_output = lda_model.fit_transform(data_vectorized)\n",
    "log = lda_model.score(data_vectorized)\n",
    "print(log)\n",
    "per = lda_model.perplexity(data_vectorized)\n",
    "print(per)\n",
    "\n",
    "\n",
    "## 문서별 대표 토픽 및 토픽에 속할 확률\n",
    "lda_output = lda_model.transform(data_vectorized)\n",
    "topicnames = [\"Topic\" + str(i) for i in range(lda_model.n_components)]\n",
    "docnames = [\"Doc\" + str(i) for i in range(len(data))]\n",
    "df_document_topic = pd.DataFrame(np.round(lda_output, 2), columns=topicnames, index=docnames)\n",
    "dominant_topic = np.argmax(df_document_topic.values, axis=1)\n",
    "df_document_topic['dominant_topic'] = dominant_topic\n",
    "\n",
    "# Styling\n",
    "def color_green(val):\n",
    "    color = 'green' if val > .1 else 'black'\n",
    "    return 'color: {col}'.format(col=color)\n",
    "\n",
    "def make_bold(val):\n",
    "    weight = 700 if val > .1 else 400\n",
    "    return 'font-weight: {weight}'.format(weight=weight)\n",
    "\n",
    "# Apply Style\n",
    "df_document_topics = df_document_topic.head(15).style.applymap(color_green).applymap(make_bold)\n",
    "df_document_topics\n",
    "\n",
    "\n",
    "## 토픽에 속한 단어 \n",
    "def show_topics(vectorizer=vectorizer, lda_model=lda_model, n_words=20):\n",
    "    keywords = np.array(vectorizer.get_feature_names())\n",
    "    topic_keywords = []\n",
    "    for topic_weights in lda_model.components_:\n",
    "        top_keyword_locs = (-topic_weights).argsort()[:n_words]\n",
    "        topic_keywords.append(keywords.take(top_keyword_locs))\n",
    "    return topic_keywords\n",
    "\n",
    "topic_keywords = show_topics(vectorizer=vectorizer, lda_model=lda_model, n_words=15) \n",
    "topic_keywords\n",
    "\n",
    "\n",
    "## 토픽 모델링 결과 시각화\n",
    "pyLDAvis.enable_notebook()\n",
    "pyLDAvis.sklearn.prepare(lda_model, data_vectorized, vectorizer)\n",
    "\n",
    "\n",
    "## 최적 토픽 수 찾기 - Perplexity \n",
    "log_list = []\n",
    "per_list = []\n",
    "k_list = []\n",
    "for i in range(2,21):\n",
    "    NUM_TOPICS = i\n",
    "    lda_model = LatentDirichletAllocation(\n",
    "                        n_components=NUM_TOPICS,               \n",
    "                        max_iter=10,               \n",
    "                        learning_method='online',   \n",
    "                        random_state=100,          \n",
    "                        batch_size=128,            \n",
    "                        evaluate_every = -1,       \n",
    "                        n_jobs = -1,               \n",
    "                    )\n",
    "    lda_output = lda_model.fit_transform(data_vectorized)\n",
    "    log = lda_model.score(data_vectorized)\n",
    "    per = lda_model.perplexity(data_vectorized)\n",
    "    log_list.append(log)\n",
    "    per_list.append(per)\n",
    "    k_list.append(NUM_TOPICS)\n",
    "    print(NUM_TOPICS)\n",
    "\n",
    "    \n",
    "df = pd.DataFrame({'k': k_list, 'log': log_list, 'perplexity': per_list})\n",
    "\n",
    "plt.plot(df.k, df.perplexity, 'bx-')\n",
    "plt.xlabel('k')\n",
    "plt.ylabel('Perplexity')\n",
    "plt.show()"
   ]
  },
  {
   "cell_type": "markdown",
   "metadata": {},
   "source": [
    "# 13주차 Clustering\n",
    "- 비슷한 데이터를 구별해 하나의 군집 혹은 클러스터(Cluster)에 할당하는 작업\n",
    "- 분류와 마찬가지로 각 데이터는 하나의 군집에 할당 / 비지도 학습\n",
    "- 레이블 데이터는 없고 데이터 자체만으로 비슷한 데이터들의 군집 형성\n",
    "- 활용영역: 고객분류, 데이터 분석, 이상치 탐지\n",
    "- 하드군집: 데이터를 하나의 군집에 할당하는 것\n",
    "- 소프트군집: 데이터 마다 군집에 속할 점수 혹은 확률을 부여하는 것"
   ]
  },
  {
   "cell_type": "code",
   "execution_count": null,
   "metadata": {},
   "outputs": [],
   "source": [
    "# 라이브러리\n",
    "import pandas as pd\n",
    "import numpy as np\n",
    "import matplotlib.pyplot as plt\n",
    "\n",
    "from sklearn.cluster import KMeans\n",
    "from sklearn.preprocessing import MinMaxScaler\n",
    "from sklearn.metrics import silhouette_score\n",
    "from sklearn.cluster import DBSCAN\n",
    "from sklearn.mixture import GaussianMixture\n",
    "from sklearn.mixture import BayesianGaussianMixture"
   ]
  },
  {
   "cell_type": "markdown",
   "metadata": {},
   "source": [
    "## Kmeans clustering\n",
    "- 전체 데이터를 몇개의 군집(k)로 나눌지 지정해야함 n_clusters=k"
   ]
  },
  {
   "cell_type": "code",
   "execution_count": null,
   "metadata": {},
   "outputs": [],
   "source": [
    "model = KMeans(n_clusters=2)  \n",
    "model.fit(data) \n",
    "predict = pd.DataFrame(model.predict(data)) \n",
    "predict.columns=['predict']  \n",
    "data_cluster = pd.concat([data,predict],axis=1) \n",
    "\n",
    "plt.scatter(data_cluster.x, data_cluster.y, c=data_cluster.predict, alpha=0.5)  "
   ]
  },
  {
   "cell_type": "markdown",
   "metadata": {},
   "source": [
    "## 군집의 수 정하기\n",
    "- 유의미한 군집을 발견하였다면 이 군집은 더 이상 군집으로 나누는 것이 의미없다\n",
    "- 이 경우 해당 군집의 데이터를 제외하고 나머지 데이터 만을 가지고 다시 군집분석 수행\n",
    "- 위의 두 방안은 데이터간의 거리를 기준으로 계산되는 판단 보조지표"
   ]
  },
  {
   "cell_type": "markdown",
   "metadata": {},
   "source": [
    "### 1. Elbow 방안"
   ]
  },
  {
   "cell_type": "code",
   "execution_count": null,
   "metadata": {},
   "outputs": [],
   "source": [
    "t = pd.read_csv(\"data/dataname.csv\")\n",
    "t.dropna() # 누락된 데이터가 포함된 행 제거\n",
    "t_features = t[['LONGDIST', 'International', 'LOCAL']]\n",
    "\n",
    "scaler_m = MinMaxScaler()\n",
    "t_features_m = pd.DataFrame(scaler_m.fit_transform(t_features))\n",
    "t_features_m.columns = [['LONGDIST_m', 'International_m', 'LOCAL_m']]\n",
    "\n",
    "# k means determine k\n",
    "Sum_of_squared_distances = []\n",
    "K = range(2,10)\n",
    "for k in K:\n",
    "    km = KMeans(n_clusters=k)\n",
    "    km.fit(t_features_m)\n",
    "    Sum_of_squared_distances.append(km.inertia_)\n",
    "\n",
    "# Plot the elbow\n",
    "plt.plot(K, Sum_of_squared_distances, 'bx-')\n",
    "plt.xlabel('k')\n",
    "plt.ylabel('Sum_of_squared_distances')\n",
    "plt.title('The Elbow Method showing the optimal k')\n",
    "plt.show()"
   ]
  },
  {
   "cell_type": "markdown",
   "metadata": {},
   "source": [
    "### 2. 실루엣 스코어\n",
    "- 실루엣(silhouette)값은 하나의 개체가 다른 군집에 속한 데이터에 비해 같은 군집에 속한 데이터와 얼마나 더 가까운지 계산\n",
    "- -1 ~ 1이며 1에 가까울수록 잘 나누어짐"
   ]
  },
  {
   "cell_type": "code",
   "execution_count": null,
   "metadata": {},
   "outputs": [],
   "source": [
    "t = pd.read_csv(\"data/dataname.csv\")\n",
    "t.dropna() \n",
    "t_features = t[['LONGDIST', 'International', 'LOCAL']]\n",
    "\n",
    "scaler_m = MinMaxScaler()\n",
    "t_features_m = pd.DataFrame(scaler_m.fit_transform(t_features))\n",
    "t_features_m.columns = [['LONGDIST_m', 'International_m', 'LOCAL_m']]\n",
    "\n",
    "si = list()\n",
    "K = range(2,10)\n",
    "for k in K:\n",
    "    km = KMeans(n_clusters=k)\n",
    "    km.fit(t_features_m)\n",
    "    predict = pd.DataFrame(km.predict(t_features_m))\n",
    "    predict.columns=['predict']  \n",
    "    si.append(silhouette_score(t_features_m, predict, metric='euclidean'))\n",
    "    \n",
    "plt.plot(K, si, 'bx-')\n",
    "plt.xlabel('k')\n",
    "plt.ylabel('Silhouette Score')\n",
    "plt.show()"
   ]
  },
  {
   "cell_type": "markdown",
   "metadata": {},
   "source": [
    "## DBSCAN\n",
    "- Density-Based Spatial Clustering of Applications with Noise\n",
    "- 데이터 밀도가 높은 부분에서 핵심 샘플을 찾고 확장을 통해서 군집을 찾는 방안\n",
    "- 하이퍼 파라미터: epsilon, min_samples\n",
    "- 점 P1으로부터 epsilon 거리안에 min_samples로 지정된 수보다 데이터가 더 많이 포함된 경우 P1을 핵심 포인트 라고 한다\n",
    "- 핵심 포인트도 아니고 핵심 포인트의 이웃도 아닌 데이터는 이상치로 판단\n",
    "- DBSCAN 알고리즘이 각 데이터에서 작은 거리인 epsilon 내에 데이터가 몇개 놓여있는지 계산하며 이 지역을 epsilon 이웃이라고 함\n",
    "- 핵심포인트는 밀접된 지역에 존재하게 됨\n",
    "- 데이터 및 군집의 모양과 개수에 상관없이 감지할 수 있는 능력\n",
    "- 단, 군집간의 밀집도가 크게 다르면 모든 군집을 올바르게 잡아내는 것이 어려움"
   ]
  },
  {
   "cell_type": "code",
   "execution_count": null,
   "metadata": {},
   "outputs": [],
   "source": [
    "t = pd.read_csv(\"data/telecom.csv\")\n",
    "t.dropna() \n",
    "t_features = t[['LONGDIST', 'International', 'LOCAL']]\n",
    "\n",
    "scaler_m = MinMaxScaler()\n",
    "t_features_m = pd.DataFrame(scaler_m.fit_transform(t_features))\n",
    "t_features_m.columns = [['LONGDIST_m', 'International_m', 'LOCAL_m']]\n",
    "\n",
    "dbscan = DBSCAN(eps=0.05, min_samples=5)\n",
    "dbscan.fit(t_features_m)\n",
    "t_features_m['Label'] = dbscan.labels_    # 각 데이터가 속한 군집 번호\n",
    "\n",
    "t_features_m.columns = t_features_m.columns.get_level_values(0)\n",
    "grouped = t_features_m.groupby('Label')\n",
    "grouped.mean()\n",
    "grouped.count()\n",
    "\n",
    "## main ##\n",
    "dbscan = DBSCAN(eps=0.2, min_samples=5)\n",
    "dbscan.fit(t_features_m)\n",
    "t_features_m['Label'] = dbscan.labels_\n",
    "\n",
    "t_features_m.columns = t_features_m.columns.get_level_values(0)\n",
    "grouped = t_features_m.groupby('Label')\n",
    "grouped.mean()\n",
    "grouped.count()\n",
    "\n",
    "## main2 ##\n",
    "dbscan = DBSCAN(eps=0.1, min_samples=5)\n",
    "dbscan.fit(t_features_m)\n",
    "t_features_m['Label'] = dbscan.labels_\n",
    "\n",
    "t_features_m.columns = t_features_m.columns.get_level_values(0)\n",
    "grouped = t_features_m.groupby('Label')\n",
    "grouped.mean()\n",
    "grouped.count()\n"
   ]
  },
  {
   "cell_type": "markdown",
   "metadata": {},
   "source": [
    "## 가우시안 혼합\n",
    "- 가우시안 분포 = 정규 분포\n",
    "- 데이터가 파라미터가 알려지지 않은 여러 개의 혼합된 가우시안 분포에서 생성되었다고 가정하고, 파라미터를 추정하여 하위 집단의 분포를 파악하는 방안\n",
    "- E-step: 데이터가 특정 하위 그룹에 속할 확률 추정\n",
    "- M-step: 평균과 분산 추정\n",
    "- E-step, M-step 반복: 가능도(log likelihood) 계산"
   ]
  },
  {
   "cell_type": "code",
   "execution_count": null,
   "metadata": {},
   "outputs": [],
   "source": [
    "t = pd.read_csv(\"data/dataname.csv\")\n",
    "t.dropna() \n",
    "t_features = t[['LONGDIST', 'International', 'LOCAL']]\n",
    "\n",
    "scaler_m = MinMaxScaler()\n",
    "t_features_m = pd.DataFrame(scaler_m.fit_transform(t_features))\n",
    "t_features_m.columns = [['LONGDIST_m', 'International_m', 'LOCAL_m']]\n",
    "\n",
    "# n_components: 생성할 군집의 수\n",
    "gm = GaussianMixture(n_components=3, n_init=10)\n",
    "gm.fit(t_features_m)\n",
    "\n",
    "# 하드군집: 데이터가 속한 군집 번호\n",
    "gm.predict(t_features_m)\n",
    "\n",
    "# 소프트군집: 데이터가 군집별로 속할 확률\n",
    "gm.predict_proba(t_features_m)\n",
    "\n",
    "# aic, bic 확인\n",
    "print(gm.aic(t_features_m), gm.bic(t_features_m))\n",
    "\n",
    "\n",
    "# 최적의 군집 수 찾기: aic, bic 측정하고 가장 낮은값을 보이는 k 선택\n",
    "bic = list()\n",
    "aic = list()\n",
    "\n",
    "K = range(2,11)\n",
    "for k in K:\n",
    "    gm = GaussianMixture(n_components=k, n_init=10)\n",
    "    gm.fit(t_features_m)\n",
    "    bic.append(gm.bic(t_features_m))\n",
    "    aic.append(gm.aic(t_features_m))\n",
    "    \n",
    "plt.plot(K, bic, 'bx-')\n",
    "plt.plot(K, aic, 'rx--')\n",
    "plt.xlabel('k')\n",
    "plt.ylabel('Scores')\n",
    "plt.show()"
   ]
  },
  {
   "cell_type": "markdown",
   "metadata": {},
   "source": [
    "## 베이즈 가우시안 혼합 모델\n",
    "- 최적의 군집 수를 수동으로 찾지않고 불필요한 군집의 가중치를 0또는 0에 가깝게 만듬\n",
    "- 군집 개수 n_components를 최적의 군집 개수보다 크다고 믿을 만한 값으로 지정"
   ]
  },
  {
   "cell_type": "code",
   "execution_count": null,
   "metadata": {},
   "outputs": [],
   "source": [
    "bgm = BayesianGaussianMixture(n_components=10, n_init=10)\n",
    "bgm.fit(t_features_m)\n",
    "np.round(bgm.weights_, 2)\n",
    "\n",
    "clus = bgm.predict(t_features_m)\n",
    "unique, counts = np.unique(clus, return_counts=True)\n",
    "dict(zip(unique, counts))\n",
    "\n",
    "t_features_m['Label'] = clus\n",
    "t_features_m.columns = t_features_m.columns.get_level_values(0)\n",
    "grouped = t_features_m.groupby('Label')\n",
    "grouped.mean()"
   ]
  },
  {
   "cell_type": "markdown",
   "metadata": {},
   "source": [
    "# 14주차 Dimension Reduction"
   ]
  },
  {
   "cell_type": "code",
   "execution_count": null,
   "metadata": {},
   "outputs": [],
   "source": [
    "# 라이브러리\n",
    "from sklearn.decomposition import PCA\n",
    "from sklearn.manifold import MDS\n",
    "from sklearn.preprocessing import MinMaxScaler\n"
   ]
  },
  {
   "cell_type": "markdown",
   "metadata": {},
   "source": [
    "## PCA"
   ]
  },
  {
   "cell_type": "code",
   "execution_count": 6,
   "metadata": {},
   "outputs": [
    {
     "data": {
      "image/png": "[encoded data removed]",
      "text/plain": [
       "<Figure size 1440x720 with 1 Axes>"
      ]
     },
     "metadata": {
      "needs_background": "light"
     },
     "output_type": "display_data"
    }
   ],
   "source": [
    "data = pd.read_csv('data/protein.csv')\n",
    "x = data.drop(['Country'], axis=1)\n",
    "\n",
    "scaler = MinMaxScaler()\n",
    "x_scaled = scaler.fit_transform(x)\n",
    "\n",
    "pca = PCA(n_components=2)\n",
    "x_reduced = pca.fit_transform(x_scaled)\n",
    "\n",
    "x_pca = pd.DataFrame(x_reduced)\n",
    "x_pca['Country'] = data['Country']\n",
    "\n",
    "plt.figure(figsize=(20, 10))\n",
    "ax = sns.scatterplot(x_pca[0], x_pca[1], s=100)\n",
    "ax.set(xlabel='PC1', ylabel='PC2')\n",
    "\n",
    "x = x_pca[0]\n",
    "y = x_pca[1]\n",
    "names = x_pca['Country']\n",
    "\n",
    "texts = [plt.text(x0,y0,name,ha='right',va='bottom') for x0,y0,name in zip(x,y,names)]\n",
    "\n",
    "plt.show()"
   ]
  },
  {
   "cell_type": "markdown",
   "metadata": {},
   "source": [
    "## MDS"
   ]
  },
  {
   "cell_type": "code",
   "execution_count": 5,
   "metadata": {},
   "outputs": [
    {
     "data": {
      "image/png": "[encoded data removed]",
      "text/plain": [
       "<Figure size 1440x720 with 1 Axes>"
      ]
     },
     "metadata": {
      "needs_background": "light"
     },
     "output_type": "display_data"
    }
   ],
   "source": [
    "data = pd.read_csv('data/protein.csv')\n",
    "x = data.drop(['Country'], axis=1)\n",
    "\n",
    "scaler = MinMaxScaler()\n",
    "x_scaled = scaler.fit_transform(x)\n",
    "\n",
    "mds = MDS(n_components = 2)\n",
    "x_2d = mds.fit_transform(x_scaled)\n",
    "x_r = pd.DataFrame(x_2d)\n",
    "x_r['Country'] = data['Country']\n",
    "\n",
    "plt.figure(figsize=(20, 10))\n",
    "ax = sns.scatterplot(x_r[0], x_r[1], s=100)\n",
    "ax.set(xlabel='Dimension 1', ylabel='Dimension 2')\n",
    "\n",
    "x = x_r[0]\n",
    "y = x_r[1]\n",
    "names = x_r['Country']\n",
    "\n",
    "texts = [plt.text(x0,y0,name,ha='right',va='bottom') for x0,y0,name in zip(x,y,names)]\n",
    "\n",
    "plt.show()"
   ]
  },
  {
   "cell_type": "code",
   "execution_count": null,
   "metadata": {},
   "outputs": [],
   "source": []
  }
 ],
 "metadata": {
  "kernelspec": {
   "display_name": "Python 3",
   "language": "python",
   "name": "python3"
  },
  "language_info": {
   "codemirror_mode": {
    "name": "ipython",
    "version": 3
   },
   "file_extension": ".py",
   "mimetype": "text/x-python",
   "name": "python",
   "nbconvert_exporter": "python",
   "pygments_lexer": "ipython3",
   "version": "3.7.7"
  }
 },
 "nbformat": 4,
 "nbformat_minor": 4
}
