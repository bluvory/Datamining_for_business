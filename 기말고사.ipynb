{
 "cells": [
  {
   "cell_type": "code",
   "execution_count": 1,
   "metadata": {},
   "outputs": [],
   "source": [
    "import math\n",
    "import pandas as pd\n",
    "import numpy as np\n",
    "import statsmodels.api as sm\n",
    "import matplotlib.pyplot as plt\n",
    "import re, nltk, spacy, gensim"
   ]
  },
  {
   "cell_type": "markdown",
   "metadata": {},
   "source": [
    "# 문제1"
   ]
  },
  {
   "cell_type": "code",
   "execution_count": 2,
   "metadata": {},
   "outputs": [],
   "source": [
    "from sklearn.tree import DecisionTreeClassifier\n",
    "from sklearn.model_selection import cross_val_score\n",
    "from sklearn.decomposition import PCA\n",
    "from sklearn.preprocessing import MinMaxScaler"
   ]
  },
  {
   "cell_type": "code",
   "execution_count": 3,
   "metadata": {
    "scrolled": false
   },
   "outputs": [
    {
     "name": "stdout",
     "output_type": "stream",
     "text": [
      "AUC score with max_depth 2: 0.914\n",
      "AUC score with max_depth 3: 0.922\n",
      "AUC score with max_depth 4: 0.932\n",
      "AUC score with max_depth 5: 0.940\n",
      "AUC score with max_depth 6: 0.949\n",
      "AUC score with max_depth 7: 0.954\n",
      "AUC score with max_depth 8: 0.960\n",
      "AUC score with max_depth 9: 0.962\n",
      "AUC score with max_depth 10: 0.961\n",
      "AUC score with max_depth 11: 0.962\n",
      "AUC score with max_depth 12: 0.960\n",
      "AUC score with max_depth 13: 0.961\n",
      "AUC score with max_depth 14: 0.962\n",
      "AUC score with max_depth 15: 0.961\n"
     ]
    },
    {
     "data": {
      "image/png": "[encoded data removed]",
      "text/plain": [
       "<Figure size 432x288 with 1 Axes>"
      ]
     },
     "metadata": {
      "needs_background": "light"
     },
     "output_type": "display_data"
    }
   ],
   "source": [
    "# 1\n",
    "df = pd.read_csv('data/creditcard_sampled.csv')\n",
    "\n",
    "x = df.drop('Class', axis=1)\n",
    "y = df['Class']\n",
    "\n",
    "score_list = []\n",
    "I = range(2,16)\n",
    "\n",
    "for i in I:\n",
    "    tree_cv = DecisionTreeClassifier(criterion='entropy', max_depth=i)\n",
    "    scores = cross_val_score(tree_cv, x, y, scoring='f1', cv=5)\n",
    "    score_list.append(scores.mean())\n",
    "    print(\"AUC score with max_depth {}: {:.3f}\".format(i,scores.mean()))\n",
    "    \n",
    "plt.plot(I, score_list, 'bx-')\n",
    "plt.xlabel('max_depth')\n",
    "plt.ylabel('AUC')\n",
    "plt.show()"
   ]
  },
  {
   "cell_type": "code",
   "execution_count": 4,
   "metadata": {},
   "outputs": [],
   "source": [
    "# 2\n",
    "x = df.drop(['Time', 'Amount', 'Class'], axis=1)\n",
    "\n",
    "scaler = MinMaxScaler()\n",
    "x_scaled = scaler.fit_transform(x)\n",
    "\n",
    "pca = PCA(n_components = 0.95)\n",
    "x_reduced = pca.fit_transform(x_scaled)"
   ]
  },
  {
   "cell_type": "code",
   "execution_count": 5,
   "metadata": {},
   "outputs": [
    {
     "name": "stdout",
     "output_type": "stream",
     "text": [
      "AUC score with max_depth 2: 0.903\n",
      "AUC score with max_depth 3: 0.919\n",
      "AUC score with max_depth 4: 0.927\n",
      "AUC score with max_depth 5: 0.931\n",
      "AUC score with max_depth 6: 0.945\n",
      "AUC score with max_depth 7: 0.948\n",
      "AUC score with max_depth 8: 0.955\n",
      "AUC score with max_depth 9: 0.957\n",
      "AUC score with max_depth 10: 0.954\n",
      "AUC score with max_depth 11: 0.956\n",
      "AUC score with max_depth 12: 0.959\n",
      "AUC score with max_depth 13: 0.958\n",
      "AUC score with max_depth 14: 0.952\n",
      "AUC score with max_depth 15: 0.953\n"
     ]
    },
    {
     "data": {
      "image/png": "[encoded data removed]",
      "text/plain": [
       "<Figure size 432x288 with 1 Axes>"
      ]
     },
     "metadata": {
      "needs_background": "light"
     },
     "output_type": "display_data"
    }
   ],
   "source": [
    "# 3\n",
    "x_pca = pd.DataFrame(x_reduced)\n",
    "x_pca['Time'] = df['Time']\n",
    "x_pca['Amount'] = df['Amount']\n",
    "\n",
    "score_list = []\n",
    "I = range(2,16)\n",
    "\n",
    "for i in I:\n",
    "    tree_cv = DecisionTreeClassifier(criterion='entropy', max_depth=i)\n",
    "    scores = cross_val_score(tree_cv, x_pca, y, scoring='f1', cv=5)\n",
    "    score_list.append(scores.mean())\n",
    "    print(\"AUC score with max_depth {}: {:.3f}\".format(i,scores.mean()))\n",
    "    \n",
    "plt.plot(I, score_list, 'bx-')\n",
    "plt.xlabel('max_depth')\n",
    "plt.ylabel('AUC')\n",
    "plt.show()"
   ]
  },
  {
   "cell_type": "markdown",
   "metadata": {},
   "source": [
    "### 문제1 - (4)\n",
    "- 차원 축소 전 최고 성과: 9, 11, 14 (0.962)\n",
    "- 차원 축소 후 최고 성과: 12 (0.959)\n",
    "- 차원을 축소하기 전 최고 성과가 더 크다"
   ]
  },
  {
   "cell_type": "markdown",
   "metadata": {},
   "source": [
    "# 문제2"
   ]
  },
  {
   "cell_type": "code",
   "execution_count": 6,
   "metadata": {},
   "outputs": [],
   "source": [
    "from sklearn.preprocessing import OrdinalEncoder\n",
    "from sklearn.preprocessing import MinMaxScaler\n",
    "from sklearn.cluster import KMeans\n",
    "from sklearn.mixture import GaussianMixture"
   ]
  },
  {
   "cell_type": "code",
   "execution_count": 7,
   "metadata": {},
   "outputs": [
    {
     "data": {
      "text/html": [
       "<div>\n",
       "<style scoped>\n",
       "    .dataframe tbody tr th:only-of-type {\n",
       "        vertical-align: middle;\n",
       "    }\n",
       "\n",
       "    .dataframe tbody tr th {\n",
       "        vertical-align: top;\n",
       "    }\n",
       "\n",
       "    .dataframe thead th {\n",
       "        text-align: right;\n",
       "    }\n",
       "</style>\n",
       "<table border=\"1\" class=\"dataframe\">\n",
       "  <thead>\n",
       "    <tr style=\"text-align: right;\">\n",
       "      <th></th>\n",
       "      <th>Sales</th>\n",
       "      <th>CompPrice</th>\n",
       "      <th>Income</th>\n",
       "      <th>Advertising</th>\n",
       "      <th>Population</th>\n",
       "      <th>Price</th>\n",
       "      <th>ShelveLoc</th>\n",
       "      <th>Age</th>\n",
       "      <th>Education</th>\n",
       "    </tr>\n",
       "  </thead>\n",
       "  <tbody>\n",
       "    <tr>\n",
       "      <th>0</th>\n",
       "      <td>9.50</td>\n",
       "      <td>138</td>\n",
       "      <td>73</td>\n",
       "      <td>11</td>\n",
       "      <td>276</td>\n",
       "      <td>120</td>\n",
       "      <td>0.0</td>\n",
       "      <td>42</td>\n",
       "      <td>17</td>\n",
       "    </tr>\n",
       "    <tr>\n",
       "      <th>1</th>\n",
       "      <td>11.22</td>\n",
       "      <td>111</td>\n",
       "      <td>48</td>\n",
       "      <td>16</td>\n",
       "      <td>260</td>\n",
       "      <td>83</td>\n",
       "      <td>1.0</td>\n",
       "      <td>65</td>\n",
       "      <td>10</td>\n",
       "    </tr>\n",
       "    <tr>\n",
       "      <th>2</th>\n",
       "      <td>10.06</td>\n",
       "      <td>113</td>\n",
       "      <td>35</td>\n",
       "      <td>10</td>\n",
       "      <td>269</td>\n",
       "      <td>80</td>\n",
       "      <td>0.5</td>\n",
       "      <td>59</td>\n",
       "      <td>12</td>\n",
       "    </tr>\n",
       "    <tr>\n",
       "      <th>3</th>\n",
       "      <td>7.40</td>\n",
       "      <td>117</td>\n",
       "      <td>100</td>\n",
       "      <td>4</td>\n",
       "      <td>466</td>\n",
       "      <td>97</td>\n",
       "      <td>0.5</td>\n",
       "      <td>55</td>\n",
       "      <td>14</td>\n",
       "    </tr>\n",
       "    <tr>\n",
       "      <th>4</th>\n",
       "      <td>4.15</td>\n",
       "      <td>141</td>\n",
       "      <td>64</td>\n",
       "      <td>3</td>\n",
       "      <td>340</td>\n",
       "      <td>128</td>\n",
       "      <td>0.0</td>\n",
       "      <td>38</td>\n",
       "      <td>13</td>\n",
       "    </tr>\n",
       "  </tbody>\n",
       "</table>\n",
       "</div>"
      ],
      "text/plain": [
       "   Sales  CompPrice  Income  Advertising  Population  Price  ShelveLoc  Age  \\\n",
       "0   9.50        138      73           11         276    120        0.0   42   \n",
       "1  11.22        111      48           16         260     83        1.0   65   \n",
       "2  10.06        113      35           10         269     80        0.5   59   \n",
       "3   7.40        117     100            4         466     97        0.5   55   \n",
       "4   4.15        141      64            3         340    128        0.0   38   \n",
       "\n",
       "   Education  \n",
       "0         17  \n",
       "1         10  \n",
       "2         12  \n",
       "3         14  \n",
       "4         13  "
      ]
     },
     "execution_count": 7,
     "metadata": {},
     "output_type": "execute_result"
    }
   ],
   "source": [
    "# 1\n",
    "df = pd.read_csv('data/Carseats.csv')\n",
    "\n",
    "ord = {'Bad':0, 'Medium':0.5, 'Good':1}\n",
    "df['ShelveLoc'] = df.ShelveLoc.map(ord)\n",
    "\n",
    "df_clus = df.drop(['Urban', 'US'], axis=1)\n",
    "\n",
    "df_clus.head()"
   ]
  },
  {
   "cell_type": "code",
   "execution_count": 8,
   "metadata": {},
   "outputs": [
    {
     "data": {
      "text/html": [
       "<div>\n",
       "<style scoped>\n",
       "    .dataframe tbody tr th:only-of-type {\n",
       "        vertical-align: middle;\n",
       "    }\n",
       "\n",
       "    .dataframe tbody tr th {\n",
       "        vertical-align: top;\n",
       "    }\n",
       "\n",
       "    .dataframe thead th {\n",
       "        text-align: right;\n",
       "    }\n",
       "</style>\n",
       "<table border=\"1\" class=\"dataframe\">\n",
       "  <thead>\n",
       "    <tr style=\"text-align: right;\">\n",
       "      <th></th>\n",
       "      <th>0</th>\n",
       "      <th>1</th>\n",
       "      <th>2</th>\n",
       "      <th>3</th>\n",
       "      <th>4</th>\n",
       "      <th>5</th>\n",
       "      <th>6</th>\n",
       "      <th>7</th>\n",
       "      <th>8</th>\n",
       "    </tr>\n",
       "  </thead>\n",
       "  <tbody>\n",
       "    <tr>\n",
       "      <th>0</th>\n",
       "      <td>0.583897</td>\n",
       "      <td>0.622449</td>\n",
       "      <td>0.525253</td>\n",
       "      <td>0.379310</td>\n",
       "      <td>0.533066</td>\n",
       "      <td>0.574850</td>\n",
       "      <td>0.0</td>\n",
       "      <td>0.309091</td>\n",
       "      <td>0.875</td>\n",
       "    </tr>\n",
       "    <tr>\n",
       "      <th>1</th>\n",
       "      <td>0.689613</td>\n",
       "      <td>0.346939</td>\n",
       "      <td>0.272727</td>\n",
       "      <td>0.551724</td>\n",
       "      <td>0.501002</td>\n",
       "      <td>0.353293</td>\n",
       "      <td>1.0</td>\n",
       "      <td>0.727273</td>\n",
       "      <td>0.000</td>\n",
       "    </tr>\n",
       "    <tr>\n",
       "      <th>2</th>\n",
       "      <td>0.618316</td>\n",
       "      <td>0.367347</td>\n",
       "      <td>0.141414</td>\n",
       "      <td>0.344828</td>\n",
       "      <td>0.519038</td>\n",
       "      <td>0.335329</td>\n",
       "      <td>0.5</td>\n",
       "      <td>0.618182</td>\n",
       "      <td>0.250</td>\n",
       "    </tr>\n",
       "    <tr>\n",
       "      <th>3</th>\n",
       "      <td>0.454825</td>\n",
       "      <td>0.408163</td>\n",
       "      <td>0.797980</td>\n",
       "      <td>0.137931</td>\n",
       "      <td>0.913828</td>\n",
       "      <td>0.437126</td>\n",
       "      <td>0.5</td>\n",
       "      <td>0.545455</td>\n",
       "      <td>0.500</td>\n",
       "    </tr>\n",
       "    <tr>\n",
       "      <th>4</th>\n",
       "      <td>0.255071</td>\n",
       "      <td>0.653061</td>\n",
       "      <td>0.434343</td>\n",
       "      <td>0.103448</td>\n",
       "      <td>0.661323</td>\n",
       "      <td>0.622754</td>\n",
       "      <td>0.0</td>\n",
       "      <td>0.236364</td>\n",
       "      <td>0.375</td>\n",
       "    </tr>\n",
       "  </tbody>\n",
       "</table>\n",
       "</div>"
      ],
      "text/plain": [
       "          0         1         2         3         4         5    6         7  \\\n",
       "0  0.583897  0.622449  0.525253  0.379310  0.533066  0.574850  0.0  0.309091   \n",
       "1  0.689613  0.346939  0.272727  0.551724  0.501002  0.353293  1.0  0.727273   \n",
       "2  0.618316  0.367347  0.141414  0.344828  0.519038  0.335329  0.5  0.618182   \n",
       "3  0.454825  0.408163  0.797980  0.137931  0.913828  0.437126  0.5  0.545455   \n",
       "4  0.255071  0.653061  0.434343  0.103448  0.661323  0.622754  0.0  0.236364   \n",
       "\n",
       "       8  \n",
       "0  0.875  \n",
       "1  0.000  \n",
       "2  0.250  \n",
       "3  0.500  \n",
       "4  0.375  "
      ]
     },
     "execution_count": 8,
     "metadata": {},
     "output_type": "execute_result"
    }
   ],
   "source": [
    "# 2\n",
    "scaler = MinMaxScaler()\n",
    "df_clus = pd.DataFrame(scaler.fit_transform(df_clus))\n",
    "df_clus.head()"
   ]
  },
  {
   "cell_type": "code",
   "execution_count": 9,
   "metadata": {
    "scrolled": true
   },
   "outputs": [
    {
     "data": {
      "image/png": "[encoded data removed]",
      "text/plain": [
       "<Figure size 432x288 with 1 Axes>"
      ]
     },
     "metadata": {
      "needs_background": "light"
     },
     "output_type": "display_data"
    }
   ],
   "source": [
    "# 3\n",
    "bic = list()\n",
    "aic = list()\n",
    "\n",
    "K = range(2,21)\n",
    "for k in K:\n",
    "    gm = GaussianMixture(n_components=k, n_init=10)\n",
    "    gm.fit(df_clus)\n",
    "    bic.append(gm.bic(df_clus))\n",
    "    aic.append(gm.aic(df_clus))\n",
    "    \n",
    "plt.plot(K, bic, 'bx-')\n",
    "plt.plot(K, aic, 'rx--')\n",
    "plt.xlabel('k')\n",
    "plt.ylabel('Scores')\n",
    "plt.show()"
   ]
  },
  {
   "cell_type": "markdown",
   "metadata": {},
   "source": [
    "- 최적의 군집의 수: 4"
   ]
  },
  {
   "cell_type": "code",
   "execution_count": 10,
   "metadata": {},
   "outputs": [],
   "source": [
    "# 4\n",
    "gm = GaussianMixture(n_components=4, n_init=10)\n",
    "gm.fit(df_clus)\n",
    "\n",
    "clus = gm.predict(df_clus)\n",
    "unique, counts = np.unique(clus, return_counts=True)\n",
    "dict(zip(unique, counts))\n",
    "\n",
    "df_clus['Label'] = clus\n",
    "df_clus.columns = df_clus.columns.get_level_values(0)\n",
    "grouped = df_clus.groupby('Label')"
   ]
  },
  {
   "cell_type": "code",
   "execution_count": 11,
   "metadata": {},
   "outputs": [
    {
     "data": {
      "text/html": [
       "<div>\n",
       "<style scoped>\n",
       "    .dataframe tbody tr th:only-of-type {\n",
       "        vertical-align: middle;\n",
       "    }\n",
       "\n",
       "    .dataframe tbody tr th {\n",
       "        vertical-align: top;\n",
       "    }\n",
       "\n",
       "    .dataframe thead th {\n",
       "        text-align: right;\n",
       "    }\n",
       "</style>\n",
       "<table border=\"1\" class=\"dataframe\">\n",
       "  <thead>\n",
       "    <tr style=\"text-align: right;\">\n",
       "      <th></th>\n",
       "      <th>0</th>\n",
       "      <th>1</th>\n",
       "      <th>2</th>\n",
       "      <th>3</th>\n",
       "      <th>4</th>\n",
       "      <th>5</th>\n",
       "      <th>6</th>\n",
       "      <th>7</th>\n",
       "      <th>8</th>\n",
       "    </tr>\n",
       "    <tr>\n",
       "      <th>Label</th>\n",
       "      <th></th>\n",
       "      <th></th>\n",
       "      <th></th>\n",
       "      <th></th>\n",
       "      <th></th>\n",
       "      <th></th>\n",
       "      <th></th>\n",
       "      <th></th>\n",
       "      <th></th>\n",
       "    </tr>\n",
       "  </thead>\n",
       "  <tbody>\n",
       "    <tr>\n",
       "      <th>0</th>\n",
       "      <td>219</td>\n",
       "      <td>219</td>\n",
       "      <td>219</td>\n",
       "      <td>219</td>\n",
       "      <td>219</td>\n",
       "      <td>219</td>\n",
       "      <td>219</td>\n",
       "      <td>219</td>\n",
       "      <td>219</td>\n",
       "    </tr>\n",
       "    <tr>\n",
       "      <th>1</th>\n",
       "      <td>96</td>\n",
       "      <td>96</td>\n",
       "      <td>96</td>\n",
       "      <td>96</td>\n",
       "      <td>96</td>\n",
       "      <td>96</td>\n",
       "      <td>96</td>\n",
       "      <td>96</td>\n",
       "      <td>96</td>\n",
       "    </tr>\n",
       "    <tr>\n",
       "      <th>2</th>\n",
       "      <td>47</td>\n",
       "      <td>47</td>\n",
       "      <td>47</td>\n",
       "      <td>47</td>\n",
       "      <td>47</td>\n",
       "      <td>47</td>\n",
       "      <td>47</td>\n",
       "      <td>47</td>\n",
       "      <td>47</td>\n",
       "    </tr>\n",
       "    <tr>\n",
       "      <th>3</th>\n",
       "      <td>38</td>\n",
       "      <td>38</td>\n",
       "      <td>38</td>\n",
       "      <td>38</td>\n",
       "      <td>38</td>\n",
       "      <td>38</td>\n",
       "      <td>38</td>\n",
       "      <td>38</td>\n",
       "      <td>38</td>\n",
       "    </tr>\n",
       "  </tbody>\n",
       "</table>\n",
       "</div>"
      ],
      "text/plain": [
       "         0    1    2    3    4    5    6    7    8\n",
       "Label                                             \n",
       "0      219  219  219  219  219  219  219  219  219\n",
       "1       96   96   96   96   96   96   96   96   96\n",
       "2       47   47   47   47   47   47   47   47   47\n",
       "3       38   38   38   38   38   38   38   38   38"
      ]
     },
     "execution_count": 11,
     "metadata": {},
     "output_type": "execute_result"
    }
   ],
   "source": [
    "grouped.count()"
   ]
  },
  {
   "cell_type": "code",
   "execution_count": 12,
   "metadata": {},
   "outputs": [
    {
     "data": {
      "text/html": [
       "<div>\n",
       "<style scoped>\n",
       "    .dataframe tbody tr th:only-of-type {\n",
       "        vertical-align: middle;\n",
       "    }\n",
       "\n",
       "    .dataframe tbody tr th {\n",
       "        vertical-align: top;\n",
       "    }\n",
       "\n",
       "    .dataframe thead th {\n",
       "        text-align: right;\n",
       "    }\n",
       "</style>\n",
       "<table border=\"1\" class=\"dataframe\">\n",
       "  <thead>\n",
       "    <tr style=\"text-align: right;\">\n",
       "      <th></th>\n",
       "      <th>0</th>\n",
       "      <th>1</th>\n",
       "      <th>2</th>\n",
       "      <th>3</th>\n",
       "      <th>4</th>\n",
       "      <th>5</th>\n",
       "      <th>6</th>\n",
       "      <th>7</th>\n",
       "      <th>8</th>\n",
       "    </tr>\n",
       "    <tr>\n",
       "      <th>Label</th>\n",
       "      <th></th>\n",
       "      <th></th>\n",
       "      <th></th>\n",
       "      <th></th>\n",
       "      <th></th>\n",
       "      <th></th>\n",
       "      <th></th>\n",
       "      <th></th>\n",
       "      <th></th>\n",
       "    </tr>\n",
       "  </thead>\n",
       "  <tbody>\n",
       "    <tr>\n",
       "      <th>0</th>\n",
       "      <td>0.449083</td>\n",
       "      <td>0.490774</td>\n",
       "      <td>0.468198</td>\n",
       "      <td>0.225476</td>\n",
       "      <td>0.499803</td>\n",
       "      <td>0.548820</td>\n",
       "      <td>0.5</td>\n",
       "      <td>0.530095</td>\n",
       "      <td>0.491438</td>\n",
       "    </tr>\n",
       "    <tr>\n",
       "      <th>1</th>\n",
       "      <td>0.339454</td>\n",
       "      <td>0.479698</td>\n",
       "      <td>0.517572</td>\n",
       "      <td>0.214440</td>\n",
       "      <td>0.531647</td>\n",
       "      <td>0.540544</td>\n",
       "      <td>0.0</td>\n",
       "      <td>0.491856</td>\n",
       "      <td>0.494792</td>\n",
       "    </tr>\n",
       "    <tr>\n",
       "      <th>2</th>\n",
       "      <td>0.605422</td>\n",
       "      <td>0.496309</td>\n",
       "      <td>0.415861</td>\n",
       "      <td>0.277329</td>\n",
       "      <td>0.524112</td>\n",
       "      <td>0.585680</td>\n",
       "      <td>1.0</td>\n",
       "      <td>0.520309</td>\n",
       "      <td>0.715426</td>\n",
       "    </tr>\n",
       "    <tr>\n",
       "      <th>3</th>\n",
       "      <td>0.655436</td>\n",
       "      <td>0.498926</td>\n",
       "      <td>0.547049</td>\n",
       "      <td>0.224138</td>\n",
       "      <td>0.504008</td>\n",
       "      <td>0.533092</td>\n",
       "      <td>1.0</td>\n",
       "      <td>0.479426</td>\n",
       "      <td>0.164474</td>\n",
       "    </tr>\n",
       "  </tbody>\n",
       "</table>\n",
       "</div>"
      ],
      "text/plain": [
       "              0         1         2         3         4         5    6  \\\n",
       "Label                                                                    \n",
       "0      0.449083  0.490774  0.468198  0.225476  0.499803  0.548820  0.5   \n",
       "1      0.339454  0.479698  0.517572  0.214440  0.531647  0.540544  0.0   \n",
       "2      0.605422  0.496309  0.415861  0.277329  0.524112  0.585680  1.0   \n",
       "3      0.655436  0.498926  0.547049  0.224138  0.504008  0.533092  1.0   \n",
       "\n",
       "              7         8  \n",
       "Label                      \n",
       "0      0.530095  0.491438  \n",
       "1      0.491856  0.494792  \n",
       "2      0.520309  0.715426  \n",
       "3      0.479426  0.164474  "
      ]
     },
     "execution_count": 12,
     "metadata": {},
     "output_type": "execute_result"
    }
   ],
   "source": [
    "grouped.mean()"
   ]
  },
  {
   "cell_type": "markdown",
   "metadata": {},
   "source": [
    "- 군집 특성: 거의 ShelveLoc 변수에 의해 군집이 형성되는 것을 알 수 있다"
   ]
  },
  {
   "cell_type": "markdown",
   "metadata": {},
   "source": [
    "# 문제3"
   ]
  },
  {
   "cell_type": "code",
   "execution_count": 13,
   "metadata": {},
   "outputs": [],
   "source": [
    "import nltk\n",
    "import pyLDAvis\n",
    "import pyLDAvis.sklearn\n",
    "\n",
    "import sklearn.feature_extraction\n",
    "from sklearn.feature_extraction.text import CountVectorizer\n",
    "from sklearn.decomposition import LatentDirichletAllocation"
   ]
  },
  {
   "cell_type": "code",
   "execution_count": 14,
   "metadata": {
    "scrolled": true
   },
   "outputs": [
    {
     "name": "stdout",
     "output_type": "stream",
     "text": [
      "-660595.051134616\n",
      "1240.082250670415\n"
     ]
    }
   ],
   "source": [
    "# 1\n",
    "df = pd.read_csv('data/reviewContent_sampled.csv')\n",
    "data = df.review.values.tolist()\n",
    "\n",
    "# 빈도 기반 단어 문서 매트릭스 생성\n",
    "vectorizer = CountVectorizer(analyzer='word',\n",
    "                             min_df=5,\n",
    "                             stop_words='english',\n",
    "                             lowercase=True,\n",
    "                             token_pattern='[a-zA-Z0-9]{2,}')\n",
    "\n",
    "data_vectorized = vectorizer.fit_transform(data)\n",
    "\n",
    "\n",
    "# 토픽 3개 LDA 실행\n",
    "NUM_TOPICS = 3\n",
    "lda_model = LatentDirichletAllocation(n_components=NUM_TOPICS,\n",
    "                                      max_iter=10,\n",
    "                                      learning_method='online',\n",
    "                                      random_state=100,\n",
    "                                      batch_size=128,\n",
    "                                      evaluate_every=-1,\n",
    "                                      n_jobs=-1,)\n",
    "\n",
    "lda_output = lda_model.fit_transform(data_vectorized)\n",
    "log = lda_model.score(data_vectorized)\n",
    "print(log)\n",
    "per = lda_model.perplexity(data_vectorized)\n",
    "print(per)"
   ]
  },
  {
   "cell_type": "code",
   "execution_count": 15,
   "metadata": {},
   "outputs": [
    {
     "name": "stdout",
     "output_type": "stream",
     "text": [
      "[array(['place', 'pizza', 'just', 'good', 'like', 'food', 'don', 'best',\n",
      "       'sauce', 've', 'time', 'really', 'new', 'eat', 'line'],\n",
      "      dtype='<U15'), array(['delicious', 'good', 'dish', 'sauce', 'chicken', 'fried', 'pork',\n",
      "       'like', 'salad', 'little', 'bread', 'fresh', 'cheese', 'ordered',\n",
      "       'menu'], dtype='<U15'), array(['food', 'good', 'great', 'place', 'service', 'really', 'like',\n",
      "       'wait', 'nice', 'restaurant', 'time', 'just', 'got', 'dinner',\n",
      "       'came'], dtype='<U15')]\n"
     ]
    },
    {
     "data": {
      "text/html": [
       "\n",
       "<link rel=\"stylesheet\" type=\"text/css\" href=\"https://cdn.rawgit.com/bmabey/pyLDAvis/files/ldavis.v1.0.0.css\">\n",
       "\n",
       "\n",
       "<div id=\"ldavis_el197623124308708562461451474\"></div>\n",
       "<script type=\"text/javascript\">\n",
       "\n",
       "var ldavis_el197623124308708562461451474_data = {\"mdsDat\": {\"x\": [-0.04727663070472695, -0.10041293606870214, 0.14768956677342904], \"y\": [0.09933899170883874, -0.07806348284648364, -0.021275508862355106], \"topics\": [1, 2, 3], \"cluster\": [1, 1, 1], \"Freq\": [47.53617486465502, 29.362383419634536, 23.101441715710443]}, \"tinfo\": {\"Term\": [\"pizza\", \"sauce\", \"dish\", \"fried\", \"brunch\", \"delicious\", \"line\", \"salad\", \"ramen\", \"don\", \"chicken\", \"bread\", \"beef\", \"shrimp\", \"new\", \"pork\", \"service\", \"burger\", \"dinner\", \"hot\", \"just\", \"fresh\", \"sandwich\", \"fantastic\", \"thai\", \"worth\", \"grilled\", \"pie\", \"sandwiches\", \"soup\", \"brunch\", \"ramen\", \"burger\", \"eggs\", \"buns\", \"intimate\", \"ippudo\", \"burgers\", \"loud\", \"benedict\", \"totto\", \"reservations\", \"bartender\", \"shake\", \"quiet\", \"breakfast\", \"attentive\", \"romantic\", \"mary\", \"bloody\", \"environment\", \"hash\", \"divine\", \"akamaru\", \"omelet\", \"waiters\", \"saturday\", \"patio\", \"waitresses\", \"min\", \"portions\", \"group\", \"ambiance\", \"party\", \"dinner\", \"reservation\", \"arrived\", \"atmosphere\", \"service\", \"drinks\", \"share\", \"seated\", \"bar\", \"cozy\", \"coffee\", \"friendly\", \"overall\", \"great\", \"staff\", \"nice\", \"wine\", \"hour\", \"food\", \"table\", \"came\", \"wait\", \"amazing\", \"good\", \"restaurant\", \"place\", \"got\", \"bit\", \"night\", \"pretty\", \"come\", \"really\", \"menu\", \"time\", \"ordered\", \"small\", \"like\", \"just\", \"delicious\", \"ve\", \"definitely\", \"best\", \"pizza\", \"cart\", \"pies\", \"pie\", \"slice\", \"halal\", \"sushi\", \"square\", \"joe\", \"pizzas\", \"lombardi\", \"hell\", \"grimaldi\", \"yasuda\", \"toppings\", \"pepperoni\", \"block\", \"oven\", \"store\", \"brisket\", \"rating\", \"takeout\", \"margherita\", \"sicilian\", \"dumpling\", \"glad\", \"grocery\", \"japan\", \"fara\", \"sorry\", \"crust\", \"guys\", \"chinese\", \"line\", \"trip\", \"joint\", \"basil\", \"brooklyn\", \"york\", \"ago\", \"cheap\", \"years\", \"new\", \"don\", \"street\", \"ny\", \"just\", \"nyc\", \"want\", \"sauce\", \"eat\", \"know\", \"place\", \"hot\", \"worth\", \"like\", \"best\", \"dumplings\", \"make\", \"rice\", \"ve\", \"good\", \"time\", \"people\", \"food\", \"really\", \"chicken\", \"better\", \"fresh\", \"love\", \"think\", \"wait\", \"got\", \"try\", \"great\", \"sandwiches\", \"shrimp\", \"lobster\", \"coconut\", \"thai\", \"oysters\", \"arugula\", \"honey\", \"bean\", \"celery\", \"salsa\", \"chili\", \"brussels\", \"mi\", \"pre\", \"mint\", \"pho\", \"tempura\", \"breast\", \"cilantro\", \"chorizo\", \"seared\", \"soba\", \"lime\", \"pistachio\", \"squash\", \"spread\", \"burrito\", \"papaya\", \"flan\", \"beans\", \"avocado\", \"roll\", \"crunchy\", \"yum\", \"tofu\", \"orange\", \"sliders\", \"noodle\", \"wrapped\", \"beef\", \"green\", \"fried\", \"grilled\", \"fantastic\", \"flavors\", \"sprouts\", \"light\", \"dish\", \"bread\", \"fan\", \"salad\", \"soup\", \"tacos\", \"sandwich\", \"pork\", \"delicious\", \"fish\", \"sauce\", \"chicken\", \"sweet\", \"spicy\", \"fresh\", \"little\", \"cheese\", \"meat\", \"flavor\", \"crispy\", \"like\", \"good\", \"menu\", \"ordered\", \"really\", \"just\", \"definitely\", \"great\", \"place\", \"food\", \"didn\"], \"Freq\": [395.0, 409.0, 273.0, 214.0, 268.0, 559.0, 162.0, 227.0, 209.0, 414.0, 407.0, 181.0, 128.0, 88.0, 223.0, 311.0, 556.0, 169.0, 304.0, 197.0, 772.0, 278.0, 158.0, 95.0, 72.0, 222.0, 90.0, 85.0, 65.0, 153.0, 267.02669231150725, 208.39459837372195, 168.43142874716108, 106.53896351849937, 71.97738196562035, 39.55564761480281, 34.1590972229488, 33.745074486785384, 33.53163486593411, 28.08275795040303, 26.807283310573773, 59.601023207983104, 31.223294380659574, 24.177276712745527, 22.881078368240555, 64.04728969247654, 72.91322282351088, 26.426876169941984, 21.570501006798217, 29.12811437169549, 19.921353926356748, 17.424261499442583, 19.05509040806704, 17.92992418001848, 17.35764741994645, 30.3460192577306, 54.91176136537257, 21.041364614729137, 16.93021894081093, 16.70184775341012, 72.28329377754207, 80.45788209521534, 82.55744246399023, 84.76712063758163, 279.8283902708673, 57.712311976468385, 56.69540022831811, 134.9442046411775, 484.39432752028694, 161.176025350285, 48.57783556889926, 97.29225083445539, 234.3780058663563, 67.29198253041163, 93.8474310219435, 179.98019139963137, 114.1684370961537, 690.7889147683371, 180.03673864391, 305.65256954853936, 156.98332819663716, 113.35536638662936, 956.3115366013546, 233.08285391833226, 271.1775197137134, 325.3512366921314, 229.07092133637028, 800.8325443162291, 303.1927478435514, 666.9061709884052, 295.3000576286204, 180.27512424141838, 209.7086797488366, 197.23380077285938, 223.52435649301566, 368.2036240861649, 247.73643476025026, 297.8689376815934, 245.23202644401044, 195.58679909980103, 326.20327649840635, 297.0667195997279, 241.57216687501509, 231.68740658282616, 208.81146824167874, 202.51410700376044, 394.44453037433226, 36.58824935879989, 33.54020561373756, 83.26726757764125, 60.415833796097225, 26.915134730503997, 71.068020523857, 29.97680499303362, 22.713288331271656, 27.741815376220583, 20.943176002771008, 23.632942079469288, 20.14978031450262, 21.32335564989936, 21.624421876528515, 19.400834673592538, 23.126142581886093, 34.199881997896384, 22.021332927390223, 24.08884106137804, 20.77959642007636, 18.18803625969601, 15.137467683911547, 14.805828661954417, 26.260396929057364, 41.169532338026755, 13.10219703325009, 18.305827168636814, 12.407102739369728, 18.85503199589022, 78.08106059811976, 41.85745059025942, 39.8265417313462, 143.5971323748192, 60.61149581314808, 40.25059780968031, 38.04249910608577, 64.7175719508035, 83.98043458637174, 38.150523019454894, 68.2454167821585, 62.265945758173196, 158.08374515155842, 265.529179390228, 64.98254008179244, 69.33767373723359, 368.419557147709, 113.53216218231921, 125.49582540813215, 211.35507889831896, 149.77412760424352, 122.49749398508405, 448.86968525349926, 118.79918132265075, 128.875007582904, 318.8664349576522, 214.2656569569404, 86.62476722278986, 121.948421815199, 94.88288602346768, 192.30189413064613, 350.43730609686884, 190.9122900006977, 135.96622564504125, 303.18976446487227, 181.35412219879527, 140.17515535156795, 119.95442360396756, 112.94227949293364, 111.91600611825523, 99.32184178617074, 113.93546122458912, 111.11327106033661, 104.37960525069099, 108.97991978666168, 64.27375249951776, 87.37864317009571, 56.78702460421347, 39.53864045120994, 70.64806053013928, 46.60403259260905, 23.07609678932579, 28.488911925000245, 24.466672558944897, 18.42786168601096, 17.81349609330491, 25.27515758181313, 19.20311953886373, 16.219524195107745, 17.03039579495691, 15.577319314979444, 17.052132218391943, 21.726688985014203, 18.45479235171792, 14.4025408060904, 21.162635142545817, 18.045131029883912, 34.544863607707406, 13.761556175765497, 13.178024538800432, 13.382161470111614, 13.337560938615852, 15.250575374791726, 12.95929505490984, 13.120721856246186, 45.01201959375029, 34.975483538475885, 43.33465983578945, 40.76264093037591, 45.00929160804105, 26.588449349734933, 23.729689502951107, 18.76475410447286, 61.42649148661467, 27.800714424433913, 105.95829796816317, 49.58947731185178, 166.29494228447953, 74.842221797123, 77.87342115245022, 64.56925238411198, 40.12190695739413, 68.94088614115908, 188.54864841861166, 125.62109971106042, 71.02999052847598, 148.20010044011102, 97.37826889198482, 38.15266634669051, 97.27839648665778, 161.25482087928265, 243.16121624375685, 74.83351771271128, 185.48583667564694, 183.01506366363157, 103.78703973126397, 91.97742476007943, 120.20405565782451, 132.67596258394283, 118.37180338103342, 84.80984667327928, 83.863313440249, 67.9167144044218, 156.64030501221228, 191.76869978956375, 114.09781102413882, 114.23255422276806, 109.28137729255559, 106.53265086908695, 87.04029771495497, 97.93429064095352, 96.0146817084233, 95.93442707073935, 77.97942809999776], \"Total\": [395.0, 409.0, 273.0, 214.0, 268.0, 559.0, 162.0, 227.0, 209.0, 414.0, 407.0, 181.0, 128.0, 88.0, 223.0, 311.0, 556.0, 169.0, 304.0, 197.0, 772.0, 278.0, 158.0, 95.0, 72.0, 222.0, 90.0, 85.0, 65.0, 153.0, 268.273793583989, 209.57505978830957, 169.6687472238427, 107.39651273915459, 73.34063413177923, 40.332176242525094, 34.87190750334557, 34.46594662664114, 34.26187046054924, 28.77803037373679, 27.536144519445926, 61.33436307530274, 32.13285690660121, 24.931278037280464, 23.595395596147412, 66.05110841820765, 75.34909956356773, 27.318712778961903, 22.31510265320211, 30.158072675878145, 20.65195538060174, 18.08654826282294, 19.788147857442237, 18.63878618990458, 18.044749669079486, 31.55668965242943, 57.1045101734076, 21.890608629815738, 17.65667007103553, 17.419821322531817, 75.73918460175177, 84.897060475526, 87.25366373033187, 89.93277113562685, 304.2398686154476, 61.06821056011068, 60.07640444800643, 146.56567498981212, 556.138198262491, 177.96421479371904, 51.56166517183247, 107.1253317645624, 270.4449105728375, 73.05011754918984, 104.32245176379465, 210.03858250388583, 128.78855725217264, 897.7031251959522, 212.21526123118198, 382.2278525218619, 183.9083595220638, 129.29037819817069, 1355.4357281369662, 292.92376854117964, 362.9524756956025, 453.71908754142265, 302.574971793423, 1343.0385502026618, 443.3274408532686, 1211.7905379503277, 439.8914949913186, 237.2552853757055, 295.25419867667335, 278.11178952410967, 329.31209294723624, 658.8391235775157, 384.4288955357991, 502.7176334254085, 399.40824179311227, 287.819554037948, 801.7100164682707, 772.0189276165239, 559.4511329416465, 500.0507803403855, 379.097742737452, 458.80872819348116, 395.92764874050073, 37.31627395667338, 34.228777913104025, 85.091929050943, 61.79542603907801, 27.573765884776428, 73.00227977518416, 30.873520928053896, 23.393649994260045, 28.592883897847372, 21.598819916667562, 24.398088681991986, 20.80224423276446, 22.03135000341507, 22.345857706375945, 20.06000514620081, 23.92980617321741, 35.40657178651261, 22.824301425559735, 25.03298477615871, 21.630161915371257, 18.970979244866754, 15.796094185912777, 15.457420399642865, 27.462309113121147, 43.17740755135878, 13.775139497145382, 19.266643951642948, 13.059005950022472, 19.88004782819217, 83.1502802940899, 44.81061351861185, 42.837307276512846, 162.24493466270553, 66.7923946734105, 43.78832758022714, 41.59212774478177, 73.64719752651139, 98.56232663514888, 42.07353721251431, 80.84104653297595, 73.51772911454555, 223.18344136582786, 414.2909461846783, 85.35295200847177, 92.512914716534, 772.0189276165239, 175.12075542793366, 207.24683219869306, 409.59068581855036, 261.6988881563438, 205.3934528387834, 1211.7905379503277, 197.1046738613849, 222.05710497601487, 801.7100164682707, 458.80872819348116, 134.93014123837486, 233.80066233497624, 161.47710744440863, 500.0507803403855, 1343.0385502026618, 502.7176334254085, 300.8021963957715, 1355.4357281369662, 658.8391235775157, 407.1271524120093, 290.7320653242296, 278.7301022059727, 345.5557599082108, 224.38361196486255, 453.71908754142265, 439.8914949913186, 361.56552433989174, 897.7031251959522, 65.12308902015941, 88.60454574757676, 57.66182839722655, 40.3608886850221, 72.62038966460595, 47.99144998210871, 23.77074560365802, 29.370241772559492, 25.232684214381514, 19.110270366740846, 18.48305323142418, 26.274128233189607, 19.969635185091512, 16.88764813548554, 17.74297648204419, 16.249013979120242, 17.795909355462864, 22.725311556956697, 19.30561159398157, 15.085486415597252, 22.19507072926834, 18.936011893481023, 36.26803158686089, 14.454137414638048, 13.850432387862767, 14.076524574597318, 14.03511405246607, 16.049091473739868, 13.645978740773513, 13.855487065712062, 47.841404672537834, 37.21118463822807, 46.63461158642353, 43.89536912024199, 48.820216233583174, 28.427013739889507, 25.326576094942556, 19.893753496934906, 69.91000371442182, 30.255217390968284, 128.33971017862814, 56.73904085293468, 214.16732033776088, 90.11554578430437, 95.38676892455724, 77.89603354194806, 45.66971382642594, 84.62643864646535, 273.24134005239193, 181.09671882146318, 92.63503115666171, 227.72920621031324, 153.44328275907358, 45.44468528632332, 158.86005268122634, 311.94251168963586, 559.4511329416465, 113.71009542933609, 409.59068581855036, 407.1271524120093, 193.83904173714768, 161.08244969922123, 278.7301022059727, 350.62635022555617, 292.96729592193583, 159.73626834139236, 158.01609930023312, 105.73277616410815, 801.7100164682707, 1343.0385502026618, 384.4288955357991, 399.40824179311227, 658.8391235775157, 772.0189276165239, 379.097742737452, 897.7031251959522, 1211.7905379503277, 1355.4357281369662, 278.1853915020545], \"Category\": [\"Default\", \"Default\", \"Default\", \"Default\", \"Default\", \"Default\", \"Default\", \"Default\", \"Default\", \"Default\", \"Default\", \"Default\", \"Default\", \"Default\", \"Default\", \"Default\", \"Default\", \"Default\", \"Default\", \"Default\", \"Default\", \"Default\", \"Default\", \"Default\", \"Default\", \"Default\", \"Default\", \"Default\", \"Default\", \"Default\", \"Topic1\", \"Topic1\", \"Topic1\", \"Topic1\", \"Topic1\", \"Topic1\", \"Topic1\", \"Topic1\", \"Topic1\", \"Topic1\", \"Topic1\", \"Topic1\", \"Topic1\", \"Topic1\", \"Topic1\", \"Topic1\", \"Topic1\", \"Topic1\", \"Topic1\", \"Topic1\", \"Topic1\", \"Topic1\", \"Topic1\", \"Topic1\", \"Topic1\", \"Topic1\", \"Topic1\", \"Topic1\", \"Topic1\", \"Topic1\", \"Topic1\", \"Topic1\", \"Topic1\", \"Topic1\", \"Topic1\", \"Topic1\", \"Topic1\", \"Topic1\", \"Topic1\", \"Topic1\", \"Topic1\", \"Topic1\", \"Topic1\", \"Topic1\", \"Topic1\", \"Topic1\", \"Topic1\", \"Topic1\", \"Topic1\", \"Topic1\", \"Topic1\", \"Topic1\", \"Topic1\", \"Topic1\", \"Topic1\", \"Topic1\", \"Topic1\", \"Topic1\", \"Topic1\", \"Topic1\", \"Topic1\", \"Topic1\", \"Topic1\", \"Topic1\", \"Topic1\", \"Topic1\", \"Topic1\", \"Topic1\", \"Topic1\", \"Topic1\", \"Topic1\", \"Topic1\", \"Topic1\", \"Topic1\", \"Topic1\", \"Topic1\", \"Topic2\", \"Topic2\", \"Topic2\", \"Topic2\", \"Topic2\", \"Topic2\", \"Topic2\", \"Topic2\", \"Topic2\", \"Topic2\", \"Topic2\", \"Topic2\", \"Topic2\", \"Topic2\", \"Topic2\", \"Topic2\", \"Topic2\", \"Topic2\", \"Topic2\", \"Topic2\", \"Topic2\", \"Topic2\", \"Topic2\", \"Topic2\", \"Topic2\", \"Topic2\", \"Topic2\", \"Topic2\", \"Topic2\", \"Topic2\", \"Topic2\", \"Topic2\", \"Topic2\", \"Topic2\", \"Topic2\", \"Topic2\", \"Topic2\", \"Topic2\", \"Topic2\", \"Topic2\", \"Topic2\", \"Topic2\", \"Topic2\", \"Topic2\", \"Topic2\", \"Topic2\", \"Topic2\", \"Topic2\", \"Topic2\", \"Topic2\", \"Topic2\", \"Topic2\", \"Topic2\", \"Topic2\", \"Topic2\", \"Topic2\", \"Topic2\", \"Topic2\", \"Topic2\", \"Topic2\", \"Topic2\", \"Topic2\", \"Topic2\", \"Topic2\", \"Topic2\", \"Topic2\", \"Topic2\", \"Topic2\", \"Topic2\", \"Topic2\", \"Topic2\", \"Topic2\", \"Topic2\", \"Topic2\", \"Topic2\", \"Topic3\", \"Topic3\", \"Topic3\", \"Topic3\", \"Topic3\", \"Topic3\", \"Topic3\", \"Topic3\", \"Topic3\", \"Topic3\", \"Topic3\", \"Topic3\", \"Topic3\", \"Topic3\", \"Topic3\", \"Topic3\", \"Topic3\", \"Topic3\", \"Topic3\", \"Topic3\", \"Topic3\", \"Topic3\", \"Topic3\", \"Topic3\", \"Topic3\", \"Topic3\", \"Topic3\", \"Topic3\", \"Topic3\", \"Topic3\", \"Topic3\", \"Topic3\", \"Topic3\", \"Topic3\", \"Topic3\", \"Topic3\", \"Topic3\", \"Topic3\", \"Topic3\", \"Topic3\", \"Topic3\", \"Topic3\", \"Topic3\", \"Topic3\", \"Topic3\", \"Topic3\", \"Topic3\", \"Topic3\", \"Topic3\", \"Topic3\", \"Topic3\", \"Topic3\", \"Topic3\", \"Topic3\", \"Topic3\", \"Topic3\", \"Topic3\", \"Topic3\", \"Topic3\", \"Topic3\", \"Topic3\", \"Topic3\", \"Topic3\", \"Topic3\", \"Topic3\", \"Topic3\", \"Topic3\", \"Topic3\", \"Topic3\", \"Topic3\", \"Topic3\", \"Topic3\", \"Topic3\", \"Topic3\", \"Topic3\", \"Topic3\", \"Topic3\", \"Topic3\", \"Topic3\"], \"logprob\": [30.0, 29.0, 28.0, 27.0, 26.0, 25.0, 24.0, 23.0, 22.0, 21.0, 20.0, 19.0, 18.0, 17.0, 16.0, 15.0, 14.0, 13.0, 12.0, 11.0, 10.0, 9.0, 8.0, 7.0, 6.0, 5.0, 4.0, 3.0, 2.0, 1.0, -5.1065, -5.3545, -5.5674, -6.0254, -6.4175, -7.0162, -7.1629, -7.1751, -7.1814, -7.3587, -7.4052, -6.6062, -7.2527, -7.5085, -7.5636, -6.5343, -6.4046, -7.4195, -7.6226, -7.3222, -7.7021, -7.836, -7.7466, -7.8074, -7.8399, -7.2812, -6.6882, -7.6474, -7.8648, -7.8784, -6.4133, -6.3062, -6.2804, -6.254, -5.0597, -6.6384, -6.6562, -5.789, -4.511, -5.6114, -6.8107, -6.1162, -5.237, -6.4849, -6.1522, -5.5011, -5.9562, -4.1561, -5.5007, -4.9714, -5.6378, -5.9634, -3.8308, -5.2425, -5.0911, -4.909, -5.2599, -4.0082, -4.9795, -4.1912, -5.0059, -5.4994, -5.3482, -5.4095, -5.2844, -4.7853, -5.1815, -4.9972, -5.1917, -5.4179, -4.9064, -4.9999, -5.2067, -5.2485, -5.3525, -5.3831, -4.2346, -6.6124, -6.6994, -5.7901, -6.1109, -6.9194, -5.9485, -6.8117, -7.0892, -6.8892, -7.1703, -7.0495, -7.2089, -7.1523, -7.1383, -7.2468, -7.0712, -6.6799, -7.1201, -7.0304, -7.1781, -7.3114, -7.4949, -7.5171, -6.9441, -6.4944, -7.6393, -7.3049, -7.6939, -7.2753, -5.8544, -6.4779, -6.5276, -5.2451, -6.1076, -6.517, -6.5734, -6.0421, -5.7815, -6.5706, -5.989, -6.0807, -5.149, -4.6304, -6.038, -5.9731, -4.3029, -5.48, -5.3798, -4.8586, -5.203, -5.404, -4.1054, -5.4347, -5.3533, -4.4473, -4.8449, -5.7505, -5.4085, -5.6595, -4.9531, -4.3529, -4.9603, -5.2997, -4.4978, -5.0117, -5.2692, -5.425, -5.4852, -5.4944, -5.6138, -5.4765, -5.5016, -5.5641, -5.521, -5.8092, -5.5021, -5.933, -6.295, -5.7146, -6.1306, -6.8335, -6.6228, -6.775, -7.0584, -7.0923, -6.7425, -7.0172, -7.1861, -7.1373, -7.2265, -7.136, -6.8938, -7.057, -7.3049, -6.9201, -7.0794, -6.43, -7.3504, -7.3938, -7.3784, -7.3817, -7.2477, -7.4105, -7.3981, -6.1654, -6.4177, -6.2033, -6.2645, -6.1654, -6.6918, -6.8056, -7.0403, -5.8545, -6.6472, -5.3093, -6.0685, -4.8585, -5.6569, -5.6172, -5.8046, -6.2804, -5.7391, -4.7329, -5.139, -5.7092, -4.9737, -5.3937, -6.3307, -5.3947, -4.8893, -4.4786, -5.657, -4.7493, -4.7627, -5.33, -5.4508, -5.1831, -5.0844, -5.1985, -5.5319, -5.5431, -5.754, -4.9183, -4.716, -5.2352, -5.2341, -5.2784, -5.3039, -5.5059, -5.388, -5.4078, -5.4086, -5.6159], \"loglift\": [30.0, 29.0, 28.0, 27.0, 26.0, 25.0, 24.0, 23.0, 22.0, 21.0, 20.0, 19.0, 18.0, 17.0, 16.0, 15.0, 14.0, 13.0, 12.0, 11.0, 10.0, 9.0, 8.0, 7.0, 6.0, 5.0, 4.0, 3.0, 2.0, 1.0, 0.739, 0.738, 0.7364, 0.7357, 0.7249, 0.7242, 0.723, 0.7225, 0.7221, 0.7192, 0.7169, 0.715, 0.715, 0.713, 0.7129, 0.7129, 0.7108, 0.7105, 0.7097, 0.7089, 0.7077, 0.7064, 0.7059, 0.7049, 0.7049, 0.7046, 0.7045, 0.7041, 0.7017, 0.7016, 0.697, 0.69, 0.6884, 0.6845, 0.66, 0.6872, 0.6858, 0.6611, 0.6056, 0.6446, 0.6841, 0.6474, 0.6005, 0.6616, 0.6379, 0.5892, 0.6232, 0.4817, 0.5792, 0.5201, 0.5854, 0.6121, 0.3949, 0.5152, 0.4522, 0.4111, 0.4654, 0.2266, 0.3637, 0.1465, 0.3451, 0.469, 0.4016, 0.4, 0.3562, 0.1618, 0.3043, 0.2203, 0.2559, 0.3573, -0.1555, -0.2114, -0.0961, -0.0256, 0.1473, -0.0741, 1.2217, 1.2058, 1.2051, 1.2038, 1.2029, 1.2013, 1.1986, 1.196, 1.1959, 1.1952, 1.1946, 1.1936, 1.1936, 1.1928, 1.1926, 1.192, 1.1913, 1.1908, 1.1896, 1.187, 1.1853, 1.1833, 1.1829, 1.1824, 1.1807, 1.1778, 1.1754, 1.1743, 1.1742, 1.1725, 1.1626, 1.1573, 1.1526, 1.1034, 1.1284, 1.1412, 1.1362, 1.0962, 1.0654, 1.1276, 1.0561, 1.0593, 0.8806, 0.7806, 0.9528, 0.9371, 0.4857, 0.7921, 0.7238, 0.5638, 0.6674, 0.7086, 0.2323, 0.7192, 0.6814, 0.3035, 0.464, 0.7823, 0.5746, 0.6937, 0.2698, -0.1181, 0.2572, 0.4314, -0.2721, -0.0646, 0.1592, 0.3402, 0.3221, 0.0981, 0.4105, -0.1564, -0.1505, -0.017, -0.8832, 1.4521, 1.4513, 1.45, 1.4447, 1.4377, 1.4359, 1.4356, 1.4348, 1.4344, 1.4289, 1.4284, 1.4265, 1.4261, 1.4249, 1.4243, 1.4231, 1.4226, 1.4203, 1.4202, 1.4189, 1.4176, 1.4171, 1.4166, 1.4162, 1.4155, 1.4147, 1.4143, 1.4142, 1.4136, 1.4108, 1.4043, 1.4033, 1.3919, 1.3912, 1.384, 1.3984, 1.4001, 1.4068, 1.3359, 1.3807, 1.2736, 1.3306, 1.2123, 1.2796, 1.2624, 1.2776, 1.3358, 1.2603, 1.0943, 1.0995, 1.1997, 1.0357, 1.0105, 1.2904, 0.9748, 0.8054, 0.632, 1.0469, 0.6731, 0.6657, 0.8406, 0.9049, 0.6242, 0.4935, 0.559, 0.8322, 0.8318, 1.0226, -0.1675, -0.4811, 0.2506, 0.2135, -0.3313, -0.5153, -0.0061, -0.7503, -1.0701, -1.1829, 0.1934]}, \"token.table\": {\"Topic\": [1, 2, 1, 1, 2, 3, 1, 2, 3, 1, 3, 3, 1, 3, 1, 3, 1, 3, 1, 2, 3, 1, 1, 2, 3, 3, 1, 2, 3, 1, 2, 3, 1, 1, 2, 3, 1, 2, 3, 1, 2, 3, 2, 1, 3, 1, 2, 3, 1, 2, 3, 2, 3, 1, 2, 1, 2, 3, 3, 1, 2, 1, 3, 1, 3, 1, 2, 3, 2, 3, 1, 2, 3, 1, 2, 3, 1, 2, 3, 2, 3, 2, 3, 1, 3, 3, 3, 1, 2, 3, 1, 2, 3, 1, 3, 1, 2, 3, 1, 2, 3, 1, 2, 3, 1, 2, 3, 1, 2, 3, 1, 2, 3, 1, 2, 3, 1, 2, 3, 1, 1, 2, 3, 1, 2, 3, 2, 3, 2, 3, 1, 2, 3, 1, 1, 1, 2, 3, 1, 2, 3, 2, 1, 2, 3, 3, 1, 2, 3, 1, 2, 3, 1, 2, 3, 1, 2, 3, 1, 2, 3, 1, 2, 3, 1, 2, 3, 1, 2, 3, 1, 2, 3, 1, 2, 3, 1, 2, 3, 1, 3, 2, 2, 1, 2, 3, 1, 2, 2, 1, 2, 1, 3, 1, 2, 3, 1, 2, 3, 1, 1, 1, 2, 2, 1, 2, 3, 1, 2, 3, 1, 2, 3, 1, 2, 3, 1, 2, 3, 3, 1, 2, 1, 2, 3, 1, 3, 2, 1, 1, 2, 3, 1, 2, 3, 2, 1, 1, 2, 3, 1, 2, 3, 3, 1, 3, 1, 2, 3, 1, 2, 3, 1, 2, 3, 1, 2, 3, 1, 2, 3, 1, 2, 3, 1, 1, 3, 1, 2, 3, 1, 2, 1, 2, 3, 1, 3, 3, 1, 2, 3, 1, 1, 2, 3, 2, 3, 1, 2, 2, 3, 1, 2, 1, 2, 1, 2, 3, 1, 2, 3, 1, 2, 3, 3, 1, 2, 3, 1, 1, 2, 2, 1, 2, 3, 1, 3, 1, 2, 1, 2, 3, 1, 2, 3, 1, 2, 3, 1, 3, 1, 2, 3, 3, 1, 2, 3, 3, 1, 2, 1, 2, 3, 1, 3, 1, 2, 3, 1, 2, 3, 1, 1, 2, 3, 1, 3, 2, 2, 3, 1, 3, 1, 2, 3, 1, 2, 3, 1, 2, 1, 2, 3, 1, 2, 3, 3, 1, 3, 2, 3, 1, 2, 3, 2, 1, 2, 3, 1, 2, 1, 2, 3, 1, 2, 3, 1, 3, 2, 2, 3, 2, 3, 1, 2, 3, 1, 2, 3, 1, 3, 2, 1, 1, 2, 1, 2, 3, 1, 2, 3, 1, 2, 3, 1, 2, 1, 1, 2, 3, 1, 2, 3, 1, 2, 3, 1, 3, 2, 1, 2, 3, 1, 2, 2, 3], \"Freq\": [0.09507163564108996, 0.9031805385903545, 0.9657281228833148, 0.7568372183682963, 0.1553334028965499, 0.08923408251503931, 0.9512494541950888, 0.03438251039259357, 0.01146083679753119, 0.9487918014356381, 0.04993641060187569, 0.9675758759733892, 0.9210887884177789, 0.07505167905626346, 0.9688237871829386, 0.026543117457066813, 0.05374728107810212, 0.9405774188667873, 0.8652409080442948, 0.025883275026966083, 0.10723071082600234, 0.9647445942981657, 0.02404301136350164, 0.9136344318130624, 0.07212903409050492, 0.951147321311185, 0.041804792599412326, 0.020902396299706163, 0.9406078334867773, 0.038959103094753825, 0.132460950522163, 0.825932985608781, 0.972964432810981, 0.4424501704649224, 0.4664253028546473, 0.09154141457894947, 0.49530140350844554, 0.4127511695903713, 0.09286901315783354, 0.7586764598940802, 0.13909068431391472, 0.1011568613192107, 0.9611444335784858, 0.961599910964986, 0.03315861761948227, 0.18222306961029772, 0.1270039576071772, 0.6957608112393185, 0.9689466465086264, 0.030279582703394575, 0.9323713943158067, 0.9587350535545198, 0.039947293898104995, 0.12220424269043226, 0.8825861972086774, 0.995251889620034, 0.003727535167116232, 0.003727535167116232, 0.9514445218400684, 0.9817204453213432, 0.013635006185018655, 0.9901646752796428, 0.005893837352855017, 0.9864809566471916, 0.9346323450485386, 0.7466542265089264, 0.10469690261010776, 0.1487798089722584, 0.9915245033027522, 0.941901901677271, 0.04947981466776727, 0.8411568493520436, 0.09895962933553454, 0.31061487499358253, 0.2833080727963445, 0.4027753324092609, 0.2063237480043893, 0.3438729133406488, 0.4494910224381338, 0.03806025422136728, 0.9515063555341821, 0.9337655082239843, 0.07003241311679882, 0.04505504903308614, 0.9461560296948088, 0.9280443211645505, 0.991058455430987, 0.901052442793747, 0.03834265714015944, 0.05751398571023917, 0.6802058132614347, 0.2064910504543641, 0.11539205760685053, 0.9171785378015872, 0.06844615953743188, 0.075662441583707, 0.27427635074093787, 0.6431307534615095, 0.06834433928057743, 0.022781446426859142, 0.9340393035012249, 0.012026417667663322, 0.938060578077739, 0.048105670670653286, 0.5513090067242766, 0.2189408974072486, 0.2294922659569955, 0.43256682442940336, 0.13405996624878203, 0.4343542906460538, 0.496072059193593, 0.2228729541304548, 0.2803885551963786, 0.920326455813435, 0.016434400996668482, 0.06573760398667393, 0.2598435507101023, 0.05123675647804833, 0.6916962124536525, 0.9601707111185842, 0.2679276508990365, 0.6420608571094027, 0.09172297958705754, 0.9046762585760147, 0.0056191071961243155, 0.08990571513798905, 0.9467521428333762, 0.03641354395512985, 0.6447780992558299, 0.3557396409687337, 0.25219824380977257, 0.5731778268403922, 0.17577453356438696, 0.9963079551743208, 0.9684313001560075, 0.06477031340177315, 0.1619257835044329, 0.766448708587649, 0.17822178266092167, 0.010483634274171864, 0.8177234733854054, 0.9189060825858151, 0.24624022954408914, 0.09673723303517788, 0.6595720434216673, 0.9382564422560704, 0.2341533562963063, 0.2341533562963063, 0.5315914034835062, 0.03851287239657023, 0.12837624132190076, 0.834445568592355, 0.7053082489672994, 0.22354435087561894, 0.07082593295069115, 0.16503420203250047, 0.4054101049928816, 0.4305240053021751, 0.16342362571844243, 0.06070020383827862, 0.775094910550327, 0.8569854064629764, 0.028566180215432547, 0.11426472086173019, 0.023160260347046477, 0.9495706742289056, 0.023160260347046477, 0.5964087924945496, 0.26060309285030253, 0.14295941093502312, 0.670619921864645, 0.25233495365076475, 0.07501849973401115, 0.7697422239107915, 0.12142098756335207, 0.1091674934055826, 0.10574729339453869, 0.017624548899089782, 0.881227444954489, 0.1664529673481996, 0.8322648367409979, 0.9614347267637168, 0.9437290999988774, 0.9423176674422347, 0.047115883372111735, 0.011778970843027934, 0.06694842503671515, 0.9372779505140121, 0.9791916023667552, 0.9399250621492908, 0.9836836119754818, 0.03404806837287585, 0.9533459144405239, 0.040587571280151634, 0.6037401227922555, 0.3551412487013268, 0.8740016200339247, 0.11601791416379531, 0.007734527610919688, 0.991763989115597, 0.9749968508817042, 0.0519031753796813, 0.9342571568342635, 0.9831727843087064, 0.06851140853697885, 0.913485447159718, 0.02283713617899295, 0.38470559383425557, 0.47667225094614835, 0.1385976381827116, 0.30672837487887067, 0.5939819323051146, 0.09250538289997688, 0.094533104877788, 0.0827164667680645, 0.8153480295709215, 0.4066308182553462, 0.3978994816670412, 0.1958314063376974, 0.9685808013573932, 0.11094337112847674, 0.8875469690278139, 0.3764691384862691, 0.2452753478016602, 0.3793211774141954, 0.017342495508659565, 0.9885222439935952, 0.9722753410150219, 0.9923567961401649, 0.5093244576410779, 0.32411556395341323, 0.16784555990444613, 0.44482337629563573, 0.5218120375775727, 0.03421718279197198, 0.949601833431536, 0.9858793993422703, 0.2065905278910834, 0.2629333991341061, 0.5321271172952148, 0.6451127968784687, 0.059829009387922495, 0.2965437856618767, 0.9474380252143961, 0.9758997916936842, 0.9846751329378988, 0.27779838692590825, 0.7079378247466693, 0.013441857431898786, 0.8005696026102599, 0.09418465913061881, 0.10464962125624312, 0.7112515281449615, 0.16257177786170549, 0.12870265747385018, 0.02860820903643319, 0.10012873162751616, 0.8725503756112122, 0.19456742937084245, 0.7458418125882293, 0.05404650815856735, 0.3254896877341124, 0.6509793754682248, 0.02284138159537631, 0.9421022907915584, 0.03948421595762758, 0.9476211829830619, 0.6134074722646973, 0.10014815873709343, 0.2854222524007163, 0.02824334437204477, 0.9602737086495222, 0.8851718074361521, 0.06211731982008085, 0.05435265484257074, 0.02083704493972992, 0.9793411121673063, 0.9526616043418447, 0.9451504599120183, 0.05559708587717754, 0.01111941717543551, 0.9593154925531536, 0.5418843411154406, 0.4521243582312879, 0.006648887621048351, 0.9471582814423372, 0.9552757131110841, 0.011751995884372514, 0.9754156584029187, 0.9933162114731405, 0.9385988564076883, 0.00252571398633345, 0.9951313106153793, 0.03497373694702007, 0.9792646345165621, 0.5504251593911529, 0.37052608180903696, 0.07922161214625288, 0.25966322948822745, 0.22440032177994967, 0.5161207400938842, 0.9506307782238087, 0.03960961575932537, 0.013203205253108455, 0.9581256006963611, 0.7083482521078883, 0.23731464283817577, 0.053935146099585406, 0.9747664499320949, 0.9924845075081905, 0.004771560132250916, 0.9708665188066189, 0.5585582076573553, 0.27472564017929707, 0.16544251259416232, 0.9497576475228372, 0.04912539556152606, 0.9782444455538817, 0.016304074092564694, 0.6834677307969442, 0.2075215552254748, 0.11052778484835071, 0.1052780810174752, 0.588318688038832, 0.30964141475728, 0.06432990214661449, 0.021443300715538162, 0.922061930768141, 0.951728590229279, 0.036604945778049194, 0.2502972760874561, 0.0966059662091936, 0.6498946817709387, 0.9738650738394828, 0.06924333596988635, 0.31474243622675613, 0.6106003262799069, 0.9827543650484432, 0.9631463405076606, 0.035023503291187655, 0.03173900298543173, 0.5151484330712381, 0.45167042710037464, 0.05280943028686328, 0.950569745163539, 0.9054814431117411, 0.07467888190612297, 0.018669720476530743, 0.8702872802338196, 0.07192456861436526, 0.05753965489149221, 0.9626461974437132, 0.9503184165349283, 0.03878850679734401, 0.019394253398672005, 0.011286102666209413, 0.9818909319602189, 0.9704077143652357, 0.9709456483406617, 0.01618242747234436, 0.05026703483352567, 0.9550736618369877, 0.6809822239324228, 0.1389759640678414, 0.18066875328819382, 0.02757249170264531, 0.02757249170264531, 0.9650372095925859, 0.05030168984713841, 0.9557321070956298, 0.19551197980496807, 0.16944371583097234, 0.6321554013693967, 0.22348803402990491, 0.2048640311940795, 0.5711360869653126, 0.9262482621376209, 0.10948174580211277, 0.8758539664169022, 0.9717064687863265, 0.9235234116992181, 0.8481953604831112, 0.13194150051959505, 0.01884878578851358, 0.9638849220315394, 0.1991729588721507, 0.7615436662758702, 0.03514816921273247, 0.027396404689814424, 0.972572366488412, 0.3559654411290701, 0.10833730816971698, 0.5365276214119317, 0.7954287941889718, 0.15020972937474147, 0.054621719772633255, 0.15403341349811625, 0.8361813875612025, 0.9488176528826531, 0.04400379715339387, 0.9680835373746652, 0.013770237320654098, 0.9776868497664409, 0.4010988111471064, 0.44120869226181697, 0.15598287100165248, 0.5927780928818687, 0.37993495214911716, 0.02784863523606094, 0.03517780689699301, 0.9498007862188111, 0.9845225137060968, 0.9805294267297551, 0.08983058669086094, 0.9132776313570862, 0.5061323264548027, 0.28763804344972393, 0.20466553091614972, 0.4639528806295976, 0.3839610046589773, 0.15198456434417854, 0.7163022427843723, 0.25125678669974905, 0.030856096612249882, 0.950670058565234, 0.031689001952174466, 0.9628089516090155, 0.3039853460322145, 0.6031455278416954, 0.08685295600920413, 0.8536860445496196, 0.0489374165665387, 0.0978748331330774, 0.41881118827539987, 0.580931648252974, 0.004503346110488171, 0.06610430109145524, 0.9254602152803733, 0.9531871626906566, 0.108817289330788, 0.8433339923136071, 0.040806483499045504, 0.1420421014595589, 0.8522526087573533, 0.06144995314331106, 0.9217492971496659], \"Term\": [\"ago\", \"ago\", \"akamaru\", \"amazing\", \"amazing\", \"amazing\", \"ambiance\", \"ambiance\", \"ambiance\", \"arrived\", \"arrived\", \"arugula\", \"atmosphere\", \"atmosphere\", \"attentive\", \"attentive\", \"avocado\", \"avocado\", \"bar\", \"bar\", \"bar\", \"bartender\", \"basil\", \"basil\", \"basil\", \"bean\", \"beans\", \"beans\", \"beans\", \"beef\", \"beef\", \"beef\", \"benedict\", \"best\", \"best\", \"best\", \"better\", \"better\", \"better\", \"bit\", \"bit\", \"bit\", \"block\", \"bloody\", \"bloody\", \"bread\", \"bread\", \"bread\", \"breakfast\", \"breakfast\", \"breast\", \"brisket\", \"brisket\", \"brooklyn\", \"brooklyn\", \"brunch\", \"brunch\", \"brunch\", \"brussels\", \"buns\", \"buns\", \"burger\", \"burger\", \"burgers\", \"burrito\", \"came\", \"came\", \"came\", \"cart\", \"celery\", \"cheap\", \"cheap\", \"cheap\", \"cheese\", \"cheese\", \"cheese\", \"chicken\", \"chicken\", \"chicken\", \"chili\", \"chili\", \"chinese\", \"chinese\", \"chorizo\", \"chorizo\", \"cilantro\", \"coconut\", \"coffee\", \"coffee\", \"coffee\", \"come\", \"come\", \"come\", \"cozy\", \"cozy\", \"crispy\", \"crispy\", \"crispy\", \"crunchy\", \"crunchy\", \"crunchy\", \"crust\", \"crust\", \"crust\", \"definitely\", \"definitely\", \"definitely\", \"delicious\", \"delicious\", \"delicious\", \"didn\", \"didn\", \"didn\", \"dinner\", \"dinner\", \"dinner\", \"dish\", \"dish\", \"dish\", \"divine\", \"don\", \"don\", \"don\", \"drinks\", \"drinks\", \"drinks\", \"dumpling\", \"dumpling\", \"dumplings\", \"dumplings\", \"eat\", \"eat\", \"eat\", \"eggs\", \"environment\", \"fan\", \"fan\", \"fan\", \"fantastic\", \"fantastic\", \"fantastic\", \"fara\", \"fish\", \"fish\", \"fish\", \"flan\", \"flavor\", \"flavor\", \"flavor\", \"flavors\", \"flavors\", \"flavors\", \"food\", \"food\", \"food\", \"fresh\", \"fresh\", \"fresh\", \"fried\", \"fried\", \"fried\", \"friendly\", \"friendly\", \"friendly\", \"glad\", \"glad\", \"glad\", \"good\", \"good\", \"good\", \"got\", \"got\", \"got\", \"great\", \"great\", \"great\", \"green\", \"green\", \"green\", \"grilled\", \"grilled\", \"grimaldi\", \"grocery\", \"group\", \"group\", \"group\", \"guys\", \"guys\", \"halal\", \"hash\", \"hell\", \"honey\", \"honey\", \"hot\", \"hot\", \"hot\", \"hour\", \"hour\", \"hour\", \"intimate\", \"ippudo\", \"japan\", \"japan\", \"joe\", \"joint\", \"joint\", \"joint\", \"just\", \"just\", \"just\", \"know\", \"know\", \"know\", \"light\", \"light\", \"light\", \"like\", \"like\", \"like\", \"lime\", \"line\", \"line\", \"little\", \"little\", \"little\", \"lobster\", \"lobster\", \"lombardi\", \"loud\", \"love\", \"love\", \"love\", \"make\", \"make\", \"make\", \"margherita\", \"mary\", \"meat\", \"meat\", \"meat\", \"menu\", \"menu\", \"menu\", \"mi\", \"min\", \"mint\", \"new\", \"new\", \"new\", \"nice\", \"nice\", \"nice\", \"night\", \"night\", \"night\", \"noodle\", \"noodle\", \"noodle\", \"ny\", \"ny\", \"ny\", \"nyc\", \"nyc\", \"nyc\", \"omelet\", \"orange\", \"orange\", \"ordered\", \"ordered\", \"ordered\", \"oven\", \"oven\", \"overall\", \"overall\", \"overall\", \"oysters\", \"oysters\", \"papaya\", \"party\", \"party\", \"party\", \"patio\", \"people\", \"people\", \"people\", \"pepperoni\", \"pho\", \"pie\", \"pie\", \"pies\", \"pistachio\", \"pizza\", \"pizza\", \"pizzas\", \"pizzas\", \"place\", \"place\", \"place\", \"pork\", \"pork\", \"pork\", \"portions\", \"portions\", \"portions\", \"pre\", \"pretty\", \"pretty\", \"pretty\", \"quiet\", \"ramen\", \"ramen\", \"rating\", \"really\", \"really\", \"really\", \"reservation\", \"reservation\", \"reservations\", \"reservations\", \"restaurant\", \"restaurant\", \"restaurant\", \"rice\", \"rice\", \"rice\", \"roll\", \"roll\", \"roll\", \"romantic\", \"romantic\", \"salad\", \"salad\", \"salad\", \"salsa\", \"sandwich\", \"sandwich\", \"sandwich\", \"sandwiches\", \"saturday\", \"saturday\", \"sauce\", \"sauce\", \"sauce\", \"seared\", \"seared\", \"seated\", \"seated\", \"seated\", \"service\", \"service\", \"service\", \"shake\", \"share\", \"share\", \"share\", \"shrimp\", \"shrimp\", \"sicilian\", \"slice\", \"slice\", \"sliders\", \"sliders\", \"small\", \"small\", \"small\", \"soba\", \"soba\", \"soba\", \"sorry\", \"sorry\", \"soup\", \"soup\", \"soup\", \"spicy\", \"spicy\", \"spicy\", \"spread\", \"sprouts\", \"sprouts\", \"square\", \"squash\", \"staff\", \"staff\", \"staff\", \"store\", \"street\", \"street\", \"street\", \"sushi\", \"sushi\", \"sweet\", \"sweet\", \"sweet\", \"table\", \"table\", \"table\", \"tacos\", \"tacos\", \"takeout\", \"tempura\", \"tempura\", \"thai\", \"thai\", \"think\", \"think\", \"think\", \"time\", \"time\", \"time\", \"tofu\", \"tofu\", \"toppings\", \"totto\", \"trip\", \"trip\", \"try\", \"try\", \"try\", \"ve\", \"ve\", \"ve\", \"wait\", \"wait\", \"wait\", \"waiters\", \"waiters\", \"waitresses\", \"want\", \"want\", \"want\", \"wine\", \"wine\", \"wine\", \"worth\", \"worth\", \"worth\", \"wrapped\", \"wrapped\", \"yasuda\", \"years\", \"years\", \"years\", \"york\", \"york\", \"yum\", \"yum\"]}, \"R\": 30, \"lambda.step\": 0.01, \"plot.opts\": {\"xlab\": \"PC1\", \"ylab\": \"PC2\"}, \"topic.order\": [3, 1, 2]};\n",
       "\n",
       "function LDAvis_load_lib(url, callback){\n",
       "  var s = document.createElement('script');\n",
       "  s.src = url;\n",
       "  s.async = true;\n",
       "  s.onreadystatechange = s.onload = callback;\n",
       "  s.onerror = function(){console.warn(\"failed to load library \" + url);};\n",
       "  document.getElementsByTagName(\"head\")[0].appendChild(s);\n",
       "}\n",
       "\n",
       "if(typeof(LDAvis) !== \"undefined\"){\n",
       "   // already loaded: just create the visualization\n",
       "   !function(LDAvis){\n",
       "       new LDAvis(\"#\" + \"ldavis_el197623124308708562461451474\", ldavis_el197623124308708562461451474_data);\n",
       "   }(LDAvis);\n",
       "}else if(typeof define === \"function\" && define.amd){\n",
       "   // require.js is available: use it to load d3/LDAvis\n",
       "   require.config({paths: {d3: \"https://cdnjs.cloudflare.com/ajax/libs/d3/3.5.5/d3.min\"}});\n",
       "   require([\"d3\"], function(d3){\n",
       "      window.d3 = d3;\n",
       "      LDAvis_load_lib(\"https://cdn.rawgit.com/bmabey/pyLDAvis/files/ldavis.v1.0.0.js\", function(){\n",
       "        new LDAvis(\"#\" + \"ldavis_el197623124308708562461451474\", ldavis_el197623124308708562461451474_data);\n",
       "      });\n",
       "    });\n",
       "}else{\n",
       "    // require.js not available: dynamically load d3 & LDAvis\n",
       "    LDAvis_load_lib(\"https://cdnjs.cloudflare.com/ajax/libs/d3/3.5.5/d3.min.js\", function(){\n",
       "         LDAvis_load_lib(\"https://cdn.rawgit.com/bmabey/pyLDAvis/files/ldavis.v1.0.0.js\", function(){\n",
       "                 new LDAvis(\"#\" + \"ldavis_el197623124308708562461451474\", ldavis_el197623124308708562461451474_data);\n",
       "            })\n",
       "         });\n",
       "}\n",
       "</script>"
      ],
      "text/plain": [
       "PreparedData(topic_coordinates=              x         y  topics  cluster       Freq\n",
       "topic                                                \n",
       "2     -0.047277  0.099339       1        1  47.536175\n",
       "0     -0.100413 -0.078063       2        1  29.362383\n",
       "1      0.147690 -0.021276       3        1  23.101442, topic_info=            Term        Freq        Total Category  logprob  loglift\n",
       "1802       pizza  395.000000   395.000000  Default  30.0000  30.0000\n",
       "2089       sauce  409.000000   409.000000  Default  29.0000  29.0000\n",
       "751         dish  273.000000   273.000000  Default  28.0000  28.0000\n",
       "1010       fried  214.000000   214.000000  Default  27.0000  27.0000\n",
       "331       brunch  268.000000   268.000000  Default  26.0000  26.0000\n",
       "...          ...         ...          ...      ...      ...      ...\n",
       "692   definitely   87.040298   379.097743   Topic3  -5.5059  -0.0061\n",
       "1100       great   97.934291   897.703125   Topic3  -5.3880  -0.7503\n",
       "1806       place   96.014682  1211.790538   Topic3  -5.4078  -1.0701\n",
       "987         food   95.934427  1355.435728   Topic3  -5.4086  -1.1829\n",
       "725         didn   77.979428   278.185392   Topic3  -5.6159   0.1934\n",
       "\n",
       "[260 rows x 6 columns], token_table=      Topic      Freq     Term\n",
       "term                          \n",
       "84        1  0.095072      ago\n",
       "84        2  0.903181      ago\n",
       "92        1  0.965728  akamaru\n",
       "105       1  0.756837  amazing\n",
       "105       2  0.155333  amazing\n",
       "...     ...       ...      ...\n",
       "2732      3  0.040806    years\n",
       "2739      1  0.142042     york\n",
       "2739      2  0.852253     york\n",
       "2743      2  0.061450      yum\n",
       "2743      3  0.921749      yum\n",
       "\n",
       "[446 rows x 3 columns], R=30, lambda_step=0.01, plot_opts={'xlab': 'PC1', 'ylab': 'PC2'}, topic_order=[3, 1, 2])"
      ]
     },
     "execution_count": 15,
     "metadata": {},
     "output_type": "execute_result"
    }
   ],
   "source": [
    "# 2\n",
    "def show_topics(vectorizer=vectorizer, lda_model=lda_model, n_words=20):\n",
    "    keywords = np.array(vectorizer.get_feature_names())\n",
    "    topic_keywords = []\n",
    "    for topic_weights in lda_model.components_:\n",
    "        top_keyword_locs = (-topic_weights).argsort()[:n_words]\n",
    "        topic_keywords.append(keywords.take(top_keyword_locs))\n",
    "    return topic_keywords\n",
    "\n",
    "topic_keywords = show_topics(vectorizer=vectorizer, lda_model=lda_model, n_words=15) \n",
    "print(topic_keywords)\n",
    "\n",
    "pyLDAvis.enable_notebook()\n",
    "pyLDAvis.sklearn.prepare(lda_model, data_vectorized, vectorizer)"
   ]
  },
  {
   "cell_type": "markdown",
   "metadata": {},
   "source": [
    "- 각 토픽에 토픽명 붙이기\n",
    "- Topic1: service\n",
    "- Topic2: place\n",
    "- Topic3: food"
   ]
  },
  {
   "cell_type": "markdown",
   "metadata": {},
   "source": [
    "# 문제4\n",
    "- 실제 프로젝트를 진행해보면 좋겠습니다"
   ]
  },
  {
   "cell_type": "code",
   "execution_count": null,
   "metadata": {},
   "outputs": [],
   "source": []
  }
 ],
 "metadata": {
  "kernelspec": {
   "display_name": "Python 3",
   "language": "python",
   "name": "python3"
  },
  "language_info": {
   "codemirror_mode": {
    "name": "ipython",
    "version": 3
   },
   "file_extension": ".py",
   "mimetype": "text/x-python",
   "name": "python",
   "nbconvert_exporter": "python",
   "pygments_lexer": "ipython3",
   "version": "3.7.7"
  }
 },
 "nbformat": 4,
 "nbformat_minor": 4
}
